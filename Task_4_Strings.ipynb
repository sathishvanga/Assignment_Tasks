{
 "cells": [
  {
   "cell_type": "markdown",
   "id": "b24867f7",
   "metadata": {},
   "source": [
    "1. Ask user to  enter a  website name and check whether it is valid or not(True/False)\n",
    "\n",
    "\n",
    "2. name = \"Innomatics\", course = \"Data Science\"\n",
    "   write python code in `different ways` to show output as :\n",
    "   `\"Hello World I am learning Data Science in Innomatics\"`\n",
    "   \n",
    "   \n",
    "3. Replace `Science` with `Analysis` in the above output.\n",
    "\n",
    "\n",
    "4. `string = '     Hello World I am learning Python in Innomatics   '`\n",
    "    a. How many characters are there in the string.\n",
    "    b. Slice only 'Python' from above string\n",
    "    c. Remove white spaces on both sides then find no.of characters in the string.\n",
    "    d. Convert the string in Upper case\n",
    "    \n",
    "    \n",
    "5. What is the index number of 'World' in above string.\n",
    "\n",
    "\n",
    "6. Split the string with respect to `whitespace`.after that `store` that splitted into a variable and find the `data type`of that variable.\n",
    "\n",
    "\n",
    "7. How many times 'a' is `repeated` in above string.\n",
    "\n",
    "8. "
   ]
  },
  {
   "cell_type": "markdown",
   "id": "679f8669",
   "metadata": {},
   "source": [
    "1. Ask user to  enter a  website name and check whether it is valid or not(True/False)"
   ]
  },
  {
   "cell_type": "code",
   "execution_count": 3,
   "id": "72b5e955",
   "metadata": {},
   "outputs": [
    {
     "name": "stdout",
     "output_type": "stream",
     "text": [
      "Enter a website : www.instragram.com\n"
     ]
    },
    {
     "data": {
      "text/plain": [
       "True"
      ]
     },
     "execution_count": 3,
     "metadata": {},
     "output_type": "execute_result"
    }
   ],
   "source": [
    "website = input(\"Enter a website : \") #asking user to enter website \n",
    "website.startswith(\"www.\") and website.endswith(\".com\") # checking the user gives the correct input or not"
   ]
  },
  {
   "cell_type": "markdown",
   "id": "168ec60c",
   "metadata": {},
   "source": [
    "2. name = \"Innomatics\", course = \"Data Science\"\n",
    "   write python code in `different ways` to show output as :\n",
    "   `\"Hello World I am learning Data Science in Innomatics\"`"
   ]
  },
  {
   "cell_type": "code",
   "execution_count": 14,
   "id": "6f322879",
   "metadata": {},
   "outputs": [
    {
     "name": "stdout",
     "output_type": "stream",
     "text": [
      "Hello World I am learning  Data Science  in  Innomatics\n",
      "Hello World I am learning Data Science in Innomatics \n",
      "Hello World I am learning Data Science in Innomatics \n",
      "Hello World I am learning Data Science in Innomatics\n"
     ]
    }
   ],
   "source": [
    "name = \"Innomatics\"\n",
    "course = \"Data Science\"\n",
    "print(\"Hello World I am learning \",course,\" in \",name)\n",
    "print(\"Hello World I am learning {} in {} \".format(course,name))\n",
    "print(f\"Hello World I am learning {course} in {name} \")\n",
    "print(\"Hello World I am learning \" + course + \" in \" + name)"
   ]
  },
  {
   "cell_type": "markdown",
   "id": "be3786e0",
   "metadata": {},
   "source": [
    "3. Replace `Science` with `Analysis` in the above output."
   ]
  },
  {
   "cell_type": "code",
   "execution_count": 16,
   "id": "107e5840",
   "metadata": {},
   "outputs": [
    {
     "data": {
      "text/plain": [
       "'Data Analysis'"
      ]
     },
     "execution_count": 16,
     "metadata": {},
     "output_type": "execute_result"
    }
   ],
   "source": [
    "course.replace(\"Science\",\"Analysis\")"
   ]
  },
  {
   "cell_type": "markdown",
   "id": "1d9a9acd",
   "metadata": {},
   "source": [
    "`string = '     Hello World I am learning Python in Innomatics   '`\n",
    "    a. How many characters are there in the string.\n",
    "    b. Slice only 'Python' from above string\n",
    "    c. Remove white spaces on both sides then find no.of characters in the string.\n",
    "    d. Convert the string in Upper case"
   ]
  },
  {
   "cell_type": "code",
   "execution_count": 3,
   "id": "f9ce03d1",
   "metadata": {},
   "outputs": [
    {
     "name": "stdout",
     "output_type": "stream",
     "text": [
      "54\n",
      "Python\n",
      "Hello World I am learning Python in Innomatics\n",
      "46\n",
      "HELLO WORLD I AM LEARNING PYTHON IN INNOMATICS\n"
     ]
    }
   ],
   "source": [
    "string = '     Hello World I am learning Python in Innomatics   '\n",
    "print(len(string))\n",
    "print(string[-23:-17])\n",
    "a = string.strip()\n",
    "print(a)\n",
    "print(len(a))\n",
    "print(a.upper())"
   ]
  },
  {
   "cell_type": "markdown",
   "id": "dce8255f",
   "metadata": {},
   "source": [
    "5. What is the index number of 'World' in above string.\n"
   ]
  },
  {
   "cell_type": "code",
   "execution_count": 4,
   "id": "e328c559",
   "metadata": {},
   "outputs": [
    {
     "data": {
      "text/plain": [
       "'     Hello World I am learning Python in Innomatics   '"
      ]
     },
     "execution_count": 4,
     "metadata": {},
     "output_type": "execute_result"
    }
   ],
   "source": [
    "string"
   ]
  },
  {
   "cell_type": "code",
   "execution_count": 5,
   "id": "1e0fe50c",
   "metadata": {},
   "outputs": [
    {
     "data": {
      "text/plain": [
       "11"
      ]
     },
     "execution_count": 5,
     "metadata": {},
     "output_type": "execute_result"
    }
   ],
   "source": [
    "string.index(\"World\") #before removing whitespace"
   ]
  },
  {
   "cell_type": "code",
   "execution_count": 7,
   "id": "661f2ebf",
   "metadata": {},
   "outputs": [
    {
     "data": {
      "text/plain": [
       "6"
      ]
     },
     "execution_count": 7,
     "metadata": {},
     "output_type": "execute_result"
    }
   ],
   "source": [
    "a.index(\"World\") # after removing whitespace"
   ]
  },
  {
   "cell_type": "markdown",
   "id": "2073c900",
   "metadata": {},
   "source": [
    "6. Split the string with respect to `whitespace`.after that `store` that splitted into a variable and find the `data type`of that variable."
   ]
  },
  {
   "cell_type": "code",
   "execution_count": 32,
   "id": "b11b5d42",
   "metadata": {},
   "outputs": [
    {
     "data": {
      "text/plain": [
       "'     Hello World I am learning Python in Innomatics   '"
      ]
     },
     "execution_count": 32,
     "metadata": {},
     "output_type": "execute_result"
    }
   ],
   "source": [
    "string"
   ]
  },
  {
   "cell_type": "code",
   "execution_count": 37,
   "id": "baee8d8a",
   "metadata": {},
   "outputs": [
    {
     "data": {
      "text/plain": [
       "['Hello', 'World', 'I', 'am', 'learning', 'Python', 'in', 'Innomatics']"
      ]
     },
     "execution_count": 37,
     "metadata": {},
     "output_type": "execute_result"
    }
   ],
   "source": [
    "b = string.split()\n",
    "b"
   ]
  },
  {
   "cell_type": "code",
   "execution_count": 38,
   "id": "ad784a64",
   "metadata": {},
   "outputs": [
    {
     "data": {
      "text/plain": [
       "list"
      ]
     },
     "execution_count": 38,
     "metadata": {},
     "output_type": "execute_result"
    }
   ],
   "source": [
    "type(b)"
   ]
  },
  {
   "cell_type": "markdown",
   "id": "87aa2a97",
   "metadata": {},
   "source": [
    "7. How many times 'a' is `repeated` in above string.\n"
   ]
  },
  {
   "cell_type": "code",
   "execution_count": 39,
   "id": "9b131245",
   "metadata": {},
   "outputs": [
    {
     "data": {
      "text/plain": [
       "'     Hello World I am learning Python in Innomatics   '"
      ]
     },
     "execution_count": 39,
     "metadata": {},
     "output_type": "execute_result"
    }
   ],
   "source": [
    "string"
   ]
  },
  {
   "cell_type": "code",
   "execution_count": 42,
   "id": "320f6007",
   "metadata": {},
   "outputs": [
    {
     "data": {
      "text/plain": [
       "3"
      ]
     },
     "execution_count": 42,
     "metadata": {},
     "output_type": "execute_result"
    }
   ],
   "source": [
    "string.count(\"a\")"
   ]
  },
  {
   "cell_type": "code",
   "execution_count": null,
   "id": "db7dedc6",
   "metadata": {},
   "outputs": [],
   "source": []
  }
 ],
 "metadata": {
  "kernelspec": {
   "display_name": "Python 3 (ipykernel)",
   "language": "python",
   "name": "python3"
  },
  "language_info": {
   "codemirror_mode": {
    "name": "ipython",
    "version": 3
   },
   "file_extension": ".py",
   "mimetype": "text/x-python",
   "name": "python",
   "nbconvert_exporter": "python",
   "pygments_lexer": "ipython3",
   "version": "3.11.4"
  }
 },
 "nbformat": 4,
 "nbformat_minor": 5
}
