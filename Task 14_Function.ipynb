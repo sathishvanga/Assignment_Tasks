{
 "cells": [
  {
   "cell_type": "markdown",
   "id": "dd9881f5",
   "metadata": {},
   "source": [
    "\n",
    "1. \n",
    "\n",
    "   - Create a lambda function that takes two arguments and returns their sum.\n",
    "   - Create another lambda function that takes a single argument and returns its square.\n",
    "   - Use the `lambda` functions to calculate the sum and square of various numbers and print the results.\n",
    "\n",
    "2. \n",
    "   - Define a list of integers.\n",
    "   - Use the `filter` function to create a new list that contains only the even numbers from the original list.\n",
    "   - Use the `filter` function again to create a new list that contains only numbers greater than 10 from the original list.\n",
    "   - Print both filtered lists.\n",
    "\n",
    "3. \n",
    "   - Define a list of strings where each string represents a number (e.g., `[\"1\", \"2\", \"3\"]`).\n",
    "   - Use the `map` function to convert each string to an integer and store the result in a new list.\n",
    "   - Use the `map` function again to square each integer in the new list and store the result in another new list.\n",
    "   - Print both new lists.\n",
    "\n",
    "4. \n",
    "   - Create a list of dictionaries, where each dictionary represents a person with keys \"name\" and \"age\". Example: ` [{\"name\": \"Alice\", \"age\": 30}, {\"name\": \"Bob\", \"age\": 25}, ...]`\n",
    "   - Use the `filter` function to create a new list that contains only the people who are older than 25.\n",
    "   - Use the `map` function to create a new list that contains the names of the filtered people.\n",
    "   - Print the list of names.\n",
    "\n",
    "5. \n",
    "   - Create a program that reads a list of numbers from the user (you can use the `input` function for this).\n",
    "   - Use `map` and `filter` functions to perform the following operations:\n",
    "     - Square each number.\n",
    "     - Filter out numbers that are not divisible by 3.\n",
    "   - Print the result.\n"
   ]
  },
  {
   "cell_type": "code",
   "execution_count": 1,
   "id": "65b4537e",
   "metadata": {},
   "outputs": [
    {
     "data": {
      "text/plain": [
       "[1.5, 2.4, 5.4, 6.8]"
      ]
     },
     "execution_count": 1,
     "metadata": {},
     "output_type": "execute_result"
    }
   ],
   "source": [
    "list1 = [1,2,3,4,5,6,7,1.5,2.4,5.4,6.8,\"Sathish\",\"Uday\",\"Adnan\"] \n",
    "def dup(n):\n",
    "    if type(n) == float :\n",
    "        return n\n",
    "    \n",
    "list(filter(dup,list1))\n",
    "  \n",
    "    "
   ]
  },
  {
   "cell_type": "code",
   "execution_count": 2,
   "id": "ca81d820",
   "metadata": {},
   "outputs": [
    {
     "data": {
      "text/plain": [
       "['Sathish', 'Uday', 'Adnan']"
      ]
     },
     "execution_count": 2,
     "metadata": {},
     "output_type": "execute_result"
    }
   ],
   "source": [
    "list1 = [1,2,3,4,5,6,7,1.5,2.4,5.4,6.8,\"Sathish\",\"Uday\",\"Adnan\"] \n",
    "def dup(n):\n",
    "    if type(n) == str :\n",
    "        return n\n",
    "    \n",
    "list(filter(dup,list1))\n",
    "  "
   ]
  },
  {
   "cell_type": "code",
   "execution_count": 3,
   "id": "c5eb6ad8",
   "metadata": {},
   "outputs": [
    {
     "data": {
      "text/plain": [
       "['Integer',\n",
       " 'Integer',\n",
       " 'Integer',\n",
       " 'Integer',\n",
       " 'Integer',\n",
       " 'Integer',\n",
       " 'Integer',\n",
       " 'Float',\n",
       " 'Float',\n",
       " 'Float',\n",
       " 'Float',\n",
       " 'String',\n",
       " 'String',\n",
       " 'String']"
      ]
     },
     "execution_count": 3,
     "metadata": {},
     "output_type": "execute_result"
    }
   ],
   "source": [
    "list1 = [1,2,3,4,5,6,7,1.5,2.4,5.4,6.8,\"Sathish\",\"Uday\",\"Adnan\"] \n",
    "def dup(n):\n",
    "    if type(n) == int :\n",
    "        return \"Integer\"\n",
    "    elif type(n) == str :\n",
    "        return \"String\"\n",
    "    else :\n",
    "        return \"Float\"\n",
    "    \n",
    "    \n",
    "    \n",
    "list(map(dup,list1))\n",
    "  "
   ]
  },
  {
   "cell_type": "markdown",
   "id": "240a5154",
   "metadata": {},
   "source": [
    "1. \n",
    "\n",
    "   - Create a lambda function that takes two arguments and returns their sum.\n",
    "   - Create another lambda function that takes a single argument and returns its square.\n",
    "   - Use the `lambda` functions to calculate the sum and square of various numbers and print the results.\n"
   ]
  },
  {
   "cell_type": "code",
   "execution_count": 4,
   "id": "2bdc13d0",
   "metadata": {},
   "outputs": [],
   "source": [
    "a = lambda *n : sum(n)"
   ]
  },
  {
   "cell_type": "code",
   "execution_count": 5,
   "id": "7b5e6ee4",
   "metadata": {},
   "outputs": [
    {
     "data": {
      "text/plain": [
       "6"
      ]
     },
     "execution_count": 5,
     "metadata": {},
     "output_type": "execute_result"
    }
   ],
   "source": [
    "a(2,4)"
   ]
  },
  {
   "cell_type": "code",
   "execution_count": 6,
   "id": "ac4be992",
   "metadata": {},
   "outputs": [],
   "source": [
    "b = lambda n : n**2"
   ]
  },
  {
   "cell_type": "code",
   "execution_count": 7,
   "id": "a83394da",
   "metadata": {},
   "outputs": [
    {
     "data": {
      "text/plain": [
       "25"
      ]
     },
     "execution_count": 7,
     "metadata": {},
     "output_type": "execute_result"
    }
   ],
   "source": [
    "b(5)"
   ]
  },
  {
   "cell_type": "code",
   "execution_count": 5,
   "id": "5ffe7006",
   "metadata": {},
   "outputs": [],
   "source": [
    "c = lambda *n : sum(n) \n",
    "d = lambda n : n**2 "
   ]
  },
  {
   "cell_type": "code",
   "execution_count": 8,
   "id": "e4aeb93b",
   "metadata": {
    "scrolled": true
   },
   "outputs": [
    {
     "name": "stdout",
     "output_type": "stream",
     "text": [
      "6\n",
      "25\n"
     ]
    }
   ],
   "source": [
    "print(c(2,4))\n",
    "print(d(5))"
   ]
  },
  {
   "cell_type": "markdown",
   "id": "51ca2ce1",
   "metadata": {},
   "source": [
    "2. \n",
    "   - Define a list of integers.\n",
    "   - Use the `filter` function to create a new list that contains only the even numbers from the original list.\n",
    "   - Use the `filter` function again to create a new list that contains only numbers greater than 10 from the original list.\n",
    "   - Print both filtered lists."
   ]
  },
  {
   "cell_type": "code",
   "execution_count": 48,
   "id": "2304f848",
   "metadata": {},
   "outputs": [
    {
     "data": {
      "text/plain": [
       "[2, 4, 6, 8, 10, 12, 14, 16]"
      ]
     },
     "execution_count": 48,
     "metadata": {},
     "output_type": "execute_result"
    }
   ],
   "source": [
    "def list_1(n) :\n",
    "    \n",
    "    if n%2==0 :\n",
    "        return n\n",
    "list1 = [1,2,3,4,5,6,7,8,9,10,11,12,13,14,15,16,17]\n",
    "list(filter(list_1,list1))\n"
   ]
  },
  {
   "cell_type": "code",
   "execution_count": 49,
   "id": "8c7a6c2d",
   "metadata": {},
   "outputs": [
    {
     "data": {
      "text/plain": [
       "[11, 12, 13, 14, 15, 16, 17]"
      ]
     },
     "execution_count": 49,
     "metadata": {},
     "output_type": "execute_result"
    }
   ],
   "source": [
    "def list_1(n) :\n",
    "    \n",
    "    if n>10 :\n",
    "        return n\n",
    "list1 = [1,2,3,4,5,6,7,8,9,10,11,12,13,14,15,16,17]\n",
    "list(filter(list_1,list1))\n"
   ]
  },
  {
   "cell_type": "markdown",
   "id": "81aa5eab",
   "metadata": {},
   "source": [
    "3. \n",
    "   - Define a list of strings where each string represents a number (e.g., `[\"1\", \"2\", \"3\"]`).\n",
    "   - Use the `map` function to convert each string to an integer and store the result in a new list.\n",
    "   - Use the `map` function again to square each integer in the new list and store the result in another new list.\n",
    "   - Print both new lists.\n"
   ]
  },
  {
   "cell_type": "code",
   "execution_count": 11,
   "id": "e9fac280",
   "metadata": {},
   "outputs": [
    {
     "data": {
      "text/plain": [
       "[1, 2, 3, 4, 5]"
      ]
     },
     "execution_count": 11,
     "metadata": {},
     "output_type": "execute_result"
    }
   ],
   "source": [
    "\n",
    "def string(n):\n",
    "    if list_2[0] == int(n):\n",
    "        return n\n",
    "list_2 = [\"1\",\"2\",\"3\",\"4\",\"5\"]\n",
    "new_list = list(map(int,list_2))\n",
    "new_list"
   ]
  },
  {
   "cell_type": "code",
   "execution_count": 13,
   "id": "147f3fe7",
   "metadata": {},
   "outputs": [
    {
     "data": {
      "text/plain": [
       "[1, 4, 9, 16, 25]"
      ]
     },
     "execution_count": 13,
     "metadata": {},
     "output_type": "execute_result"
    }
   ],
   "source": [
    "def square(n):\n",
    "    return n*n\n",
    "square_list = list(map(square,new_list))\n",
    "square_list"
   ]
  },
  {
   "cell_type": "code",
   "execution_count": null,
   "id": "a3bc44c8",
   "metadata": {},
   "outputs": [],
   "source": []
  },
  {
   "cell_type": "markdown",
   "id": "f91ac493",
   "metadata": {},
   "source": [
    "4. \n",
    "   - Create a list of dictionaries, where each dictionary represents a person with keys \"name\" and \"age\". Example: ` [{\"name\": \"Alice\", \"age\": 30}, {\"name\": \"Bob\", \"age\": 25}, ...]`\n",
    "   - Use the `filter` function to create a new list that contains only the people who are older than 25.\n",
    "   - Use the `map` function to create a new list that contains the names of the filtered people.\n",
    "   - Print the list of names.\n"
   ]
  },
  {
   "cell_type": "code",
   "execution_count": 38,
   "id": "c2232584",
   "metadata": {},
   "outputs": [
    {
     "data": {
      "text/plain": [
       "[{'name': 'sathish', 'age': 30},\n",
       " {'name': 'Adnan', 'age': 28},\n",
       " {'name': 'Laxman', 'age': 32}]"
      ]
     },
     "execution_count": 38,
     "metadata": {},
     "output_type": "execute_result"
    }
   ],
   "source": [
    "def bio(n):\n",
    "    \n",
    "    if n[\"age\"] > 25:\n",
    "        return n\n",
    "\n",
    "names = [{\"name\" : \"sathish\",\"age\" : 30},{\"name\" : \"Uday\",\"age\": 20},{\"name\" : \"Adnan\",\"age\": 28},{\"name\" : \"Laxman\",\"age\": 32}]\n",
    "a = list(filter(bio,names))\n",
    "a\n"
   ]
  },
  {
   "cell_type": "code",
   "execution_count": 39,
   "id": "d70c4752",
   "metadata": {},
   "outputs": [
    {
     "data": {
      "text/plain": [
       "[{'name': 'sathish'}, {'name': 'Adnan'}, {'name': 'Laxman'}]"
      ]
     },
     "execution_count": 39,
     "metadata": {},
     "output_type": "execute_result"
    }
   ],
   "source": [
    "def bio_1(n):\n",
    "    \n",
    "    return {\"name\" : n[\"name\"]}\n",
    "list(map(bio_1,a))"
   ]
  },
  {
   "cell_type": "markdown",
   "id": "24cdf8de",
   "metadata": {},
   "source": [
    "5. \n",
    "   - Create a program that reads a list of numbers from the user (you can use the `input` function for this).\n",
    "   - Use `map` and `filter` functions to perform the following operations:\n",
    "     - Square each number.\n",
    "     - Filter out numbers that are not divisible by 3.\n",
    "   - Print the result.\n"
   ]
  },
  {
   "cell_type": "code",
   "execution_count": 4,
   "id": "cd26becd",
   "metadata": {},
   "outputs": [
    {
     "name": "stdout",
     "output_type": "stream",
     "text": [
      "How many number want to enter :: 6\n",
      "Enter a number :: 2\n",
      "Enter a number :: 3\n",
      "Enter a number :: 4\n",
      "Enter a number :: 5\n",
      "Enter a number :: 6\n",
      "Enter a number :: 7\n",
      "Enter a number :: 8\n",
      "Original List :  [2, 3, 4, 5, 6, 7, 8]\n",
      "Square of each number :  [4, 9, 16, 25, 36, 49, 64]\n",
      "Numbers that are not divisible by 3 :  [2, 4, 5, 7, 8]\n"
     ]
    }
   ],
   "source": [
    "def square(n) :\n",
    "    return n*n\n",
    "list_1 = []\n",
    "num = int(input(\"How many number want to enter :: \"))\n",
    "for i in range(0,num+1) :\n",
    "    num_1 = int(input(\"Enter a number :: \"))\n",
    "    list_1.append(num_1)\n",
    "print(\"Original List : \",list_1)\n",
    "a = list(map(square,list_1))\n",
    "print(\"Square of each number : \",a)\n",
    "def divide(n) :\n",
    "    return n%3!=0\n",
    "b = list(filter(divide,list_1))\n",
    "print(\"Numbers that are not divisible by 3 : \",b)\n"
   ]
  },
  {
   "cell_type": "markdown",
   "id": "d2c4d4c5",
   "metadata": {},
   "source": []
  },
  {
   "cell_type": "code",
   "execution_count": null,
   "id": "24c74a0d",
   "metadata": {},
   "outputs": [],
   "source": []
  }
 ],
 "metadata": {
  "kernelspec": {
   "display_name": "Python 3 (ipykernel)",
   "language": "python",
   "name": "python3"
  },
  "language_info": {
   "codemirror_mode": {
    "name": "ipython",
    "version": 3
   },
   "file_extension": ".py",
   "mimetype": "text/x-python",
   "name": "python",
   "nbconvert_exporter": "python",
   "pygments_lexer": "ipython3",
   "version": "3.11.4"
  }
 },
 "nbformat": 4,
 "nbformat_minor": 5
}
