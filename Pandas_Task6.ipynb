{
 "cells": [
  {
   "cell_type": "markdown",
   "id": "08af084c",
   "metadata": {},
   "source": [
    "### Data Description\n",
    "\n",
    "    Customer ID - Unique identifier for each customer\n",
    "    Age - Age of the customer\n",
    "    Gender - Gender of the customer (Male/Female)\n",
    "    Item Purchased - The item purchased by the customer\n",
    "    Category - Category of the item purchased\n",
    "    Purchase Amount (USD) - The amount of the purchase in USD\n",
    "    Location - Location where the purchase was made\n",
    "    Size - Size of the purchased item\n",
    "    Color - Color of the purchased item\n",
    "    Season - Season during which the purchase was made\n",
    "    Review Rating - Rating given by the customer for the purchased item\n",
    "    Subscription Status - Indicates if the customer has a subscription (Yes/No)\n",
    "    Shipping Type - Type of shipping chosen by the customer\n",
    "    Discount Applied - Indicates if a discount was applied to the purchase (Yes/No)\n",
    "    Promo Code Used - Indicates if a promo code was used for the purchase (Yes/No)\n",
    "    Previous Purchases - The total count of transactions concluded by the customer at the store, excluding the ongoing transaction\n",
    "    Payment Method - Customer's most preferred payment method\n",
    "    Frequency of Purchases - Frequency at which the customer makes purchases (e.g., Weekly, Fortnightly, Monthly)"
   ]
  },
  {
   "cell_type": "code",
   "execution_count": 1,
   "id": "0ea07dcc",
   "metadata": {},
   "outputs": [],
   "source": [
    "import pandas as pd\n",
    "import numpy as np"
   ]
  },
  {
   "cell_type": "code",
   "execution_count": 3,
   "id": "2f2834a4",
   "metadata": {},
   "outputs": [],
   "source": [
    "df = pd.read_excel(r\"C:\\Users\\sathi\\Downloads\\shopping.xlsx\")"
   ]
  },
  {
   "cell_type": "markdown",
   "id": "94cbb55c",
   "metadata": {},
   "source": [
    "### Missing Values"
   ]
  },
  {
   "cell_type": "code",
   "execution_count": 5,
   "id": "5c49d0d2",
   "metadata": {},
   "outputs": [
    {
     "data": {
      "text/html": [
       "<div>\n",
       "<style scoped>\n",
       "    .dataframe tbody tr th:only-of-type {\n",
       "        vertical-align: middle;\n",
       "    }\n",
       "\n",
       "    .dataframe tbody tr th {\n",
       "        vertical-align: top;\n",
       "    }\n",
       "\n",
       "    .dataframe thead th {\n",
       "        text-align: right;\n",
       "    }\n",
       "</style>\n",
       "<table border=\"1\" class=\"dataframe\">\n",
       "  <thead>\n",
       "    <tr style=\"text-align: right;\">\n",
       "      <th></th>\n",
       "      <th>Customer ID</th>\n",
       "      <th>Age</th>\n",
       "      <th>Gender</th>\n",
       "      <th>Item Purchased</th>\n",
       "      <th>Category</th>\n",
       "      <th>Purchase Amount (USD)</th>\n",
       "      <th>Location</th>\n",
       "      <th>Size</th>\n",
       "      <th>Color</th>\n",
       "      <th>Season</th>\n",
       "      <th>Review Rating</th>\n",
       "      <th>Subscription Status</th>\n",
       "      <th>Shipping Type</th>\n",
       "      <th>Discount Applied</th>\n",
       "      <th>Promo Code Used</th>\n",
       "      <th>Previous Purchases</th>\n",
       "      <th>Payment Method</th>\n",
       "      <th>Frequency of Purchases</th>\n",
       "    </tr>\n",
       "  </thead>\n",
       "  <tbody>\n",
       "    <tr>\n",
       "      <th>0</th>\n",
       "      <td>1.0</td>\n",
       "      <td>55.0</td>\n",
       "      <td>Male</td>\n",
       "      <td>Blouse</td>\n",
       "      <td>Clothing</td>\n",
       "      <td>53</td>\n",
       "      <td>Kentucky</td>\n",
       "      <td>L</td>\n",
       "      <td>Gray</td>\n",
       "      <td>Winter</td>\n",
       "      <td>3.1</td>\n",
       "      <td>Yes</td>\n",
       "      <td>Express</td>\n",
       "      <td>Yes</td>\n",
       "      <td>Yes</td>\n",
       "      <td>14</td>\n",
       "      <td>Venmo</td>\n",
       "      <td>Fortnightly</td>\n",
       "    </tr>\n",
       "    <tr>\n",
       "      <th>1</th>\n",
       "      <td>2.0</td>\n",
       "      <td>19.0</td>\n",
       "      <td>Male</td>\n",
       "      <td>Sweater</td>\n",
       "      <td>Clothing</td>\n",
       "      <td>64</td>\n",
       "      <td>Maine</td>\n",
       "      <td>L</td>\n",
       "      <td>Maroon</td>\n",
       "      <td>Winter</td>\n",
       "      <td>13.1</td>\n",
       "      <td>Yes</td>\n",
       "      <td>Express</td>\n",
       "      <td>Yes</td>\n",
       "      <td>Yes</td>\n",
       "      <td>2</td>\n",
       "      <td>Cash</td>\n",
       "      <td>Fortnightly</td>\n",
       "    </tr>\n",
       "    <tr>\n",
       "      <th>2</th>\n",
       "      <td>3.0</td>\n",
       "      <td>50.0</td>\n",
       "      <td>Male</td>\n",
       "      <td>Jeans</td>\n",
       "      <td>Clothing</td>\n",
       "      <td>73</td>\n",
       "      <td>Massachusetts</td>\n",
       "      <td>S</td>\n",
       "      <td>Maroon</td>\n",
       "      <td>Spring</td>\n",
       "      <td>3.1</td>\n",
       "      <td>Yes</td>\n",
       "      <td>Free Shipping</td>\n",
       "      <td>Yes</td>\n",
       "      <td>Yes</td>\n",
       "      <td>23</td>\n",
       "      <td>Credit Card</td>\n",
       "      <td>Weekly</td>\n",
       "    </tr>\n",
       "    <tr>\n",
       "      <th>3</th>\n",
       "      <td>4.0</td>\n",
       "      <td>21.0</td>\n",
       "      <td>Male</td>\n",
       "      <td>Sandals</td>\n",
       "      <td>Footwear</td>\n",
       "      <td>90</td>\n",
       "      <td>Rhode Island</td>\n",
       "      <td>M</td>\n",
       "      <td>Maroon</td>\n",
       "      <td>Spring</td>\n",
       "      <td>3.5</td>\n",
       "      <td>Yes</td>\n",
       "      <td>Next Day Air</td>\n",
       "      <td>Yes</td>\n",
       "      <td>Yes</td>\n",
       "      <td>49</td>\n",
       "      <td>PayPal</td>\n",
       "      <td>Weekly</td>\n",
       "    </tr>\n",
       "    <tr>\n",
       "      <th>4</th>\n",
       "      <td>5.0</td>\n",
       "      <td>145.0</td>\n",
       "      <td>Male</td>\n",
       "      <td>Blouse</td>\n",
       "      <td>Clothing</td>\n",
       "      <td>49</td>\n",
       "      <td>Oregon</td>\n",
       "      <td>M</td>\n",
       "      <td>Turquoise</td>\n",
       "      <td>Spring</td>\n",
       "      <td>2.7</td>\n",
       "      <td>Yes</td>\n",
       "      <td>Free Shipping</td>\n",
       "      <td>Yes</td>\n",
       "      <td>Yes</td>\n",
       "      <td>31</td>\n",
       "      <td>PayPal</td>\n",
       "      <td>Annually</td>\n",
       "    </tr>\n",
       "  </tbody>\n",
       "</table>\n",
       "</div>"
      ],
      "text/plain": [
       "   Customer ID    Age Gender Item Purchased  Category  Purchase Amount (USD)  \\\n",
       "0          1.0   55.0   Male         Blouse  Clothing                     53   \n",
       "1          2.0   19.0   Male        Sweater  Clothing                     64   \n",
       "2          3.0   50.0   Male          Jeans  Clothing                     73   \n",
       "3          4.0   21.0   Male        Sandals  Footwear                     90   \n",
       "4          5.0  145.0   Male         Blouse  Clothing                     49   \n",
       "\n",
       "        Location Size      Color  Season  Review Rating Subscription Status  \\\n",
       "0       Kentucky    L       Gray  Winter            3.1                 Yes   \n",
       "1          Maine    L     Maroon  Winter           13.1                 Yes   \n",
       "2  Massachusetts    S     Maroon  Spring            3.1                 Yes   \n",
       "3   Rhode Island    M     Maroon  Spring            3.5                 Yes   \n",
       "4         Oregon    M  Turquoise  Spring            2.7                 Yes   \n",
       "\n",
       "   Shipping Type Discount Applied Promo Code Used  Previous Purchases  \\\n",
       "0        Express              Yes             Yes                  14   \n",
       "1        Express              Yes             Yes                   2   \n",
       "2  Free Shipping              Yes             Yes                  23   \n",
       "3   Next Day Air              Yes             Yes                  49   \n",
       "4  Free Shipping              Yes             Yes                  31   \n",
       "\n",
       "  Payment Method Frequency of Purchases  \n",
       "0          Venmo            Fortnightly  \n",
       "1           Cash            Fortnightly  \n",
       "2    Credit Card                 Weekly  \n",
       "3         PayPal                 Weekly  \n",
       "4         PayPal               Annually  "
      ]
     },
     "execution_count": 5,
     "metadata": {},
     "output_type": "execute_result"
    }
   ],
   "source": [
    "df.head()"
   ]
  },
  {
   "cell_type": "code",
   "execution_count": 8,
   "id": "021f56e2",
   "metadata": {},
   "outputs": [
    {
     "data": {
      "text/plain": [
       "Customer ID               30\n",
       "Age                        2\n",
       "Gender                     5\n",
       "Item Purchased             4\n",
       "Category                   4\n",
       "Purchase Amount (USD)      0\n",
       "Location                   2\n",
       "Size                       0\n",
       "Color                      4\n",
       "Season                     3\n",
       "Review Rating              2\n",
       "Subscription Status        2\n",
       "Shipping Type              0\n",
       "Discount Applied           7\n",
       "Promo Code Used            7\n",
       "Previous Purchases         0\n",
       "Payment Method             4\n",
       "Frequency of Purchases     3\n",
       "dtype: int64"
      ]
     },
     "execution_count": 8,
     "metadata": {},
     "output_type": "execute_result"
    }
   ],
   "source": [
    "df.isnull().sum()"
   ]
  },
  {
   "cell_type": "code",
   "execution_count": 11,
   "id": "7ca1875d",
   "metadata": {},
   "outputs": [],
   "source": [
    "df.columns = df.columns.str.replace(\" \",\"\")"
   ]
  },
  {
   "cell_type": "code",
   "execution_count": 13,
   "id": "b1c65744",
   "metadata": {},
   "outputs": [],
   "source": [
    "df.drop(\"CustomerID\",axis = 1,inplace=True)"
   ]
  },
  {
   "cell_type": "code",
   "execution_count": 44,
   "id": "02d2b58e",
   "metadata": {},
   "outputs": [
    {
     "data": {
      "text/plain": [
       "Age                     0\n",
       "Gender                  0\n",
       "ItemPurchased           0\n",
       "Category                0\n",
       "PurchaseAmount(USD)     0\n",
       "Location                0\n",
       "Size                    0\n",
       "Color                   0\n",
       "Season                  0\n",
       "ReviewRating            0\n",
       "SubscriptionStatus      0\n",
       "ShippingType            0\n",
       "DiscountApplied         0\n",
       "PromoCodeUsed           0\n",
       "PreviousPurchases       0\n",
       "PaymentMethod           0\n",
       "FrequencyofPurchases    0\n",
       "dtype: int64"
      ]
     },
     "execution_count": 44,
     "metadata": {},
     "output_type": "execute_result"
    }
   ],
   "source": [
    "df.isnull().sum()"
   ]
  },
  {
   "cell_type": "code",
   "execution_count": 18,
   "id": "8b41bda7",
   "metadata": {},
   "outputs": [
    {
     "data": {
      "text/html": [
       "<div>\n",
       "<style scoped>\n",
       "    .dataframe tbody tr th:only-of-type {\n",
       "        vertical-align: middle;\n",
       "    }\n",
       "\n",
       "    .dataframe tbody tr th {\n",
       "        vertical-align: top;\n",
       "    }\n",
       "\n",
       "    .dataframe thead th {\n",
       "        text-align: right;\n",
       "    }\n",
       "</style>\n",
       "<table border=\"1\" class=\"dataframe\">\n",
       "  <thead>\n",
       "    <tr style=\"text-align: right;\">\n",
       "      <th></th>\n",
       "      <th>Age</th>\n",
       "      <th>Gender</th>\n",
       "      <th>ItemPurchased</th>\n",
       "      <th>Category</th>\n",
       "      <th>PurchaseAmount(USD)</th>\n",
       "      <th>Location</th>\n",
       "      <th>Size</th>\n",
       "      <th>Color</th>\n",
       "      <th>Season</th>\n",
       "      <th>ReviewRating</th>\n",
       "      <th>SubscriptionStatus</th>\n",
       "      <th>ShippingType</th>\n",
       "      <th>DiscountApplied</th>\n",
       "      <th>PromoCodeUsed</th>\n",
       "      <th>PreviousPurchases</th>\n",
       "      <th>PaymentMethod</th>\n",
       "      <th>FrequencyofPurchases</th>\n",
       "    </tr>\n",
       "  </thead>\n",
       "  <tbody>\n",
       "    <tr>\n",
       "      <th>0</th>\n",
       "      <td>55.0</td>\n",
       "      <td>Male</td>\n",
       "      <td>Blouse</td>\n",
       "      <td>Clothing</td>\n",
       "      <td>53</td>\n",
       "      <td>Kentucky</td>\n",
       "      <td>L</td>\n",
       "      <td>Gray</td>\n",
       "      <td>Winter</td>\n",
       "      <td>3.1</td>\n",
       "      <td>Yes</td>\n",
       "      <td>Express</td>\n",
       "      <td>Yes</td>\n",
       "      <td>Yes</td>\n",
       "      <td>14</td>\n",
       "      <td>Venmo</td>\n",
       "      <td>Fortnightly</td>\n",
       "    </tr>\n",
       "    <tr>\n",
       "      <th>1</th>\n",
       "      <td>19.0</td>\n",
       "      <td>Male</td>\n",
       "      <td>Sweater</td>\n",
       "      <td>Clothing</td>\n",
       "      <td>64</td>\n",
       "      <td>Maine</td>\n",
       "      <td>L</td>\n",
       "      <td>Maroon</td>\n",
       "      <td>Winter</td>\n",
       "      <td>13.1</td>\n",
       "      <td>Yes</td>\n",
       "      <td>Express</td>\n",
       "      <td>Yes</td>\n",
       "      <td>Yes</td>\n",
       "      <td>2</td>\n",
       "      <td>Cash</td>\n",
       "      <td>Fortnightly</td>\n",
       "    </tr>\n",
       "    <tr>\n",
       "      <th>2</th>\n",
       "      <td>50.0</td>\n",
       "      <td>Male</td>\n",
       "      <td>Jeans</td>\n",
       "      <td>Clothing</td>\n",
       "      <td>73</td>\n",
       "      <td>Massachusetts</td>\n",
       "      <td>S</td>\n",
       "      <td>Maroon</td>\n",
       "      <td>Spring</td>\n",
       "      <td>3.1</td>\n",
       "      <td>Yes</td>\n",
       "      <td>Free Shipping</td>\n",
       "      <td>Yes</td>\n",
       "      <td>Yes</td>\n",
       "      <td>23</td>\n",
       "      <td>Credit Card</td>\n",
       "      <td>Weekly</td>\n",
       "    </tr>\n",
       "    <tr>\n",
       "      <th>3</th>\n",
       "      <td>21.0</td>\n",
       "      <td>Male</td>\n",
       "      <td>Sandals</td>\n",
       "      <td>Footwear</td>\n",
       "      <td>90</td>\n",
       "      <td>Rhode Island</td>\n",
       "      <td>M</td>\n",
       "      <td>Maroon</td>\n",
       "      <td>Spring</td>\n",
       "      <td>3.5</td>\n",
       "      <td>Yes</td>\n",
       "      <td>Next Day Air</td>\n",
       "      <td>Yes</td>\n",
       "      <td>Yes</td>\n",
       "      <td>49</td>\n",
       "      <td>PayPal</td>\n",
       "      <td>Weekly</td>\n",
       "    </tr>\n",
       "    <tr>\n",
       "      <th>4</th>\n",
       "      <td>145.0</td>\n",
       "      <td>Male</td>\n",
       "      <td>Blouse</td>\n",
       "      <td>Clothing</td>\n",
       "      <td>49</td>\n",
       "      <td>Oregon</td>\n",
       "      <td>M</td>\n",
       "      <td>Turquoise</td>\n",
       "      <td>Spring</td>\n",
       "      <td>2.7</td>\n",
       "      <td>Yes</td>\n",
       "      <td>Free Shipping</td>\n",
       "      <td>Yes</td>\n",
       "      <td>Yes</td>\n",
       "      <td>31</td>\n",
       "      <td>PayPal</td>\n",
       "      <td>Annually</td>\n",
       "    </tr>\n",
       "  </tbody>\n",
       "</table>\n",
       "</div>"
      ],
      "text/plain": [
       "     Age Gender ItemPurchased  Category  PurchaseAmount(USD)       Location  \\\n",
       "0   55.0   Male        Blouse  Clothing                   53       Kentucky   \n",
       "1   19.0   Male       Sweater  Clothing                   64          Maine   \n",
       "2   50.0   Male         Jeans  Clothing                   73  Massachusetts   \n",
       "3   21.0   Male       Sandals  Footwear                   90   Rhode Island   \n",
       "4  145.0   Male        Blouse  Clothing                   49         Oregon   \n",
       "\n",
       "  Size      Color  Season  ReviewRating SubscriptionStatus   ShippingType  \\\n",
       "0    L       Gray  Winter           3.1                Yes        Express   \n",
       "1    L     Maroon  Winter          13.1                Yes        Express   \n",
       "2    S     Maroon  Spring           3.1                Yes  Free Shipping   \n",
       "3    M     Maroon  Spring           3.5                Yes   Next Day Air   \n",
       "4    M  Turquoise  Spring           2.7                Yes  Free Shipping   \n",
       "\n",
       "  DiscountApplied PromoCodeUsed  PreviousPurchases PaymentMethod  \\\n",
       "0             Yes           Yes                 14         Venmo   \n",
       "1             Yes           Yes                  2          Cash   \n",
       "2             Yes           Yes                 23   Credit Card   \n",
       "3             Yes           Yes                 49        PayPal   \n",
       "4             Yes           Yes                 31        PayPal   \n",
       "\n",
       "  FrequencyofPurchases  \n",
       "0          Fortnightly  \n",
       "1          Fortnightly  \n",
       "2               Weekly  \n",
       "3               Weekly  \n",
       "4             Annually  "
      ]
     },
     "execution_count": 18,
     "metadata": {},
     "output_type": "execute_result"
    }
   ],
   "source": [
    "df.head()"
   ]
  },
  {
   "cell_type": "code",
   "execution_count": 40,
   "id": "4bae0102",
   "metadata": {},
   "outputs": [],
   "source": [
    "df[\"Age\"].fillna(df[\"Age\"].median(),inplace=True)\n",
    "\n",
    "df[\"Gender\"].fillna(df[\"Gender\"].mode()[0],inplace=True)\n",
    "\n",
    "df[\"ItemPurchased\"].fillna(df[\"ItemPurchased\"].mode()[0],inplace=True)\n",
    "\n",
    "df[\"Category\"].fillna(df[\"Category\"].mode()[0],inplace=True)\n",
    "\n",
    "df[\"Location\"].fillna(df[\"Location\"].mode()[0],inplace=True)\n",
    "\n",
    "df[\"Color\"].fillna(df[\"Color\"].mode()[0],inplace=True)\n",
    "\n",
    "df[\"Season\"].fillna(df[\"Season\"].mode()[0],inplace=True)\n",
    "\n",
    "df[\"SubscriptionStatus\"].fillna(df[\"SubscriptionStatus\"].mode()[0],inplace=True)\n",
    "\n",
    "df[\"DiscountApplied\"].fillna(df[\"DiscountApplied\"].mode()[0],inplace=True)\n",
    "\n",
    "df[\"PromoCodeUsed\"].fillna(df[\"PromoCodeUsed\"].mode()[0],inplace=True)\n",
    "\n",
    "df[\"PaymentMethod\"].fillna(df[\"PaymentMethod\"].mode()[0],inplace=True)\n",
    "\n",
    "df[\"FrequencyofPurchases\"].fillna(df[\"FrequencyofPurchases\"].mode()[0],inplace=True)"
   ]
  },
  {
   "cell_type": "code",
   "execution_count": 43,
   "id": "b66f0c9d",
   "metadata": {},
   "outputs": [],
   "source": [
    "df.dropna(axis=0,inplace=True)"
   ]
  },
  {
   "cell_type": "code",
   "execution_count": null,
   "id": "7e29e2ed",
   "metadata": {},
   "outputs": [],
   "source": []
  },
  {
   "cell_type": "code",
   "execution_count": 45,
   "id": "2dae5f6b",
   "metadata": {},
   "outputs": [
    {
     "name": "stdout",
     "output_type": "stream",
     "text": [
      "<class 'pandas.core.frame.DataFrame'>\n",
      "Index: 2680 entries, 0 to 2681\n",
      "Data columns (total 17 columns):\n",
      " #   Column                Non-Null Count  Dtype  \n",
      "---  ------                --------------  -----  \n",
      " 0   Age                   2680 non-null   float64\n",
      " 1   Gender                2680 non-null   object \n",
      " 2   ItemPurchased         2680 non-null   object \n",
      " 3   Category              2680 non-null   object \n",
      " 4   PurchaseAmount(USD)   2680 non-null   int64  \n",
      " 5   Location              2680 non-null   object \n",
      " 6   Size                  2680 non-null   object \n",
      " 7   Color                 2680 non-null   object \n",
      " 8   Season                2680 non-null   object \n",
      " 9   ReviewRating          2680 non-null   float64\n",
      " 10  SubscriptionStatus    2680 non-null   object \n",
      " 11  ShippingType          2680 non-null   object \n",
      " 12  DiscountApplied       2680 non-null   object \n",
      " 13  PromoCodeUsed         2680 non-null   object \n",
      " 14  PreviousPurchases     2680 non-null   int64  \n",
      " 15  PaymentMethod         2680 non-null   object \n",
      " 16  FrequencyofPurchases  2680 non-null   object \n",
      "dtypes: float64(2), int64(2), object(13)\n",
      "memory usage: 376.9+ KB\n"
     ]
    }
   ],
   "source": [
    "df.info()"
   ]
  },
  {
   "cell_type": "markdown",
   "id": "7b0d1dd0",
   "metadata": {},
   "source": [
    "### Outliers"
   ]
  },
  {
   "cell_type": "code",
   "execution_count": 49,
   "id": "8675eb37",
   "metadata": {},
   "outputs": [],
   "source": [
    "df[(df[\"Age\"]>100) | (df[\"Age\"]<0)] = 35"
   ]
  },
  {
   "cell_type": "code",
   "execution_count": 60,
   "id": "0139617f",
   "metadata": {},
   "outputs": [],
   "source": [
    "df.drop(df[(df[\"ReviewRating\"]>5) | (df[\"ReviewRating\"]<0)].index,inplace=True)"
   ]
  },
  {
   "cell_type": "markdown",
   "id": "33fd73d1",
   "metadata": {},
   "source": [
    "### Duplicates"
   ]
  },
  {
   "cell_type": "code",
   "execution_count": 65,
   "id": "0e9119e0",
   "metadata": {},
   "outputs": [],
   "source": [
    "df.drop_duplicates(inplace=True)"
   ]
  },
  {
   "cell_type": "code",
   "execution_count": 66,
   "id": "8bc0e045",
   "metadata": {},
   "outputs": [
    {
     "data": {
      "text/plain": [
       "0"
      ]
     },
     "execution_count": 66,
     "metadata": {},
     "output_type": "execute_result"
    }
   ],
   "source": [
    "df.duplicated().sum()"
   ]
  },
  {
   "cell_type": "markdown",
   "id": "89231e48",
   "metadata": {},
   "source": [
    "### TypeCasting"
   ]
  },
  {
   "cell_type": "code",
   "execution_count": 78,
   "id": "a5737787",
   "metadata": {},
   "outputs": [
    {
     "name": "stdout",
     "output_type": "stream",
     "text": [
      "<class 'pandas.core.frame.DataFrame'>\n",
      "Index: 2644 entries, 0 to 2667\n",
      "Data columns (total 17 columns):\n",
      " #   Column                Non-Null Count  Dtype  \n",
      "---  ------                --------------  -----  \n",
      " 0   Age                   2644 non-null   float16\n",
      " 1   Gender                2644 non-null   object \n",
      " 2   ItemPurchased         2644 non-null   object \n",
      " 3   Category              2644 non-null   object \n",
      " 4   PurchaseAmount(USD)   2644 non-null   int8   \n",
      " 5   Location              2644 non-null   object \n",
      " 6   Size                  2644 non-null   object \n",
      " 7   Color                 2644 non-null   object \n",
      " 8   Season                2644 non-null   object \n",
      " 9   ReviewRating          2644 non-null   float16\n",
      " 10  SubscriptionStatus    2644 non-null   object \n",
      " 11  ShippingType          2644 non-null   object \n",
      " 12  DiscountApplied       2644 non-null   object \n",
      " 13  PromoCodeUsed         2644 non-null   object \n",
      " 14  PreviousPurchases     2644 non-null   int8   \n",
      " 15  PaymentMethod         2644 non-null   object \n",
      " 16  FrequencyofPurchases  2644 non-null   object \n",
      "dtypes: float16(2), int8(2), object(13)\n",
      "memory usage: 304.7+ KB\n"
     ]
    }
   ],
   "source": [
    "df.info()"
   ]
  },
  {
   "cell_type": "code",
   "execution_count": 164,
   "id": "6edb1697",
   "metadata": {},
   "outputs": [],
   "source": [
    "df[\"Age\"] = df[\"Age\"].astype(\"float64\")\n",
    "\n",
    "df[\"ReviewRating\"] = df[\"ReviewRating\"].astype(\"float16\")\n",
    "\n",
    "df[\"PreviousPurchases\"] = df[\"PreviousPurchases\"].astype(\"int8\")\n",
    "\n",
    "df[\"PurchaseAmount(USD)\"] = df[\"PurchaseAmount(USD)\"].astype(\"int8\")"
   ]
  },
  {
   "cell_type": "markdown",
   "id": "88cbd38b",
   "metadata": {},
   "source": [
    "### Variance Check"
   ]
  },
  {
   "cell_type": "code",
   "execution_count": 82,
   "id": "aaed1bfb",
   "metadata": {},
   "outputs": [
    {
     "data": {
      "text/html": [
       "<div>\n",
       "<style scoped>\n",
       "    .dataframe tbody tr th:only-of-type {\n",
       "        vertical-align: middle;\n",
       "    }\n",
       "\n",
       "    .dataframe tbody tr th {\n",
       "        vertical-align: top;\n",
       "    }\n",
       "\n",
       "    .dataframe thead th {\n",
       "        text-align: right;\n",
       "    }\n",
       "</style>\n",
       "<table border=\"1\" class=\"dataframe\">\n",
       "  <thead>\n",
       "    <tr style=\"text-align: right;\">\n",
       "      <th></th>\n",
       "      <th>Age</th>\n",
       "      <th>Gender</th>\n",
       "      <th>ItemPurchased</th>\n",
       "      <th>Category</th>\n",
       "      <th>PurchaseAmount(USD)</th>\n",
       "      <th>Location</th>\n",
       "      <th>Size</th>\n",
       "      <th>Color</th>\n",
       "      <th>Season</th>\n",
       "      <th>ReviewRating</th>\n",
       "      <th>SubscriptionStatus</th>\n",
       "      <th>ShippingType</th>\n",
       "      <th>DiscountApplied</th>\n",
       "      <th>PromoCodeUsed</th>\n",
       "      <th>PreviousPurchases</th>\n",
       "      <th>PaymentMethod</th>\n",
       "      <th>FrequencyofPurchases</th>\n",
       "    </tr>\n",
       "  </thead>\n",
       "  <tbody>\n",
       "    <tr>\n",
       "      <th>0</th>\n",
       "      <td>55.0</td>\n",
       "      <td>Male</td>\n",
       "      <td>Blouse</td>\n",
       "      <td>Clothing</td>\n",
       "      <td>53</td>\n",
       "      <td>Kentucky</td>\n",
       "      <td>L</td>\n",
       "      <td>Gray</td>\n",
       "      <td>Winter</td>\n",
       "      <td>3.099609</td>\n",
       "      <td>Yes</td>\n",
       "      <td>Express</td>\n",
       "      <td>Yes</td>\n",
       "      <td>Yes</td>\n",
       "      <td>14</td>\n",
       "      <td>Venmo</td>\n",
       "      <td>Fortnightly</td>\n",
       "    </tr>\n",
       "    <tr>\n",
       "      <th>2</th>\n",
       "      <td>50.0</td>\n",
       "      <td>Male</td>\n",
       "      <td>Jeans</td>\n",
       "      <td>Clothing</td>\n",
       "      <td>73</td>\n",
       "      <td>Massachusetts</td>\n",
       "      <td>S</td>\n",
       "      <td>Maroon</td>\n",
       "      <td>Spring</td>\n",
       "      <td>3.099609</td>\n",
       "      <td>Yes</td>\n",
       "      <td>Free Shipping</td>\n",
       "      <td>Yes</td>\n",
       "      <td>Yes</td>\n",
       "      <td>23</td>\n",
       "      <td>Credit Card</td>\n",
       "      <td>Weekly</td>\n",
       "    </tr>\n",
       "    <tr>\n",
       "      <th>3</th>\n",
       "      <td>21.0</td>\n",
       "      <td>Male</td>\n",
       "      <td>Sandals</td>\n",
       "      <td>Footwear</td>\n",
       "      <td>90</td>\n",
       "      <td>Rhode Island</td>\n",
       "      <td>M</td>\n",
       "      <td>Maroon</td>\n",
       "      <td>Spring</td>\n",
       "      <td>3.500000</td>\n",
       "      <td>Yes</td>\n",
       "      <td>Next Day Air</td>\n",
       "      <td>Yes</td>\n",
       "      <td>Yes</td>\n",
       "      <td>49</td>\n",
       "      <td>PayPal</td>\n",
       "      <td>Weekly</td>\n",
       "    </tr>\n",
       "    <tr>\n",
       "      <th>5</th>\n",
       "      <td>46.0</td>\n",
       "      <td>Male</td>\n",
       "      <td>Sneakers</td>\n",
       "      <td>Footwear</td>\n",
       "      <td>20</td>\n",
       "      <td>Wyoming</td>\n",
       "      <td>M</td>\n",
       "      <td>White</td>\n",
       "      <td>Summer</td>\n",
       "      <td>2.900391</td>\n",
       "      <td>Yes</td>\n",
       "      <td>Standard</td>\n",
       "      <td>Yes</td>\n",
       "      <td>Yes</td>\n",
       "      <td>14</td>\n",
       "      <td>Venmo</td>\n",
       "      <td>Weekly</td>\n",
       "    </tr>\n",
       "    <tr>\n",
       "      <th>6</th>\n",
       "      <td>63.0</td>\n",
       "      <td>Male</td>\n",
       "      <td>Shirt</td>\n",
       "      <td>Clothing</td>\n",
       "      <td>85</td>\n",
       "      <td>Montana</td>\n",
       "      <td>M</td>\n",
       "      <td>Gray</td>\n",
       "      <td>Fall</td>\n",
       "      <td>3.199219</td>\n",
       "      <td>Yes</td>\n",
       "      <td>Free Shipping</td>\n",
       "      <td>Yes</td>\n",
       "      <td>Yes</td>\n",
       "      <td>49</td>\n",
       "      <td>Cash</td>\n",
       "      <td>Quarterly</td>\n",
       "    </tr>\n",
       "  </tbody>\n",
       "</table>\n",
       "</div>"
      ],
      "text/plain": [
       "    Age Gender ItemPurchased  Category  PurchaseAmount(USD)       Location  \\\n",
       "0  55.0   Male        Blouse  Clothing                   53       Kentucky   \n",
       "2  50.0   Male         Jeans  Clothing                   73  Massachusetts   \n",
       "3  21.0   Male       Sandals  Footwear                   90   Rhode Island   \n",
       "5  46.0   Male      Sneakers  Footwear                   20        Wyoming   \n",
       "6  63.0   Male         Shirt  Clothing                   85        Montana   \n",
       "\n",
       "  Size   Color  Season  ReviewRating SubscriptionStatus   ShippingType  \\\n",
       "0    L    Gray  Winter      3.099609                Yes        Express   \n",
       "2    S  Maroon  Spring      3.099609                Yes  Free Shipping   \n",
       "3    M  Maroon  Spring      3.500000                Yes   Next Day Air   \n",
       "5    M   White  Summer      2.900391                Yes       Standard   \n",
       "6    M    Gray    Fall      3.199219                Yes  Free Shipping   \n",
       "\n",
       "  DiscountApplied PromoCodeUsed  PreviousPurchases PaymentMethod  \\\n",
       "0             Yes           Yes                 14         Venmo   \n",
       "2             Yes           Yes                 23   Credit Card   \n",
       "3             Yes           Yes                 49        PayPal   \n",
       "5             Yes           Yes                 14         Venmo   \n",
       "6             Yes           Yes                 49          Cash   \n",
       "\n",
       "  FrequencyofPurchases  \n",
       "0          Fortnightly  \n",
       "2               Weekly  \n",
       "3               Weekly  \n",
       "5               Weekly  \n",
       "6            Quarterly  "
      ]
     },
     "execution_count": 82,
     "metadata": {},
     "output_type": "execute_result"
    }
   ],
   "source": [
    "df.head()"
   ]
  },
  {
   "cell_type": "code",
   "execution_count": 86,
   "id": "890fd4f5",
   "metadata": {},
   "outputs": [
    {
     "data": {
      "text/plain": [
       "234.6"
      ]
     },
     "execution_count": 86,
     "metadata": {},
     "output_type": "execute_result"
    }
   ],
   "source": [
    "df.Age.var()"
   ]
  },
  {
   "cell_type": "code",
   "execution_count": 88,
   "id": "25dfaea1",
   "metadata": {},
   "outputs": [],
   "source": [
    "df.Gender.nunique() #Return number of unique elements in the object.\n",
    "#Variance = 0 it means there is no change in the data \n",
    "# Droping the gender feature\n",
    "\n",
    "df.drop(\"Gender\",axis=1,inplace=True)"
   ]
  },
  {
   "cell_type": "code",
   "execution_count": 90,
   "id": "4e8935a1",
   "metadata": {},
   "outputs": [
    {
     "data": {
      "text/plain": [
       "25"
      ]
     },
     "execution_count": 90,
     "metadata": {},
     "output_type": "execute_result"
    }
   ],
   "source": [
    "df.ItemPurchased.nunique()"
   ]
  },
  {
   "cell_type": "code",
   "execution_count": 91,
   "id": "228b2e46",
   "metadata": {},
   "outputs": [
    {
     "data": {
      "text/plain": [
       "4"
      ]
     },
     "execution_count": 91,
     "metadata": {},
     "output_type": "execute_result"
    }
   ],
   "source": [
    "df.Category.nunique()"
   ]
  },
  {
   "cell_type": "code",
   "execution_count": 93,
   "id": "fee208b2",
   "metadata": {},
   "outputs": [
    {
     "data": {
      "text/plain": [
       "567.925853294433"
      ]
     },
     "execution_count": 93,
     "metadata": {},
     "output_type": "execute_result"
    }
   ],
   "source": [
    "df[\"PurchaseAmount(USD)\"].var()"
   ]
  },
  {
   "cell_type": "code",
   "execution_count": 94,
   "id": "d42d4ab3",
   "metadata": {},
   "outputs": [
    {
     "data": {
      "text/plain": [
       "50"
      ]
     },
     "execution_count": 94,
     "metadata": {},
     "output_type": "execute_result"
    }
   ],
   "source": [
    "df.Location.nunique()"
   ]
  },
  {
   "cell_type": "code",
   "execution_count": 96,
   "id": "ed13b8ec",
   "metadata": {},
   "outputs": [
    {
     "data": {
      "text/plain": [
       "4"
      ]
     },
     "execution_count": 96,
     "metadata": {},
     "output_type": "execute_result"
    }
   ],
   "source": [
    "df.Size.nunique()"
   ]
  },
  {
   "cell_type": "code",
   "execution_count": 97,
   "id": "db3fbaf8",
   "metadata": {},
   "outputs": [
    {
     "data": {
      "text/plain": [
       "25"
      ]
     },
     "execution_count": 97,
     "metadata": {},
     "output_type": "execute_result"
    }
   ],
   "source": [
    "df.Color.nunique()"
   ]
  },
  {
   "cell_type": "code",
   "execution_count": 98,
   "id": "788a8c2e",
   "metadata": {},
   "outputs": [
    {
     "data": {
      "text/plain": [
       "4"
      ]
     },
     "execution_count": 98,
     "metadata": {},
     "output_type": "execute_result"
    }
   ],
   "source": [
    "df.Season.nunique()"
   ]
  },
  {
   "cell_type": "code",
   "execution_count": 118,
   "id": "458b92bd",
   "metadata": {},
   "outputs": [
    {
     "data": {
      "text/plain": [
       "0.5093"
      ]
     },
     "execution_count": 118,
     "metadata": {},
     "output_type": "execute_result"
    }
   ],
   "source": [
    "df.ReviewRating.var()\n"
   ]
  },
  {
   "cell_type": "code",
   "execution_count": 100,
   "id": "3261038f",
   "metadata": {},
   "outputs": [
    {
     "data": {
      "text/plain": [
       "2"
      ]
     },
     "execution_count": 100,
     "metadata": {},
     "output_type": "execute_result"
    }
   ],
   "source": [
    "df.SubscriptionStatus.nunique()"
   ]
  },
  {
   "cell_type": "code",
   "execution_count": 101,
   "id": "ef291c35",
   "metadata": {},
   "outputs": [
    {
     "data": {
      "text/plain": [
       "6"
      ]
     },
     "execution_count": 101,
     "metadata": {},
     "output_type": "execute_result"
    }
   ],
   "source": [
    "df.ShippingType.nunique()"
   ]
  },
  {
   "cell_type": "code",
   "execution_count": 102,
   "id": "2f66d785",
   "metadata": {},
   "outputs": [
    {
     "data": {
      "text/plain": [
       "2"
      ]
     },
     "execution_count": 102,
     "metadata": {},
     "output_type": "execute_result"
    }
   ],
   "source": [
    "df.DiscountApplied.nunique()"
   ]
  },
  {
   "cell_type": "code",
   "execution_count": 104,
   "id": "8d9082f8",
   "metadata": {},
   "outputs": [
    {
     "data": {
      "text/plain": [
       "2"
      ]
     },
     "execution_count": 104,
     "metadata": {},
     "output_type": "execute_result"
    }
   ],
   "source": [
    "df.PromoCodeUsed.nunique()"
   ]
  },
  {
   "cell_type": "code",
   "execution_count": 106,
   "id": "e503fde3",
   "metadata": {},
   "outputs": [
    {
     "data": {
      "text/plain": [
       "206.13516135734906"
      ]
     },
     "execution_count": 106,
     "metadata": {},
     "output_type": "execute_result"
    }
   ],
   "source": [
    "df.PreviousPurchases.var()"
   ]
  },
  {
   "cell_type": "code",
   "execution_count": 108,
   "id": "678ac1d0",
   "metadata": {},
   "outputs": [
    {
     "data": {
      "text/plain": [
       "6"
      ]
     },
     "execution_count": 108,
     "metadata": {},
     "output_type": "execute_result"
    }
   ],
   "source": [
    "df.PaymentMethod.nunique()"
   ]
  },
  {
   "cell_type": "code",
   "execution_count": 109,
   "id": "cb54c75f",
   "metadata": {},
   "outputs": [
    {
     "data": {
      "text/plain": [
       "7"
      ]
     },
     "execution_count": 109,
     "metadata": {},
     "output_type": "execute_result"
    }
   ],
   "source": [
    "df.FrequencyofPurchases.nunique()"
   ]
  },
  {
   "cell_type": "code",
   "execution_count": 111,
   "id": "1ec52546",
   "metadata": {},
   "outputs": [
    {
     "data": {
      "text/html": [
       "<div>\n",
       "<style scoped>\n",
       "    .dataframe tbody tr th:only-of-type {\n",
       "        vertical-align: middle;\n",
       "    }\n",
       "\n",
       "    .dataframe tbody tr th {\n",
       "        vertical-align: top;\n",
       "    }\n",
       "\n",
       "    .dataframe thead th {\n",
       "        text-align: right;\n",
       "    }\n",
       "</style>\n",
       "<table border=\"1\" class=\"dataframe\">\n",
       "  <thead>\n",
       "    <tr style=\"text-align: right;\">\n",
       "      <th></th>\n",
       "      <th>Age</th>\n",
       "      <th>ItemPurchased</th>\n",
       "      <th>Category</th>\n",
       "      <th>PurchaseAmount(USD)</th>\n",
       "      <th>Location</th>\n",
       "      <th>Size</th>\n",
       "      <th>Color</th>\n",
       "      <th>Season</th>\n",
       "      <th>ReviewRating</th>\n",
       "      <th>SubscriptionStatus</th>\n",
       "      <th>ShippingType</th>\n",
       "      <th>DiscountApplied</th>\n",
       "      <th>PromoCodeUsed</th>\n",
       "      <th>PreviousPurchases</th>\n",
       "      <th>PaymentMethod</th>\n",
       "      <th>FrequencyofPurchases</th>\n",
       "    </tr>\n",
       "  </thead>\n",
       "  <tbody>\n",
       "    <tr>\n",
       "      <th>0</th>\n",
       "      <td>55.0</td>\n",
       "      <td>Blouse</td>\n",
       "      <td>Clothing</td>\n",
       "      <td>53</td>\n",
       "      <td>Kentucky</td>\n",
       "      <td>L</td>\n",
       "      <td>Gray</td>\n",
       "      <td>Winter</td>\n",
       "      <td>3.099609</td>\n",
       "      <td>Yes</td>\n",
       "      <td>Express</td>\n",
       "      <td>Yes</td>\n",
       "      <td>Yes</td>\n",
       "      <td>14</td>\n",
       "      <td>Venmo</td>\n",
       "      <td>Fortnightly</td>\n",
       "    </tr>\n",
       "    <tr>\n",
       "      <th>2</th>\n",
       "      <td>50.0</td>\n",
       "      <td>Jeans</td>\n",
       "      <td>Clothing</td>\n",
       "      <td>73</td>\n",
       "      <td>Massachusetts</td>\n",
       "      <td>S</td>\n",
       "      <td>Maroon</td>\n",
       "      <td>Spring</td>\n",
       "      <td>3.099609</td>\n",
       "      <td>Yes</td>\n",
       "      <td>Free Shipping</td>\n",
       "      <td>Yes</td>\n",
       "      <td>Yes</td>\n",
       "      <td>23</td>\n",
       "      <td>Credit Card</td>\n",
       "      <td>Weekly</td>\n",
       "    </tr>\n",
       "    <tr>\n",
       "      <th>3</th>\n",
       "      <td>21.0</td>\n",
       "      <td>Sandals</td>\n",
       "      <td>Footwear</td>\n",
       "      <td>90</td>\n",
       "      <td>Rhode Island</td>\n",
       "      <td>M</td>\n",
       "      <td>Maroon</td>\n",
       "      <td>Spring</td>\n",
       "      <td>3.500000</td>\n",
       "      <td>Yes</td>\n",
       "      <td>Next Day Air</td>\n",
       "      <td>Yes</td>\n",
       "      <td>Yes</td>\n",
       "      <td>49</td>\n",
       "      <td>PayPal</td>\n",
       "      <td>Weekly</td>\n",
       "    </tr>\n",
       "    <tr>\n",
       "      <th>5</th>\n",
       "      <td>46.0</td>\n",
       "      <td>Sneakers</td>\n",
       "      <td>Footwear</td>\n",
       "      <td>20</td>\n",
       "      <td>Wyoming</td>\n",
       "      <td>M</td>\n",
       "      <td>White</td>\n",
       "      <td>Summer</td>\n",
       "      <td>2.900391</td>\n",
       "      <td>Yes</td>\n",
       "      <td>Standard</td>\n",
       "      <td>Yes</td>\n",
       "      <td>Yes</td>\n",
       "      <td>14</td>\n",
       "      <td>Venmo</td>\n",
       "      <td>Weekly</td>\n",
       "    </tr>\n",
       "    <tr>\n",
       "      <th>6</th>\n",
       "      <td>63.0</td>\n",
       "      <td>Shirt</td>\n",
       "      <td>Clothing</td>\n",
       "      <td>85</td>\n",
       "      <td>Montana</td>\n",
       "      <td>M</td>\n",
       "      <td>Gray</td>\n",
       "      <td>Fall</td>\n",
       "      <td>3.199219</td>\n",
       "      <td>Yes</td>\n",
       "      <td>Free Shipping</td>\n",
       "      <td>Yes</td>\n",
       "      <td>Yes</td>\n",
       "      <td>49</td>\n",
       "      <td>Cash</td>\n",
       "      <td>Quarterly</td>\n",
       "    </tr>\n",
       "  </tbody>\n",
       "</table>\n",
       "</div>"
      ],
      "text/plain": [
       "    Age ItemPurchased  Category  PurchaseAmount(USD)       Location Size  \\\n",
       "0  55.0        Blouse  Clothing                   53       Kentucky    L   \n",
       "2  50.0         Jeans  Clothing                   73  Massachusetts    S   \n",
       "3  21.0       Sandals  Footwear                   90   Rhode Island    M   \n",
       "5  46.0      Sneakers  Footwear                   20        Wyoming    M   \n",
       "6  63.0         Shirt  Clothing                   85        Montana    M   \n",
       "\n",
       "    Color  Season  ReviewRating SubscriptionStatus   ShippingType  \\\n",
       "0    Gray  Winter      3.099609                Yes        Express   \n",
       "2  Maroon  Spring      3.099609                Yes  Free Shipping   \n",
       "3  Maroon  Spring      3.500000                Yes   Next Day Air   \n",
       "5   White  Summer      2.900391                Yes       Standard   \n",
       "6    Gray    Fall      3.199219                Yes  Free Shipping   \n",
       "\n",
       "  DiscountApplied PromoCodeUsed  PreviousPurchases PaymentMethod  \\\n",
       "0             Yes           Yes                 14         Venmo   \n",
       "2             Yes           Yes                 23   Credit Card   \n",
       "3             Yes           Yes                 49        PayPal   \n",
       "5             Yes           Yes                 14         Venmo   \n",
       "6             Yes           Yes                 49          Cash   \n",
       "\n",
       "  FrequencyofPurchases  \n",
       "0          Fortnightly  \n",
       "2               Weekly  \n",
       "3               Weekly  \n",
       "5               Weekly  \n",
       "6            Quarterly  "
      ]
     },
     "execution_count": 111,
     "metadata": {},
     "output_type": "execute_result"
    }
   ],
   "source": [
    "df.head()"
   ]
  },
  {
   "cell_type": "markdown",
   "id": "d5f54b8b",
   "metadata": {},
   "source": [
    "### Dummy variable"
   ]
  },
  {
   "cell_type": "markdown",
   "id": "ecff41d6",
   "metadata": {},
   "source": [
    "#### One Hot Encoding"
   ]
  },
  {
   "cell_type": "code",
   "execution_count": 113,
   "id": "02fba795",
   "metadata": {},
   "outputs": [
    {
     "data": {
      "text/html": [
       "<div>\n",
       "<style scoped>\n",
       "    .dataframe tbody tr th:only-of-type {\n",
       "        vertical-align: middle;\n",
       "    }\n",
       "\n",
       "    .dataframe tbody tr th {\n",
       "        vertical-align: top;\n",
       "    }\n",
       "\n",
       "    .dataframe thead th {\n",
       "        text-align: right;\n",
       "    }\n",
       "</style>\n",
       "<table border=\"1\" class=\"dataframe\">\n",
       "  <thead>\n",
       "    <tr style=\"text-align: right;\">\n",
       "      <th></th>\n",
       "      <th>Accessories</th>\n",
       "      <th>Clothing</th>\n",
       "      <th>Footwear</th>\n",
       "      <th>Outerwear</th>\n",
       "    </tr>\n",
       "  </thead>\n",
       "  <tbody>\n",
       "    <tr>\n",
       "      <th>0</th>\n",
       "      <td>0</td>\n",
       "      <td>1</td>\n",
       "      <td>0</td>\n",
       "      <td>0</td>\n",
       "    </tr>\n",
       "    <tr>\n",
       "      <th>2</th>\n",
       "      <td>0</td>\n",
       "      <td>1</td>\n",
       "      <td>0</td>\n",
       "      <td>0</td>\n",
       "    </tr>\n",
       "    <tr>\n",
       "      <th>3</th>\n",
       "      <td>0</td>\n",
       "      <td>0</td>\n",
       "      <td>1</td>\n",
       "      <td>0</td>\n",
       "    </tr>\n",
       "    <tr>\n",
       "      <th>5</th>\n",
       "      <td>0</td>\n",
       "      <td>0</td>\n",
       "      <td>1</td>\n",
       "      <td>0</td>\n",
       "    </tr>\n",
       "    <tr>\n",
       "      <th>6</th>\n",
       "      <td>0</td>\n",
       "      <td>1</td>\n",
       "      <td>0</td>\n",
       "      <td>0</td>\n",
       "    </tr>\n",
       "    <tr>\n",
       "      <th>...</th>\n",
       "      <td>...</td>\n",
       "      <td>...</td>\n",
       "      <td>...</td>\n",
       "      <td>...</td>\n",
       "    </tr>\n",
       "    <tr>\n",
       "      <th>2663</th>\n",
       "      <td>0</td>\n",
       "      <td>0</td>\n",
       "      <td>1</td>\n",
       "      <td>0</td>\n",
       "    </tr>\n",
       "    <tr>\n",
       "      <th>2664</th>\n",
       "      <td>0</td>\n",
       "      <td>1</td>\n",
       "      <td>0</td>\n",
       "      <td>0</td>\n",
       "    </tr>\n",
       "    <tr>\n",
       "      <th>2665</th>\n",
       "      <td>1</td>\n",
       "      <td>0</td>\n",
       "      <td>0</td>\n",
       "      <td>0</td>\n",
       "    </tr>\n",
       "    <tr>\n",
       "      <th>2666</th>\n",
       "      <td>0</td>\n",
       "      <td>1</td>\n",
       "      <td>0</td>\n",
       "      <td>0</td>\n",
       "    </tr>\n",
       "    <tr>\n",
       "      <th>2667</th>\n",
       "      <td>0</td>\n",
       "      <td>0</td>\n",
       "      <td>1</td>\n",
       "      <td>0</td>\n",
       "    </tr>\n",
       "  </tbody>\n",
       "</table>\n",
       "<p>2644 rows × 4 columns</p>\n",
       "</div>"
      ],
      "text/plain": [
       "      Accessories  Clothing  Footwear  Outerwear\n",
       "0               0         1         0          0\n",
       "2               0         1         0          0\n",
       "3               0         0         1          0\n",
       "5               0         0         1          0\n",
       "6               0         1         0          0\n",
       "...           ...       ...       ...        ...\n",
       "2663            0         0         1          0\n",
       "2664            0         1         0          0\n",
       "2665            1         0         0          0\n",
       "2666            0         1         0          0\n",
       "2667            0         0         1          0\n",
       "\n",
       "[2644 rows x 4 columns]"
      ]
     },
     "execution_count": 113,
     "metadata": {},
     "output_type": "execute_result"
    }
   ],
   "source": [
    "pd.get_dummies(df[\"Category\"],dtype=int)"
   ]
  },
  {
   "cell_type": "code",
   "execution_count": 114,
   "id": "f7ba683a",
   "metadata": {},
   "outputs": [
    {
     "data": {
      "text/html": [
       "<div>\n",
       "<style scoped>\n",
       "    .dataframe tbody tr th:only-of-type {\n",
       "        vertical-align: middle;\n",
       "    }\n",
       "\n",
       "    .dataframe tbody tr th {\n",
       "        vertical-align: top;\n",
       "    }\n",
       "\n",
       "    .dataframe thead th {\n",
       "        text-align: right;\n",
       "    }\n",
       "</style>\n",
       "<table border=\"1\" class=\"dataframe\">\n",
       "  <thead>\n",
       "    <tr style=\"text-align: right;\">\n",
       "      <th></th>\n",
       "      <th>L</th>\n",
       "      <th>M</th>\n",
       "      <th>S</th>\n",
       "      <th>XL</th>\n",
       "    </tr>\n",
       "  </thead>\n",
       "  <tbody>\n",
       "    <tr>\n",
       "      <th>0</th>\n",
       "      <td>1</td>\n",
       "      <td>0</td>\n",
       "      <td>0</td>\n",
       "      <td>0</td>\n",
       "    </tr>\n",
       "    <tr>\n",
       "      <th>2</th>\n",
       "      <td>0</td>\n",
       "      <td>0</td>\n",
       "      <td>1</td>\n",
       "      <td>0</td>\n",
       "    </tr>\n",
       "    <tr>\n",
       "      <th>3</th>\n",
       "      <td>0</td>\n",
       "      <td>1</td>\n",
       "      <td>0</td>\n",
       "      <td>0</td>\n",
       "    </tr>\n",
       "    <tr>\n",
       "      <th>5</th>\n",
       "      <td>0</td>\n",
       "      <td>1</td>\n",
       "      <td>0</td>\n",
       "      <td>0</td>\n",
       "    </tr>\n",
       "    <tr>\n",
       "      <th>6</th>\n",
       "      <td>0</td>\n",
       "      <td>1</td>\n",
       "      <td>0</td>\n",
       "      <td>0</td>\n",
       "    </tr>\n",
       "    <tr>\n",
       "      <th>...</th>\n",
       "      <td>...</td>\n",
       "      <td>...</td>\n",
       "      <td>...</td>\n",
       "      <td>...</td>\n",
       "    </tr>\n",
       "    <tr>\n",
       "      <th>2663</th>\n",
       "      <td>0</td>\n",
       "      <td>1</td>\n",
       "      <td>0</td>\n",
       "      <td>0</td>\n",
       "    </tr>\n",
       "    <tr>\n",
       "      <th>2664</th>\n",
       "      <td>0</td>\n",
       "      <td>1</td>\n",
       "      <td>0</td>\n",
       "      <td>0</td>\n",
       "    </tr>\n",
       "    <tr>\n",
       "      <th>2665</th>\n",
       "      <td>0</td>\n",
       "      <td>1</td>\n",
       "      <td>0</td>\n",
       "      <td>0</td>\n",
       "    </tr>\n",
       "    <tr>\n",
       "      <th>2666</th>\n",
       "      <td>1</td>\n",
       "      <td>0</td>\n",
       "      <td>0</td>\n",
       "      <td>0</td>\n",
       "    </tr>\n",
       "    <tr>\n",
       "      <th>2667</th>\n",
       "      <td>0</td>\n",
       "      <td>1</td>\n",
       "      <td>0</td>\n",
       "      <td>0</td>\n",
       "    </tr>\n",
       "  </tbody>\n",
       "</table>\n",
       "<p>2644 rows × 4 columns</p>\n",
       "</div>"
      ],
      "text/plain": [
       "      L  M  S  XL\n",
       "0     1  0  0   0\n",
       "2     0  0  1   0\n",
       "3     0  1  0   0\n",
       "5     0  1  0   0\n",
       "6     0  1  0   0\n",
       "...  .. .. ..  ..\n",
       "2663  0  1  0   0\n",
       "2664  0  1  0   0\n",
       "2665  0  1  0   0\n",
       "2666  1  0  0   0\n",
       "2667  0  1  0   0\n",
       "\n",
       "[2644 rows x 4 columns]"
      ]
     },
     "execution_count": 114,
     "metadata": {},
     "output_type": "execute_result"
    }
   ],
   "source": [
    "pd.get_dummies(df[\"Size\"],dtype=int)"
   ]
  },
  {
   "cell_type": "code",
   "execution_count": 116,
   "id": "a65c9420",
   "metadata": {},
   "outputs": [
    {
     "data": {
      "text/html": [
       "<div>\n",
       "<style scoped>\n",
       "    .dataframe tbody tr th:only-of-type {\n",
       "        vertical-align: middle;\n",
       "    }\n",
       "\n",
       "    .dataframe tbody tr th {\n",
       "        vertical-align: top;\n",
       "    }\n",
       "\n",
       "    .dataframe thead th {\n",
       "        text-align: right;\n",
       "    }\n",
       "</style>\n",
       "<table border=\"1\" class=\"dataframe\">\n",
       "  <thead>\n",
       "    <tr style=\"text-align: right;\">\n",
       "      <th></th>\n",
       "      <th>Fall</th>\n",
       "      <th>Spring</th>\n",
       "      <th>Summer</th>\n",
       "      <th>Winter</th>\n",
       "    </tr>\n",
       "  </thead>\n",
       "  <tbody>\n",
       "    <tr>\n",
       "      <th>0</th>\n",
       "      <td>0</td>\n",
       "      <td>0</td>\n",
       "      <td>0</td>\n",
       "      <td>1</td>\n",
       "    </tr>\n",
       "    <tr>\n",
       "      <th>2</th>\n",
       "      <td>0</td>\n",
       "      <td>1</td>\n",
       "      <td>0</td>\n",
       "      <td>0</td>\n",
       "    </tr>\n",
       "    <tr>\n",
       "      <th>3</th>\n",
       "      <td>0</td>\n",
       "      <td>1</td>\n",
       "      <td>0</td>\n",
       "      <td>0</td>\n",
       "    </tr>\n",
       "    <tr>\n",
       "      <th>5</th>\n",
       "      <td>0</td>\n",
       "      <td>0</td>\n",
       "      <td>1</td>\n",
       "      <td>0</td>\n",
       "    </tr>\n",
       "    <tr>\n",
       "      <th>6</th>\n",
       "      <td>1</td>\n",
       "      <td>0</td>\n",
       "      <td>0</td>\n",
       "      <td>0</td>\n",
       "    </tr>\n",
       "    <tr>\n",
       "      <th>...</th>\n",
       "      <td>...</td>\n",
       "      <td>...</td>\n",
       "      <td>...</td>\n",
       "      <td>...</td>\n",
       "    </tr>\n",
       "    <tr>\n",
       "      <th>2663</th>\n",
       "      <td>0</td>\n",
       "      <td>0</td>\n",
       "      <td>1</td>\n",
       "      <td>0</td>\n",
       "    </tr>\n",
       "    <tr>\n",
       "      <th>2664</th>\n",
       "      <td>0</td>\n",
       "      <td>1</td>\n",
       "      <td>0</td>\n",
       "      <td>0</td>\n",
       "    </tr>\n",
       "    <tr>\n",
       "      <th>2665</th>\n",
       "      <td>1</td>\n",
       "      <td>0</td>\n",
       "      <td>0</td>\n",
       "      <td>0</td>\n",
       "    </tr>\n",
       "    <tr>\n",
       "      <th>2666</th>\n",
       "      <td>0</td>\n",
       "      <td>0</td>\n",
       "      <td>1</td>\n",
       "      <td>0</td>\n",
       "    </tr>\n",
       "    <tr>\n",
       "      <th>2667</th>\n",
       "      <td>0</td>\n",
       "      <td>0</td>\n",
       "      <td>1</td>\n",
       "      <td>0</td>\n",
       "    </tr>\n",
       "  </tbody>\n",
       "</table>\n",
       "<p>2644 rows × 4 columns</p>\n",
       "</div>"
      ],
      "text/plain": [
       "      Fall  Spring  Summer  Winter\n",
       "0        0       0       0       1\n",
       "2        0       1       0       0\n",
       "3        0       1       0       0\n",
       "5        0       0       1       0\n",
       "6        1       0       0       0\n",
       "...    ...     ...     ...     ...\n",
       "2663     0       0       1       0\n",
       "2664     0       1       0       0\n",
       "2665     1       0       0       0\n",
       "2666     0       0       1       0\n",
       "2667     0       0       1       0\n",
       "\n",
       "[2644 rows x 4 columns]"
      ]
     },
     "execution_count": 116,
     "metadata": {},
     "output_type": "execute_result"
    }
   ],
   "source": [
    "pd.get_dummies(df[\"Season\"],dtype=int)"
   ]
  },
  {
   "cell_type": "code",
   "execution_count": 119,
   "id": "5e4294bb",
   "metadata": {},
   "outputs": [
    {
     "data": {
      "text/html": [
       "<div>\n",
       "<style scoped>\n",
       "    .dataframe tbody tr th:only-of-type {\n",
       "        vertical-align: middle;\n",
       "    }\n",
       "\n",
       "    .dataframe tbody tr th {\n",
       "        vertical-align: top;\n",
       "    }\n",
       "\n",
       "    .dataframe thead th {\n",
       "        text-align: right;\n",
       "    }\n",
       "</style>\n",
       "<table border=\"1\" class=\"dataframe\">\n",
       "  <thead>\n",
       "    <tr style=\"text-align: right;\">\n",
       "      <th></th>\n",
       "      <th>No</th>\n",
       "      <th>Yes</th>\n",
       "    </tr>\n",
       "  </thead>\n",
       "  <tbody>\n",
       "    <tr>\n",
       "      <th>0</th>\n",
       "      <td>0</td>\n",
       "      <td>1</td>\n",
       "    </tr>\n",
       "    <tr>\n",
       "      <th>2</th>\n",
       "      <td>0</td>\n",
       "      <td>1</td>\n",
       "    </tr>\n",
       "    <tr>\n",
       "      <th>3</th>\n",
       "      <td>0</td>\n",
       "      <td>1</td>\n",
       "    </tr>\n",
       "    <tr>\n",
       "      <th>5</th>\n",
       "      <td>0</td>\n",
       "      <td>1</td>\n",
       "    </tr>\n",
       "    <tr>\n",
       "      <th>6</th>\n",
       "      <td>0</td>\n",
       "      <td>1</td>\n",
       "    </tr>\n",
       "    <tr>\n",
       "      <th>...</th>\n",
       "      <td>...</td>\n",
       "      <td>...</td>\n",
       "    </tr>\n",
       "    <tr>\n",
       "      <th>2663</th>\n",
       "      <td>1</td>\n",
       "      <td>0</td>\n",
       "    </tr>\n",
       "    <tr>\n",
       "      <th>2664</th>\n",
       "      <td>1</td>\n",
       "      <td>0</td>\n",
       "    </tr>\n",
       "    <tr>\n",
       "      <th>2665</th>\n",
       "      <td>1</td>\n",
       "      <td>0</td>\n",
       "    </tr>\n",
       "    <tr>\n",
       "      <th>2666</th>\n",
       "      <td>1</td>\n",
       "      <td>0</td>\n",
       "    </tr>\n",
       "    <tr>\n",
       "      <th>2667</th>\n",
       "      <td>1</td>\n",
       "      <td>0</td>\n",
       "    </tr>\n",
       "  </tbody>\n",
       "</table>\n",
       "<p>2644 rows × 2 columns</p>\n",
       "</div>"
      ],
      "text/plain": [
       "      No  Yes\n",
       "0      0    1\n",
       "2      0    1\n",
       "3      0    1\n",
       "5      0    1\n",
       "6      0    1\n",
       "...   ..  ...\n",
       "2663   1    0\n",
       "2664   1    0\n",
       "2665   1    0\n",
       "2666   1    0\n",
       "2667   1    0\n",
       "\n",
       "[2644 rows x 2 columns]"
      ]
     },
     "execution_count": 119,
     "metadata": {},
     "output_type": "execute_result"
    }
   ],
   "source": [
    "pd.get_dummies(df[\"SubscriptionStatus\"],dtype=int)"
   ]
  },
  {
   "cell_type": "code",
   "execution_count": 120,
   "id": "0c1704e8",
   "metadata": {},
   "outputs": [
    {
     "data": {
      "text/html": [
       "<div>\n",
       "<style scoped>\n",
       "    .dataframe tbody tr th:only-of-type {\n",
       "        vertical-align: middle;\n",
       "    }\n",
       "\n",
       "    .dataframe tbody tr th {\n",
       "        vertical-align: top;\n",
       "    }\n",
       "\n",
       "    .dataframe thead th {\n",
       "        text-align: right;\n",
       "    }\n",
       "</style>\n",
       "<table border=\"1\" class=\"dataframe\">\n",
       "  <thead>\n",
       "    <tr style=\"text-align: right;\">\n",
       "      <th></th>\n",
       "      <th>No</th>\n",
       "      <th>Yes</th>\n",
       "    </tr>\n",
       "  </thead>\n",
       "  <tbody>\n",
       "    <tr>\n",
       "      <th>0</th>\n",
       "      <td>0</td>\n",
       "      <td>1</td>\n",
       "    </tr>\n",
       "    <tr>\n",
       "      <th>2</th>\n",
       "      <td>0</td>\n",
       "      <td>1</td>\n",
       "    </tr>\n",
       "    <tr>\n",
       "      <th>3</th>\n",
       "      <td>0</td>\n",
       "      <td>1</td>\n",
       "    </tr>\n",
       "    <tr>\n",
       "      <th>5</th>\n",
       "      <td>0</td>\n",
       "      <td>1</td>\n",
       "    </tr>\n",
       "    <tr>\n",
       "      <th>6</th>\n",
       "      <td>0</td>\n",
       "      <td>1</td>\n",
       "    </tr>\n",
       "    <tr>\n",
       "      <th>...</th>\n",
       "      <td>...</td>\n",
       "      <td>...</td>\n",
       "    </tr>\n",
       "    <tr>\n",
       "      <th>2663</th>\n",
       "      <td>1</td>\n",
       "      <td>0</td>\n",
       "    </tr>\n",
       "    <tr>\n",
       "      <th>2664</th>\n",
       "      <td>1</td>\n",
       "      <td>0</td>\n",
       "    </tr>\n",
       "    <tr>\n",
       "      <th>2665</th>\n",
       "      <td>1</td>\n",
       "      <td>0</td>\n",
       "    </tr>\n",
       "    <tr>\n",
       "      <th>2666</th>\n",
       "      <td>1</td>\n",
       "      <td>0</td>\n",
       "    </tr>\n",
       "    <tr>\n",
       "      <th>2667</th>\n",
       "      <td>1</td>\n",
       "      <td>0</td>\n",
       "    </tr>\n",
       "  </tbody>\n",
       "</table>\n",
       "<p>2644 rows × 2 columns</p>\n",
       "</div>"
      ],
      "text/plain": [
       "      No  Yes\n",
       "0      0    1\n",
       "2      0    1\n",
       "3      0    1\n",
       "5      0    1\n",
       "6      0    1\n",
       "...   ..  ...\n",
       "2663   1    0\n",
       "2664   1    0\n",
       "2665   1    0\n",
       "2666   1    0\n",
       "2667   1    0\n",
       "\n",
       "[2644 rows x 2 columns]"
      ]
     },
     "execution_count": 120,
     "metadata": {},
     "output_type": "execute_result"
    }
   ],
   "source": [
    "pd.get_dummies(df[\"DiscountApplied\"],dtype=int)"
   ]
  },
  {
   "cell_type": "code",
   "execution_count": 121,
   "id": "5f12fdff",
   "metadata": {},
   "outputs": [
    {
     "data": {
      "text/html": [
       "<div>\n",
       "<style scoped>\n",
       "    .dataframe tbody tr th:only-of-type {\n",
       "        vertical-align: middle;\n",
       "    }\n",
       "\n",
       "    .dataframe tbody tr th {\n",
       "        vertical-align: top;\n",
       "    }\n",
       "\n",
       "    .dataframe thead th {\n",
       "        text-align: right;\n",
       "    }\n",
       "</style>\n",
       "<table border=\"1\" class=\"dataframe\">\n",
       "  <thead>\n",
       "    <tr style=\"text-align: right;\">\n",
       "      <th></th>\n",
       "      <th>No</th>\n",
       "      <th>Yes</th>\n",
       "    </tr>\n",
       "  </thead>\n",
       "  <tbody>\n",
       "    <tr>\n",
       "      <th>0</th>\n",
       "      <td>0</td>\n",
       "      <td>1</td>\n",
       "    </tr>\n",
       "    <tr>\n",
       "      <th>2</th>\n",
       "      <td>0</td>\n",
       "      <td>1</td>\n",
       "    </tr>\n",
       "    <tr>\n",
       "      <th>3</th>\n",
       "      <td>0</td>\n",
       "      <td>1</td>\n",
       "    </tr>\n",
       "    <tr>\n",
       "      <th>5</th>\n",
       "      <td>0</td>\n",
       "      <td>1</td>\n",
       "    </tr>\n",
       "    <tr>\n",
       "      <th>6</th>\n",
       "      <td>0</td>\n",
       "      <td>1</td>\n",
       "    </tr>\n",
       "    <tr>\n",
       "      <th>...</th>\n",
       "      <td>...</td>\n",
       "      <td>...</td>\n",
       "    </tr>\n",
       "    <tr>\n",
       "      <th>2663</th>\n",
       "      <td>1</td>\n",
       "      <td>0</td>\n",
       "    </tr>\n",
       "    <tr>\n",
       "      <th>2664</th>\n",
       "      <td>1</td>\n",
       "      <td>0</td>\n",
       "    </tr>\n",
       "    <tr>\n",
       "      <th>2665</th>\n",
       "      <td>1</td>\n",
       "      <td>0</td>\n",
       "    </tr>\n",
       "    <tr>\n",
       "      <th>2666</th>\n",
       "      <td>1</td>\n",
       "      <td>0</td>\n",
       "    </tr>\n",
       "    <tr>\n",
       "      <th>2667</th>\n",
       "      <td>1</td>\n",
       "      <td>0</td>\n",
       "    </tr>\n",
       "  </tbody>\n",
       "</table>\n",
       "<p>2644 rows × 2 columns</p>\n",
       "</div>"
      ],
      "text/plain": [
       "      No  Yes\n",
       "0      0    1\n",
       "2      0    1\n",
       "3      0    1\n",
       "5      0    1\n",
       "6      0    1\n",
       "...   ..  ...\n",
       "2663   1    0\n",
       "2664   1    0\n",
       "2665   1    0\n",
       "2666   1    0\n",
       "2667   1    0\n",
       "\n",
       "[2644 rows x 2 columns]"
      ]
     },
     "execution_count": 121,
     "metadata": {},
     "output_type": "execute_result"
    }
   ],
   "source": [
    "pd.get_dummies(df[\"PromoCodeUsed\"],dtype=int)"
   ]
  },
  {
   "cell_type": "markdown",
   "id": "b60ad350",
   "metadata": {},
   "source": [
    "### Scaling"
   ]
  },
  {
   "cell_type": "code",
   "execution_count": 122,
   "id": "4530ee4e",
   "metadata": {},
   "outputs": [
    {
     "data": {
      "text/html": [
       "<div>\n",
       "<style scoped>\n",
       "    .dataframe tbody tr th:only-of-type {\n",
       "        vertical-align: middle;\n",
       "    }\n",
       "\n",
       "    .dataframe tbody tr th {\n",
       "        vertical-align: top;\n",
       "    }\n",
       "\n",
       "    .dataframe thead th {\n",
       "        text-align: right;\n",
       "    }\n",
       "</style>\n",
       "<table border=\"1\" class=\"dataframe\">\n",
       "  <thead>\n",
       "    <tr style=\"text-align: right;\">\n",
       "      <th></th>\n",
       "      <th>Age</th>\n",
       "      <th>ItemPurchased</th>\n",
       "      <th>Category</th>\n",
       "      <th>PurchaseAmount(USD)</th>\n",
       "      <th>Location</th>\n",
       "      <th>Size</th>\n",
       "      <th>Color</th>\n",
       "      <th>Season</th>\n",
       "      <th>ReviewRating</th>\n",
       "      <th>SubscriptionStatus</th>\n",
       "      <th>ShippingType</th>\n",
       "      <th>DiscountApplied</th>\n",
       "      <th>PromoCodeUsed</th>\n",
       "      <th>PreviousPurchases</th>\n",
       "      <th>PaymentMethod</th>\n",
       "      <th>FrequencyofPurchases</th>\n",
       "    </tr>\n",
       "  </thead>\n",
       "  <tbody>\n",
       "    <tr>\n",
       "      <th>0</th>\n",
       "      <td>55.0</td>\n",
       "      <td>Blouse</td>\n",
       "      <td>Clothing</td>\n",
       "      <td>53</td>\n",
       "      <td>Kentucky</td>\n",
       "      <td>L</td>\n",
       "      <td>Gray</td>\n",
       "      <td>Winter</td>\n",
       "      <td>3.099609</td>\n",
       "      <td>Yes</td>\n",
       "      <td>Express</td>\n",
       "      <td>Yes</td>\n",
       "      <td>Yes</td>\n",
       "      <td>14</td>\n",
       "      <td>Venmo</td>\n",
       "      <td>Fortnightly</td>\n",
       "    </tr>\n",
       "    <tr>\n",
       "      <th>2</th>\n",
       "      <td>50.0</td>\n",
       "      <td>Jeans</td>\n",
       "      <td>Clothing</td>\n",
       "      <td>73</td>\n",
       "      <td>Massachusetts</td>\n",
       "      <td>S</td>\n",
       "      <td>Maroon</td>\n",
       "      <td>Spring</td>\n",
       "      <td>3.099609</td>\n",
       "      <td>Yes</td>\n",
       "      <td>Free Shipping</td>\n",
       "      <td>Yes</td>\n",
       "      <td>Yes</td>\n",
       "      <td>23</td>\n",
       "      <td>Credit Card</td>\n",
       "      <td>Weekly</td>\n",
       "    </tr>\n",
       "    <tr>\n",
       "      <th>3</th>\n",
       "      <td>21.0</td>\n",
       "      <td>Sandals</td>\n",
       "      <td>Footwear</td>\n",
       "      <td>90</td>\n",
       "      <td>Rhode Island</td>\n",
       "      <td>M</td>\n",
       "      <td>Maroon</td>\n",
       "      <td>Spring</td>\n",
       "      <td>3.500000</td>\n",
       "      <td>Yes</td>\n",
       "      <td>Next Day Air</td>\n",
       "      <td>Yes</td>\n",
       "      <td>Yes</td>\n",
       "      <td>49</td>\n",
       "      <td>PayPal</td>\n",
       "      <td>Weekly</td>\n",
       "    </tr>\n",
       "    <tr>\n",
       "      <th>5</th>\n",
       "      <td>46.0</td>\n",
       "      <td>Sneakers</td>\n",
       "      <td>Footwear</td>\n",
       "      <td>20</td>\n",
       "      <td>Wyoming</td>\n",
       "      <td>M</td>\n",
       "      <td>White</td>\n",
       "      <td>Summer</td>\n",
       "      <td>2.900391</td>\n",
       "      <td>Yes</td>\n",
       "      <td>Standard</td>\n",
       "      <td>Yes</td>\n",
       "      <td>Yes</td>\n",
       "      <td>14</td>\n",
       "      <td>Venmo</td>\n",
       "      <td>Weekly</td>\n",
       "    </tr>\n",
       "    <tr>\n",
       "      <th>6</th>\n",
       "      <td>63.0</td>\n",
       "      <td>Shirt</td>\n",
       "      <td>Clothing</td>\n",
       "      <td>85</td>\n",
       "      <td>Montana</td>\n",
       "      <td>M</td>\n",
       "      <td>Gray</td>\n",
       "      <td>Fall</td>\n",
       "      <td>3.199219</td>\n",
       "      <td>Yes</td>\n",
       "      <td>Free Shipping</td>\n",
       "      <td>Yes</td>\n",
       "      <td>Yes</td>\n",
       "      <td>49</td>\n",
       "      <td>Cash</td>\n",
       "      <td>Quarterly</td>\n",
       "    </tr>\n",
       "  </tbody>\n",
       "</table>\n",
       "</div>"
      ],
      "text/plain": [
       "    Age ItemPurchased  Category  PurchaseAmount(USD)       Location Size  \\\n",
       "0  55.0        Blouse  Clothing                   53       Kentucky    L   \n",
       "2  50.0         Jeans  Clothing                   73  Massachusetts    S   \n",
       "3  21.0       Sandals  Footwear                   90   Rhode Island    M   \n",
       "5  46.0      Sneakers  Footwear                   20        Wyoming    M   \n",
       "6  63.0         Shirt  Clothing                   85        Montana    M   \n",
       "\n",
       "    Color  Season  ReviewRating SubscriptionStatus   ShippingType  \\\n",
       "0    Gray  Winter      3.099609                Yes        Express   \n",
       "2  Maroon  Spring      3.099609                Yes  Free Shipping   \n",
       "3  Maroon  Spring      3.500000                Yes   Next Day Air   \n",
       "5   White  Summer      2.900391                Yes       Standard   \n",
       "6    Gray    Fall      3.199219                Yes  Free Shipping   \n",
       "\n",
       "  DiscountApplied PromoCodeUsed  PreviousPurchases PaymentMethod  \\\n",
       "0             Yes           Yes                 14         Venmo   \n",
       "2             Yes           Yes                 23   Credit Card   \n",
       "3             Yes           Yes                 49        PayPal   \n",
       "5             Yes           Yes                 14         Venmo   \n",
       "6             Yes           Yes                 49          Cash   \n",
       "\n",
       "  FrequencyofPurchases  \n",
       "0          Fortnightly  \n",
       "2               Weekly  \n",
       "3               Weekly  \n",
       "5               Weekly  \n",
       "6            Quarterly  "
      ]
     },
     "execution_count": 122,
     "metadata": {},
     "output_type": "execute_result"
    }
   ],
   "source": [
    "df.head()"
   ]
  },
  {
   "cell_type": "code",
   "execution_count": 165,
   "id": "91bf5b02",
   "metadata": {},
   "outputs": [
    {
     "data": {
      "text/plain": [
       "44.10287443267776"
      ]
     },
     "execution_count": 165,
     "metadata": {},
     "output_type": "execute_result"
    }
   ],
   "source": [
    "df[\"Age\"].mean()"
   ]
  },
  {
   "cell_type": "code",
   "execution_count": 163,
   "id": "2f8651fa",
   "metadata": {},
   "outputs": [
    {
     "data": {
      "text/plain": [
       "44.0"
      ]
     },
     "execution_count": 163,
     "metadata": {},
     "output_type": "execute_result"
    }
   ],
   "source": [
    "df[\"Age\"].median()"
   ]
  },
  {
   "cell_type": "code",
   "execution_count": 166,
   "id": "682bfba6",
   "metadata": {},
   "outputs": [],
   "source": [
    "def normalization(x):\n",
    "    n = (x-df[\"Age\"].min())/(df[\"Age\"].max()-df[\"Age\"].min())\n",
    "    return n"
   ]
  },
  {
   "cell_type": "code",
   "execution_count": 167,
   "id": "f976a19f",
   "metadata": {},
   "outputs": [
    {
     "data": {
      "text/plain": [
       "0       0.711538\n",
       "2       0.615385\n",
       "3       0.057692\n",
       "5       0.538462\n",
       "6       0.865385\n",
       "          ...   \n",
       "2663    0.807692\n",
       "2664    0.634615\n",
       "2665    0.096154\n",
       "2666    0.038462\n",
       "2667    0.634615\n",
       "Name: Age, Length: 2644, dtype: float64"
      ]
     },
     "execution_count": 167,
     "metadata": {},
     "output_type": "execute_result"
    }
   ],
   "source": [
    "df[\"Age\"].apply(normalization)"
   ]
  },
  {
   "cell_type": "code",
   "execution_count": 149,
   "id": "ab4e6451",
   "metadata": {},
   "outputs": [
    {
     "data": {
      "text/plain": [
       "59.55824508320726"
      ]
     },
     "execution_count": 149,
     "metadata": {},
     "output_type": "execute_result"
    }
   ],
   "source": [
    "df[\"PurchaseAmount(USD)\"].mean()"
   ]
  },
  {
   "cell_type": "code",
   "execution_count": 151,
   "id": "4faa1e33",
   "metadata": {},
   "outputs": [
    {
     "data": {
      "text/plain": [
       "60.0"
      ]
     },
     "execution_count": 151,
     "metadata": {},
     "output_type": "execute_result"
    }
   ],
   "source": [
    "df[\"PurchaseAmount(USD)\"].median()"
   ]
  },
  {
   "cell_type": "code",
   "execution_count": 132,
   "id": "d9ad3e93",
   "metadata": {},
   "outputs": [
    {
     "data": {
      "text/plain": [
       "0       0.4125\n",
       "2       0.6625\n",
       "3       0.8750\n",
       "5       0.0000\n",
       "6       0.8125\n",
       "         ...  \n",
       "2663    0.4750\n",
       "2664    0.8000\n",
       "2665    0.0125\n",
       "2666    0.1875\n",
       "2667    0.2875\n",
       "Name: PurchaseAmount(USD), Length: 2644, dtype: float64"
      ]
     },
     "execution_count": 132,
     "metadata": {},
     "output_type": "execute_result"
    }
   ],
   "source": [
    "def normalization(x):\n",
    "    n = (x-df[\"PurchaseAmount(USD)\"].min())/(df[\"PurchaseAmount(USD)\"].max()-df[\"PurchaseAmount(USD)\"].min())\n",
    "    return n\n",
    "df[\"PurchaseAmount(USD)\"].apply(normalization)"
   ]
  },
  {
   "cell_type": "code",
   "execution_count": 152,
   "id": "c097d416",
   "metadata": {},
   "outputs": [
    {
     "data": {
      "text/plain": [
       "3.756"
      ]
     },
     "execution_count": 152,
     "metadata": {},
     "output_type": "execute_result"
    }
   ],
   "source": [
    "df[\"ReviewRating\"].mean()"
   ]
  },
  {
   "cell_type": "code",
   "execution_count": 153,
   "id": "e736a988",
   "metadata": {},
   "outputs": [
    {
     "data": {
      "text/plain": [
       "3.8"
      ]
     },
     "execution_count": 153,
     "metadata": {},
     "output_type": "execute_result"
    }
   ],
   "source": [
    "df[\"ReviewRating\"].median()"
   ]
  },
  {
   "cell_type": "code",
   "execution_count": 134,
   "id": "c5e5dbf2",
   "metadata": {},
   "outputs": [
    {
     "data": {
      "text/plain": [
       "0       0.239844\n",
       "2       0.239844\n",
       "3       0.400000\n",
       "5       0.160156\n",
       "6       0.279687\n",
       "          ...   \n",
       "2663    0.320312\n",
       "2664    0.560156\n",
       "2665    0.560156\n",
       "2666    0.679688\n",
       "2667    0.840625\n",
       "Name: ReviewRating, Length: 2644, dtype: float64"
      ]
     },
     "execution_count": 134,
     "metadata": {},
     "output_type": "execute_result"
    }
   ],
   "source": [
    "def normalization(x):\n",
    "    n = (x-df[\"ReviewRating\"].min())/(df[\"ReviewRating\"].max()-df[\"ReviewRating\"].min())\n",
    "    return n\n",
    "df[\"ReviewRating\"].apply(normalization)"
   ]
  },
  {
   "cell_type": "code",
   "execution_count": 154,
   "id": "706aa566",
   "metadata": {},
   "outputs": [
    {
     "data": {
      "text/plain": [
       "25.74735249621785"
      ]
     },
     "execution_count": 154,
     "metadata": {},
     "output_type": "execute_result"
    }
   ],
   "source": [
    "df[\"PreviousPurchases\"].mean()"
   ]
  },
  {
   "cell_type": "code",
   "execution_count": 155,
   "id": "7b6d6948",
   "metadata": {},
   "outputs": [
    {
     "data": {
      "text/plain": [
       "26.0"
      ]
     },
     "execution_count": 155,
     "metadata": {},
     "output_type": "execute_result"
    }
   ],
   "source": [
    "df[\"PreviousPurchases\"].median()"
   ]
  },
  {
   "cell_type": "code",
   "execution_count": 135,
   "id": "569fc46d",
   "metadata": {},
   "outputs": [
    {
     "data": {
      "text/plain": [
       "0       0.265306\n",
       "2       0.448980\n",
       "3       0.979592\n",
       "5       0.265306\n",
       "6       0.979592\n",
       "          ...   \n",
       "2663    0.489796\n",
       "2664    0.265306\n",
       "2665    0.265306\n",
       "2666    0.918367\n",
       "2667    0.530612\n",
       "Name: PreviousPurchases, Length: 2644, dtype: float64"
      ]
     },
     "execution_count": 135,
     "metadata": {},
     "output_type": "execute_result"
    }
   ],
   "source": [
    "def normalization(x):\n",
    "    n = (x-df[\"PreviousPurchases\"].min())/(df[\"PreviousPurchases\"].max()-df[\"PreviousPurchases\"].min())\n",
    "    return n\n",
    "df[\"PreviousPurchases\"].apply(normalization)"
   ]
  },
  {
   "cell_type": "code",
   "execution_count": 168,
   "id": "047dfc57",
   "metadata": {},
   "outputs": [
    {
     "data": {
      "text/html": [
       "<div>\n",
       "<style scoped>\n",
       "    .dataframe tbody tr th:only-of-type {\n",
       "        vertical-align: middle;\n",
       "    }\n",
       "\n",
       "    .dataframe tbody tr th {\n",
       "        vertical-align: top;\n",
       "    }\n",
       "\n",
       "    .dataframe thead th {\n",
       "        text-align: right;\n",
       "    }\n",
       "</style>\n",
       "<table border=\"1\" class=\"dataframe\">\n",
       "  <thead>\n",
       "    <tr style=\"text-align: right;\">\n",
       "      <th></th>\n",
       "      <th>Age</th>\n",
       "      <th>PurchaseAmount(USD)</th>\n",
       "      <th>ReviewRating</th>\n",
       "      <th>PreviousPurchases</th>\n",
       "    </tr>\n",
       "  </thead>\n",
       "  <tbody>\n",
       "    <tr>\n",
       "      <th>count</th>\n",
       "      <td>2644.000000</td>\n",
       "      <td>2644.000000</td>\n",
       "      <td>2644.000000</td>\n",
       "      <td>2644.000000</td>\n",
       "    </tr>\n",
       "    <tr>\n",
       "      <th>mean</th>\n",
       "      <td>44.102874</td>\n",
       "      <td>59.558245</td>\n",
       "      <td>3.755859</td>\n",
       "      <td>25.747352</td>\n",
       "    </tr>\n",
       "    <tr>\n",
       "      <th>std</th>\n",
       "      <td>15.319970</td>\n",
       "      <td>23.831195</td>\n",
       "      <td>0.713867</td>\n",
       "      <td>14.357408</td>\n",
       "    </tr>\n",
       "    <tr>\n",
       "      <th>min</th>\n",
       "      <td>18.000000</td>\n",
       "      <td>20.000000</td>\n",
       "      <td>2.500000</td>\n",
       "      <td>1.000000</td>\n",
       "    </tr>\n",
       "    <tr>\n",
       "      <th>25%</th>\n",
       "      <td>31.000000</td>\n",
       "      <td>38.000000</td>\n",
       "      <td>3.099609</td>\n",
       "      <td>14.000000</td>\n",
       "    </tr>\n",
       "    <tr>\n",
       "      <th>50%</th>\n",
       "      <td>44.000000</td>\n",
       "      <td>60.000000</td>\n",
       "      <td>3.800781</td>\n",
       "      <td>26.000000</td>\n",
       "    </tr>\n",
       "    <tr>\n",
       "      <th>75%</th>\n",
       "      <td>57.000000</td>\n",
       "      <td>80.000000</td>\n",
       "      <td>4.398438</td>\n",
       "      <td>38.000000</td>\n",
       "    </tr>\n",
       "    <tr>\n",
       "      <th>max</th>\n",
       "      <td>70.000000</td>\n",
       "      <td>100.000000</td>\n",
       "      <td>5.000000</td>\n",
       "      <td>50.000000</td>\n",
       "    </tr>\n",
       "  </tbody>\n",
       "</table>\n",
       "</div>"
      ],
      "text/plain": [
       "               Age  PurchaseAmount(USD)  ReviewRating  PreviousPurchases\n",
       "count  2644.000000          2644.000000   2644.000000        2644.000000\n",
       "mean     44.102874            59.558245      3.755859          25.747352\n",
       "std      15.319970            23.831195      0.713867          14.357408\n",
       "min      18.000000            20.000000      2.500000           1.000000\n",
       "25%      31.000000            38.000000      3.099609          14.000000\n",
       "50%      44.000000            60.000000      3.800781          26.000000\n",
       "75%      57.000000            80.000000      4.398438          38.000000\n",
       "max      70.000000           100.000000      5.000000          50.000000"
      ]
     },
     "execution_count": 168,
     "metadata": {},
     "output_type": "execute_result"
    }
   ],
   "source": [
    "df.describe()"
   ]
  },
  {
   "cell_type": "code",
   "execution_count": null,
   "id": "410931d3",
   "metadata": {},
   "outputs": [],
   "source": []
  },
  {
   "cell_type": "code",
   "execution_count": null,
   "id": "f84cefa7",
   "metadata": {},
   "outputs": [],
   "source": []
  }
 ],
 "metadata": {
  "kernelspec": {
   "display_name": "Python 3 (ipykernel)",
   "language": "python",
   "name": "python3"
  },
  "language_info": {
   "codemirror_mode": {
    "name": "ipython",
    "version": 3
   },
   "file_extension": ".py",
   "mimetype": "text/x-python",
   "name": "python",
   "nbconvert_exporter": "python",
   "pygments_lexer": "ipython3",
   "version": "3.11.4"
  }
 },
 "nbformat": 4,
 "nbformat_minor": 5
}
