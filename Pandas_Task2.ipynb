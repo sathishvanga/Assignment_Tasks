{
 "cells": [
  {
   "cell_type": "markdown",
   "id": "b8ece690",
   "metadata": {},
   "source": [
    "\n",
    "1. What are the column names in the Iris dataset?\n",
    "2. How many rows and columns are there in the dataset?\n",
    "3. Can you provide a summary of the dataset, including mean, median, and other statistics for each feature?\n",
    "4. What is the average sepal length?\n",
    "5. what is the largest petal length, and what is its value? \n",
    "6. What is the mean and standard deviation of petal width for the Setosa species?\n",
    "7. Check for missing values in the dataset \n",
    "8. Extract the `Species` column using loc and iloc method\n",
    "9. Drop `sepal Width` column\n",
    "10. Get `petalwidth` 10th value using at and iat"
   ]
  },
  {
   "cell_type": "code",
   "execution_count": 1,
   "id": "dd5a5c80",
   "metadata": {},
   "outputs": [],
   "source": [
    "import pandas as pd"
   ]
  },
  {
   "cell_type": "markdown",
   "id": "75d66aa6",
   "metadata": {},
   "source": [
    "1. What are the column names in the Iris dataset?"
   ]
  },
  {
   "cell_type": "code",
   "execution_count": 2,
   "id": "70a979e4",
   "metadata": {},
   "outputs": [],
   "source": [
    "df = pd.read_excel(r\"C:\\Users\\sathi\\Downloads\\Iris_clean.xlsx\")"
   ]
  },
  {
   "cell_type": "code",
   "execution_count": 4,
   "id": "a081d390",
   "metadata": {},
   "outputs": [
    {
     "data": {
      "text/plain": [
       "Index(['Id', 'SepalLengthCm', 'SepalWidthCm', 'PetalLengthCm', 'PetalWidthCm',\n",
       "       'Species'],\n",
       "      dtype='object')"
      ]
     },
     "execution_count": 4,
     "metadata": {},
     "output_type": "execute_result"
    }
   ],
   "source": [
    "df.columns"
   ]
  },
  {
   "cell_type": "markdown",
   "id": "3a18cb97",
   "metadata": {},
   "source": [
    "2. How many rows and columns are there in the dataset?"
   ]
  },
  {
   "cell_type": "code",
   "execution_count": 5,
   "id": "d2eb44e5",
   "metadata": {},
   "outputs": [
    {
     "data": {
      "text/plain": [
       "(165, 6)"
      ]
     },
     "execution_count": 5,
     "metadata": {},
     "output_type": "execute_result"
    }
   ],
   "source": [
    "df.shape"
   ]
  },
  {
   "cell_type": "markdown",
   "id": "ddd1f63a",
   "metadata": {},
   "source": [
    "3. Can you provide a summary of the dataset, including mean, median, and other statistics for each feature?"
   ]
  },
  {
   "cell_type": "code",
   "execution_count": 23,
   "id": "a7e24368",
   "metadata": {},
   "outputs": [],
   "source": [
    "SepalLengthCm = df.iloc[:,1]"
   ]
  },
  {
   "cell_type": "code",
   "execution_count": 24,
   "id": "ffd05e4c",
   "metadata": {},
   "outputs": [
    {
     "data": {
      "text/plain": [
       "0       5.1\n",
       "1       4.9\n",
       "2       4.7\n",
       "3       4.6\n",
       "4      50.0\n",
       "       ... \n",
       "160     7.7\n",
       "161     6.3\n",
       "162     7.2\n",
       "163     6.5\n",
       "164     6.4\n",
       "Name: SepalLengthCm, Length: 165, dtype: float64"
      ]
     },
     "execution_count": 24,
     "metadata": {},
     "output_type": "execute_result"
    }
   ],
   "source": [
    "SepalLengthCm"
   ]
  },
  {
   "cell_type": "code",
   "execution_count": 8,
   "id": "3ad50e77",
   "metadata": {},
   "outputs": [
    {
     "name": "stdout",
     "output_type": "stream",
     "text": [
      "<class 'pandas.core.series.Series'>\n",
      "RangeIndex: 165 entries, 0 to 164\n",
      "Series name: SepalLengthCm\n",
      "Non-Null Count  Dtype  \n",
      "--------------  -----  \n",
      "161 non-null    float64\n",
      "dtypes: float64(1)\n",
      "memory usage: 1.4 KB\n"
     ]
    }
   ],
   "source": [
    "SepalLengthCm.info()"
   ]
  },
  {
   "cell_type": "code",
   "execution_count": 9,
   "id": "5d3ddd61",
   "metadata": {},
   "outputs": [
    {
     "data": {
      "text/plain": [
       "count    161.000000\n",
       "mean       7.510559\n",
       "std       11.162995\n",
       "min        4.300000\n",
       "25%        5.100000\n",
       "50%        5.800000\n",
       "75%        6.500000\n",
       "max      116.300000\n",
       "Name: SepalLengthCm, dtype: float64"
      ]
     },
     "execution_count": 9,
     "metadata": {},
     "output_type": "execute_result"
    }
   ],
   "source": [
    "SepalLengthCm.describe()"
   ]
  },
  {
   "cell_type": "code",
   "execution_count": 10,
   "id": "8f030a12",
   "metadata": {},
   "outputs": [
    {
     "data": {
      "text/plain": [
       "5.8"
      ]
     },
     "execution_count": 10,
     "metadata": {},
     "output_type": "execute_result"
    }
   ],
   "source": [
    "SepalLengthCm.median()"
   ]
  },
  {
   "cell_type": "code",
   "execution_count": 11,
   "id": "25dcaa0f",
   "metadata": {},
   "outputs": [
    {
     "data": {
      "text/plain": [
       "124.61245031055901"
      ]
     },
     "execution_count": 11,
     "metadata": {},
     "output_type": "execute_result"
    }
   ],
   "source": [
    "SepalLengthCm.var()"
   ]
  },
  {
   "cell_type": "code",
   "execution_count": 12,
   "id": "e1ce502c",
   "metadata": {},
   "outputs": [
    {
     "data": {
      "text/plain": [
       "11.162994683800536"
      ]
     },
     "execution_count": 12,
     "metadata": {},
     "output_type": "execute_result"
    }
   ],
   "source": [
    "SepalLengthCm.std()"
   ]
  },
  {
   "cell_type": "code",
   "execution_count": 3,
   "id": "2db7f6bf",
   "metadata": {},
   "outputs": [],
   "source": [
    "SepalWidthCm = df.iloc[:,2]"
   ]
  },
  {
   "cell_type": "code",
   "execution_count": 4,
   "id": "ea2b6710",
   "metadata": {},
   "outputs": [
    {
     "data": {
      "text/plain": [
       "count    159.000000\n",
       "mean       4.713208\n",
       "std       13.468999\n",
       "min        2.000000\n",
       "25%        2.800000\n",
       "50%        3.000000\n",
       "75%        3.300000\n",
       "max      130.000000\n",
       "Name: SepalWidthCm, dtype: float64"
      ]
     },
     "execution_count": 4,
     "metadata": {},
     "output_type": "execute_result"
    }
   ],
   "source": [
    "SepalWidthCm.describe()"
   ]
  },
  {
   "cell_type": "code",
   "execution_count": 5,
   "id": "73137a83",
   "metadata": {},
   "outputs": [
    {
     "name": "stdout",
     "output_type": "stream",
     "text": [
      "<class 'pandas.core.series.Series'>\n",
      "RangeIndex: 165 entries, 0 to 164\n",
      "Series name: SepalWidthCm\n",
      "Non-Null Count  Dtype  \n",
      "--------------  -----  \n",
      "159 non-null    float64\n",
      "dtypes: float64(1)\n",
      "memory usage: 1.4 KB\n"
     ]
    }
   ],
   "source": [
    "SepalWidthCm.info()"
   ]
  },
  {
   "cell_type": "code",
   "execution_count": 6,
   "id": "efa4a1d2",
   "metadata": {},
   "outputs": [
    {
     "data": {
      "text/plain": [
       "3.0"
      ]
     },
     "execution_count": 6,
     "metadata": {},
     "output_type": "execute_result"
    }
   ],
   "source": [
    "SepalWidthCm.median()"
   ]
  },
  {
   "cell_type": "code",
   "execution_count": 7,
   "id": "4aa7e986",
   "metadata": {},
   "outputs": [
    {
     "data": {
      "text/plain": [
       "181.41393838070218"
      ]
     },
     "execution_count": 7,
     "metadata": {},
     "output_type": "execute_result"
    }
   ],
   "source": [
    "SepalWidthCm.var()"
   ]
  },
  {
   "cell_type": "code",
   "execution_count": 8,
   "id": "0cbf4e49",
   "metadata": {},
   "outputs": [
    {
     "data": {
      "text/plain": [
       "13.468999160320049"
      ]
     },
     "execution_count": 8,
     "metadata": {},
     "output_type": "execute_result"
    }
   ],
   "source": [
    "SepalWidthCm.std()"
   ]
  },
  {
   "cell_type": "code",
   "execution_count": 9,
   "id": "2f4c6859",
   "metadata": {},
   "outputs": [],
   "source": [
    "PetalLengthCm = df.iloc[:,3]"
   ]
  },
  {
   "cell_type": "code",
   "execution_count": 10,
   "id": "8a31585c",
   "metadata": {},
   "outputs": [
    {
     "data": {
      "text/plain": [
       "count    159.000000\n",
       "mean       4.022642\n",
       "std        2.052505\n",
       "min        1.000000\n",
       "25%        1.600000\n",
       "50%        4.500000\n",
       "75%        5.150000\n",
       "max       13.800000\n",
       "Name: PetalLengthCm, dtype: float64"
      ]
     },
     "execution_count": 10,
     "metadata": {},
     "output_type": "execute_result"
    }
   ],
   "source": [
    "PetalLengthCm.describe()"
   ]
  },
  {
   "cell_type": "code",
   "execution_count": 11,
   "id": "97e15199",
   "metadata": {},
   "outputs": [
    {
     "name": "stdout",
     "output_type": "stream",
     "text": [
      "<class 'pandas.core.series.Series'>\n",
      "RangeIndex: 165 entries, 0 to 164\n",
      "Series name: PetalLengthCm\n",
      "Non-Null Count  Dtype  \n",
      "--------------  -----  \n",
      "159 non-null    float64\n",
      "dtypes: float64(1)\n",
      "memory usage: 1.4 KB\n"
     ]
    }
   ],
   "source": [
    "PetalLengthCm.info()"
   ]
  },
  {
   "cell_type": "code",
   "execution_count": 12,
   "id": "db9512eb",
   "metadata": {},
   "outputs": [
    {
     "data": {
      "text/plain": [
       "4.5"
      ]
     },
     "execution_count": 12,
     "metadata": {},
     "output_type": "execute_result"
    }
   ],
   "source": [
    "PetalLengthCm.median()"
   ]
  },
  {
   "cell_type": "code",
   "execution_count": 13,
   "id": "05ff0d0c",
   "metadata": {},
   "outputs": [
    {
     "data": {
      "text/plain": [
       "4.212775256747074"
      ]
     },
     "execution_count": 13,
     "metadata": {},
     "output_type": "execute_result"
    }
   ],
   "source": [
    "PetalLengthCm.var()"
   ]
  },
  {
   "cell_type": "code",
   "execution_count": 14,
   "id": "a5aa7d97",
   "metadata": {},
   "outputs": [
    {
     "data": {
      "text/plain": [
       "2.052504630140228"
      ]
     },
     "execution_count": 14,
     "metadata": {},
     "output_type": "execute_result"
    }
   ],
   "source": [
    "PetalLengthCm.std()"
   ]
  },
  {
   "cell_type": "code",
   "execution_count": 17,
   "id": "3d9518a6",
   "metadata": {},
   "outputs": [],
   "source": [
    "PetalWidthCm = df.iloc[:,3]"
   ]
  },
  {
   "cell_type": "code",
   "execution_count": 18,
   "id": "58c257da",
   "metadata": {},
   "outputs": [
    {
     "data": {
      "text/plain": [
       "count    159.000000\n",
       "mean       4.022642\n",
       "std        2.052505\n",
       "min        1.000000\n",
       "25%        1.600000\n",
       "50%        4.500000\n",
       "75%        5.150000\n",
       "max       13.800000\n",
       "Name: PetalLengthCm, dtype: float64"
      ]
     },
     "execution_count": 18,
     "metadata": {},
     "output_type": "execute_result"
    }
   ],
   "source": [
    "PetalWidthCm.describe()"
   ]
  },
  {
   "cell_type": "code",
   "execution_count": 19,
   "id": "ccdea32c",
   "metadata": {},
   "outputs": [
    {
     "name": "stdout",
     "output_type": "stream",
     "text": [
      "<class 'pandas.core.series.Series'>\n",
      "RangeIndex: 165 entries, 0 to 164\n",
      "Series name: PetalLengthCm\n",
      "Non-Null Count  Dtype  \n",
      "--------------  -----  \n",
      "159 non-null    float64\n",
      "dtypes: float64(1)\n",
      "memory usage: 1.4 KB\n"
     ]
    }
   ],
   "source": [
    "PetalWidthCm.info()"
   ]
  },
  {
   "cell_type": "code",
   "execution_count": 20,
   "id": "9af4171b",
   "metadata": {},
   "outputs": [
    {
     "data": {
      "text/plain": [
       "4.5"
      ]
     },
     "execution_count": 20,
     "metadata": {},
     "output_type": "execute_result"
    }
   ],
   "source": [
    "PetalWidthCm.median()"
   ]
  },
  {
   "cell_type": "code",
   "execution_count": 21,
   "id": "674ca37a",
   "metadata": {},
   "outputs": [
    {
     "data": {
      "text/plain": [
       "2.052504630140228"
      ]
     },
     "execution_count": 21,
     "metadata": {},
     "output_type": "execute_result"
    }
   ],
   "source": [
    "PetalWidthCm.std()"
   ]
  },
  {
   "cell_type": "code",
   "execution_count": 22,
   "id": "d6403a26",
   "metadata": {},
   "outputs": [
    {
     "data": {
      "text/plain": [
       "4.212775256747074"
      ]
     },
     "execution_count": 22,
     "metadata": {},
     "output_type": "execute_result"
    }
   ],
   "source": [
    "PetalWidthCm.var()"
   ]
  },
  {
   "cell_type": "markdown",
   "id": "7b07659a",
   "metadata": {},
   "source": [
    "4. What is the average sepal length?"
   ]
  },
  {
   "cell_type": "code",
   "execution_count": 25,
   "id": "1b41377f",
   "metadata": {},
   "outputs": [
    {
     "data": {
      "text/plain": [
       "7.510559006211181"
      ]
     },
     "execution_count": 25,
     "metadata": {},
     "output_type": "execute_result"
    }
   ],
   "source": [
    "SepalLengthCm.mean()"
   ]
  },
  {
   "cell_type": "markdown",
   "id": "067b3c29",
   "metadata": {},
   "source": [
    "5. what is the largest petal length, and what is its value? "
   ]
  },
  {
   "cell_type": "code",
   "execution_count": 26,
   "id": "e9d04cda",
   "metadata": {},
   "outputs": [
    {
     "data": {
      "text/plain": [
       "13.8"
      ]
     },
     "execution_count": 26,
     "metadata": {},
     "output_type": "execute_result"
    }
   ],
   "source": [
    "PetalLengthCm.max()"
   ]
  },
  {
   "cell_type": "markdown",
   "id": "50f8a208",
   "metadata": {},
   "source": [
    "6. What is the mean and standard deviation of petal width for the Setosa species?"
   ]
  },
  {
   "cell_type": "code",
   "execution_count": 36,
   "id": "41dd532c",
   "metadata": {},
   "outputs": [],
   "source": [
    "a = df.head(50)"
   ]
  },
  {
   "cell_type": "code",
   "execution_count": 37,
   "id": "aaad9893",
   "metadata": {},
   "outputs": [],
   "source": [
    "b = a.iloc[:,4]"
   ]
  },
  {
   "cell_type": "code",
   "execution_count": 40,
   "id": "821313f2",
   "metadata": {},
   "outputs": [
    {
     "data": {
      "text/plain": [
       "2.844"
      ]
     },
     "execution_count": 40,
     "metadata": {},
     "output_type": "execute_result"
    }
   ],
   "source": [
    "b.mean() #mean of petal width for the Setosa species"
   ]
  },
  {
   "cell_type": "code",
   "execution_count": 42,
   "id": "222466f5",
   "metadata": {},
   "outputs": [
    {
     "data": {
      "text/plain": [
       "15.616006440279703"
      ]
     },
     "execution_count": 42,
     "metadata": {},
     "output_type": "execute_result"
    }
   ],
   "source": [
    "b.std() #standard deviation of petal width for the Setosa species"
   ]
  },
  {
   "cell_type": "markdown",
   "id": "1d9ddd72",
   "metadata": {},
   "source": [
    "7. Check for missing values in the dataset "
   ]
  },
  {
   "cell_type": "code",
   "execution_count": 56,
   "id": "40aaf6ae",
   "metadata": {},
   "outputs": [
    {
     "data": {
      "text/html": [
       "<div>\n",
       "<style scoped>\n",
       "    .dataframe tbody tr th:only-of-type {\n",
       "        vertical-align: middle;\n",
       "    }\n",
       "\n",
       "    .dataframe tbody tr th {\n",
       "        vertical-align: top;\n",
       "    }\n",
       "\n",
       "    .dataframe thead th {\n",
       "        text-align: right;\n",
       "    }\n",
       "</style>\n",
       "<table border=\"1\" class=\"dataframe\">\n",
       "  <thead>\n",
       "    <tr style=\"text-align: right;\">\n",
       "      <th></th>\n",
       "      <th>Id</th>\n",
       "      <th>SepalLengthCm</th>\n",
       "      <th>SepalWidthCm</th>\n",
       "      <th>PetalLengthCm</th>\n",
       "      <th>PetalWidthCm</th>\n",
       "      <th>Species</th>\n",
       "    </tr>\n",
       "  </thead>\n",
       "  <tbody>\n",
       "    <tr>\n",
       "      <th>0</th>\n",
       "      <td>False</td>\n",
       "      <td>False</td>\n",
       "      <td>False</td>\n",
       "      <td>False</td>\n",
       "      <td>False</td>\n",
       "      <td>False</td>\n",
       "    </tr>\n",
       "    <tr>\n",
       "      <th>1</th>\n",
       "      <td>False</td>\n",
       "      <td>False</td>\n",
       "      <td>False</td>\n",
       "      <td>False</td>\n",
       "      <td>False</td>\n",
       "      <td>False</td>\n",
       "    </tr>\n",
       "    <tr>\n",
       "      <th>2</th>\n",
       "      <td>False</td>\n",
       "      <td>False</td>\n",
       "      <td>False</td>\n",
       "      <td>False</td>\n",
       "      <td>False</td>\n",
       "      <td>False</td>\n",
       "    </tr>\n",
       "    <tr>\n",
       "      <th>3</th>\n",
       "      <td>False</td>\n",
       "      <td>False</td>\n",
       "      <td>False</td>\n",
       "      <td>False</td>\n",
       "      <td>False</td>\n",
       "      <td>False</td>\n",
       "    </tr>\n",
       "    <tr>\n",
       "      <th>4</th>\n",
       "      <td>False</td>\n",
       "      <td>False</td>\n",
       "      <td>False</td>\n",
       "      <td>False</td>\n",
       "      <td>False</td>\n",
       "      <td>False</td>\n",
       "    </tr>\n",
       "    <tr>\n",
       "      <th>...</th>\n",
       "      <td>...</td>\n",
       "      <td>...</td>\n",
       "      <td>...</td>\n",
       "      <td>...</td>\n",
       "      <td>...</td>\n",
       "      <td>...</td>\n",
       "    </tr>\n",
       "    <tr>\n",
       "      <th>160</th>\n",
       "      <td>False</td>\n",
       "      <td>False</td>\n",
       "      <td>False</td>\n",
       "      <td>False</td>\n",
       "      <td>False</td>\n",
       "      <td>True</td>\n",
       "    </tr>\n",
       "    <tr>\n",
       "      <th>161</th>\n",
       "      <td>False</td>\n",
       "      <td>False</td>\n",
       "      <td>False</td>\n",
       "      <td>False</td>\n",
       "      <td>False</td>\n",
       "      <td>False</td>\n",
       "    </tr>\n",
       "    <tr>\n",
       "      <th>162</th>\n",
       "      <td>False</td>\n",
       "      <td>False</td>\n",
       "      <td>False</td>\n",
       "      <td>False</td>\n",
       "      <td>False</td>\n",
       "      <td>False</td>\n",
       "    </tr>\n",
       "    <tr>\n",
       "      <th>163</th>\n",
       "      <td>False</td>\n",
       "      <td>False</td>\n",
       "      <td>False</td>\n",
       "      <td>False</td>\n",
       "      <td>False</td>\n",
       "      <td>False</td>\n",
       "    </tr>\n",
       "    <tr>\n",
       "      <th>164</th>\n",
       "      <td>False</td>\n",
       "      <td>False</td>\n",
       "      <td>False</td>\n",
       "      <td>False</td>\n",
       "      <td>False</td>\n",
       "      <td>False</td>\n",
       "    </tr>\n",
       "  </tbody>\n",
       "</table>\n",
       "<p>165 rows × 6 columns</p>\n",
       "</div>"
      ],
      "text/plain": [
       "        Id  SepalLengthCm  SepalWidthCm  PetalLengthCm  PetalWidthCm  Species\n",
       "0    False          False         False          False         False    False\n",
       "1    False          False         False          False         False    False\n",
       "2    False          False         False          False         False    False\n",
       "3    False          False         False          False         False    False\n",
       "4    False          False         False          False         False    False\n",
       "..     ...            ...           ...            ...           ...      ...\n",
       "160  False          False         False          False         False     True\n",
       "161  False          False         False          False         False    False\n",
       "162  False          False         False          False         False    False\n",
       "163  False          False         False          False         False    False\n",
       "164  False          False         False          False         False    False\n",
       "\n",
       "[165 rows x 6 columns]"
      ]
     },
     "execution_count": 56,
     "metadata": {},
     "output_type": "execute_result"
    }
   ],
   "source": [
    "df.isna()"
   ]
  },
  {
   "cell_type": "code",
   "execution_count": 57,
   "id": "51fdff86",
   "metadata": {},
   "outputs": [
    {
     "data": {
      "text/html": [
       "<div>\n",
       "<style scoped>\n",
       "    .dataframe tbody tr th:only-of-type {\n",
       "        vertical-align: middle;\n",
       "    }\n",
       "\n",
       "    .dataframe tbody tr th {\n",
       "        vertical-align: top;\n",
       "    }\n",
       "\n",
       "    .dataframe thead th {\n",
       "        text-align: right;\n",
       "    }\n",
       "</style>\n",
       "<table border=\"1\" class=\"dataframe\">\n",
       "  <thead>\n",
       "    <tr style=\"text-align: right;\">\n",
       "      <th></th>\n",
       "      <th>Id</th>\n",
       "      <th>SepalLengthCm</th>\n",
       "      <th>SepalWidthCm</th>\n",
       "      <th>PetalLengthCm</th>\n",
       "      <th>PetalWidthCm</th>\n",
       "      <th>Species</th>\n",
       "    </tr>\n",
       "  </thead>\n",
       "  <tbody>\n",
       "    <tr>\n",
       "      <th>0</th>\n",
       "      <td>False</td>\n",
       "      <td>False</td>\n",
       "      <td>False</td>\n",
       "      <td>False</td>\n",
       "      <td>False</td>\n",
       "      <td>False</td>\n",
       "    </tr>\n",
       "    <tr>\n",
       "      <th>1</th>\n",
       "      <td>False</td>\n",
       "      <td>False</td>\n",
       "      <td>False</td>\n",
       "      <td>False</td>\n",
       "      <td>False</td>\n",
       "      <td>False</td>\n",
       "    </tr>\n",
       "    <tr>\n",
       "      <th>2</th>\n",
       "      <td>False</td>\n",
       "      <td>False</td>\n",
       "      <td>False</td>\n",
       "      <td>False</td>\n",
       "      <td>False</td>\n",
       "      <td>False</td>\n",
       "    </tr>\n",
       "    <tr>\n",
       "      <th>3</th>\n",
       "      <td>False</td>\n",
       "      <td>False</td>\n",
       "      <td>False</td>\n",
       "      <td>False</td>\n",
       "      <td>False</td>\n",
       "      <td>False</td>\n",
       "    </tr>\n",
       "    <tr>\n",
       "      <th>4</th>\n",
       "      <td>False</td>\n",
       "      <td>False</td>\n",
       "      <td>False</td>\n",
       "      <td>False</td>\n",
       "      <td>False</td>\n",
       "      <td>False</td>\n",
       "    </tr>\n",
       "    <tr>\n",
       "      <th>...</th>\n",
       "      <td>...</td>\n",
       "      <td>...</td>\n",
       "      <td>...</td>\n",
       "      <td>...</td>\n",
       "      <td>...</td>\n",
       "      <td>...</td>\n",
       "    </tr>\n",
       "    <tr>\n",
       "      <th>160</th>\n",
       "      <td>False</td>\n",
       "      <td>False</td>\n",
       "      <td>False</td>\n",
       "      <td>False</td>\n",
       "      <td>False</td>\n",
       "      <td>True</td>\n",
       "    </tr>\n",
       "    <tr>\n",
       "      <th>161</th>\n",
       "      <td>False</td>\n",
       "      <td>False</td>\n",
       "      <td>False</td>\n",
       "      <td>False</td>\n",
       "      <td>False</td>\n",
       "      <td>False</td>\n",
       "    </tr>\n",
       "    <tr>\n",
       "      <th>162</th>\n",
       "      <td>False</td>\n",
       "      <td>False</td>\n",
       "      <td>False</td>\n",
       "      <td>False</td>\n",
       "      <td>False</td>\n",
       "      <td>False</td>\n",
       "    </tr>\n",
       "    <tr>\n",
       "      <th>163</th>\n",
       "      <td>False</td>\n",
       "      <td>False</td>\n",
       "      <td>False</td>\n",
       "      <td>False</td>\n",
       "      <td>False</td>\n",
       "      <td>False</td>\n",
       "    </tr>\n",
       "    <tr>\n",
       "      <th>164</th>\n",
       "      <td>False</td>\n",
       "      <td>False</td>\n",
       "      <td>False</td>\n",
       "      <td>False</td>\n",
       "      <td>False</td>\n",
       "      <td>False</td>\n",
       "    </tr>\n",
       "  </tbody>\n",
       "</table>\n",
       "<p>165 rows × 6 columns</p>\n",
       "</div>"
      ],
      "text/plain": [
       "        Id  SepalLengthCm  SepalWidthCm  PetalLengthCm  PetalWidthCm  Species\n",
       "0    False          False         False          False         False    False\n",
       "1    False          False         False          False         False    False\n",
       "2    False          False         False          False         False    False\n",
       "3    False          False         False          False         False    False\n",
       "4    False          False         False          False         False    False\n",
       "..     ...            ...           ...            ...           ...      ...\n",
       "160  False          False         False          False         False     True\n",
       "161  False          False         False          False         False    False\n",
       "162  False          False         False          False         False    False\n",
       "163  False          False         False          False         False    False\n",
       "164  False          False         False          False         False    False\n",
       "\n",
       "[165 rows x 6 columns]"
      ]
     },
     "execution_count": 57,
     "metadata": {},
     "output_type": "execute_result"
    }
   ],
   "source": [
    "df.isnull()"
   ]
  },
  {
   "cell_type": "code",
   "execution_count": 53,
   "id": "ec7caeac",
   "metadata": {},
   "outputs": [
    {
     "data": {
      "text/plain": [
       "Id               0\n",
       "SepalLengthCm    4\n",
       "SepalWidthCm     6\n",
       "PetalLengthCm    6\n",
       "PetalWidthCm     0\n",
       "Species          5\n",
       "dtype: int64"
      ]
     },
     "execution_count": 53,
     "metadata": {},
     "output_type": "execute_result"
    }
   ],
   "source": [
    "df.isnull().sum()"
   ]
  },
  {
   "cell_type": "markdown",
   "id": "3f81b70a",
   "metadata": {},
   "source": [
    "8. Extract the `Species` column using loc and iloc method"
   ]
  },
  {
   "cell_type": "code",
   "execution_count": 58,
   "id": "991284ae",
   "metadata": {},
   "outputs": [
    {
     "data": {
      "text/plain": [
       "0         Iris-setosa\n",
       "1         Iris-setosa\n",
       "2         Iris-setosa\n",
       "3         Iris-setosa\n",
       "4         Iris-setosa\n",
       "            ...      \n",
       "160               NaN\n",
       "161    Iris-virginica\n",
       "162    Iris-virginica\n",
       "163    Iris-virginica\n",
       "164    Iris-virginica\n",
       "Name: Species, Length: 165, dtype: object"
      ]
     },
     "execution_count": 58,
     "metadata": {},
     "output_type": "execute_result"
    }
   ],
   "source": [
    "df.loc[:,\"Species\"]"
   ]
  },
  {
   "cell_type": "code",
   "execution_count": 62,
   "id": "00d23cbf",
   "metadata": {},
   "outputs": [
    {
     "data": {
      "text/plain": [
       "0         Iris-setosa\n",
       "1         Iris-setosa\n",
       "2         Iris-setosa\n",
       "3         Iris-setosa\n",
       "4         Iris-setosa\n",
       "            ...      \n",
       "160               NaN\n",
       "161    Iris-virginica\n",
       "162    Iris-virginica\n",
       "163    Iris-virginica\n",
       "164    Iris-virginica\n",
       "Name: Species, Length: 165, dtype: object"
      ]
     },
     "execution_count": 62,
     "metadata": {},
     "output_type": "execute_result"
    }
   ],
   "source": [
    "df.iloc[:,5]"
   ]
  },
  {
   "cell_type": "markdown",
   "id": "2eeec6a6",
   "metadata": {},
   "source": [
    "9. Drop `sepal Width` column\n"
   ]
  },
  {
   "cell_type": "code",
   "execution_count": 64,
   "id": "d7a8000c",
   "metadata": {},
   "outputs": [],
   "source": [
    "df.drop(\"SepalWidthCm\",axis=1,inplace = True)"
   ]
  },
  {
   "cell_type": "code",
   "execution_count": 65,
   "id": "ec8eb970",
   "metadata": {},
   "outputs": [
    {
     "data": {
      "text/html": [
       "<div>\n",
       "<style scoped>\n",
       "    .dataframe tbody tr th:only-of-type {\n",
       "        vertical-align: middle;\n",
       "    }\n",
       "\n",
       "    .dataframe tbody tr th {\n",
       "        vertical-align: top;\n",
       "    }\n",
       "\n",
       "    .dataframe thead th {\n",
       "        text-align: right;\n",
       "    }\n",
       "</style>\n",
       "<table border=\"1\" class=\"dataframe\">\n",
       "  <thead>\n",
       "    <tr style=\"text-align: right;\">\n",
       "      <th></th>\n",
       "      <th>Id</th>\n",
       "      <th>SepalLengthCm</th>\n",
       "      <th>PetalLengthCm</th>\n",
       "      <th>PetalWidthCm</th>\n",
       "      <th>Species</th>\n",
       "    </tr>\n",
       "  </thead>\n",
       "  <tbody>\n",
       "    <tr>\n",
       "      <th>0</th>\n",
       "      <td>1</td>\n",
       "      <td>5.1</td>\n",
       "      <td>1.4</td>\n",
       "      <td>0.2</td>\n",
       "      <td>Iris-setosa</td>\n",
       "    </tr>\n",
       "    <tr>\n",
       "      <th>1</th>\n",
       "      <td>2</td>\n",
       "      <td>4.9</td>\n",
       "      <td>1.4</td>\n",
       "      <td>0.2</td>\n",
       "      <td>Iris-setosa</td>\n",
       "    </tr>\n",
       "    <tr>\n",
       "      <th>2</th>\n",
       "      <td>3</td>\n",
       "      <td>4.7</td>\n",
       "      <td>1.3</td>\n",
       "      <td>0.2</td>\n",
       "      <td>Iris-setosa</td>\n",
       "    </tr>\n",
       "    <tr>\n",
       "      <th>3</th>\n",
       "      <td>4</td>\n",
       "      <td>4.6</td>\n",
       "      <td>1.5</td>\n",
       "      <td>10.2</td>\n",
       "      <td>Iris-setosa</td>\n",
       "    </tr>\n",
       "    <tr>\n",
       "      <th>4</th>\n",
       "      <td>5</td>\n",
       "      <td>50.0</td>\n",
       "      <td>1.4</td>\n",
       "      <td>0.2</td>\n",
       "      <td>Iris-setosa</td>\n",
       "    </tr>\n",
       "    <tr>\n",
       "      <th>...</th>\n",
       "      <td>...</td>\n",
       "      <td>...</td>\n",
       "      <td>...</td>\n",
       "      <td>...</td>\n",
       "      <td>...</td>\n",
       "    </tr>\n",
       "    <tr>\n",
       "      <th>160</th>\n",
       "      <td>161</td>\n",
       "      <td>7.7</td>\n",
       "      <td>6.7</td>\n",
       "      <td>2.0</td>\n",
       "      <td>NaN</td>\n",
       "    </tr>\n",
       "    <tr>\n",
       "      <th>161</th>\n",
       "      <td>162</td>\n",
       "      <td>6.3</td>\n",
       "      <td>4.9</td>\n",
       "      <td>1.8</td>\n",
       "      <td>Iris-virginica</td>\n",
       "    </tr>\n",
       "    <tr>\n",
       "      <th>162</th>\n",
       "      <td>163</td>\n",
       "      <td>7.2</td>\n",
       "      <td>6.1</td>\n",
       "      <td>2.5</td>\n",
       "      <td>Iris-virginica</td>\n",
       "    </tr>\n",
       "    <tr>\n",
       "      <th>163</th>\n",
       "      <td>164</td>\n",
       "      <td>6.5</td>\n",
       "      <td>5.1</td>\n",
       "      <td>2.0</td>\n",
       "      <td>Iris-virginica</td>\n",
       "    </tr>\n",
       "    <tr>\n",
       "      <th>164</th>\n",
       "      <td>165</td>\n",
       "      <td>6.4</td>\n",
       "      <td>5.3</td>\n",
       "      <td>1.9</td>\n",
       "      <td>Iris-virginica</td>\n",
       "    </tr>\n",
       "  </tbody>\n",
       "</table>\n",
       "<p>165 rows × 5 columns</p>\n",
       "</div>"
      ],
      "text/plain": [
       "      Id  SepalLengthCm  PetalLengthCm  PetalWidthCm         Species\n",
       "0      1            5.1            1.4           0.2     Iris-setosa\n",
       "1      2            4.9            1.4           0.2     Iris-setosa\n",
       "2      3            4.7            1.3           0.2     Iris-setosa\n",
       "3      4            4.6            1.5          10.2     Iris-setosa\n",
       "4      5           50.0            1.4           0.2     Iris-setosa\n",
       "..   ...            ...            ...           ...             ...\n",
       "160  161            7.7            6.7           2.0             NaN\n",
       "161  162            6.3            4.9           1.8  Iris-virginica\n",
       "162  163            7.2            6.1           2.5  Iris-virginica\n",
       "163  164            6.5            5.1           2.0  Iris-virginica\n",
       "164  165            6.4            5.3           1.9  Iris-virginica\n",
       "\n",
       "[165 rows x 5 columns]"
      ]
     },
     "execution_count": 65,
     "metadata": {},
     "output_type": "execute_result"
    }
   ],
   "source": [
    "df"
   ]
  },
  {
   "cell_type": "markdown",
   "id": "8422c0e3",
   "metadata": {},
   "source": [
    "10. Get `petalwidth` 10th value using at and iat"
   ]
  },
  {
   "cell_type": "code",
   "execution_count": 69,
   "id": "a90c7bde",
   "metadata": {},
   "outputs": [
    {
     "data": {
      "text/plain": [
       "0.2"
      ]
     },
     "execution_count": 69,
     "metadata": {},
     "output_type": "execute_result"
    }
   ],
   "source": [
    "df.at[10,\"PetalWidthCm\"]"
   ]
  },
  {
   "cell_type": "code",
   "execution_count": 70,
   "id": "65397e0c",
   "metadata": {},
   "outputs": [
    {
     "data": {
      "text/plain": [
       "0.2"
      ]
     },
     "execution_count": 70,
     "metadata": {},
     "output_type": "execute_result"
    }
   ],
   "source": [
    "df.iat[10,3]"
   ]
  },
  {
   "cell_type": "code",
   "execution_count": null,
   "id": "616caaa0",
   "metadata": {},
   "outputs": [],
   "source": []
  }
 ],
 "metadata": {
  "kernelspec": {
   "display_name": "Python 3 (ipykernel)",
   "language": "python",
   "name": "python3"
  },
  "language_info": {
   "codemirror_mode": {
    "name": "ipython",
    "version": 3
   },
   "file_extension": ".py",
   "mimetype": "text/x-python",
   "name": "python",
   "nbconvert_exporter": "python",
   "pygments_lexer": "ipython3",
   "version": "3.11.4"
  }
 },
 "nbformat": 4,
 "nbformat_minor": 5
}
