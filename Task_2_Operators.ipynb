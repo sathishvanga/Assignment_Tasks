{
 "cells": [
  {
   "cell_type": "markdown",
   "id": "b8536ea7",
   "metadata": {},
   "source": [
    "* Write a program that calculates the `sum, difference, product, and quotient` of two numbers: 10 and 5.\n",
    "\n",
    "* Create a program that calculates the `area of a circle` with a radius of 4.5 units."
   ]
  },
  {
   "cell_type": "markdown",
   "id": "3f81b9d8",
   "metadata": {},
   "source": [
    "*  Write a program that `swaps` the values of two variables: x with a value of 5 and \"y\" with a value of 10.\n",
    "* Create a program that calculates `compound interest` for a principal amount of $1000, an interest rate of 5%, and a time period of 3 years."
   ]
  },
  {
   "cell_type": "markdown",
   "id": "768483d0",
   "metadata": {},
   "source": [
    "* Write a program that `compares` two numbers: 7 and 12, and determines whether the first number is greater than, less than, or equal to the second number.\n",
    "* Create a program that `checks` if a person of age 18 is eligible to vote based on the voting age requirement.(True/False)"
   ]
  },
  {
   "cell_type": "markdown",
   "id": "7881a204",
   "metadata": {},
   "source": [
    "* Create a program that `swaps` the values of two integers: `a` with a value of 10 and `b` with a value of 20 using\n",
    " *  bitwise XOR (^) operator.\n",
    " * Logical AND\n",
    " * Logical OR\n",
    " * Logical NOT"
   ]
  },
  {
   "cell_type": "markdown",
   "id": "1844e65c",
   "metadata": {},
   "source": [
    "*  Create a Python program that calculates the `area of a rectangle`. Prompt the `user to enter` the length and width of the rectangle, `store them` in variables, and compute the area using the formula:area length width.Finally, `print the calculated area.\n",
    "\n",
    "* Create a Python program that calculates the `average` of three exam scores. Prompt the user to enter the scores, `store them` in variables, calculate the average, and print the result.\n",
    "\n",
    "* Write a Python program that `converts` temperature from Celsius to Fahrenheit. Prompt the user to enter a temperature in Celsius, store it in a variable, and convert it to Fahrenheit using the formula: `Fahrenheit = (Celsius* 9/5)+32`, and print the converted temperature.\n",
    "\n",
    "* What are the `logical operators` in Python? Explain `each one` with an example.\n",
    "\n",
    "* What are the `membership` operators in Python? Explain their usage with examples\n",
    "\n",
    "* List and briefly explain the `basic data types` available in Python.\n",
    "\n",
    "* Write a Python code snippet that `assigns a value to a variable `and determines its `data type` using the type() function."
   ]
  },
  {
   "cell_type": "markdown",
   "id": "95ed62b5",
   "metadata": {},
   "source": [
    "Assignment: Basic Python Operators\n",
    "\n",
    "**Task 1: Arithmetic Operators**\n",
    "1. Write a Python program that takes two user-input numbers and displays their sum using the addition operator.\n",
    "2. Create a program to calculate the area of a rectangle. Prompt the user for the length and width, then use multiplication to find the area.\n",
    "3. Implement a program that converts temperature from Celsius to Fahrenheit using the formula: Fahrenheit = (Celsius * 9/5) + 32.\n",
    "\n",
    "**Task 2: Comparison Operators**\n",
    "1. Write a program that compares two user-input numbers and prints whether the first number is greater than the second number or not.\n",
    "2. Create a program that determines whether a user-input year is a leap year or not. A leap year is divisible by 4 and not divisible by 100, unless it is also divisible by 400.\n",
    "3. Implement a simple guessing game. Generate a random number between 1 and 100 and have the user guess the number. Provide feedback if their guess is too high or too low, and let them know when they've guessed correctly.\n",
    "\n",
    "**Task 3: Logical Operators**\n",
    "1. Write a program that checks whether a user-input number is positive and even using logical AND (`and`) operator.\n",
    "2. Create a login system where you define a correct username and password. Ask the user for their input and compare it with the correct credentials using logical OR (`or`) operator. Provide access if either the username or password is correct.\n",
    "3. Implement a program that determines whether a given year is a leap year and divisible by 7 using logical NOT (`not`) operator.\n",
    "\n",
    "**Task 4: Assignment Operators**\n",
    "1. Write a program to calculate the square of a number using the exponentiation operator (`**`) and assign it back to the same variable.\n",
    "2. Create a program that keeps track of the total score in a game. Prompt the user for their latest score and update the total score using the addition assignment operator (`+=`).\n",
    "3. Implement a program to convert seconds into hours, minutes, and remaining seconds using both division and modulo operators, and then assign each value using assignment operators.\n",
    "\n",
    "**Task 5: Bitwise Operators**\n",
    "1. Write a program that performs a bitwise AND operation between two user-input numbers and displays the result.\n",
    "2. Create a program to toggle the nth bit of a given number. Ask the user for the number and the value of n, then use bitwise XOR (^) operator to toggle the bit.\n",
    "3. Implement a program to swap the values of two variables without using a temporary variable, only using bitwise XOR (^) operator.\n",
    "\n"
   ]
  },
  {
   "cell_type": "markdown",
   "id": "6d830346",
   "metadata": {},
   "source": []
  },
  {
   "cell_type": "markdown",
   "id": "e6a4044c",
   "metadata": {},
   "source": [
    "1.Write a program that calculates the `sum, difference, product, and quotient` of two numbers: 10 and 5."
   ]
  },
  {
   "cell_type": "code",
   "execution_count": 167,
   "id": "3be3c20d",
   "metadata": {},
   "outputs": [],
   "source": [
    "a = 10\n",
    "b = 5"
   ]
  },
  {
   "cell_type": "code",
   "execution_count": 168,
   "id": "8523fddb",
   "metadata": {},
   "outputs": [
    {
     "name": "stdout",
     "output_type": "stream",
     "text": [
      "15\n",
      "5\n",
      "50\n",
      "2\n"
     ]
    }
   ],
   "source": [
    "print(a+b)\n",
    "print(a-b)\n",
    "print(a*b)\n",
    "print(a//b)\n"
   ]
  },
  {
   "cell_type": "markdown",
   "id": "e0650f0e",
   "metadata": {},
   "source": [
    " 2.Create a program that calculates the `area of a circle` with a radius of 4.5 units."
   ]
  },
  {
   "cell_type": "code",
   "execution_count": 4,
   "id": "557765bd",
   "metadata": {},
   "outputs": [
    {
     "name": "stdout",
     "output_type": "stream",
     "text": [
      "63.585\n"
     ]
    }
   ],
   "source": [
    "pi = 3.14\n",
    "radius = 4.5\n",
    "print(pi*radius**2)"
   ]
  },
  {
   "cell_type": "markdown",
   "id": "9a6183f6",
   "metadata": {},
   "source": [
    "3.Write a program that `swaps` the values of two variables: x with a value of 5 and \"y\" with a value of 10.\n"
   ]
  },
  {
   "cell_type": "code",
   "execution_count": 8,
   "id": "a6282c26",
   "metadata": {},
   "outputs": [
    {
     "name": "stdout",
     "output_type": "stream",
     "text": [
      "10\n",
      "5\n"
     ]
    }
   ],
   "source": [
    "x = 5\n",
    "y = 10\n",
    "a = x\n",
    "x = y\n",
    "y = a\n",
    "\n",
    "print(x)\n",
    "print(y)"
   ]
  },
  {
   "cell_type": "markdown",
   "id": "197a3266",
   "metadata": {},
   "source": [
    " 4.Create a program that calculates `compound interest` for a principal amount of $1000, an interest rate of 5%, and a time period of 3 years.\n"
   ]
  },
  {
   "cell_type": "code",
   "execution_count": 14,
   "id": "08ca471d",
   "metadata": {},
   "outputs": [
    {
     "name": "stdout",
     "output_type": "stream",
     "text": [
      "157.62500000000023\n"
     ]
    }
   ],
   "source": [
    "principal_amount = 1000\n",
    "interest_rate = 0.05   # 5/100 = 0.05\n",
    "time_period = 3\n",
    "amount = principal_amount*(1+interest_rate)**time_period\n",
    "compound_interest = amount - principal_amount \n",
    "print(compound_interest)\n"
   ]
  },
  {
   "cell_type": "markdown",
   "id": "f726768a",
   "metadata": {},
   "source": [
    "5.Write a program that `compares` two numbers: 7 and 12, and determines whether the first number is greater than, less than, or equal to the second number.\n"
   ]
  },
  {
   "cell_type": "code",
   "execution_count": 15,
   "id": "ca859482",
   "metadata": {},
   "outputs": [
    {
     "name": "stdout",
     "output_type": "stream",
     "text": [
      "False\n",
      "True\n",
      "False\n"
     ]
    }
   ],
   "source": [
    "num_1 = 7\n",
    "num_2 = 12\n",
    "\n",
    "print(num_1>num_2)\n",
    "print(num_1<num_2)\n",
    "print(num_1==num_2)"
   ]
  },
  {
   "cell_type": "markdown",
   "id": "b3ffaf3f",
   "metadata": {},
   "source": [
    "6.Create a program that `checks` if a person of age 18 is eligible to vote based on the voting age requirement.(True/False)"
   ]
  },
  {
   "cell_type": "code",
   "execution_count": 18,
   "id": "24a922fa",
   "metadata": {},
   "outputs": [
    {
     "name": "stdout",
     "output_type": "stream",
     "text": [
      "True\n",
      "False\n"
     ]
    }
   ],
   "source": [
    "age_1 = 18\n",
    "age_2 = 17\n",
    "\n",
    "print(age_1>=age_2)\n",
    "print(age_1==age_2)"
   ]
  },
  {
   "cell_type": "markdown",
   "id": "48877550",
   "metadata": {},
   "source": [
    "7.Create a program that `swaps` the values of two integers: `a` with a value of 10 and `b` with a value of 20 using\n",
    " *  bitwise XOR (^) operator.\n",
    " * Logical AND\n",
    " * Logical OR\n",
    " * Logical NOT"
   ]
  },
  {
   "cell_type": "code",
   "execution_count": 22,
   "id": "87ec3e31",
   "metadata": {},
   "outputs": [
    {
     "name": "stdout",
     "output_type": "stream",
     "text": [
      "20\n",
      "10\n"
     ]
    }
   ],
   "source": [
    "a = 10\n",
    "b = 20\n",
    "dup = a\n",
    "a = b\n",
    "b = dup\n",
    "print(a)\n",
    "print(b)\n"
   ]
  },
  {
   "cell_type": "markdown",
   "id": "fdc0050d",
   "metadata": {},
   "source": [
    "8. Create a Python program that calculates the `area of a rectangle`. Prompt the `user to enter` the length and width of the rectangle, `store them` in variables, and compute the area using the formula:area length width.Finally, `print the calculated area."
   ]
  },
  {
   "cell_type": "code",
   "execution_count": 24,
   "id": "136fc1bb",
   "metadata": {},
   "outputs": [
    {
     "name": "stdout",
     "output_type": "stream",
     "text": [
      "Enter length :12\n",
      "Enter width :12\n",
      "144\n"
     ]
    }
   ],
   "source": [
    "length = int(input(\"Enter length :\"))\n",
    "width = int(input(\"Enter width :\"))\n",
    "area = length*width\n",
    "print(area)\n"
   ]
  },
  {
   "cell_type": "markdown",
   "id": "69152375",
   "metadata": {},
   "source": [
    "9.Create a Python program that calculates the average of three exam scores. Prompt the user to enter the scores, store them in variables, calculate the average, and print the result."
   ]
  },
  {
   "cell_type": "code",
   "execution_count": 28,
   "id": "57d424d4",
   "metadata": {},
   "outputs": [
    {
     "name": "stdout",
     "output_type": "stream",
     "text": [
      "Enter the score : 78\n",
      "Enter the score : 90\n",
      "Enter the score : 89\n",
      "85.66666666666667\n"
     ]
    }
   ],
   "source": [
    "exam_1 = int(input(\"Enter the score : \"))\n",
    "exam_2 = int(input(\"Enter the score : \"))\n",
    "exam_3 = int(input(\"Enter the score : \"))\n",
    "total_score = exam_1+exam_2+exam_3\n",
    "avarage = total_score/3\n",
    "print(avarage)"
   ]
  },
  {
   "cell_type": "markdown",
   "id": "6fd7f927",
   "metadata": {},
   "source": [
    "10.Write a Python program that `converts` temperature from Celsius to Fahrenheit. Prompt the user to enter a temperature in Celsius, store it in a variable, and convert it to Fahrenheit using the formula: `Fahrenheit = (Celsius* 9/5)+32`, and print the converted temperature."
   ]
  },
  {
   "cell_type": "code",
   "execution_count": 129,
   "id": "e54f2ab5",
   "metadata": {},
   "outputs": [
    {
     "name": "stdout",
     "output_type": "stream",
     "text": [
      "Enter the temperature : 78\n",
      "172.4\n"
     ]
    }
   ],
   "source": [
    "celsius = float(input(\"Enter the temperature : \"))\n",
    "fahrenheit = (celsius*9/5)+32\n",
    "print(fahrenheit)"
   ]
  },
  {
   "cell_type": "markdown",
   "id": "a14b7eb7",
   "metadata": {},
   "source": [
    "11.What are the `logical operators` in Python? Explain `each one` with an example."
   ]
  },
  {
   "cell_type": "markdown",
   "id": "02caf594",
   "metadata": {},
   "source": [
    "* Logical AND Operator"
   ]
  },
  {
   "cell_type": "code",
   "execution_count": 32,
   "id": "2ff670a6",
   "metadata": {},
   "outputs": [],
   "source": [
    "a = 12\n",
    "b = 23\n",
    "c = 38"
   ]
  },
  {
   "cell_type": "code",
   "execution_count": 33,
   "id": "c4745261",
   "metadata": {},
   "outputs": [
    {
     "data": {
      "text/plain": [
       "True"
      ]
     },
     "execution_count": 33,
     "metadata": {},
     "output_type": "execute_result"
    }
   ],
   "source": [
    "(a<b) and (b<c) and (c>a)"
   ]
  },
  {
   "cell_type": "code",
   "execution_count": 34,
   "id": "45812e02",
   "metadata": {},
   "outputs": [
    {
     "data": {
      "text/plain": [
       "False"
      ]
     },
     "execution_count": 34,
     "metadata": {},
     "output_type": "execute_result"
    }
   ],
   "source": [
    "(a>=b) and (a<c) and (b<=c)"
   ]
  },
  {
   "cell_type": "markdown",
   "id": "19e7364c",
   "metadata": {},
   "source": [
    "* Logical OR Operator"
   ]
  },
  {
   "cell_type": "code",
   "execution_count": 36,
   "id": "9ddcc782",
   "metadata": {},
   "outputs": [],
   "source": [
    "x = 23\n",
    "y = 34\n",
    "z = 12"
   ]
  },
  {
   "cell_type": "code",
   "execution_count": 37,
   "id": "160ddf40",
   "metadata": {},
   "outputs": [
    {
     "data": {
      "text/plain": [
       "True"
      ]
     },
     "execution_count": 37,
     "metadata": {},
     "output_type": "execute_result"
    }
   ],
   "source": [
    "(x<y) or (y<z) or (z>x)"
   ]
  },
  {
   "cell_type": "code",
   "execution_count": 38,
   "id": "557738c8",
   "metadata": {},
   "outputs": [
    {
     "data": {
      "text/plain": [
       "False"
      ]
     },
     "execution_count": 38,
     "metadata": {},
     "output_type": "execute_result"
    }
   ],
   "source": [
    "(x>y) or (y<z) or (z>x)"
   ]
  },
  {
   "cell_type": "markdown",
   "id": "8cf5cfdd",
   "metadata": {},
   "source": [
    "* Logical Not Operator"
   ]
  },
  {
   "cell_type": "code",
   "execution_count": 40,
   "id": "fdebf3ee",
   "metadata": {},
   "outputs": [],
   "source": [
    "p = 56\n",
    "q = 32\n",
    "r = 67"
   ]
  },
  {
   "cell_type": "code",
   "execution_count": 43,
   "id": "88c25c27",
   "metadata": {},
   "outputs": [
    {
     "data": {
      "text/plain": [
       "True"
      ]
     },
     "execution_count": 43,
     "metadata": {},
     "output_type": "execute_result"
    }
   ],
   "source": [
    "not (p<q)"
   ]
  },
  {
   "cell_type": "code",
   "execution_count": 45,
   "id": "0afc2d98",
   "metadata": {},
   "outputs": [
    {
     "data": {
      "text/plain": [
       "False"
      ]
     },
     "execution_count": 45,
     "metadata": {},
     "output_type": "execute_result"
    }
   ],
   "source": [
    "not (q<r)"
   ]
  },
  {
   "cell_type": "markdown",
   "id": "e6f2aa73",
   "metadata": {},
   "source": [
    "12.What are the `membership` operators in Python? Explain their usage with examples"
   ]
  },
  {
   "cell_type": "markdown",
   "id": "60b06896",
   "metadata": {},
   "source": [
    "* Membership oprators are in , not in"
   ]
  },
  {
   "cell_type": "code",
   "execution_count": 47,
   "id": "86f3cb97",
   "metadata": {},
   "outputs": [],
   "source": [
    "name = \"Sathish\"\n"
   ]
  },
  {
   "cell_type": "code",
   "execution_count": 49,
   "id": "e4c99db2",
   "metadata": {},
   "outputs": [
    {
     "data": {
      "text/plain": [
       "True"
      ]
     },
     "execution_count": 49,
     "metadata": {},
     "output_type": "execute_result"
    }
   ],
   "source": [
    "\"S\" in name"
   ]
  },
  {
   "cell_type": "code",
   "execution_count": 50,
   "id": "de7a3fae",
   "metadata": {},
   "outputs": [
    {
     "data": {
      "text/plain": [
       "False"
      ]
     },
     "execution_count": 50,
     "metadata": {},
     "output_type": "execute_result"
    }
   ],
   "source": [
    "\"Sa\" not in name"
   ]
  },
  {
   "cell_type": "markdown",
   "id": "e06fedc3",
   "metadata": {},
   "source": [
    "13.List and briefly explain the `basic data types` available in Python."
   ]
  },
  {
   "cell_type": "markdown",
   "id": "56356d7a",
   "metadata": {},
   "source": [
    "Basic datatypes are \n",
    "* `Numeric Datatype`\n",
    "* Integer \n",
    "* Float\n",
    "* Boolean\n",
    "* `Non-Numeric Datatype`\n",
    "* string"
   ]
  },
  {
   "cell_type": "markdown",
   "id": "f5feb007",
   "metadata": {},
   "source": [
    "`Integer`\n",
    "* We can use `int` datatype to represent numbers(integral values)\n"
   ]
  },
  {
   "cell_type": "code",
   "execution_count": 51,
   "id": "90bf5100",
   "metadata": {},
   "outputs": [],
   "source": [
    "a = 100"
   ]
  },
  {
   "cell_type": "code",
   "execution_count": 52,
   "id": "7713a80f",
   "metadata": {},
   "outputs": [
    {
     "data": {
      "text/plain": [
       "int"
      ]
     },
     "execution_count": 52,
     "metadata": {},
     "output_type": "execute_result"
    }
   ],
   "source": [
    "type(a)"
   ]
  },
  {
   "cell_type": "markdown",
   "id": "1d98a553",
   "metadata": {},
   "source": [
    "`float`\n",
    "* we can use `float` to represent decimal values"
   ]
  },
  {
   "cell_type": "code",
   "execution_count": 53,
   "id": "97897fc8",
   "metadata": {},
   "outputs": [],
   "source": [
    "a = 12.56"
   ]
  },
  {
   "cell_type": "code",
   "execution_count": 54,
   "id": "3e5a214c",
   "metadata": {},
   "outputs": [
    {
     "data": {
      "text/plain": [
       "float"
      ]
     },
     "execution_count": 54,
     "metadata": {},
     "output_type": "execute_result"
    }
   ],
   "source": [
    "type(a)"
   ]
  },
  {
   "cell_type": "markdown",
   "id": "36f65000",
   "metadata": {},
   "source": [
    "`Complex Datatype`"
   ]
  },
  {
   "cell_type": "code",
   "execution_count": 55,
   "id": "a37ce655",
   "metadata": {},
   "outputs": [],
   "source": [
    "a = 10 + 8j"
   ]
  },
  {
   "cell_type": "code",
   "execution_count": 56,
   "id": "0fff5095",
   "metadata": {},
   "outputs": [
    {
     "data": {
      "text/plain": [
       "complex"
      ]
     },
     "execution_count": 56,
     "metadata": {},
     "output_type": "execute_result"
    }
   ],
   "source": [
    "type(a)"
   ]
  },
  {
   "cell_type": "markdown",
   "id": "8f27ca89",
   "metadata": {},
   "source": [
    "`String Datatype`\n",
    "* string is a sequence of charecters or single character (text data) inside single/double quotes.\n",
    "\n",
    "* \"\"   or '' treated as string"
   ]
  },
  {
   "cell_type": "code",
   "execution_count": 57,
   "id": "5102e5a5",
   "metadata": {},
   "outputs": [],
   "source": [
    "name = \"Sathish\""
   ]
  },
  {
   "cell_type": "code",
   "execution_count": 58,
   "id": "978371ca",
   "metadata": {},
   "outputs": [
    {
     "name": "stdout",
     "output_type": "stream",
     "text": [
      "Sathish\n"
     ]
    }
   ],
   "source": [
    "print(name)"
   ]
  },
  {
   "cell_type": "markdown",
   "id": "4d897348",
   "metadata": {},
   "source": [
    "14.Write a Python code snippet that `assigns a value to a variable `and determines its `data type` using the type() function."
   ]
  },
  {
   "cell_type": "code",
   "execution_count": 68,
   "id": "f45f41f0",
   "metadata": {},
   "outputs": [
    {
     "data": {
      "text/plain": [
       "int"
      ]
     },
     "execution_count": 68,
     "metadata": {},
     "output_type": "execute_result"
    }
   ],
   "source": [
    "value = 56\n",
    "type(value)"
   ]
  },
  {
   "cell_type": "code",
   "execution_count": null,
   "id": "4d95c1c3",
   "metadata": {},
   "outputs": [],
   "source": [
    "\n",
    "\n"
   ]
  },
  {
   "cell_type": "markdown",
   "id": "976df918",
   "metadata": {},
   "source": [
    "**Task 1: Arithmetic Operators**\n",
    "1. Write a Python program that takes two user-input numbers and displays their sum using the addition operator."
   ]
  },
  {
   "cell_type": "code",
   "execution_count": 71,
   "id": "a46c530f",
   "metadata": {},
   "outputs": [
    {
     "name": "stdout",
     "output_type": "stream",
     "text": [
      "Enter a number : 23\n",
      "Enter a number : 23\n",
      "46\n"
     ]
    }
   ],
   "source": [
    "num_1 = int(input(\"Enter a number : \"))\n",
    "num_2 = int(input(\"Enter a number : \"))\n",
    "sum_1 = num_1+num_2\n",
    "print(sum_1)"
   ]
  },
  {
   "cell_type": "markdown",
   "id": "0482178e",
   "metadata": {},
   "source": [
    "2. Create a program to calculate the area of a rectangle. Prompt the user for the length and width, then use multiplication to find the area."
   ]
  },
  {
   "cell_type": "code",
   "execution_count": 72,
   "id": "34d2122a",
   "metadata": {},
   "outputs": [
    {
     "name": "stdout",
     "output_type": "stream",
     "text": [
      "Enter Length : 34\n",
      "Enter Width : 34\n",
      "408\n"
     ]
    }
   ],
   "source": [
    "length = int(input(\"Enter Length : \"))\n",
    "Width =  int(input(\"Enter Width : \"))\n",
    "area = length*width\n",
    "print(area)"
   ]
  },
  {
   "cell_type": "markdown",
   "id": "2c35f6f1",
   "metadata": {},
   "source": [
    "3. Implement a program that converts temperature from Celsius to Fahrenheit using the formula: Fahrenheit = (Celsius * 9/5) + 32."
   ]
  },
  {
   "cell_type": "code",
   "execution_count": 73,
   "id": "74057cca",
   "metadata": {},
   "outputs": [
    {
     "name": "stdout",
     "output_type": "stream",
     "text": [
      "Enter the temperature : 56.7\n",
      "134.06\n"
     ]
    }
   ],
   "source": [
    "celsius = float(input(\"Enter the temperature : \"))\n",
    "fahrenheit = (celsius*9/5)+32\n",
    "print(fahrenheit)"
   ]
  },
  {
   "cell_type": "markdown",
   "id": "453b6c6e",
   "metadata": {},
   "source": [
    "**Task 2: Comparison Operators**\n",
    "1. Write a program that compares two user-input numbers and prints whether the first number is greater than the second number or not."
   ]
  },
  {
   "cell_type": "code",
   "execution_count": 77,
   "id": "6acf2eef",
   "metadata": {},
   "outputs": [
    {
     "name": "stdout",
     "output_type": "stream",
     "text": [
      "Enter a number : 15\n",
      "Enter a number : 12\n",
      "True\n"
     ]
    }
   ],
   "source": [
    "num_1 = int(input(\"Enter a number : \"))\n",
    "num_2 = int(input(\"Enter a number : \"))\n",
    "print(num_1>num_2)"
   ]
  },
  {
   "cell_type": "markdown",
   "id": "6b7ee743",
   "metadata": {},
   "source": [
    "2. Create a program that determines whether a user-input year is a leap year or not. A leap year is divisible by 4 and not divisible by 100, unless it is also divisible by 400."
   ]
  },
  {
   "cell_type": "code",
   "execution_count": 8,
   "id": "6925ee23",
   "metadata": {},
   "outputs": [
    {
     "name": "stdout",
     "output_type": "stream",
     "text": [
      "Enter a year : 2000\n"
     ]
    },
    {
     "data": {
      "text/plain": [
       "True"
      ]
     },
     "execution_count": 8,
     "metadata": {},
     "output_type": "execute_result"
    }
   ],
   "source": [
    "year = int(input(\"Enter a year : \"))\n",
    "year %4 ==0 and year % 100!=0 or year %400==0"
   ]
  },
  {
   "cell_type": "code",
   "execution_count": null,
   "id": "b8504959",
   "metadata": {},
   "outputs": [],
   "source": []
  },
  {
   "cell_type": "markdown",
   "id": "2ddc7667",
   "metadata": {},
   "source": [
    "3. Implement a simple guessing game. Generate a random number between 1 and 100 and have the user guess the number. Provide feedback if their guess is too high or too low, and let them know when they've guessed correctly."
   ]
  },
  {
   "cell_type": "code",
   "execution_count": 9,
   "id": "98a2d9b7",
   "metadata": {},
   "outputs": [
    {
     "name": "stdout",
     "output_type": "stream",
     "text": [
      "Guess the number : 87\n",
      "you guessed low  False\n",
      "you guessed high True\n"
     ]
    }
   ],
   "source": [
    "num = int(input(\"Guess the number : \"))\n",
    "print(\"you guessed low \",num<50 and num>1)\n",
    "print(\"you guessed high\", num>50 and num<100)\n",
    "\n",
    "\n"
   ]
  },
  {
   "cell_type": "code",
   "execution_count": null,
   "id": "db2bf54f",
   "metadata": {},
   "outputs": [],
   "source": []
  },
  {
   "cell_type": "markdown",
   "id": "fa28533d",
   "metadata": {},
   "source": [
    "**Task 3: Logical Operators**\n",
    "1. Write a program that checks whether a user-input number is positive and even using logical AND (`and`) operator."
   ]
  },
  {
   "cell_type": "code",
   "execution_count": 2,
   "id": "92b8ead4",
   "metadata": {},
   "outputs": [
    {
     "name": "stdout",
     "output_type": "stream",
     "text": [
      "Enter a number : 13\n"
     ]
    },
    {
     "data": {
      "text/plain": [
       "False"
      ]
     },
     "execution_count": 2,
     "metadata": {},
     "output_type": "execute_result"
    }
   ],
   "source": [
    "num_1 = int(input(\"Enter a number : \"))\n",
    "(num_1%2==0)  and (num_1>=0)"
   ]
  },
  {
   "cell_type": "markdown",
   "id": "20831b93",
   "metadata": {},
   "source": [
    "2. Create a login system where you define a correct username and password. Ask the user for their input and compare it with the correct credentials using logical OR (`or`) operator. Provide access if either the username or password is correct."
   ]
  },
  {
   "cell_type": "code",
   "execution_count": 125,
   "id": "3f8fabd1",
   "metadata": {},
   "outputs": [
    {
     "name": "stdout",
     "output_type": "stream",
     "text": [
      "Enter username : sathi732\n",
      "Enter password : 1234\n",
      "True\n"
     ]
    }
   ],
   "source": [
    "user_name = \"sathi732\"\n",
    "password = 1234\n",
    "username = input(\"Enter username : \")\n",
    "password_1 = int(input(\"Enter password : \"))\n",
    "print((user_name == username) or (password == password_1))\n",
    "\n"
   ]
  },
  {
   "cell_type": "markdown",
   "id": "3611b647",
   "metadata": {},
   "source": [
    "3. Implement a program that determines whether a given year is a leap year and divisible by 7 using logical NOT (`not`) operator.\n"
   ]
  },
  {
   "cell_type": "code",
   "execution_count": 170,
   "id": "24b5381c",
   "metadata": {},
   "outputs": [
    {
     "data": {
      "text/plain": [
       "False"
      ]
     },
     "execution_count": 170,
     "metadata": {},
     "output_type": "execute_result"
    }
   ],
   "source": []
  },
  {
   "cell_type": "markdown",
   "id": "9e1fafe2",
   "metadata": {},
   "source": [
    "**Task 4: Assignment Operators**\n",
    "1. Write a program to calculate the square of a number using the exponentiation operator (`**`) and assign it back to the same variable."
   ]
  },
  {
   "cell_type": "code",
   "execution_count": 137,
   "id": "f7588d79",
   "metadata": {},
   "outputs": [
    {
     "name": "stdout",
     "output_type": "stream",
     "text": [
      "16\n",
      "4\n"
     ]
    }
   ],
   "source": [
    "a = 4\n",
    "b = a**2\n",
    "print(b)\n",
    "b = a\n",
    "print(a)"
   ]
  },
  {
   "cell_type": "markdown",
   "id": "822720b8",
   "metadata": {},
   "source": [
    "2. Create a program that keeps track of the total score in a game. Prompt the user for their latest score and update the total score using the addition assignment operator (`+=`)."
   ]
  },
  {
   "cell_type": "code",
   "execution_count": 141,
   "id": "49498226",
   "metadata": {},
   "outputs": [
    {
     "name": "stdout",
     "output_type": "stream",
     "text": [
      "Enter the score : 34\n",
      "84\n"
     ]
    }
   ],
   "source": [
    "score = 50\n",
    "latest_score = int(input(\"Enter the score : \"))\n",
    "score+=latest_score\n",
    "print(score)"
   ]
  },
  {
   "cell_type": "markdown",
   "id": "7880cd01",
   "metadata": {},
   "source": [
    "3. Implement a program to convert seconds into hours, minutes, and remaining seconds using both division and modulo operators, and then assign each value using assignment operators."
   ]
  },
  {
   "cell_type": "code",
   "execution_count": 147,
   "id": "63b2a2a4",
   "metadata": {},
   "outputs": [
    {
     "name": "stdout",
     "output_type": "stream",
     "text": [
      "205.0\n",
      "3.4166666666666665\n"
     ]
    }
   ],
   "source": [
    "seconds = 12300\n",
    "minutes = seconds/60\n",
    "hours = minutes/60\n",
    "print(minutes)\n",
    "print(hours)\n"
   ]
  },
  {
   "cell_type": "markdown",
   "id": "a4073ba5",
   "metadata": {},
   "source": [
    "**Task 5: Bitwise Operators**\n",
    "1. Write a program that performs a bitwise AND operation between two user-input numbers and displays the result."
   ]
  },
  {
   "cell_type": "code",
   "execution_count": 149,
   "id": "e94909a2",
   "metadata": {},
   "outputs": [
    {
     "name": "stdout",
     "output_type": "stream",
     "text": [
      "Enter a number : 34\n",
      "Enter a number : 56\n"
     ]
    },
    {
     "data": {
      "text/plain": [
       "32"
      ]
     },
     "execution_count": 149,
     "metadata": {},
     "output_type": "execute_result"
    }
   ],
   "source": [
    "num_1 = int(input(\"Enter a number : \"))\n",
    "num_2 = int(input(\"Enter a number : \"))\n",
    "num_1 & num_2"
   ]
  },
  {
   "cell_type": "markdown",
   "id": "1da58f5a",
   "metadata": {},
   "source": [
    "2. Create a program to toggle the nth bit of a given number. Ask the user for the number and the value of n, then use bitwise XOR (^) operator to toggle the bit."
   ]
  },
  {
   "cell_type": "code",
   "execution_count": null,
   "id": "68a8ddb7",
   "metadata": {},
   "outputs": [],
   "source": [
    "\n",
    "\n",
    "\n"
   ]
  },
  {
   "cell_type": "markdown",
   "id": "d0dc473b",
   "metadata": {},
   "source": [
    "3. Implement a program to swap the values of two variables without using a temporary variable, only using bitwise XOR (^) operator."
   ]
  },
  {
   "cell_type": "code",
   "execution_count": 166,
   "id": "babbc513",
   "metadata": {},
   "outputs": [
    {
     "name": "stdout",
     "output_type": "stream",
     "text": [
      "20\n",
      "10\n"
     ]
    }
   ],
   "source": [
    "a = 10\n",
    "b = 20\n",
    "a,b=b,a\n",
    "a^b\n",
    "b^a\n",
    "print(a)\n",
    "print(b)"
   ]
  },
  {
   "cell_type": "code",
   "execution_count": null,
   "id": "22c7b567",
   "metadata": {},
   "outputs": [],
   "source": []
  },
  {
   "cell_type": "code",
   "execution_count": null,
   "id": "46a0347c",
   "metadata": {},
   "outputs": [],
   "source": []
  }
 ],
 "metadata": {
  "kernelspec": {
   "display_name": "Python 3 (ipykernel)",
   "language": "python",
   "name": "python3"
  },
  "language_info": {
   "codemirror_mode": {
    "name": "ipython",
    "version": 3
   },
   "file_extension": ".py",
   "mimetype": "text/x-python",
   "name": "python",
   "nbconvert_exporter": "python",
   "pygments_lexer": "ipython3",
   "version": "3.11.4"
  }
 },
 "nbformat": 4,
 "nbformat_minor": 5
}
