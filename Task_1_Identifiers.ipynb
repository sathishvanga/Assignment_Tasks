{
 "cells": [
  {
   "cell_type": "markdown",
   "id": "5efd181d",
   "metadata": {},
   "source": [
    "# Check the valid Identifiers and invalid identifers using Python"
   ]
  },
  {
   "cell_type": "markdown",
   "id": "aebe5a40",
   "metadata": {},
   "source": [
    "1. **Run all the identifiers and seprate valid and Invalid Identifiers?**\n",
    "\n",
    "2. **Why Python treating them as invalid Identifers.Explain?**"
   ]
  },
  {
   "cell_type": "markdown",
   "id": "77c112d3",
   "metadata": {},
   "source": [
    "* my_variable = 25\n",
    "\n",
    "***valid***\n",
    "\n",
    "\n",
    "* counter = 40.7\n",
    "\n",
    "***valid***\n",
    "\n",
    "\n",
    "* _total = \"Hello\"\n",
    "\n",
    "***valid***\n",
    "\n",
    "\n",
    " - 123abc   = 34      \n",
    " \n",
    " ***invalid***\n",
    " \n",
    " Explanation : variable do not start with digit.\n",
    " \n",
    " - my variable   =6.7\n",
    " \n",
    " ***invalid***\n",
    " \n",
    " Explanation : variable name doesn't contain space.\n",
    " \n",
    " - @count  = \"hi\"      \n",
    " \n",
    " ***invalid***\n",
    " Explanation : variable name doesn't allow the special characters/symbols(expect _ underscore)\n",
    " \n",
    " - for   = \"True\"\n",
    " \n",
    " ***invalid***\n",
    " \n",
    " Explanation : don't use the keywords as variable names\n",
    " \n",
    "\n",
    "* Name123 = 136\n",
    "\n",
    "***valid***\n",
    "\n",
    "* myFunction = True\n",
    "\n",
    "***valid***\n",
    "\n",
    "* _data = False\n",
    "\n",
    "***valid***\n",
    "- if_condition? = \"Innomatics\"\n",
    "\n",
    "***invalid***\n",
    "\n",
    "Explanation : variable name doesn't allow the special characters/symbols(expect _ underscore)\n",
    "\n",
    "- class = \"Hyderabad\"\n",
    "\n",
    "***invalid***\n",
    "\n",
    "Explanation :  don't use the keywords as variable names"
   ]
  },
  {
   "cell_type": "markdown",
   "id": "35c32a6f",
   "metadata": {},
   "source": [
    "### Use different identifiers and assign the below values"
   ]
  },
  {
   "cell_type": "markdown",
   "id": "d606e5ac",
   "metadata": {},
   "source": [
    "10\n",
    "\n",
    "-5\n",
    "\n",
    "3.14159\n",
    "\n",
    "-0.12345\n",
    "\n",
    "1000\n",
    "\n",
    "\"Hello, World!\"\n",
    "\n",
    "\"Python\"\n",
    "\n",
    "\"I am learning\"\n",
    "\n",
    "\"Text type\"\n",
    "\n",
    "\"String\"\n",
    "\n",
    "True\n",
    "\n",
    "False\n",
    "\n",
    "True\n",
    "\n",
    "False\n",
    "\n",
    "True\n",
    "\n"
   ]
  },
  {
   "cell_type": "code",
   "execution_count": 3,
   "id": "a8ce7a79",
   "metadata": {},
   "outputs": [],
   "source": [
    "num = 10"
   ]
  },
  {
   "cell_type": "code",
   "execution_count": 4,
   "id": "010cbf46",
   "metadata": {},
   "outputs": [
    {
     "name": "stdout",
     "output_type": "stream",
     "text": [
      "10\n"
     ]
    }
   ],
   "source": [
    "print(num)"
   ]
  },
  {
   "cell_type": "code",
   "execution_count": 5,
   "id": "5bb5ffe5",
   "metadata": {},
   "outputs": [],
   "source": [
    "num_1 = -5"
   ]
  },
  {
   "cell_type": "code",
   "execution_count": 6,
   "id": "e276198e",
   "metadata": {},
   "outputs": [
    {
     "name": "stdout",
     "output_type": "stream",
     "text": [
      "-5\n"
     ]
    }
   ],
   "source": [
    "print(num_1)"
   ]
  },
  {
   "cell_type": "code",
   "execution_count": 7,
   "id": "578a54d2",
   "metadata": {},
   "outputs": [],
   "source": [
    "float_1 = 3.14159"
   ]
  },
  {
   "cell_type": "code",
   "execution_count": 8,
   "id": "2f0fd32a",
   "metadata": {},
   "outputs": [
    {
     "name": "stdout",
     "output_type": "stream",
     "text": [
      "3.14159\n"
     ]
    }
   ],
   "source": [
    "print(float_1)"
   ]
  },
  {
   "cell_type": "code",
   "execution_count": 10,
   "id": "72481713",
   "metadata": {},
   "outputs": [],
   "source": [
    "float_2 = -0.12345"
   ]
  },
  {
   "cell_type": "code",
   "execution_count": 11,
   "id": "6d582dce",
   "metadata": {},
   "outputs": [
    {
     "name": "stdout",
     "output_type": "stream",
     "text": [
      "-0.12345\n"
     ]
    }
   ],
   "source": [
    "print(float_2)"
   ]
  },
  {
   "cell_type": "code",
   "execution_count": 12,
   "id": "a32b3ede",
   "metadata": {},
   "outputs": [],
   "source": [
    "amount = 1000"
   ]
  },
  {
   "cell_type": "code",
   "execution_count": 13,
   "id": "8a1dfeeb",
   "metadata": {},
   "outputs": [
    {
     "name": "stdout",
     "output_type": "stream",
     "text": [
      "1000\n"
     ]
    }
   ],
   "source": [
    "print(amount)"
   ]
  },
  {
   "cell_type": "code",
   "execution_count": 14,
   "id": "18d9688e",
   "metadata": {},
   "outputs": [],
   "source": [
    "a = \"Hello, World!\""
   ]
  },
  {
   "cell_type": "code",
   "execution_count": 15,
   "id": "cd6d94be",
   "metadata": {},
   "outputs": [
    {
     "name": "stdout",
     "output_type": "stream",
     "text": [
      "Hello, World!\n"
     ]
    }
   ],
   "source": [
    "print(a)"
   ]
  },
  {
   "cell_type": "code",
   "execution_count": 16,
   "id": "73de77e0",
   "metadata": {},
   "outputs": [],
   "source": [
    "b = \"Python\""
   ]
  },
  {
   "cell_type": "code",
   "execution_count": 17,
   "id": "46121cf5",
   "metadata": {},
   "outputs": [
    {
     "name": "stdout",
     "output_type": "stream",
     "text": [
      "Python\n"
     ]
    }
   ],
   "source": [
    "print(b)"
   ]
  },
  {
   "cell_type": "code",
   "execution_count": 18,
   "id": "84516fa0",
   "metadata": {},
   "outputs": [
    {
     "name": "stdout",
     "output_type": "stream",
     "text": [
      "I am learning\n"
     ]
    }
   ],
   "source": [
    "c = \"I am learning\"\n",
    "print(c)"
   ]
  },
  {
   "cell_type": "code",
   "execution_count": 21,
   "id": "5d2ae095",
   "metadata": {},
   "outputs": [
    {
     "name": "stdout",
     "output_type": "stream",
     "text": [
      "Text Type\n"
     ]
    }
   ],
   "source": [
    "d = \"Text Type\"\n",
    "print(d)"
   ]
  },
  {
   "cell_type": "code",
   "execution_count": 23,
   "id": "230b5590",
   "metadata": {},
   "outputs": [
    {
     "name": "stdout",
     "output_type": "stream",
     "text": [
      "String\n"
     ]
    }
   ],
   "source": [
    "e = \"String\"\n",
    "print(e)"
   ]
  },
  {
   "cell_type": "code",
   "execution_count": 24,
   "id": "767649b7",
   "metadata": {},
   "outputs": [
    {
     "name": "stdout",
     "output_type": "stream",
     "text": [
      "True\n"
     ]
    }
   ],
   "source": [
    "true = True\n",
    "print(true)"
   ]
  },
  {
   "cell_type": "code",
   "execution_count": 25,
   "id": "126c88d8",
   "metadata": {},
   "outputs": [
    {
     "name": "stdout",
     "output_type": "stream",
     "text": [
      "False\n"
     ]
    }
   ],
   "source": [
    "false = False\n",
    "print(false)"
   ]
  },
  {
   "cell_type": "code",
   "execution_count": 27,
   "id": "fdd29076",
   "metadata": {},
   "outputs": [
    {
     "name": "stdout",
     "output_type": "stream",
     "text": [
      "True\n"
     ]
    }
   ],
   "source": [
    "Python = True\n",
    "print(Python)"
   ]
  },
  {
   "cell_type": "code",
   "execution_count": 28,
   "id": "eabcbc95",
   "metadata": {},
   "outputs": [
    {
     "name": "stdout",
     "output_type": "stream",
     "text": [
      "False\n"
     ]
    }
   ],
   "source": [
    "java = False\n",
    "print(java)"
   ]
  },
  {
   "cell_type": "code",
   "execution_count": 29,
   "id": "c86d21d2",
   "metadata": {},
   "outputs": [
    {
     "name": "stdout",
     "output_type": "stream",
     "text": [
      "True\n"
     ]
    }
   ],
   "source": [
    "data = True\n",
    "print(data)"
   ]
  },
  {
   "cell_type": "code",
   "execution_count": null,
   "id": "5f384978",
   "metadata": {},
   "outputs": [],
   "source": []
  }
 ],
 "metadata": {
  "kernelspec": {
   "display_name": "Python 3 (ipykernel)",
   "language": "python",
   "name": "python3"
  },
  "language_info": {
   "codemirror_mode": {
    "name": "ipython",
    "version": 3
   },
   "file_extension": ".py",
   "mimetype": "text/x-python",
   "name": "python",
   "nbconvert_exporter": "python",
   "pygments_lexer": "ipython3",
   "version": "3.11.4"
  }
 },
 "nbformat": 4,
 "nbformat_minor": 5
}
