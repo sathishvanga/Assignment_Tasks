{
 "cells": [
  {
   "cell_type": "markdown",
   "id": "21c2b7b2",
   "metadata": {},
   "source": [
    "\n",
    "**Task 1: Basic If-Else Statements**\n",
    "Write a Python program that takes an `integer as input` from the user and prints whether it is `multiple of 3 or not` using if-else statements.\n",
    "\n",
    "**Task 2: Nested If Statements**\n",
    "Create a program that `asks the user` for their `age` and `nationality`. Depending on their age and nationality, display a different message using nested if statements. For example, if they are under 18 and from the USA, display `\"You are a minor from the USA.\"`\n",
    "\n",
    "**Task 3: Grade Calculator**\n",
    "Write a program that takes a student's score as input and converts it to a letter grade (A, B, C, D, or F) using if-elif-else statements. Use the following grading scale:\n",
    "- A: 90-100\n",
    "- B: 80-89\n",
    "- C: 70-79\n",
    "- D: 60-69\n",
    "- F: Below 60\n",
    "\n",
    "**Task 4: Leap Year Checker**\n",
    "Create a Python program that checks if a given year is a leap year or not. Use conditional statements to determine whether the year is divisible by 4, 100, and 400 to decide if it's a leap year.\n",
    "\n",
    "**Task 5: BMI Calculator**\n",
    "Write a program that calculates a person's Body Mass Index (BMI) based on their height and weight. Then, use conditional statements to categorize the BMI as Underweight, Normal, Overweight, or Obese. Provide guidance on the healthy range for BMI.(use BMI Formula)\n",
    "\n",
    "**Task 6: Calculator with Menu**\n",
    "Build a simple calculator program that provides a menu with options for addition, subtraction, multiplication, and division. `Take user input for two numbers`and an `operation choice`. Use conditional statements to perform the selected operation and display the result.\n",
    "\n",
    "**Task 7: Temperature Converter**\n",
    "Write a program that `converts temperatures between Celsius and Fahrenhei`t. Allow the user to `choose` the conversion direction and input the temperature value. Use conditional statements to perform the conversion based on the `user's choice`.(Do with conversion formula)\n"
   ]
  },
  {
   "cell_type": "markdown",
   "id": "3c28845e",
   "metadata": {},
   "source": [
    "**Task 1: Basic If-Else Statements**\n",
    "Write a Python program that takes an `integer as input` from the user and prints whether it is `multiple of 3 or not` using if-else statements."
   ]
  },
  {
   "cell_type": "code",
   "execution_count": 3,
   "id": "165a79c1",
   "metadata": {},
   "outputs": [
    {
     "name": "stdout",
     "output_type": "stream",
     "text": [
      "Enter  a  number : 6\n",
      "It is multiple of 3 \n"
     ]
    }
   ],
   "source": [
    "num = int(input(\"Enter  a  number : \"))\n",
    "if (num%3==0) :\n",
    "    print(\"It is multiple of 3 \")\n",
    "else :\n",
    "    print(\"It is not multiple of 3\")\n"
   ]
  },
  {
   "cell_type": "markdown",
   "id": "a5ec6e8a",
   "metadata": {},
   "source": [
    "**Task 2: Nested If Statements**\n",
    "Create a program that `asks the user` for their `age` and `nationality`. Depending on their age and nationality, display a different message using nested if statements. For example, if they are under 18 and from the USA, display `\"You are a minor from the USA.\"`\n"
   ]
  },
  {
   "cell_type": "code",
   "execution_count": 44,
   "id": "eecaebc7",
   "metadata": {},
   "outputs": [
    {
     "name": "stdout",
     "output_type": "stream",
     "text": [
      "Enter your age : 17\n",
      "Enter your Nationality : india\n",
      "You are minor from india\n"
     ]
    }
   ],
   "source": [
    "age = int(input(\"Enter your age : \"))\n",
    "nation = input(\"Enter your Nationality : \")\n",
    "if (age < 18 ) :\n",
    "    if nation == \"USA\":\n",
    "    \n",
    "        print(f\"You are a minor from {nation} \")\n",
    "    print(f\"You are minor from {nation}\")\n",
    "else :\n",
    "    print(f\"You are a major from {nation}\")"
   ]
  },
  {
   "cell_type": "code",
   "execution_count": null,
   "id": "be01dbd0",
   "metadata": {},
   "outputs": [],
   "source": []
  },
  {
   "cell_type": "markdown",
   "id": "24ade21c",
   "metadata": {},
   "source": [
    "**Task 3: Grade Calculator**\n",
    "Write a program that takes a student's score as input and converts it to a letter grade (A, B, C, D, or F) using if-elif-else statements. Use the following grading scale:\n",
    "- A: 90-100\n",
    "- B: 80-89\n",
    "- C: 70-79\n",
    "- D: 60-69\n",
    "- F: Below 60"
   ]
  },
  {
   "cell_type": "code",
   "execution_count": 9,
   "id": "87ba0868",
   "metadata": {},
   "outputs": [
    {
     "name": "stdout",
     "output_type": "stream",
     "text": [
      "Enter your marks : 80\n",
      "B Grade \n"
     ]
    }
   ],
   "source": [
    "score = int(input(\"Enter your marks : \"))\n",
    "if (score>=90) and (score<=100) :\n",
    "    print(\"A Grade\")\n",
    "    \n",
    "elif (score>=80 ) and (score<90) :\n",
    "    print(\"B Grade \")\n",
    "    \n",
    "elif (score>=70) and (score<80) :\n",
    "    print(\"C Grade\")\n",
    "    \n",
    "elif (score>=60) and (score<70) :\n",
    "    print(\"D Grade\")\n",
    "    \n",
    "elif (score>100) and (score>0) :\n",
    "    print(\"Enter valid marks\")\n",
    "    \n",
    "else :\n",
    "    print(\"Fail\")"
   ]
  },
  {
   "cell_type": "markdown",
   "id": "81867436",
   "metadata": {},
   "source": [
    "**Task 4: Leap Year Checker**\n",
    "Create a Python program that checks if a given year is a leap year or not. Use conditional statements to determine whether the year is divisible by 4, 100, and 400 to decide if it's a leap year.\n"
   ]
  },
  {
   "cell_type": "code",
   "execution_count": 35,
   "id": "912689a8",
   "metadata": {},
   "outputs": [
    {
     "name": "stdout",
     "output_type": "stream",
     "text": [
      "Enter a year : 2024\n",
      "It is a leap Year \n"
     ]
    }
   ],
   "source": [
    "year = int(input(\"Enter a year : \"))\n",
    "\n",
    "\n",
    "if ((year%4==0) and (year%100!=0)) or (year%400==0):\n",
    "    print(\"It is a leap Year \")\n",
    "else :\n",
    "    print(\"It is not a leap year\")\n"
   ]
  },
  {
   "cell_type": "markdown",
   "id": "685039cc",
   "metadata": {},
   "source": [
    "**Task 5: BMI Calculator**\n",
    "Write a program that calculates a person's Body Mass Index (BMI) based on their height and weight. Then, use conditional statements to categorize the BMI as Underweight, Normal, Overweight, or Obese. Provide guidance on the healthy range for BMI.(use BMI Formula)"
   ]
  },
  {
   "cell_type": "markdown",
   "id": "96b65bec",
   "metadata": {},
   "source": [
    "under 18.5kg/m2 – you are considered underweight and possibly malnourished. 18.5 to 24.9kg/m2 – you are within a healthy weight range for young and middle-aged adults. 25.0 to 29.9kg/m2 – you are considered overweight. over 30kg/m2 – you are considered obese."
   ]
  },
  {
   "cell_type": "code",
   "execution_count": 47,
   "id": "99aae7fe",
   "metadata": {},
   "outputs": [
    {
     "name": "stdout",
     "output_type": "stream",
     "text": [
      "Enter your height in feets : 3.7\n",
      "Enter your weight in KG's : 52\n",
      "40.88556446246895\n",
      "Obese\n"
     ]
    }
   ],
   "source": [
    "height = float(input(\"Enter your height in feets : \"))\n",
    "\n",
    "weight = int(input(\"Enter your weight in KG's : \"))\n",
    "\n",
    "height_in_meters = height/3.28084\n",
    "\n",
    "bmi = weight/height_in_meters**2\n",
    "print(bmi)\n",
    "\n",
    "if (bmi<18.5) :\n",
    "    print(\"you are considered underweight\")\n",
    "    \n",
    "elif (bmi>=18.5) and (bmi<=24.9) :\n",
    "    print(\"Normal\")\n",
    "    \n",
    "elif (bmi>=25.0) and (bmi<=29.9) :\n",
    "    print(\"Overweight\")\n",
    "\n",
    "else :\n",
    "    print(\"Obese\")"
   ]
  },
  {
   "cell_type": "markdown",
   "id": "08e3902d",
   "metadata": {},
   "source": [
    "**Task 6: Calculator with Menu**\n",
    "Build a simple calculator program that provides a menu with options for addition, subtraction, multiplication, and division. `Take user input for two numbers`and an `operation choice`. Use conditional statements to perform the selected operation and display the result."
   ]
  },
  {
   "cell_type": "code",
   "execution_count": 62,
   "id": "ffb96048",
   "metadata": {},
   "outputs": [
    {
     "name": "stdout",
     "output_type": "stream",
     "text": [
      "Enter a number : 12\n",
      "Enter a number : 12\n",
      "Menu\n",
      "addition\n",
      "subtraction\n",
      "multiplication\n",
      "division\n",
      "Enter  a operation from above menu: division\n",
      "The division of Two numbers is 1.0\n"
     ]
    }
   ],
   "source": [
    "num_1 = float(input(\"Enter a number : \"))\n",
    "num_2 = float(input(\"Enter a number : \"))\n",
    "\n",
    "print (\"Menu\")\n",
    "\n",
    "print(\"addition\")\n",
    "print(\"subtraction\")\n",
    "print(\"multiplication\")\n",
    "print(\"division\")\n",
    "\n",
    "operation = input(\"Enter  a operation from above menu: \")\n",
    "\n",
    "if (operation == \"addition\") :\n",
    "    addition = num_1 + num_2\n",
    "    print(\"The addition of Two numbers is\" , addition)\n",
    "    \n",
    "elif (operation == \"subtraction\") :\n",
    "    subtraction = num_1 - num_2\n",
    "    print(\"The subtraction of Two numbers is\" , subtraction)\n",
    "\n",
    "elif (operation == \"multiplication\") :\n",
    "    multiplication = num_1 * num_2\n",
    "    print(\"The multiplication of Two numbers is\" , multiplication)\n",
    "    \n",
    "elif (operation == \"division\") :\n",
    "    division = num_1 / num_2\n",
    "    print(\"The division of Two numbers is\" , division)\n",
    "else :\n",
    "    print(\"Enter a valid operation\")"
   ]
  },
  {
   "cell_type": "markdown",
   "id": "0e3e9ec5",
   "metadata": {},
   "source": [
    "**Task 7: Temperature Converter**\n",
    "Write a program that `converts temperatures between Celsius and Fahrenhei`t. Allow the user to `choose` the conversion direction and input the temperature value. Use conditional statements to perform the conversion based on the `user's choice`.(Do with conversion formula)\n"
   ]
  },
  {
   "cell_type": "markdown",
   "id": "a2b40a7a",
   "metadata": {},
   "source": [
    "Celsius = (temp-32)/1.8\n",
    "fahrenheit = temp * 1.8 + 32"
   ]
  },
  {
   "cell_type": "code",
   "execution_count": 66,
   "id": "d956db57",
   "metadata": {},
   "outputs": [
    {
     "name": "stdout",
     "output_type": "stream",
     "text": [
      "Enter Conversion Celsius\n",
      "Enter temperature in fahrenheit : 100\n",
      "Fahrenheit converted into Celsius : 37.77777777777778\n"
     ]
    }
   ],
   "source": [
    "\n",
    "conv = input(\"Enter Conversion \")\n",
    "\n",
    "\n",
    "if conv == \"Fahrenheit\":\n",
    "    celsius = float(input(\"Enter temperature in celsius : \"))\n",
    "    formula = celsius*1.8+32\n",
    "    print(f\"Celsius converted into Fahrenheit : {formula}\")\n",
    "\n",
    "elif conv == \"Celsius\" :\n",
    "    fahrenheit = float(input(\"Enter temperature in fahrenheit : \"))\n",
    "    formula_1 = (fahrenheit-32)/1.8\n",
    "    print(f\"Fahrenheit converted into Celsius : {formula_1}\")\n",
    "    \n",
    "else :\n",
    "    print(\"Choose Correct Conversion\")"
   ]
  },
  {
   "cell_type": "code",
   "execution_count": null,
   "id": "914e06d5",
   "metadata": {},
   "outputs": [],
   "source": []
  }
 ],
 "metadata": {
  "kernelspec": {
   "display_name": "Python 3 (ipykernel)",
   "language": "python",
   "name": "python3"
  },
  "language_info": {
   "codemirror_mode": {
    "name": "ipython",
    "version": 3
   },
   "file_extension": ".py",
   "mimetype": "text/x-python",
   "name": "python",
   "nbconvert_exporter": "python",
   "pygments_lexer": "ipython3",
   "version": "3.11.4"
  }
 },
 "nbformat": 4,
 "nbformat_minor": 5
}
