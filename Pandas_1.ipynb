{
 "cells": [
  {
   "cell_type": "markdown",
   "id": "970dc97e",
   "metadata": {},
   "source": [
    "### Pandas Series\n",
    "\n",
    "1.Create pandas series with different data types in different ways\n",
    "\n",
    "2.Find the attributes of Series of [10,30,40,1,3,6,14,18,23] with index starts from 100\n",
    "\n",
    "3.create salaries of 30 employee salaries randomly from 30000-90000 then measure and describe the data using pandas series.\n",
    "\n",
    "4.What are the similaraties and differences between pandas series and nnumpy array.Prove it with code.\n",
    "\n",
    "5.create pandas series with ranges from 100 to 150 then apply indexing and slicing on it."
   ]
  },
  {
   "cell_type": "code",
   "execution_count": 1,
   "id": "2771826c",
   "metadata": {},
   "outputs": [],
   "source": [
    "import pandas as pd"
   ]
  },
  {
   "cell_type": "code",
   "execution_count": 16,
   "id": "96b6f8ba",
   "metadata": {},
   "outputs": [],
   "source": [
    "# from list\n",
    "ages = list(range(20,50))"
   ]
  },
  {
   "cell_type": "code",
   "execution_count": 18,
   "id": "397d6365",
   "metadata": {},
   "outputs": [
    {
     "data": {
      "text/plain": [
       "1     20\n",
       "2     21\n",
       "3     22\n",
       "4     23\n",
       "5     24\n",
       "6     25\n",
       "7     26\n",
       "8     27\n",
       "9     28\n",
       "10    29\n",
       "11    30\n",
       "12    31\n",
       "13    32\n",
       "14    33\n",
       "15    34\n",
       "16    35\n",
       "17    36\n",
       "18    37\n",
       "19    38\n",
       "20    39\n",
       "21    40\n",
       "22    41\n",
       "23    42\n",
       "24    43\n",
       "25    44\n",
       "26    45\n",
       "27    46\n",
       "28    47\n",
       "29    48\n",
       "30    49\n",
       "dtype: int64"
      ]
     },
     "execution_count": 18,
     "metadata": {},
     "output_type": "execute_result"
    }
   ],
   "source": [
    "pd.Series(ages,index = list(range(1,31)))"
   ]
  },
  {
   "cell_type": "code",
   "execution_count": 4,
   "id": "b59d5e8d",
   "metadata": {},
   "outputs": [],
   "source": [
    "#from tuple\n",
    "ages = tuple(range(18,40))"
   ]
  },
  {
   "cell_type": "code",
   "execution_count": 5,
   "id": "39a4369d",
   "metadata": {},
   "outputs": [
    {
     "data": {
      "text/plain": [
       "0     18\n",
       "1     19\n",
       "2     20\n",
       "3     21\n",
       "4     22\n",
       "5     23\n",
       "6     24\n",
       "7     25\n",
       "8     26\n",
       "9     27\n",
       "10    28\n",
       "11    29\n",
       "12    30\n",
       "13    31\n",
       "14    32\n",
       "15    33\n",
       "16    34\n",
       "17    35\n",
       "18    36\n",
       "19    37\n",
       "20    38\n",
       "21    39\n",
       "dtype: int64"
      ]
     },
     "execution_count": 5,
     "metadata": {},
     "output_type": "execute_result"
    }
   ],
   "source": [
    "pd.Series(ages)"
   ]
  },
  {
   "cell_type": "code",
   "execution_count": 6,
   "id": "7fb70e50",
   "metadata": {},
   "outputs": [],
   "source": [
    "#from Dictionary\n",
    "data = {\"A\":\"Sathish\",\"B\":\"Uday\",\"C\":\"Adnan\",\"D\":\"Raheem\"}"
   ]
  },
  {
   "cell_type": "code",
   "execution_count": 7,
   "id": "1bb3c80d",
   "metadata": {},
   "outputs": [
    {
     "data": {
      "text/plain": [
       "A    Sathish\n",
       "B       Uday\n",
       "C      Adnan\n",
       "D     Raheem\n",
       "dtype: object"
      ]
     },
     "execution_count": 7,
     "metadata": {},
     "output_type": "execute_result"
    }
   ],
   "source": [
    "pd.Series(data)"
   ]
  },
  {
   "cell_type": "code",
   "execution_count": 8,
   "id": "825194d5",
   "metadata": {},
   "outputs": [],
   "source": [
    "#from Numpy array\n",
    "import numpy as np\n",
    "ages = np.arange(20,40)"
   ]
  },
  {
   "cell_type": "code",
   "execution_count": 9,
   "id": "d8e238bb",
   "metadata": {},
   "outputs": [
    {
     "data": {
      "text/plain": [
       "0     20\n",
       "1     21\n",
       "2     22\n",
       "3     23\n",
       "4     24\n",
       "5     25\n",
       "6     26\n",
       "7     27\n",
       "8     28\n",
       "9     29\n",
       "10    30\n",
       "11    31\n",
       "12    32\n",
       "13    33\n",
       "14    34\n",
       "15    35\n",
       "16    36\n",
       "17    37\n",
       "18    38\n",
       "19    39\n",
       "dtype: int32"
      ]
     },
     "execution_count": 9,
     "metadata": {},
     "output_type": "execute_result"
    }
   ],
   "source": [
    "pd.Series(ages)"
   ]
  },
  {
   "cell_type": "markdown",
   "id": "453fe049",
   "metadata": {},
   "source": [
    "2.Find the attributes of Series of [10,30,40,1,3,6,14,18,23] with index starts from 100"
   ]
  },
  {
   "cell_type": "code",
   "execution_count": 21,
   "id": "a02f66a8",
   "metadata": {},
   "outputs": [],
   "source": [
    "data = pd.Series( [10,30,40,1,3,6,14,18,23],index= list(range(100,109)))"
   ]
  },
  {
   "cell_type": "code",
   "execution_count": 22,
   "id": "3e691c97",
   "metadata": {},
   "outputs": [
    {
     "data": {
      "text/plain": [
       "100    10\n",
       "101    30\n",
       "102    40\n",
       "103     1\n",
       "104     3\n",
       "105     6\n",
       "106    14\n",
       "107    18\n",
       "108    23\n",
       "dtype: int64"
      ]
     },
     "execution_count": 22,
     "metadata": {},
     "output_type": "execute_result"
    }
   ],
   "source": [
    "data"
   ]
  },
  {
   "cell_type": "code",
   "execution_count": 23,
   "id": "8444a326",
   "metadata": {},
   "outputs": [
    {
     "data": {
      "text/plain": [
       "100    10\n",
       "101    30\n",
       "102    40\n",
       "103     1\n",
       "104     3\n",
       "dtype: int64"
      ]
     },
     "execution_count": 23,
     "metadata": {},
     "output_type": "execute_result"
    }
   ],
   "source": [
    "data.head()"
   ]
  },
  {
   "cell_type": "code",
   "execution_count": 24,
   "id": "64481064",
   "metadata": {},
   "outputs": [
    {
     "data": {
      "text/plain": [
       "104     3\n",
       "105     6\n",
       "106    14\n",
       "107    18\n",
       "108    23\n",
       "dtype: int64"
      ]
     },
     "execution_count": 24,
     "metadata": {},
     "output_type": "execute_result"
    }
   ],
   "source": [
    "data.tail()"
   ]
  },
  {
   "cell_type": "code",
   "execution_count": 26,
   "id": "7fa530b0",
   "metadata": {},
   "outputs": [
    {
     "name": "stdout",
     "output_type": "stream",
     "text": [
      "<class 'pandas.core.series.Series'>\n",
      "Index: 9 entries, 100 to 108\n",
      "Series name: None\n",
      "Non-Null Count  Dtype\n",
      "--------------  -----\n",
      "9 non-null      int64\n",
      "dtypes: int64(1)\n",
      "memory usage: 144.0 bytes\n"
     ]
    }
   ],
   "source": [
    "data.info()"
   ]
  },
  {
   "cell_type": "code",
   "execution_count": 27,
   "id": "a85710fb",
   "metadata": {},
   "outputs": [
    {
     "data": {
      "text/plain": [
       "count     9.000000\n",
       "mean     16.111111\n",
       "std      13.033078\n",
       "min       1.000000\n",
       "25%       6.000000\n",
       "50%      14.000000\n",
       "75%      23.000000\n",
       "max      40.000000\n",
       "dtype: float64"
      ]
     },
     "execution_count": 27,
     "metadata": {},
     "output_type": "execute_result"
    }
   ],
   "source": [
    "data.describe()"
   ]
  },
  {
   "cell_type": "markdown",
   "id": "b12f8b23",
   "metadata": {},
   "source": [
    "3.create salaries of 30 employee salaries randomly from 30000-90000 then measure and describe the data using pandas series.\n"
   ]
  },
  {
   "cell_type": "code",
   "execution_count": 28,
   "id": "c4c7fed1",
   "metadata": {},
   "outputs": [],
   "source": [
    "salaries = pd.Series(np.random.randint(30000,90000,30))"
   ]
  },
  {
   "cell_type": "code",
   "execution_count": 30,
   "id": "c7b96a8a",
   "metadata": {},
   "outputs": [
    {
     "data": {
      "text/plain": [
       "count       30.000000\n",
       "mean     56635.833333\n",
       "std      16580.978177\n",
       "min      30519.000000\n",
       "25%      43566.000000\n",
       "50%      56213.500000\n",
       "75%      64548.250000\n",
       "max      89454.000000\n",
       "dtype: float64"
      ]
     },
     "execution_count": 30,
     "metadata": {},
     "output_type": "execute_result"
    }
   ],
   "source": [
    "salaries.describe()"
   ]
  },
  {
   "cell_type": "code",
   "execution_count": 31,
   "id": "fb52fe4c",
   "metadata": {},
   "outputs": [
    {
     "data": {
      "text/plain": [
       "274928837.316092"
      ]
     },
     "execution_count": 31,
     "metadata": {},
     "output_type": "execute_result"
    }
   ],
   "source": [
    "salaries.var()"
   ]
  },
  {
   "cell_type": "code",
   "execution_count": 33,
   "id": "f8036cb1",
   "metadata": {},
   "outputs": [
    {
     "data": {
      "text/plain": [
       "274928837.316092"
      ]
     },
     "execution_count": 33,
     "metadata": {},
     "output_type": "execute_result"
    }
   ],
   "source": [
    "salaries.cov(salaries)"
   ]
  },
  {
   "cell_type": "code",
   "execution_count": 35,
   "id": "995bef85",
   "metadata": {},
   "outputs": [
    {
     "data": {
      "text/plain": [
       "56213.5"
      ]
     },
     "execution_count": 35,
     "metadata": {},
     "output_type": "execute_result"
    }
   ],
   "source": [
    "salaries.median()"
   ]
  },
  {
   "cell_type": "code",
   "execution_count": 36,
   "id": "0b93172d",
   "metadata": {},
   "outputs": [
    {
     "data": {
      "text/plain": [
       "0     30519\n",
       "1     32008\n",
       "2     32565\n",
       "3     35904\n",
       "4     40261\n",
       "5     40549\n",
       "6     40749\n",
       "7     42354\n",
       "8     47202\n",
       "9     48722\n",
       "10    48808\n",
       "11    49949\n",
       "12    53530\n",
       "13    54101\n",
       "14    55507\n",
       "15    56920\n",
       "16    56980\n",
       "17    58640\n",
       "18    60260\n",
       "19    62106\n",
       "20    62637\n",
       "21    63025\n",
       "22    65056\n",
       "23    69433\n",
       "24    72529\n",
       "25    76189\n",
       "26    80423\n",
       "27    83633\n",
       "28    89062\n",
       "29    89454\n",
       "dtype: int32"
      ]
     },
     "execution_count": 36,
     "metadata": {},
     "output_type": "execute_result"
    }
   ],
   "source": [
    "salaries.mode()"
   ]
  },
  {
   "cell_type": "markdown",
   "id": "275740a0",
   "metadata": {},
   "source": [
    "4.What are the similaraties and differences between pandas series and nnumpy array.Prove it with code."
   ]
  },
  {
   "cell_type": "code",
   "execution_count": 37,
   "id": "4ee789e3",
   "metadata": {},
   "outputs": [],
   "source": [
    "ages = np.arange(18,40)"
   ]
  },
  {
   "cell_type": "code",
   "execution_count": 38,
   "id": "2bdf6000",
   "metadata": {},
   "outputs": [
    {
     "data": {
      "text/plain": [
       "array([18, 19, 20, 21, 22, 23, 24, 25, 26, 27, 28, 29, 30, 31, 32, 33, 34,\n",
       "       35, 36, 37, 38, 39])"
      ]
     },
     "execution_count": 38,
     "metadata": {},
     "output_type": "execute_result"
    }
   ],
   "source": [
    "ages #numpy.array give only values, i,e not index based"
   ]
  },
  {
   "cell_type": "code",
   "execution_count": 40,
   "id": "92b22809",
   "metadata": {},
   "outputs": [
    {
     "data": {
      "text/plain": [
       "0     18\n",
       "1     19\n",
       "2     20\n",
       "3     21\n",
       "4     22\n",
       "5     23\n",
       "6     24\n",
       "7     25\n",
       "8     26\n",
       "9     27\n",
       "10    28\n",
       "11    29\n",
       "12    30\n",
       "13    31\n",
       "14    32\n",
       "15    33\n",
       "16    34\n",
       "17    35\n",
       "18    36\n",
       "19    37\n",
       "20    38\n",
       "21    39\n",
       "dtype: int32"
      ]
     },
     "execution_count": 40,
     "metadata": {},
     "output_type": "execute_result"
    }
   ],
   "source": [
    "ages = pd.Series(ages)\n",
    "ages # pd.Series give the index values i,e index based"
   ]
  },
  {
   "cell_type": "markdown",
   "id": "39de11f7",
   "metadata": {},
   "source": [
    "#### numpy.array\n",
    "1. Not Index Based \n",
    "2. Only Numerical data\n",
    "3. It accepts only Homogenous datatype\n",
    "\n",
    "#### pd.Series\n",
    "1. Index based\n",
    "2. Numarical and text data\n",
    "3. It accepts Homoggenous and Hetorogenous datatypes\n"
   ]
  },
  {
   "cell_type": "markdown",
   "id": "05bbe516",
   "metadata": {},
   "source": [
    "5.create pandas series with ranges from 100 to 150 then apply indexing and slicing on it."
   ]
  },
  {
   "cell_type": "code",
   "execution_count": 41,
   "id": "052d6062",
   "metadata": {},
   "outputs": [],
   "source": [
    "num = pd.Series(np.arange(100,150))"
   ]
  },
  {
   "cell_type": "code",
   "execution_count": 42,
   "id": "935e0a66",
   "metadata": {},
   "outputs": [
    {
     "data": {
      "text/plain": [
       "0     100\n",
       "1     101\n",
       "2     102\n",
       "3     103\n",
       "4     104\n",
       "5     105\n",
       "6     106\n",
       "7     107\n",
       "8     108\n",
       "9     109\n",
       "10    110\n",
       "11    111\n",
       "12    112\n",
       "13    113\n",
       "14    114\n",
       "15    115\n",
       "16    116\n",
       "17    117\n",
       "18    118\n",
       "19    119\n",
       "20    120\n",
       "21    121\n",
       "22    122\n",
       "23    123\n",
       "24    124\n",
       "25    125\n",
       "26    126\n",
       "27    127\n",
       "28    128\n",
       "29    129\n",
       "30    130\n",
       "31    131\n",
       "32    132\n",
       "33    133\n",
       "34    134\n",
       "35    135\n",
       "36    136\n",
       "37    137\n",
       "38    138\n",
       "39    139\n",
       "40    140\n",
       "41    141\n",
       "42    142\n",
       "43    143\n",
       "44    144\n",
       "45    145\n",
       "46    146\n",
       "47    147\n",
       "48    148\n",
       "49    149\n",
       "dtype: int32"
      ]
     },
     "execution_count": 42,
     "metadata": {},
     "output_type": "execute_result"
    }
   ],
   "source": [
    "num"
   ]
  },
  {
   "cell_type": "markdown",
   "id": "bd4c6e10",
   "metadata": {},
   "source": [
    "### Indexing"
   ]
  },
  {
   "cell_type": "code",
   "execution_count": 44,
   "id": "e8a52ee3",
   "metadata": {},
   "outputs": [
    {
     "data": {
      "text/plain": [
       "104"
      ]
     },
     "execution_count": 44,
     "metadata": {},
     "output_type": "execute_result"
    }
   ],
   "source": [
    "num[4]"
   ]
  },
  {
   "cell_type": "code",
   "execution_count": 45,
   "id": "4945e0ce",
   "metadata": {},
   "outputs": [
    {
     "data": {
      "text/plain": [
       "145"
      ]
     },
     "execution_count": 45,
     "metadata": {},
     "output_type": "execute_result"
    }
   ],
   "source": [
    "num[45]"
   ]
  },
  {
   "cell_type": "code",
   "execution_count": 49,
   "id": "9e3518a0",
   "metadata": {},
   "outputs": [
    {
     "data": {
      "text/plain": [
       "125"
      ]
     },
     "execution_count": 49,
     "metadata": {},
     "output_type": "execute_result"
    }
   ],
   "source": [
    "num[25]"
   ]
  },
  {
   "cell_type": "markdown",
   "id": "8c5da09c",
   "metadata": {},
   "source": [
    "### Slicing"
   ]
  },
  {
   "cell_type": "code",
   "execution_count": 46,
   "id": "1e27e7fc",
   "metadata": {},
   "outputs": [
    {
     "data": {
      "text/plain": [
       "1    101\n",
       "2    102\n",
       "3    103\n",
       "4    104\n",
       "dtype: int32"
      ]
     },
     "execution_count": 46,
     "metadata": {},
     "output_type": "execute_result"
    }
   ],
   "source": [
    "num[1:5]"
   ]
  },
  {
   "cell_type": "code",
   "execution_count": 52,
   "id": "c876ccc0",
   "metadata": {},
   "outputs": [
    {
     "data": {
      "text/plain": [
       "1     101\n",
       "11    111\n",
       "21    121\n",
       "31    131\n",
       "41    141\n",
       "dtype: int32"
      ]
     },
     "execution_count": 52,
     "metadata": {},
     "output_type": "execute_result"
    }
   ],
   "source": [
    "num[1:49:10]"
   ]
  },
  {
   "cell_type": "code",
   "execution_count": null,
   "id": "6f2e3021",
   "metadata": {},
   "outputs": [],
   "source": []
  }
 ],
 "metadata": {
  "kernelspec": {
   "display_name": "Python 3 (ipykernel)",
   "language": "python",
   "name": "python3"
  },
  "language_info": {
   "codemirror_mode": {
    "name": "ipython",
    "version": 3
   },
   "file_extension": ".py",
   "mimetype": "text/x-python",
   "name": "python",
   "nbconvert_exporter": "python",
   "pygments_lexer": "ipython3",
   "version": "3.11.4"
  }
 },
 "nbformat": 4,
 "nbformat_minor": 5
}
