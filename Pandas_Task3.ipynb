{
 "cells": [
  {
   "cell_type": "markdown",
   "id": "c98c478c",
   "metadata": {},
   "source": [
    "# Data Manipulation"
   ]
  },
  {
   "cell_type": "markdown",
   "id": "a2ea2234",
   "metadata": {},
   "source": [
    "1. Find all Statistic Measures\n",
    "2. Which subject has highest average ?\n",
    "3. What are the Student IDs who got more tham 80% GPA?\n",
    "4. How many female students are there in the class?\n",
    "5. What is the ratio of male students and female students?\n",
    "6. What are the marks of male students in statistics ?\n",
    "7. What is the ID of the class topper ?\n",
    "8. What is the gender of probabilty topper?\n",
    "9. Create Pivot Table for gender and class?\n",
    "10. Which subject got least average marks.?\n",
    "11. How many male and female students are there ?\n",
    "12. How many female student are there from class A?\n",
    "13. Which class has more strength ?\n",
    "14. Sort the data as per algebra ?\n",
    "15. How many students got exactly 64 marks from functional analysis?"
   ]
  },
  {
   "cell_type": "code",
   "execution_count": 1,
   "id": "06e01fbd",
   "metadata": {},
   "outputs": [],
   "source": [
    "import pandas as pd"
   ]
  },
  {
   "cell_type": "code",
   "execution_count": 2,
   "id": "1405d990",
   "metadata": {},
   "outputs": [],
   "source": [
    "df = pd.read_csv(r\"C:\\Users\\sathi\\Downloads\\studens_data.csv\")"
   ]
  },
  {
   "cell_type": "code",
   "execution_count": 3,
   "id": "7701636a",
   "metadata": {},
   "outputs": [
    {
     "data": {
      "text/html": [
       "<div>\n",
       "<style scoped>\n",
       "    .dataframe tbody tr th:only-of-type {\n",
       "        vertical-align: middle;\n",
       "    }\n",
       "\n",
       "    .dataframe tbody tr th {\n",
       "        vertical-align: top;\n",
       "    }\n",
       "\n",
       "    .dataframe thead th {\n",
       "        text-align: right;\n",
       "    }\n",
       "</style>\n",
       "<table border=\"1\" class=\"dataframe\">\n",
       "  <thead>\n",
       "    <tr style=\"text-align: right;\">\n",
       "      <th></th>\n",
       "      <th>ID</th>\n",
       "      <th>class</th>\n",
       "      <th>gender</th>\n",
       "      <th>GPA</th>\n",
       "      <th>Algebra</th>\n",
       "      <th>Calculus1</th>\n",
       "      <th>Calculus2</th>\n",
       "      <th>Statistics</th>\n",
       "      <th>Probability</th>\n",
       "      <th>Measure</th>\n",
       "      <th>Functional_analysis</th>\n",
       "    </tr>\n",
       "  </thead>\n",
       "  <tbody>\n",
       "    <tr>\n",
       "      <th>0</th>\n",
       "      <td>1141</td>\n",
       "      <td>A</td>\n",
       "      <td>male</td>\n",
       "      <td>73.47</td>\n",
       "      <td>64</td>\n",
       "      <td>81</td>\n",
       "      <td>87</td>\n",
       "      <td>60</td>\n",
       "      <td>74</td>\n",
       "      <td>71</td>\n",
       "      <td>60</td>\n",
       "    </tr>\n",
       "    <tr>\n",
       "      <th>1</th>\n",
       "      <td>1142</td>\n",
       "      <td>A</td>\n",
       "      <td>female</td>\n",
       "      <td>71.22</td>\n",
       "      <td>57</td>\n",
       "      <td>50</td>\n",
       "      <td>51</td>\n",
       "      <td>51</td>\n",
       "      <td>55</td>\n",
       "      <td>62</td>\n",
       "      <td>61</td>\n",
       "    </tr>\n",
       "    <tr>\n",
       "      <th>2</th>\n",
       "      <td>1143</td>\n",
       "      <td>A</td>\n",
       "      <td>female</td>\n",
       "      <td>74.56</td>\n",
       "      <td>47</td>\n",
       "      <td>48</td>\n",
       "      <td>71</td>\n",
       "      <td>60</td>\n",
       "      <td>61</td>\n",
       "      <td>68</td>\n",
       "      <td>64</td>\n",
       "    </tr>\n",
       "    <tr>\n",
       "      <th>3</th>\n",
       "      <td>1144</td>\n",
       "      <td>A</td>\n",
       "      <td>female</td>\n",
       "      <td>72.89</td>\n",
       "      <td>46</td>\n",
       "      <td>72</td>\n",
       "      <td>38</td>\n",
       "      <td>60</td>\n",
       "      <td>29</td>\n",
       "      <td>54</td>\n",
       "      <td>51</td>\n",
       "    </tr>\n",
       "    <tr>\n",
       "      <th>4</th>\n",
       "      <td>1145</td>\n",
       "      <td>A</td>\n",
       "      <td>female</td>\n",
       "      <td>70.11</td>\n",
       "      <td>49</td>\n",
       "      <td>45</td>\n",
       "      <td>63</td>\n",
       "      <td>60</td>\n",
       "      <td>66</td>\n",
       "      <td>66</td>\n",
       "      <td>61</td>\n",
       "    </tr>\n",
       "    <tr>\n",
       "      <th>...</th>\n",
       "      <td>...</td>\n",
       "      <td>...</td>\n",
       "      <td>...</td>\n",
       "      <td>...</td>\n",
       "      <td>...</td>\n",
       "      <td>...</td>\n",
       "      <td>...</td>\n",
       "      <td>...</td>\n",
       "      <td>...</td>\n",
       "      <td>...</td>\n",
       "      <td>...</td>\n",
       "    </tr>\n",
       "    <tr>\n",
       "      <th>100</th>\n",
       "      <td>1241</td>\n",
       "      <td>A</td>\n",
       "      <td>female</td>\n",
       "      <td>88.34</td>\n",
       "      <td>87</td>\n",
       "      <td>83</td>\n",
       "      <td>92</td>\n",
       "      <td>98</td>\n",
       "      <td>93</td>\n",
       "      <td>86</td>\n",
       "      <td>90</td>\n",
       "    </tr>\n",
       "    <tr>\n",
       "      <th>101</th>\n",
       "      <td>1242</td>\n",
       "      <td>B</td>\n",
       "      <td>male</td>\n",
       "      <td>89.84</td>\n",
       "      <td>98</td>\n",
       "      <td>77</td>\n",
       "      <td>95</td>\n",
       "      <td>98</td>\n",
       "      <td>96</td>\n",
       "      <td>88</td>\n",
       "      <td>100</td>\n",
       "    </tr>\n",
       "    <tr>\n",
       "      <th>102</th>\n",
       "      <td>1243</td>\n",
       "      <td>B</td>\n",
       "      <td>male</td>\n",
       "      <td>88.82</td>\n",
       "      <td>83</td>\n",
       "      <td>80</td>\n",
       "      <td>91</td>\n",
       "      <td>98</td>\n",
       "      <td>93</td>\n",
       "      <td>95</td>\n",
       "      <td>71</td>\n",
       "    </tr>\n",
       "    <tr>\n",
       "      <th>103</th>\n",
       "      <td>1244</td>\n",
       "      <td>A</td>\n",
       "      <td>male</td>\n",
       "      <td>86.60</td>\n",
       "      <td>92</td>\n",
       "      <td>82</td>\n",
       "      <td>91</td>\n",
       "      <td>99</td>\n",
       "      <td>94</td>\n",
       "      <td>82</td>\n",
       "      <td>78</td>\n",
       "    </tr>\n",
       "    <tr>\n",
       "      <th>104</th>\n",
       "      <td>1245</td>\n",
       "      <td>A</td>\n",
       "      <td>male</td>\n",
       "      <td>93.71</td>\n",
       "      <td>93</td>\n",
       "      <td>97</td>\n",
       "      <td>99</td>\n",
       "      <td>100</td>\n",
       "      <td>97</td>\n",
       "      <td>90</td>\n",
       "      <td>90</td>\n",
       "    </tr>\n",
       "  </tbody>\n",
       "</table>\n",
       "<p>105 rows × 11 columns</p>\n",
       "</div>"
      ],
      "text/plain": [
       "       ID class  gender    GPA  Algebra  Calculus1  Calculus2  Statistics  \\\n",
       "0    1141     A    male  73.47       64         81         87          60   \n",
       "1    1142     A  female  71.22       57         50         51          51   \n",
       "2    1143     A  female  74.56       47         48         71          60   \n",
       "3    1144     A  female  72.89       46         72         38          60   \n",
       "4    1145     A  female  70.11       49         45         63          60   \n",
       "..    ...   ...     ...    ...      ...        ...        ...         ...   \n",
       "100  1241     A  female  88.34       87         83         92          98   \n",
       "101  1242     B    male  89.84       98         77         95          98   \n",
       "102  1243     B    male  88.82       83         80         91          98   \n",
       "103  1244     A    male  86.60       92         82         91          99   \n",
       "104  1245     A    male  93.71       93         97         99         100   \n",
       "\n",
       "     Probability  Measure  Functional_analysis  \n",
       "0             74       71                   60  \n",
       "1             55       62                   61  \n",
       "2             61       68                   64  \n",
       "3             29       54                   51  \n",
       "4             66       66                   61  \n",
       "..           ...      ...                  ...  \n",
       "100           93       86                   90  \n",
       "101           96       88                  100  \n",
       "102           93       95                   71  \n",
       "103           94       82                   78  \n",
       "104           97       90                   90  \n",
       "\n",
       "[105 rows x 11 columns]"
      ]
     },
     "execution_count": 3,
     "metadata": {},
     "output_type": "execute_result"
    }
   ],
   "source": [
    "df"
   ]
  },
  {
   "cell_type": "markdown",
   "id": "e65e5674",
   "metadata": {},
   "source": [
    "1. Find all Statistic Measures"
   ]
  },
  {
   "cell_type": "markdown",
   "id": "cc2b0757",
   "metadata": {},
   "source": [
    "### Statistic Measures on GPA Feature"
   ]
  },
  {
   "cell_type": "code",
   "execution_count": 4,
   "id": "c3a1ffa6",
   "metadata": {},
   "outputs": [],
   "source": [
    "GPA = df[\"GPA\"]"
   ]
  },
  {
   "cell_type": "code",
   "execution_count": 5,
   "id": "fc04c119",
   "metadata": {},
   "outputs": [
    {
     "name": "stdout",
     "output_type": "stream",
     "text": [
      "<class 'pandas.core.series.Series'>\n",
      "RangeIndex: 105 entries, 0 to 104\n",
      "Series name: GPA\n",
      "Non-Null Count  Dtype  \n",
      "--------------  -----  \n",
      "105 non-null    float64\n",
      "dtypes: float64(1)\n",
      "memory usage: 972.0 bytes\n"
     ]
    }
   ],
   "source": [
    "GPA.info()"
   ]
  },
  {
   "cell_type": "code",
   "execution_count": 6,
   "id": "bdb98478",
   "metadata": {},
   "outputs": [
    {
     "data": {
      "text/plain": [
       "count    105.000000\n",
       "mean      82.957048\n",
       "std        6.053187\n",
       "min       63.490000\n",
       "25%       79.340000\n",
       "50%       84.110000\n",
       "75%       87.300000\n",
       "max       93.710000\n",
       "Name: GPA, dtype: float64"
      ]
     },
     "execution_count": 6,
     "metadata": {},
     "output_type": "execute_result"
    }
   ],
   "source": [
    "GPA.describe()"
   ]
  },
  {
   "cell_type": "code",
   "execution_count": 7,
   "id": "2a87bdd4",
   "metadata": {},
   "outputs": [
    {
     "data": {
      "text/plain": [
       "84.11"
      ]
     },
     "execution_count": 7,
     "metadata": {},
     "output_type": "execute_result"
    }
   ],
   "source": [
    "GPA.median()"
   ]
  },
  {
   "cell_type": "code",
   "execution_count": 8,
   "id": "3030bced",
   "metadata": {},
   "outputs": [
    {
     "data": {
      "text/plain": [
       "0    77.53\n",
       "1    87.30\n",
       "Name: GPA, dtype: float64"
      ]
     },
     "execution_count": 8,
     "metadata": {},
     "output_type": "execute_result"
    }
   ],
   "source": [
    "GPA.mode()"
   ]
  },
  {
   "cell_type": "code",
   "execution_count": 9,
   "id": "5488ec4b",
   "metadata": {},
   "outputs": [
    {
     "data": {
      "text/plain": [
       "36.64106716117215"
      ]
     },
     "execution_count": 9,
     "metadata": {},
     "output_type": "execute_result"
    }
   ],
   "source": [
    "GPA.var()"
   ]
  },
  {
   "cell_type": "code",
   "execution_count": 10,
   "id": "fceb0441",
   "metadata": {},
   "outputs": [
    {
     "data": {
      "text/plain": [
       "6.053186529520807"
      ]
     },
     "execution_count": 10,
     "metadata": {},
     "output_type": "execute_result"
    }
   ],
   "source": [
    "GPA.std()"
   ]
  },
  {
   "cell_type": "code",
   "execution_count": 11,
   "id": "fe5242b4",
   "metadata": {},
   "outputs": [],
   "source": [
    "Algebra = df[\"Algebra\"]"
   ]
  },
  {
   "cell_type": "code",
   "execution_count": 12,
   "id": "2d2f8bb9",
   "metadata": {},
   "outputs": [
    {
     "name": "stdout",
     "output_type": "stream",
     "text": [
      "<class 'pandas.core.series.Series'>\n",
      "RangeIndex: 105 entries, 0 to 104\n",
      "Series name: Algebra\n",
      "Non-Null Count  Dtype\n",
      "--------------  -----\n",
      "105 non-null    int64\n",
      "dtypes: int64(1)\n",
      "memory usage: 972.0 bytes\n"
     ]
    }
   ],
   "source": [
    "Algebra.info()"
   ]
  },
  {
   "cell_type": "code",
   "execution_count": 13,
   "id": "25769bf4",
   "metadata": {},
   "outputs": [
    {
     "data": {
      "text/plain": [
       "count    105.000000\n",
       "mean      76.057143\n",
       "std       11.722618\n",
       "min       46.000000\n",
       "25%       67.000000\n",
       "50%       76.000000\n",
       "75%       84.000000\n",
       "max       98.000000\n",
       "Name: Algebra, dtype: float64"
      ]
     },
     "execution_count": 13,
     "metadata": {},
     "output_type": "execute_result"
    }
   ],
   "source": [
    "Algebra.describe()"
   ]
  },
  {
   "cell_type": "code",
   "execution_count": 14,
   "id": "27ab73be",
   "metadata": {},
   "outputs": [
    {
     "data": {
      "text/plain": [
       "76.0"
      ]
     },
     "execution_count": 14,
     "metadata": {},
     "output_type": "execute_result"
    }
   ],
   "source": [
    "Algebra.median()"
   ]
  },
  {
   "cell_type": "code",
   "execution_count": 15,
   "id": "66d94e8a",
   "metadata": {},
   "outputs": [
    {
     "data": {
      "text/plain": [
       "0    82\n",
       "Name: Algebra, dtype: int64"
      ]
     },
     "execution_count": 15,
     "metadata": {},
     "output_type": "execute_result"
    }
   ],
   "source": [
    "Algebra.mode()"
   ]
  },
  {
   "cell_type": "code",
   "execution_count": 16,
   "id": "5ef235e9",
   "metadata": {},
   "outputs": [
    {
     "data": {
      "text/plain": [
       "11.722618317585036"
      ]
     },
     "execution_count": 16,
     "metadata": {},
     "output_type": "execute_result"
    }
   ],
   "source": [
    "Algebra.std()"
   ]
  },
  {
   "cell_type": "code",
   "execution_count": 17,
   "id": "1c47243b",
   "metadata": {},
   "outputs": [
    {
     "data": {
      "text/plain": [
       "137.41978021978022"
      ]
     },
     "execution_count": 17,
     "metadata": {},
     "output_type": "execute_result"
    }
   ],
   "source": [
    "Algebra.var()"
   ]
  },
  {
   "cell_type": "code",
   "execution_count": 18,
   "id": "45d4ba1d",
   "metadata": {},
   "outputs": [],
   "source": [
    "Calculus1 = df[\"Calculus1\"]"
   ]
  },
  {
   "cell_type": "code",
   "execution_count": 19,
   "id": "ef4607eb",
   "metadata": {},
   "outputs": [
    {
     "name": "stdout",
     "output_type": "stream",
     "text": [
      "<class 'pandas.core.series.Series'>\n",
      "RangeIndex: 105 entries, 0 to 104\n",
      "Series name: Calculus1\n",
      "Non-Null Count  Dtype\n",
      "--------------  -----\n",
      "105 non-null    int64\n",
      "dtypes: int64(1)\n",
      "memory usage: 972.0 bytes\n"
     ]
    }
   ],
   "source": [
    "Calculus1.info()"
   ]
  },
  {
   "cell_type": "code",
   "execution_count": 20,
   "id": "3731be53",
   "metadata": {},
   "outputs": [
    {
     "data": {
      "text/plain": [
       "count    105.000000\n",
       "mean      71.961905\n",
       "std       12.197039\n",
       "min       38.000000\n",
       "25%       64.000000\n",
       "50%       73.000000\n",
       "75%       80.000000\n",
       "max      100.000000\n",
       "Name: Calculus1, dtype: float64"
      ]
     },
     "execution_count": 20,
     "metadata": {},
     "output_type": "execute_result"
    }
   ],
   "source": [
    "Calculus1.describe()"
   ]
  },
  {
   "cell_type": "code",
   "execution_count": 21,
   "id": "00e99eb9",
   "metadata": {},
   "outputs": [
    {
     "data": {
      "text/plain": [
       "73.0"
      ]
     },
     "execution_count": 21,
     "metadata": {},
     "output_type": "execute_result"
    }
   ],
   "source": [
    "Calculus1.median()"
   ]
  },
  {
   "cell_type": "code",
   "execution_count": 22,
   "id": "70c9e440",
   "metadata": {},
   "outputs": [
    {
     "data": {
      "text/plain": [
       "0    60\n",
       "Name: Calculus1, dtype: int64"
      ]
     },
     "execution_count": 22,
     "metadata": {},
     "output_type": "execute_result"
    }
   ],
   "source": [
    "Calculus1.mode()"
   ]
  },
  {
   "cell_type": "code",
   "execution_count": 23,
   "id": "98658d06",
   "metadata": {},
   "outputs": [
    {
     "data": {
      "text/plain": [
       "148.76776556776557"
      ]
     },
     "execution_count": 23,
     "metadata": {},
     "output_type": "execute_result"
    }
   ],
   "source": [
    "Calculus1.var()"
   ]
  },
  {
   "cell_type": "code",
   "execution_count": 24,
   "id": "3e6cc65e",
   "metadata": {},
   "outputs": [
    {
     "data": {
      "text/plain": [
       "12.197039213176515"
      ]
     },
     "execution_count": 24,
     "metadata": {},
     "output_type": "execute_result"
    }
   ],
   "source": [
    "Calculus1.std()"
   ]
  },
  {
   "cell_type": "code",
   "execution_count": 25,
   "id": "2d844599",
   "metadata": {},
   "outputs": [],
   "source": [
    "Calculus2 = df[\"Calculus2\"]"
   ]
  },
  {
   "cell_type": "code",
   "execution_count": 26,
   "id": "efc4198f",
   "metadata": {},
   "outputs": [
    {
     "name": "stdout",
     "output_type": "stream",
     "text": [
      "<class 'pandas.core.series.Series'>\n",
      "RangeIndex: 105 entries, 0 to 104\n",
      "Series name: Calculus2\n",
      "Non-Null Count  Dtype\n",
      "--------------  -----\n",
      "105 non-null    int64\n",
      "dtypes: int64(1)\n",
      "memory usage: 972.0 bytes\n"
     ]
    }
   ],
   "source": [
    "Calculus2.info()"
   ]
  },
  {
   "cell_type": "code",
   "execution_count": 27,
   "id": "6e48820d",
   "metadata": {},
   "outputs": [
    {
     "data": {
      "text/plain": [
       "count    105.000000\n",
       "mean      78.942857\n",
       "std       14.997326\n",
       "min       17.000000\n",
       "25%       71.000000\n",
       "50%       83.000000\n",
       "75%       91.000000\n",
       "max       99.000000\n",
       "Name: Calculus2, dtype: float64"
      ]
     },
     "execution_count": 27,
     "metadata": {},
     "output_type": "execute_result"
    }
   ],
   "source": [
    "Calculus2.describe()"
   ]
  },
  {
   "cell_type": "code",
   "execution_count": 28,
   "id": "28576eea",
   "metadata": {},
   "outputs": [
    {
     "data": {
      "text/plain": [
       "83.0"
      ]
     },
     "execution_count": 28,
     "metadata": {},
     "output_type": "execute_result"
    }
   ],
   "source": [
    "Calculus2.median()"
   ]
  },
  {
   "cell_type": "code",
   "execution_count": 29,
   "id": "49015052",
   "metadata": {},
   "outputs": [
    {
     "data": {
      "text/plain": [
       "0    71\n",
       "1    85\n",
       "Name: Calculus2, dtype: int64"
      ]
     },
     "execution_count": 29,
     "metadata": {},
     "output_type": "execute_result"
    }
   ],
   "source": [
    "Calculus2.mode()"
   ]
  },
  {
   "cell_type": "code",
   "execution_count": 30,
   "id": "4328c077",
   "metadata": {},
   "outputs": [
    {
     "data": {
      "text/plain": [
       "224.91978021978022"
      ]
     },
     "execution_count": 30,
     "metadata": {},
     "output_type": "execute_result"
    }
   ],
   "source": [
    "Calculus2.var()"
   ]
  },
  {
   "cell_type": "code",
   "execution_count": 31,
   "id": "34d4ab26",
   "metadata": {},
   "outputs": [
    {
     "data": {
      "text/plain": [
       "14.997325768942282"
      ]
     },
     "execution_count": 31,
     "metadata": {},
     "output_type": "execute_result"
    }
   ],
   "source": [
    "Calculus2.std()"
   ]
  },
  {
   "cell_type": "code",
   "execution_count": 32,
   "id": "6dfd3414",
   "metadata": {},
   "outputs": [],
   "source": [
    "Statistics = df[\"Statistics\"]"
   ]
  },
  {
   "cell_type": "code",
   "execution_count": 33,
   "id": "330f4199",
   "metadata": {},
   "outputs": [
    {
     "name": "stdout",
     "output_type": "stream",
     "text": [
      "<class 'pandas.core.series.Series'>\n",
      "RangeIndex: 105 entries, 0 to 104\n",
      "Series name: Statistics\n",
      "Non-Null Count  Dtype\n",
      "--------------  -----\n",
      "105 non-null    int64\n",
      "dtypes: int64(1)\n",
      "memory usage: 972.0 bytes\n"
     ]
    }
   ],
   "source": [
    "Statistics.info()"
   ]
  },
  {
   "cell_type": "code",
   "execution_count": 34,
   "id": "7bfb33e0",
   "metadata": {},
   "outputs": [
    {
     "data": {
      "text/plain": [
       "count    105.000000\n",
       "mean      85.133333\n",
       "std       10.269509\n",
       "min       51.000000\n",
       "25%       80.000000\n",
       "50%       87.000000\n",
       "75%       92.000000\n",
       "max      100.000000\n",
       "Name: Statistics, dtype: float64"
      ]
     },
     "execution_count": 34,
     "metadata": {},
     "output_type": "execute_result"
    }
   ],
   "source": [
    "Statistics.describe()"
   ]
  },
  {
   "cell_type": "code",
   "execution_count": 35,
   "id": "69636fff",
   "metadata": {},
   "outputs": [
    {
     "data": {
      "text/plain": [
       "87.0"
      ]
     },
     "execution_count": 35,
     "metadata": {},
     "output_type": "execute_result"
    }
   ],
   "source": [
    "Statistics.median()"
   ]
  },
  {
   "cell_type": "code",
   "execution_count": 36,
   "id": "adf41bd2",
   "metadata": {},
   "outputs": [
    {
     "data": {
      "text/plain": [
       "0    92\n",
       "Name: Statistics, dtype: int64"
      ]
     },
     "execution_count": 36,
     "metadata": {},
     "output_type": "execute_result"
    }
   ],
   "source": [
    "Statistics.mode()"
   ]
  },
  {
   "cell_type": "code",
   "execution_count": 37,
   "id": "a57d00bd",
   "metadata": {},
   "outputs": [
    {
     "data": {
      "text/plain": [
       "105.4628205128205"
      ]
     },
     "execution_count": 37,
     "metadata": {},
     "output_type": "execute_result"
    }
   ],
   "source": [
    "Statistics.var()"
   ]
  },
  {
   "cell_type": "code",
   "execution_count": 38,
   "id": "ffbdc20c",
   "metadata": {},
   "outputs": [
    {
     "data": {
      "text/plain": [
       "10.269509263485793"
      ]
     },
     "execution_count": 38,
     "metadata": {},
     "output_type": "execute_result"
    }
   ],
   "source": [
    "Statistics.std()"
   ]
  },
  {
   "cell_type": "code",
   "execution_count": 39,
   "id": "dabc9a85",
   "metadata": {},
   "outputs": [],
   "source": [
    "Probability = df[\"Probability\"]"
   ]
  },
  {
   "cell_type": "code",
   "execution_count": 40,
   "id": "3cf68068",
   "metadata": {},
   "outputs": [
    {
     "name": "stdout",
     "output_type": "stream",
     "text": [
      "<class 'pandas.core.series.Series'>\n",
      "RangeIndex: 105 entries, 0 to 104\n",
      "Series name: Probability\n",
      "Non-Null Count  Dtype\n",
      "--------------  -----\n",
      "105 non-null    int64\n",
      "dtypes: int64(1)\n",
      "memory usage: 972.0 bytes\n"
     ]
    }
   ],
   "source": [
    "Probability.info()"
   ]
  },
  {
   "cell_type": "code",
   "execution_count": 41,
   "id": "b514fe8b",
   "metadata": {},
   "outputs": [
    {
     "data": {
      "text/plain": [
       "count    105.000000\n",
       "mean      83.876190\n",
       "std       10.514363\n",
       "min       29.000000\n",
       "25%       79.000000\n",
       "50%       85.000000\n",
       "75%       92.000000\n",
       "max       97.000000\n",
       "Name: Probability, dtype: float64"
      ]
     },
     "execution_count": 41,
     "metadata": {},
     "output_type": "execute_result"
    }
   ],
   "source": [
    "Probability.describe()"
   ]
  },
  {
   "cell_type": "code",
   "execution_count": 42,
   "id": "39830ef7",
   "metadata": {},
   "outputs": [
    {
     "data": {
      "text/plain": [
       "85.0"
      ]
     },
     "execution_count": 42,
     "metadata": {},
     "output_type": "execute_result"
    }
   ],
   "source": [
    "Probability.median()"
   ]
  },
  {
   "cell_type": "code",
   "execution_count": 43,
   "id": "c9cee06a",
   "metadata": {},
   "outputs": [
    {
     "data": {
      "text/plain": [
       "110.55183150183149"
      ]
     },
     "execution_count": 43,
     "metadata": {},
     "output_type": "execute_result"
    }
   ],
   "source": [
    "Probability.var()"
   ]
  },
  {
   "cell_type": "code",
   "execution_count": 44,
   "id": "e273be4c",
   "metadata": {},
   "outputs": [
    {
     "data": {
      "text/plain": [
       "10.51436310490709"
      ]
     },
     "execution_count": 44,
     "metadata": {},
     "output_type": "execute_result"
    }
   ],
   "source": [
    "Probability.std()"
   ]
  },
  {
   "cell_type": "code",
   "execution_count": 45,
   "id": "cafa60b4",
   "metadata": {},
   "outputs": [
    {
     "data": {
      "text/plain": [
       "0    82\n",
       "Name: Probability, dtype: int64"
      ]
     },
     "execution_count": 45,
     "metadata": {},
     "output_type": "execute_result"
    }
   ],
   "source": [
    "Probability.mode()"
   ]
  },
  {
   "cell_type": "code",
   "execution_count": 46,
   "id": "07788bfe",
   "metadata": {},
   "outputs": [],
   "source": [
    "Measure = df[\"Measure\"]"
   ]
  },
  {
   "cell_type": "code",
   "execution_count": 47,
   "id": "56c8d652",
   "metadata": {},
   "outputs": [
    {
     "name": "stdout",
     "output_type": "stream",
     "text": [
      "<class 'pandas.core.series.Series'>\n",
      "RangeIndex: 105 entries, 0 to 104\n",
      "Series name: Measure\n",
      "Non-Null Count  Dtype\n",
      "--------------  -----\n",
      "105 non-null    int64\n",
      "dtypes: int64(1)\n",
      "memory usage: 972.0 bytes\n"
     ]
    }
   ],
   "source": [
    "Measure.info()"
   ]
  },
  {
   "cell_type": "code",
   "execution_count": 48,
   "id": "20ea751c",
   "metadata": {},
   "outputs": [
    {
     "data": {
      "text/plain": [
       "count    105.000000\n",
       "mean      80.761905\n",
       "std       10.296119\n",
       "min       54.000000\n",
       "25%       74.000000\n",
       "50%       81.000000\n",
       "75%       89.000000\n",
       "max      100.000000\n",
       "Name: Measure, dtype: float64"
      ]
     },
     "execution_count": 48,
     "metadata": {},
     "output_type": "execute_result"
    }
   ],
   "source": [
    "Measure.describe()"
   ]
  },
  {
   "cell_type": "code",
   "execution_count": 49,
   "id": "942af6e5",
   "metadata": {},
   "outputs": [
    {
     "data": {
      "text/plain": [
       "10.296119330120122"
      ]
     },
     "execution_count": 49,
     "metadata": {},
     "output_type": "execute_result"
    }
   ],
   "source": [
    "Measure.std()"
   ]
  },
  {
   "cell_type": "code",
   "execution_count": 50,
   "id": "7ba5e197",
   "metadata": {},
   "outputs": [
    {
     "data": {
      "text/plain": [
       "106.01007326007326"
      ]
     },
     "execution_count": 50,
     "metadata": {},
     "output_type": "execute_result"
    }
   ],
   "source": [
    "Measure.var()"
   ]
  },
  {
   "cell_type": "code",
   "execution_count": 51,
   "id": "bbfecff4",
   "metadata": {},
   "outputs": [
    {
     "data": {
      "text/plain": [
       "0    87\n",
       "Name: Measure, dtype: int64"
      ]
     },
     "execution_count": 51,
     "metadata": {},
     "output_type": "execute_result"
    }
   ],
   "source": [
    "Measure.mode()"
   ]
  },
  {
   "cell_type": "code",
   "execution_count": 52,
   "id": "ac7dc2be",
   "metadata": {},
   "outputs": [
    {
     "data": {
      "text/plain": [
       "81.0"
      ]
     },
     "execution_count": 52,
     "metadata": {},
     "output_type": "execute_result"
    }
   ],
   "source": [
    "Measure.median()"
   ]
  },
  {
   "cell_type": "code",
   "execution_count": 53,
   "id": "b827f840",
   "metadata": {},
   "outputs": [],
   "source": [
    "Functional_analysis = df[\"Functional_analysis\"]"
   ]
  },
  {
   "cell_type": "code",
   "execution_count": 54,
   "id": "8f84c239",
   "metadata": {},
   "outputs": [
    {
     "name": "stdout",
     "output_type": "stream",
     "text": [
      "<class 'pandas.core.series.Series'>\n",
      "RangeIndex: 105 entries, 0 to 104\n",
      "Series name: Functional_analysis\n",
      "Non-Null Count  Dtype\n",
      "--------------  -----\n",
      "105 non-null    int64\n",
      "dtypes: int64(1)\n",
      "memory usage: 972.0 bytes\n"
     ]
    }
   ],
   "source": [
    "Functional_analysis.info()"
   ]
  },
  {
   "cell_type": "code",
   "execution_count": 55,
   "id": "25e51d6e",
   "metadata": {},
   "outputs": [
    {
     "data": {
      "text/plain": [
       "count    105.000000\n",
       "mean      75.323810\n",
       "std       13.003324\n",
       "min        9.000000\n",
       "25%       67.000000\n",
       "50%       76.000000\n",
       "75%       85.000000\n",
       "max      100.000000\n",
       "Name: Functional_analysis, dtype: float64"
      ]
     },
     "execution_count": 55,
     "metadata": {},
     "output_type": "execute_result"
    }
   ],
   "source": [
    "Functional_analysis.describe()"
   ]
  },
  {
   "cell_type": "code",
   "execution_count": 56,
   "id": "8840cb81",
   "metadata": {},
   "outputs": [
    {
     "data": {
      "text/plain": [
       "76.0"
      ]
     },
     "execution_count": 56,
     "metadata": {},
     "output_type": "execute_result"
    }
   ],
   "source": [
    "Functional_analysis.median()"
   ]
  },
  {
   "cell_type": "code",
   "execution_count": 57,
   "id": "91ec513b",
   "metadata": {},
   "outputs": [
    {
     "data": {
      "text/plain": [
       "0    64\n",
       "Name: Functional_analysis, dtype: int64"
      ]
     },
     "execution_count": 57,
     "metadata": {},
     "output_type": "execute_result"
    }
   ],
   "source": [
    "Functional_analysis.mode()"
   ]
  },
  {
   "cell_type": "code",
   "execution_count": 58,
   "id": "161d5a69",
   "metadata": {},
   "outputs": [
    {
     "data": {
      "text/plain": [
       "169.08644688644688"
      ]
     },
     "execution_count": 58,
     "metadata": {},
     "output_type": "execute_result"
    }
   ],
   "source": [
    "Functional_analysis.var()"
   ]
  },
  {
   "cell_type": "code",
   "execution_count": 59,
   "id": "c80169c4",
   "metadata": {},
   "outputs": [
    {
     "data": {
      "text/plain": [
       "13.003324455170949"
      ]
     },
     "execution_count": 59,
     "metadata": {},
     "output_type": "execute_result"
    }
   ],
   "source": [
    "Functional_analysis.std()"
   ]
  },
  {
   "cell_type": "markdown",
   "id": "a1dcb602",
   "metadata": {},
   "source": [
    "2. Which subject has highest average ?\n"
   ]
  },
  {
   "cell_type": "code",
   "execution_count": 6,
   "id": "9cfaca3c",
   "metadata": {},
   "outputs": [
    {
     "data": {
      "text/html": [
       "<div>\n",
       "<style scoped>\n",
       "    .dataframe tbody tr th:only-of-type {\n",
       "        vertical-align: middle;\n",
       "    }\n",
       "\n",
       "    .dataframe tbody tr th {\n",
       "        vertical-align: top;\n",
       "    }\n",
       "\n",
       "    .dataframe thead th {\n",
       "        text-align: right;\n",
       "    }\n",
       "</style>\n",
       "<table border=\"1\" class=\"dataframe\">\n",
       "  <thead>\n",
       "    <tr style=\"text-align: right;\">\n",
       "      <th></th>\n",
       "      <th>ID</th>\n",
       "      <th>class</th>\n",
       "      <th>gender</th>\n",
       "      <th>GPA</th>\n",
       "      <th>Algebra</th>\n",
       "      <th>Calculus1</th>\n",
       "      <th>Calculus2</th>\n",
       "      <th>Statistics</th>\n",
       "      <th>Probability</th>\n",
       "      <th>Measure</th>\n",
       "      <th>Functional_analysis</th>\n",
       "    </tr>\n",
       "  </thead>\n",
       "  <tbody>\n",
       "    <tr>\n",
       "      <th>0</th>\n",
       "      <td>1141</td>\n",
       "      <td>A</td>\n",
       "      <td>male</td>\n",
       "      <td>73.47</td>\n",
       "      <td>64</td>\n",
       "      <td>81</td>\n",
       "      <td>87</td>\n",
       "      <td>60</td>\n",
       "      <td>74</td>\n",
       "      <td>71</td>\n",
       "      <td>60</td>\n",
       "    </tr>\n",
       "  </tbody>\n",
       "</table>\n",
       "</div>"
      ],
      "text/plain": [
       "     ID class gender    GPA  Algebra  Calculus1  Calculus2  Statistics  \\\n",
       "0  1141     A   male  73.47       64         81         87          60   \n",
       "\n",
       "   Probability  Measure  Functional_analysis  \n",
       "0           74       71                   60  "
      ]
     },
     "execution_count": 6,
     "metadata": {},
     "output_type": "execute_result"
    }
   ],
   "source": [
    "df.head(1)"
   ]
  },
  {
   "cell_type": "code",
   "execution_count": 8,
   "id": "60fa30e5",
   "metadata": {},
   "outputs": [
    {
     "name": "stdout",
     "output_type": "stream",
     "text": [
      "Algebra                76.057143\n",
      "Calculus1              71.961905\n",
      "Calculus2              78.942857\n",
      "Statistics             85.133333\n",
      "Probability            83.876190\n",
      "Measure                80.761905\n",
      "Functional_analysis    75.323810\n",
      "dtype: float64\n",
      "Highest Average = Statistics\n"
     ]
    }
   ],
   "source": [
    "average = df.iloc[:,4:].mean()\n",
    "\n",
    "print(average)\n",
    "\n",
    "print(\"Highest Average =\",average.idxmax())"
   ]
  },
  {
   "cell_type": "markdown",
   "id": "33d9b2a7",
   "metadata": {},
   "source": [
    "3. What are the Student IDs who got more tham 80% GPA?"
   ]
  },
  {
   "cell_type": "code",
   "execution_count": 71,
   "id": "aa0bc9e4",
   "metadata": {},
   "outputs": [
    {
     "data": {
      "text/plain": [
       "11     1152\n",
       "13     1154\n",
       "14     1155\n",
       "15     1156\n",
       "17     1158\n",
       "       ... \n",
       "100    1241\n",
       "101    1242\n",
       "102    1243\n",
       "103    1244\n",
       "104    1245\n",
       "Name: ID, Length: 76, dtype: int64"
      ]
     },
     "execution_count": 71,
     "metadata": {},
     "output_type": "execute_result"
    }
   ],
   "source": [
    "df[(df[\"GPA\"]>80)][\"ID\"]"
   ]
  },
  {
   "cell_type": "markdown",
   "id": "17bd45f2",
   "metadata": {},
   "source": [
    "4. How many female students are there in the class?"
   ]
  },
  {
   "cell_type": "code",
   "execution_count": 72,
   "id": "4b0233f0",
   "metadata": {},
   "outputs": [
    {
     "data": {
      "text/plain": [
       "68"
      ]
     },
     "execution_count": 72,
     "metadata": {},
     "output_type": "execute_result"
    }
   ],
   "source": [
    "len(df[df[\"gender\"] == \"female\"])"
   ]
  },
  {
   "cell_type": "markdown",
   "id": "97c9262a",
   "metadata": {},
   "source": [
    "5. What is the ratio of male students and female students?"
   ]
  },
  {
   "cell_type": "code",
   "execution_count": 7,
   "id": "97cee053",
   "metadata": {},
   "outputs": [
    {
     "name": "stdout",
     "output_type": "stream",
     "text": [
      "37 : 68\n"
     ]
    }
   ],
   "source": [
    "\n",
    "male = len(df[df[\"gender\"]==\"male\"])\n",
    "female = len(df[df[\"gender\"]==\"female\"])\n",
    "print(f\"{male} : {female}\")"
   ]
  },
  {
   "cell_type": "markdown",
   "id": "71c1e459",
   "metadata": {},
   "source": [
    "6. What are the marks of male students in statistics ?\n"
   ]
  },
  {
   "cell_type": "code",
   "execution_count": 9,
   "id": "a7d1ab9f",
   "metadata": {},
   "outputs": [
    {
     "data": {
      "text/html": [
       "<div>\n",
       "<style scoped>\n",
       "    .dataframe tbody tr th:only-of-type {\n",
       "        vertical-align: middle;\n",
       "    }\n",
       "\n",
       "    .dataframe tbody tr th {\n",
       "        vertical-align: top;\n",
       "    }\n",
       "\n",
       "    .dataframe thead th {\n",
       "        text-align: right;\n",
       "    }\n",
       "</style>\n",
       "<table border=\"1\" class=\"dataframe\">\n",
       "  <thead>\n",
       "    <tr style=\"text-align: right;\">\n",
       "      <th></th>\n",
       "      <th>ID</th>\n",
       "      <th>class</th>\n",
       "      <th>gender</th>\n",
       "      <th>GPA</th>\n",
       "      <th>Algebra</th>\n",
       "      <th>Calculus1</th>\n",
       "      <th>Calculus2</th>\n",
       "      <th>Statistics</th>\n",
       "      <th>Probability</th>\n",
       "      <th>Measure</th>\n",
       "      <th>Functional_analysis</th>\n",
       "    </tr>\n",
       "  </thead>\n",
       "  <tbody>\n",
       "    <tr>\n",
       "      <th>0</th>\n",
       "      <td>1141</td>\n",
       "      <td>A</td>\n",
       "      <td>male</td>\n",
       "      <td>73.47</td>\n",
       "      <td>64</td>\n",
       "      <td>81</td>\n",
       "      <td>87</td>\n",
       "      <td>60</td>\n",
       "      <td>74</td>\n",
       "      <td>71</td>\n",
       "      <td>60</td>\n",
       "    </tr>\n",
       "  </tbody>\n",
       "</table>\n",
       "</div>"
      ],
      "text/plain": [
       "     ID class gender    GPA  Algebra  Calculus1  Calculus2  Statistics  \\\n",
       "0  1141     A   male  73.47       64         81         87          60   \n",
       "\n",
       "   Probability  Measure  Functional_analysis  \n",
       "0           74       71                   60  "
      ]
     },
     "execution_count": 9,
     "metadata": {},
     "output_type": "execute_result"
    }
   ],
   "source": [
    "df.head(1)"
   ]
  },
  {
   "cell_type": "code",
   "execution_count": 13,
   "id": "820675d1",
   "metadata": {},
   "outputs": [
    {
     "data": {
      "text/plain": [
       "0       60\n",
       "5       61\n",
       "6       63\n",
       "10      69\n",
       "13      73\n",
       "14      76\n",
       "16      76\n",
       "17      76\n",
       "18      76\n",
       "19      78\n",
       "20      78\n",
       "21      78\n",
       "24      80\n",
       "28      83\n",
       "31      83\n",
       "32      83\n",
       "33      83\n",
       "40      85\n",
       "47      87\n",
       "50      87\n",
       "59      89\n",
       "61      89\n",
       "65      90\n",
       "72      92\n",
       "78      92\n",
       "82      92\n",
       "89      94\n",
       "90      95\n",
       "92      95\n",
       "96      97\n",
       "97      97\n",
       "98      97\n",
       "99      97\n",
       "101     98\n",
       "102     98\n",
       "103     99\n",
       "104    100\n",
       "Name: Statistics, dtype: int64"
      ]
     },
     "execution_count": 13,
     "metadata": {},
     "output_type": "execute_result"
    }
   ],
   "source": [
    "df[df[\"gender\"]==\"male\"][\"Statistics\"]"
   ]
  },
  {
   "cell_type": "markdown",
   "id": "b351892d",
   "metadata": {},
   "source": [
    "7. What is the ID of the class topper ?\n"
   ]
  },
  {
   "cell_type": "code",
   "execution_count": 13,
   "id": "6c2af7b3",
   "metadata": {},
   "outputs": [
    {
     "data": {
      "text/plain": [
       "104"
      ]
     },
     "execution_count": 13,
     "metadata": {},
     "output_type": "execute_result"
    }
   ],
   "source": [
    "topper_gpa = df[\"GPA\"].idxmax()\n",
    "topper_gpa"
   ]
  },
  {
   "cell_type": "code",
   "execution_count": 8,
   "id": "fd0a5ddc",
   "metadata": {},
   "outputs": [
    {
     "name": "stdout",
     "output_type": "stream",
     "text": [
      "Topper Id : 1245\n"
     ]
    }
   ],
   "source": [
    "topper_id = df.loc[topper_gpa,\"ID\"]\n",
    "print(f\"Topper Id : {topper_id}\")"
   ]
  },
  {
   "cell_type": "markdown",
   "id": "3c10a7e3",
   "metadata": {},
   "source": [
    "8. What is the gender of probabilty topper?\n"
   ]
  },
  {
   "cell_type": "code",
   "execution_count": 9,
   "id": "738f702b",
   "metadata": {},
   "outputs": [
    {
     "data": {
      "text/html": [
       "<div>\n",
       "<style scoped>\n",
       "    .dataframe tbody tr th:only-of-type {\n",
       "        vertical-align: middle;\n",
       "    }\n",
       "\n",
       "    .dataframe tbody tr th {\n",
       "        vertical-align: top;\n",
       "    }\n",
       "\n",
       "    .dataframe thead th {\n",
       "        text-align: right;\n",
       "    }\n",
       "</style>\n",
       "<table border=\"1\" class=\"dataframe\">\n",
       "  <thead>\n",
       "    <tr style=\"text-align: right;\">\n",
       "      <th></th>\n",
       "      <th>ID</th>\n",
       "      <th>class</th>\n",
       "      <th>gender</th>\n",
       "      <th>GPA</th>\n",
       "      <th>Algebra</th>\n",
       "      <th>Calculus1</th>\n",
       "      <th>Calculus2</th>\n",
       "      <th>Statistics</th>\n",
       "      <th>Probability</th>\n",
       "      <th>Measure</th>\n",
       "      <th>Functional_analysis</th>\n",
       "    </tr>\n",
       "  </thead>\n",
       "  <tbody>\n",
       "    <tr>\n",
       "      <th>0</th>\n",
       "      <td>1141</td>\n",
       "      <td>A</td>\n",
       "      <td>male</td>\n",
       "      <td>73.47</td>\n",
       "      <td>64</td>\n",
       "      <td>81</td>\n",
       "      <td>87</td>\n",
       "      <td>60</td>\n",
       "      <td>74</td>\n",
       "      <td>71</td>\n",
       "      <td>60</td>\n",
       "    </tr>\n",
       "  </tbody>\n",
       "</table>\n",
       "</div>"
      ],
      "text/plain": [
       "     ID class gender    GPA  Algebra  Calculus1  Calculus2  Statistics  \\\n",
       "0  1141     A   male  73.47       64         81         87          60   \n",
       "\n",
       "   Probability  Measure  Functional_analysis  \n",
       "0           74       71                   60  "
      ]
     },
     "execution_count": 9,
     "metadata": {},
     "output_type": "execute_result"
    }
   ],
   "source": [
    "df.head(1)"
   ]
  },
  {
   "cell_type": "code",
   "execution_count": 14,
   "id": "11e03b74",
   "metadata": {},
   "outputs": [
    {
     "data": {
      "text/plain": [
       "97"
      ]
     },
     "execution_count": 14,
     "metadata": {},
     "output_type": "execute_result"
    }
   ],
   "source": [
    "a = df[\"Probability\"].max()\n",
    "a"
   ]
  },
  {
   "cell_type": "code",
   "execution_count": 16,
   "id": "f1713f69",
   "metadata": {},
   "outputs": [
    {
     "data": {
      "text/plain": [
       "'male'"
      ]
     },
     "execution_count": 16,
     "metadata": {},
     "output_type": "execute_result"
    }
   ],
   "source": [
    "df.loc[a,\"gender\"]"
   ]
  },
  {
   "cell_type": "markdown",
   "id": "a2745740",
   "metadata": {},
   "source": [
    "9. Create Pivot Table for gender and class?"
   ]
  },
  {
   "cell_type": "code",
   "execution_count": 17,
   "id": "a9559dc0",
   "metadata": {},
   "outputs": [
    {
     "data": {
      "text/html": [
       "<div>\n",
       "<style scoped>\n",
       "    .dataframe tbody tr th:only-of-type {\n",
       "        vertical-align: middle;\n",
       "    }\n",
       "\n",
       "    .dataframe tbody tr th {\n",
       "        vertical-align: top;\n",
       "    }\n",
       "\n",
       "    .dataframe thead th {\n",
       "        text-align: right;\n",
       "    }\n",
       "</style>\n",
       "<table border=\"1\" class=\"dataframe\">\n",
       "  <thead>\n",
       "    <tr style=\"text-align: right;\">\n",
       "      <th>class</th>\n",
       "      <th>A</th>\n",
       "      <th>B</th>\n",
       "    </tr>\n",
       "    <tr>\n",
       "      <th>gender</th>\n",
       "      <th></th>\n",
       "      <th></th>\n",
       "    </tr>\n",
       "  </thead>\n",
       "  <tbody>\n",
       "    <tr>\n",
       "      <th>female</th>\n",
       "      <td>48</td>\n",
       "      <td>20</td>\n",
       "    </tr>\n",
       "    <tr>\n",
       "      <th>male</th>\n",
       "      <td>28</td>\n",
       "      <td>9</td>\n",
       "    </tr>\n",
       "  </tbody>\n",
       "</table>\n",
       "</div>"
      ],
      "text/plain": [
       "class    A   B\n",
       "gender        \n",
       "female  48  20\n",
       "male    28   9"
      ]
     },
     "execution_count": 17,
     "metadata": {},
     "output_type": "execute_result"
    }
   ],
   "source": [
    "pd.crosstab(df[\"gender\"],df[\"class\"])"
   ]
  },
  {
   "cell_type": "markdown",
   "id": "7bd0d577",
   "metadata": {},
   "source": [
    "10. Which subject got least average marks.?\n"
   ]
  },
  {
   "cell_type": "code",
   "execution_count": 20,
   "id": "69ee9e19",
   "metadata": {},
   "outputs": [
    {
     "data": {
      "text/html": [
       "<div>\n",
       "<style scoped>\n",
       "    .dataframe tbody tr th:only-of-type {\n",
       "        vertical-align: middle;\n",
       "    }\n",
       "\n",
       "    .dataframe tbody tr th {\n",
       "        vertical-align: top;\n",
       "    }\n",
       "\n",
       "    .dataframe thead th {\n",
       "        text-align: right;\n",
       "    }\n",
       "</style>\n",
       "<table border=\"1\" class=\"dataframe\">\n",
       "  <thead>\n",
       "    <tr style=\"text-align: right;\">\n",
       "      <th></th>\n",
       "      <th>ID</th>\n",
       "      <th>GPA</th>\n",
       "      <th>Algebra</th>\n",
       "      <th>Calculus1</th>\n",
       "      <th>Calculus2</th>\n",
       "      <th>Statistics</th>\n",
       "      <th>Probability</th>\n",
       "      <th>Measure</th>\n",
       "      <th>Functional_analysis</th>\n",
       "    </tr>\n",
       "  </thead>\n",
       "  <tbody>\n",
       "    <tr>\n",
       "      <th>count</th>\n",
       "      <td>105.000000</td>\n",
       "      <td>105.000000</td>\n",
       "      <td>105.000000</td>\n",
       "      <td>105.000000</td>\n",
       "      <td>105.000000</td>\n",
       "      <td>105.000000</td>\n",
       "      <td>105.000000</td>\n",
       "      <td>105.000000</td>\n",
       "      <td>105.000000</td>\n",
       "    </tr>\n",
       "    <tr>\n",
       "      <th>mean</th>\n",
       "      <td>1193.000000</td>\n",
       "      <td>82.957048</td>\n",
       "      <td>76.057143</td>\n",
       "      <td>71.961905</td>\n",
       "      <td>78.942857</td>\n",
       "      <td>85.133333</td>\n",
       "      <td>83.876190</td>\n",
       "      <td>80.761905</td>\n",
       "      <td>75.323810</td>\n",
       "    </tr>\n",
       "    <tr>\n",
       "      <th>std</th>\n",
       "      <td>30.454885</td>\n",
       "      <td>6.053187</td>\n",
       "      <td>11.722618</td>\n",
       "      <td>12.197039</td>\n",
       "      <td>14.997326</td>\n",
       "      <td>10.269509</td>\n",
       "      <td>10.514363</td>\n",
       "      <td>10.296119</td>\n",
       "      <td>13.003324</td>\n",
       "    </tr>\n",
       "    <tr>\n",
       "      <th>min</th>\n",
       "      <td>1141.000000</td>\n",
       "      <td>63.490000</td>\n",
       "      <td>46.000000</td>\n",
       "      <td>38.000000</td>\n",
       "      <td>17.000000</td>\n",
       "      <td>51.000000</td>\n",
       "      <td>29.000000</td>\n",
       "      <td>54.000000</td>\n",
       "      <td>9.000000</td>\n",
       "    </tr>\n",
       "    <tr>\n",
       "      <th>25%</th>\n",
       "      <td>1167.000000</td>\n",
       "      <td>79.340000</td>\n",
       "      <td>67.000000</td>\n",
       "      <td>64.000000</td>\n",
       "      <td>71.000000</td>\n",
       "      <td>80.000000</td>\n",
       "      <td>79.000000</td>\n",
       "      <td>74.000000</td>\n",
       "      <td>67.000000</td>\n",
       "    </tr>\n",
       "    <tr>\n",
       "      <th>50%</th>\n",
       "      <td>1193.000000</td>\n",
       "      <td>84.110000</td>\n",
       "      <td>76.000000</td>\n",
       "      <td>73.000000</td>\n",
       "      <td>83.000000</td>\n",
       "      <td>87.000000</td>\n",
       "      <td>85.000000</td>\n",
       "      <td>81.000000</td>\n",
       "      <td>76.000000</td>\n",
       "    </tr>\n",
       "    <tr>\n",
       "      <th>75%</th>\n",
       "      <td>1219.000000</td>\n",
       "      <td>87.300000</td>\n",
       "      <td>84.000000</td>\n",
       "      <td>80.000000</td>\n",
       "      <td>91.000000</td>\n",
       "      <td>92.000000</td>\n",
       "      <td>92.000000</td>\n",
       "      <td>89.000000</td>\n",
       "      <td>85.000000</td>\n",
       "    </tr>\n",
       "    <tr>\n",
       "      <th>max</th>\n",
       "      <td>1245.000000</td>\n",
       "      <td>93.710000</td>\n",
       "      <td>98.000000</td>\n",
       "      <td>100.000000</td>\n",
       "      <td>99.000000</td>\n",
       "      <td>100.000000</td>\n",
       "      <td>97.000000</td>\n",
       "      <td>100.000000</td>\n",
       "      <td>100.000000</td>\n",
       "    </tr>\n",
       "  </tbody>\n",
       "</table>\n",
       "</div>"
      ],
      "text/plain": [
       "                ID         GPA     Algebra   Calculus1   Calculus2  \\\n",
       "count   105.000000  105.000000  105.000000  105.000000  105.000000   \n",
       "mean   1193.000000   82.957048   76.057143   71.961905   78.942857   \n",
       "std      30.454885    6.053187   11.722618   12.197039   14.997326   \n",
       "min    1141.000000   63.490000   46.000000   38.000000   17.000000   \n",
       "25%    1167.000000   79.340000   67.000000   64.000000   71.000000   \n",
       "50%    1193.000000   84.110000   76.000000   73.000000   83.000000   \n",
       "75%    1219.000000   87.300000   84.000000   80.000000   91.000000   \n",
       "max    1245.000000   93.710000   98.000000  100.000000   99.000000   \n",
       "\n",
       "       Statistics  Probability     Measure  Functional_analysis  \n",
       "count  105.000000   105.000000  105.000000           105.000000  \n",
       "mean    85.133333    83.876190   80.761905            75.323810  \n",
       "std     10.269509    10.514363   10.296119            13.003324  \n",
       "min     51.000000    29.000000   54.000000             9.000000  \n",
       "25%     80.000000    79.000000   74.000000            67.000000  \n",
       "50%     87.000000    85.000000   81.000000            76.000000  \n",
       "75%     92.000000    92.000000   89.000000            85.000000  \n",
       "max    100.000000    97.000000  100.000000           100.000000  "
      ]
     },
     "execution_count": 20,
     "metadata": {},
     "output_type": "execute_result"
    }
   ],
   "source": [
    "df.describe()"
   ]
  },
  {
   "cell_type": "code",
   "execution_count": 25,
   "id": "47d2e2c2",
   "metadata": {},
   "outputs": [
    {
     "name": "stdout",
     "output_type": "stream",
     "text": [
      "Least Average = 71.96190476190476\n"
     ]
    }
   ],
   "source": [
    "average = df.iloc[:,4:].mean()\n",
    "print(\"Least Average =\",average.min())"
   ]
  },
  {
   "cell_type": "markdown",
   "id": "276e55b0",
   "metadata": {},
   "source": [
    "11. How many male and female students are there ?\n"
   ]
  },
  {
   "cell_type": "code",
   "execution_count": 26,
   "id": "c8a12f85",
   "metadata": {},
   "outputs": [
    {
     "data": {
      "text/plain": [
       "gender\n",
       "female    68\n",
       "male      37\n",
       "Name: count, dtype: int64"
      ]
     },
     "execution_count": 26,
     "metadata": {},
     "output_type": "execute_result"
    }
   ],
   "source": [
    "df[\"gender\"].value_counts()"
   ]
  },
  {
   "cell_type": "markdown",
   "id": "234dff6b",
   "metadata": {},
   "source": [
    "12. How many female student are there from class A?\n"
   ]
  },
  {
   "cell_type": "code",
   "execution_count": 37,
   "id": "2351573c",
   "metadata": {},
   "outputs": [
    {
     "data": {
      "text/plain": [
       "48"
      ]
     },
     "execution_count": 37,
     "metadata": {},
     "output_type": "execute_result"
    }
   ],
   "source": [
    "len(df[(df[\"class\"]==\"A\") & (df[\"gender\"]==\"female\")])"
   ]
  },
  {
   "cell_type": "markdown",
   "id": "73025290",
   "metadata": {},
   "source": [
    "13. Which class has more strength ?\n"
   ]
  },
  {
   "cell_type": "code",
   "execution_count": 47,
   "id": "ac721d3c",
   "metadata": {},
   "outputs": [
    {
     "data": {
      "text/plain": [
       "class\n",
       "A    76\n",
       "B    29\n",
       "Name: count, dtype: int64"
      ]
     },
     "execution_count": 47,
     "metadata": {},
     "output_type": "execute_result"
    }
   ],
   "source": [
    "df[\"class\"].value_counts() #class A has more strength"
   ]
  },
  {
   "cell_type": "markdown",
   "id": "41104938",
   "metadata": {},
   "source": [
    "14. Sort the data as per algebra ?\n"
   ]
  },
  {
   "cell_type": "code",
   "execution_count": 48,
   "id": "123f3330",
   "metadata": {},
   "outputs": [
    {
     "data": {
      "text/html": [
       "<div>\n",
       "<style scoped>\n",
       "    .dataframe tbody tr th:only-of-type {\n",
       "        vertical-align: middle;\n",
       "    }\n",
       "\n",
       "    .dataframe tbody tr th {\n",
       "        vertical-align: top;\n",
       "    }\n",
       "\n",
       "    .dataframe thead th {\n",
       "        text-align: right;\n",
       "    }\n",
       "</style>\n",
       "<table border=\"1\" class=\"dataframe\">\n",
       "  <thead>\n",
       "    <tr style=\"text-align: right;\">\n",
       "      <th></th>\n",
       "      <th>ID</th>\n",
       "      <th>class</th>\n",
       "      <th>gender</th>\n",
       "      <th>GPA</th>\n",
       "      <th>Algebra</th>\n",
       "      <th>Calculus1</th>\n",
       "      <th>Calculus2</th>\n",
       "      <th>Statistics</th>\n",
       "      <th>Probability</th>\n",
       "      <th>Measure</th>\n",
       "      <th>Functional_analysis</th>\n",
       "    </tr>\n",
       "  </thead>\n",
       "  <tbody>\n",
       "    <tr>\n",
       "      <th>3</th>\n",
       "      <td>1144</td>\n",
       "      <td>A</td>\n",
       "      <td>female</td>\n",
       "      <td>72.89</td>\n",
       "      <td>46</td>\n",
       "      <td>72</td>\n",
       "      <td>38</td>\n",
       "      <td>60</td>\n",
       "      <td>29</td>\n",
       "      <td>54</td>\n",
       "      <td>51</td>\n",
       "    </tr>\n",
       "    <tr>\n",
       "      <th>2</th>\n",
       "      <td>1143</td>\n",
       "      <td>A</td>\n",
       "      <td>female</td>\n",
       "      <td>74.56</td>\n",
       "      <td>47</td>\n",
       "      <td>48</td>\n",
       "      <td>71</td>\n",
       "      <td>60</td>\n",
       "      <td>61</td>\n",
       "      <td>68</td>\n",
       "      <td>64</td>\n",
       "    </tr>\n",
       "    <tr>\n",
       "      <th>4</th>\n",
       "      <td>1145</td>\n",
       "      <td>A</td>\n",
       "      <td>female</td>\n",
       "      <td>70.11</td>\n",
       "      <td>49</td>\n",
       "      <td>45</td>\n",
       "      <td>63</td>\n",
       "      <td>60</td>\n",
       "      <td>66</td>\n",
       "      <td>66</td>\n",
       "      <td>61</td>\n",
       "    </tr>\n",
       "    <tr>\n",
       "      <th>1</th>\n",
       "      <td>1142</td>\n",
       "      <td>A</td>\n",
       "      <td>female</td>\n",
       "      <td>71.22</td>\n",
       "      <td>57</td>\n",
       "      <td>50</td>\n",
       "      <td>51</td>\n",
       "      <td>51</td>\n",
       "      <td>55</td>\n",
       "      <td>62</td>\n",
       "      <td>61</td>\n",
       "    </tr>\n",
       "    <tr>\n",
       "      <th>9</th>\n",
       "      <td>1150</td>\n",
       "      <td>A</td>\n",
       "      <td>female</td>\n",
       "      <td>76.50</td>\n",
       "      <td>60</td>\n",
       "      <td>61</td>\n",
       "      <td>60</td>\n",
       "      <td>69</td>\n",
       "      <td>73</td>\n",
       "      <td>60</td>\n",
       "      <td>62</td>\n",
       "    </tr>\n",
       "    <tr>\n",
       "      <th>...</th>\n",
       "      <td>...</td>\n",
       "      <td>...</td>\n",
       "      <td>...</td>\n",
       "      <td>...</td>\n",
       "      <td>...</td>\n",
       "      <td>...</td>\n",
       "      <td>...</td>\n",
       "      <td>...</td>\n",
       "      <td>...</td>\n",
       "      <td>...</td>\n",
       "      <td>...</td>\n",
       "    </tr>\n",
       "    <tr>\n",
       "      <th>65</th>\n",
       "      <td>1206</td>\n",
       "      <td>A</td>\n",
       "      <td>male</td>\n",
       "      <td>86.37</td>\n",
       "      <td>95</td>\n",
       "      <td>76</td>\n",
       "      <td>87</td>\n",
       "      <td>90</td>\n",
       "      <td>86</td>\n",
       "      <td>94</td>\n",
       "      <td>84</td>\n",
       "    </tr>\n",
       "    <tr>\n",
       "      <th>75</th>\n",
       "      <td>1216</td>\n",
       "      <td>A</td>\n",
       "      <td>female</td>\n",
       "      <td>91.90</td>\n",
       "      <td>95</td>\n",
       "      <td>86</td>\n",
       "      <td>96</td>\n",
       "      <td>92</td>\n",
       "      <td>95</td>\n",
       "      <td>90</td>\n",
       "      <td>95</td>\n",
       "    </tr>\n",
       "    <tr>\n",
       "      <th>87</th>\n",
       "      <td>1228</td>\n",
       "      <td>A</td>\n",
       "      <td>female</td>\n",
       "      <td>88.62</td>\n",
       "      <td>95</td>\n",
       "      <td>65</td>\n",
       "      <td>97</td>\n",
       "      <td>94</td>\n",
       "      <td>97</td>\n",
       "      <td>85</td>\n",
       "      <td>85</td>\n",
       "    </tr>\n",
       "    <tr>\n",
       "      <th>97</th>\n",
       "      <td>1238</td>\n",
       "      <td>A</td>\n",
       "      <td>male</td>\n",
       "      <td>91.14</td>\n",
       "      <td>98</td>\n",
       "      <td>90</td>\n",
       "      <td>98</td>\n",
       "      <td>97</td>\n",
       "      <td>83</td>\n",
       "      <td>93</td>\n",
       "      <td>89</td>\n",
       "    </tr>\n",
       "    <tr>\n",
       "      <th>101</th>\n",
       "      <td>1242</td>\n",
       "      <td>B</td>\n",
       "      <td>male</td>\n",
       "      <td>89.84</td>\n",
       "      <td>98</td>\n",
       "      <td>77</td>\n",
       "      <td>95</td>\n",
       "      <td>98</td>\n",
       "      <td>96</td>\n",
       "      <td>88</td>\n",
       "      <td>100</td>\n",
       "    </tr>\n",
       "  </tbody>\n",
       "</table>\n",
       "<p>105 rows × 11 columns</p>\n",
       "</div>"
      ],
      "text/plain": [
       "       ID class  gender    GPA  Algebra  Calculus1  Calculus2  Statistics  \\\n",
       "3    1144     A  female  72.89       46         72         38          60   \n",
       "2    1143     A  female  74.56       47         48         71          60   \n",
       "4    1145     A  female  70.11       49         45         63          60   \n",
       "1    1142     A  female  71.22       57         50         51          51   \n",
       "9    1150     A  female  76.50       60         61         60          69   \n",
       "..    ...   ...     ...    ...      ...        ...        ...         ...   \n",
       "65   1206     A    male  86.37       95         76         87          90   \n",
       "75   1216     A  female  91.90       95         86         96          92   \n",
       "87   1228     A  female  88.62       95         65         97          94   \n",
       "97   1238     A    male  91.14       98         90         98          97   \n",
       "101  1242     B    male  89.84       98         77         95          98   \n",
       "\n",
       "     Probability  Measure  Functional_analysis  \n",
       "3             29       54                   51  \n",
       "2             61       68                   64  \n",
       "4             66       66                   61  \n",
       "1             55       62                   61  \n",
       "9             73       60                   62  \n",
       "..           ...      ...                  ...  \n",
       "65            86       94                   84  \n",
       "75            95       90                   95  \n",
       "87            97       85                   85  \n",
       "97            83       93                   89  \n",
       "101           96       88                  100  \n",
       "\n",
       "[105 rows x 11 columns]"
      ]
     },
     "execution_count": 48,
     "metadata": {},
     "output_type": "execute_result"
    }
   ],
   "source": [
    "df.sort_values(\"Algebra\")"
   ]
  },
  {
   "cell_type": "markdown",
   "id": "2595f52b",
   "metadata": {},
   "source": [
    "15. How many students got exactly 64 marks from functional analysis?"
   ]
  },
  {
   "cell_type": "code",
   "execution_count": 51,
   "id": "cf256329",
   "metadata": {},
   "outputs": [
    {
     "data": {
      "text/plain": [
       "8"
      ]
     },
     "execution_count": 51,
     "metadata": {},
     "output_type": "execute_result"
    }
   ],
   "source": [
    "sum(df[\"Functional_analysis\"] == 64)"
   ]
  },
  {
   "cell_type": "code",
   "execution_count": null,
   "id": "269f954e",
   "metadata": {},
   "outputs": [],
   "source": []
  }
 ],
 "metadata": {
  "kernelspec": {
   "display_name": "Python 3 (ipykernel)",
   "language": "python",
   "name": "python3"
  },
  "language_info": {
   "codemirror_mode": {
    "name": "ipython",
    "version": 3
   },
   "file_extension": ".py",
   "mimetype": "text/x-python",
   "name": "python",
   "nbconvert_exporter": "python",
   "pygments_lexer": "ipython3",
   "version": "3.11.4"
  }
 },
 "nbformat": 4,
 "nbformat_minor": 5
}
