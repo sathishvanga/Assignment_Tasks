{
 "cells": [
  {
   "cell_type": "markdown",
   "id": "dd8718fa",
   "metadata": {},
   "source": [
    "\n",
    "\n",
    "1. **Print Numbers from 1 to N:**\n",
    "   Write a Python program that uses a for loop to print all numbers from `1 to N` and `substract 5 `from each number.where N is a `positive integer` entered by the user.\n",
    "\n",
    "2. **Calculate the Sum of Numbers from 1 to N:**\n",
    "   Write a Python program that calculates and prints the `sum` of all numbers from `1 to N`, where N is a `positive integer` entered by the user, using a for loop.\n",
    "\n",
    "3. **Print Even Numbers:**\n",
    "   Write a Python program that prints all `even numbers` from `50 to 100` using a `for` loop.\n",
    "\n",
    "4. **Reverse a String:**\n",
    "   Write a Python program that takes a string as input and uses a `for loop` to print the characters of the string in `reverse order`.\n",
    "\n",
    "5. **Count Vowels in a String:**\n",
    "    `name = \"innomatics research labs\"`\n",
    "   Write a Python program uses a for loop to count the number of vowels (a, e, i, o, u) in the string. Ignore case sensitivity.\n",
    "\n",
    "6. **Generate a Multiplication Table:**\n",
    "   Write a Python program that generates and prints the multiplication table for  6.\n"
   ]
  },
  {
   "cell_type": "markdown",
   "id": "2ca6c0c7",
   "metadata": {},
   "source": [
    "1. **Print Numbers from 1 to N:**\n",
    "   Write a Python program that uses a for loop to print all numbers from `1 to N` and `substract 5 `from each number.where N is a `positive integer` entered by the user."
   ]
  },
  {
   "cell_type": "code",
   "execution_count": 47,
   "id": "905226b0",
   "metadata": {},
   "outputs": [
    {
     "name": "stdout",
     "output_type": "stream",
     "text": [
      "Enter a Number : 10\n",
      "-4\n",
      "-3\n",
      "-2\n",
      "-1\n",
      "0\n",
      "1\n",
      "2\n",
      "3\n",
      "4\n"
     ]
    }
   ],
   "source": [
    "N = int(input(\"Enter a Number : \"))\n",
    "for i in range(1,N) :\n",
    "    print(i-5)\n"
   ]
  },
  {
   "cell_type": "markdown",
   "id": "52b0dca4",
   "metadata": {},
   "source": [
    "**Calculate the Sum of Numbers from 1 to N:**\n",
    "   Write a Python program that calculates and prints the `sum` of all numbers from `1 to N`, where N is a `positive integer` entered by the user, using a for loop."
   ]
  },
  {
   "cell_type": "code",
   "execution_count": 14,
   "id": "0b63e022",
   "metadata": {},
   "outputs": [
    {
     "name": "stdout",
     "output_type": "stream",
     "text": [
      "Enter a Number : 10\n",
      "45\n"
     ]
    }
   ],
   "source": [
    "num = int(input(\"Enter a Number : \"))\n",
    "total = 0\n",
    "for i in range(1,num) :\n",
    "    total = total + i\n",
    "print(total)"
   ]
  },
  {
   "cell_type": "markdown",
   "id": "70f53709",
   "metadata": {},
   "source": [
    "**Print Even Numbers:**\n",
    "   Write a Python program that prints all `even numbers` from `50 to 100` using a `for` loop.\n"
   ]
  },
  {
   "cell_type": "code",
   "execution_count": 15,
   "id": "a1f79ae7",
   "metadata": {},
   "outputs": [
    {
     "name": "stdout",
     "output_type": "stream",
     "text": [
      "50\n",
      "52\n",
      "54\n",
      "56\n",
      "58\n",
      "60\n",
      "62\n",
      "64\n",
      "66\n",
      "68\n",
      "70\n",
      "72\n",
      "74\n",
      "76\n",
      "78\n",
      "80\n",
      "82\n",
      "84\n",
      "86\n",
      "88\n",
      "90\n",
      "92\n",
      "94\n",
      "96\n",
      "98\n"
     ]
    }
   ],
   "source": [
    "for i in range(50,100) :\n",
    "    if (i%2==0) :\n",
    "        print(i)"
   ]
  },
  {
   "cell_type": "markdown",
   "id": "3be90565",
   "metadata": {},
   "source": [
    "**Reverse a String:**\n",
    "   Write a Python program that takes a string as input and uses a `for loop` to print the characters of the string in `reverse order`."
   ]
  },
  {
   "cell_type": "code",
   "execution_count": 24,
   "id": "77dc16b8",
   "metadata": {},
   "outputs": [
    {
     "name": "stdout",
     "output_type": "stream",
     "text": [
      "Enter a String : Sathish\n",
      "h\n",
      "s\n",
      "i\n",
      "h\n",
      "t\n",
      "a\n",
      "S\n"
     ]
    }
   ],
   "source": [
    "string = input(\"Enter a String : \")\n",
    "for i in string[-1: : -1] :\n",
    "    print(i)"
   ]
  },
  {
   "cell_type": "markdown",
   "id": "cca418db",
   "metadata": {},
   "source": [
    "5. **Count Vowels in a String:**\n",
    "    `name = \"innomatics research labs\"`\n",
    "   Write a Python program uses a for loop to count the number of vowels (a, e, i, o, u) in the string. Ignore case sensitivity.\n"
   ]
  },
  {
   "cell_type": "code",
   "execution_count": 13,
   "id": "afbef0f2",
   "metadata": {},
   "outputs": [
    {
     "name": "stdout",
     "output_type": "stream",
     "text": [
      "8\n",
      "['i', 'o', 'a', 'i', 'e', 'e', 'a', 'a']\n"
     ]
    }
   ],
   "source": [
    "name = \"innomatic research labs\"\n",
    "n = []\n",
    "for i in name :\n",
    "    if i in (\"a\",\"e\",\"i\",\"o\",\"u\") :\n",
    "        n.append(i)\n",
    "        \n",
    "print(len(n))\n",
    "print(n)"
   ]
  },
  {
   "cell_type": "markdown",
   "id": "d28e3825",
   "metadata": {},
   "source": [
    "6. **Generate a Multiplication Table:**\n",
    "   Write a Python program that generates and prints the multiplication table for  6."
   ]
  },
  {
   "cell_type": "code",
   "execution_count": 41,
   "id": "6cd2e9d2",
   "metadata": {},
   "outputs": [
    {
     "name": "stdout",
     "output_type": "stream",
     "text": [
      "Enter a Number10\n",
      "6 * 1 = 6\n",
      "6 * 2 = 12\n",
      "6 * 3 = 18\n",
      "6 * 4 = 24\n",
      "6 * 5 = 30\n",
      "6 * 6 = 36\n",
      "6 * 7 = 42\n",
      "6 * 8 = 48\n",
      "6 * 9 = 54\n",
      "6 * 10 = 60\n"
     ]
    }
   ],
   "source": [
    "num = 6\n",
    "n = int(input(\"How many times want to multiply : \"))\n",
    "for i in range(1,n+1) :\n",
    "    mul = i*num\n",
    "    \n",
    "    print(f\"{num} * {i} = {mul}\")"
   ]
  },
  {
   "cell_type": "code",
   "execution_count": null,
   "id": "57463b14",
   "metadata": {},
   "outputs": [],
   "source": []
  }
 ],
 "metadata": {
  "kernelspec": {
   "display_name": "Python 3 (ipykernel)",
   "language": "python",
   "name": "python3"
  },
  "language_info": {
   "codemirror_mode": {
    "name": "ipython",
    "version": 3
   },
   "file_extension": ".py",
   "mimetype": "text/x-python",
   "name": "python",
   "nbconvert_exporter": "python",
   "pygments_lexer": "ipython3",
   "version": "3.11.4"
  }
 },
 "nbformat": 4,
 "nbformat_minor": 5
}
