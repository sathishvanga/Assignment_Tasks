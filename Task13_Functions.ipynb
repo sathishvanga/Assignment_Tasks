{
 "cells": [
  {
   "cell_type": "markdown",
   "id": "89ffda57",
   "metadata": {},
   "source": [
    "1. Write a function called \"add_numbers\" that takes two integers as input and returns their sum.\n",
    "\n",
    "2. Write a function called \"multiply_numbers\" that takes two integers as input and returns their product.\n",
    "\n",
    "3. Write a function called \"calculate_average\" that takes a list of numbers as input and returns the average of thosenumbers.\n",
    "\n",
    "4. Write a function called \"is_even\" that takes an integer as input and returns True if the number is even, and False otherwise.\n",
    "\n",
    "5. Write a function called \"reverse_string\" that takes a string as input and returns the reverse of that string.\n",
    "\n",
    "6. Write a function called \"count_vowels\" that takes a string as input and returns the number of vowels (a, e, i, o, u) in that string.\n",
    "\n",
    "7. Write a function called \"find_max\" that takes a list of numbers as input and returns the maximum value in that list.\n",
    "\n",
    "8. Write a function called \"find_min\" that takes a list of numbers as input and returns the minimum value in that list."
   ]
  },
  {
   "cell_type": "markdown",
   "id": "edb9382b",
   "metadata": {},
   "source": [
    "1. Write a function called \"add_numbers\" that takes two integers as input and returns their sum.\n"
   ]
  },
  {
   "cell_type": "code",
   "execution_count": 7,
   "id": "ac2c4848",
   "metadata": {},
   "outputs": [],
   "source": [
    "def add_numbers(a,b):\n",
    "    print(a+b)"
   ]
  },
  {
   "cell_type": "code",
   "execution_count": 8,
   "id": "78d17ebc",
   "metadata": {},
   "outputs": [
    {
     "name": "stdout",
     "output_type": "stream",
     "text": [
      "a :: 3\n",
      "b :: 4\n",
      "7\n"
     ]
    }
   ],
   "source": [
    "a = int(input(\"a :: \"))\n",
    "b = int(input(\"b :: \"))\n",
    "add_numbers(a,b)"
   ]
  },
  {
   "cell_type": "markdown",
   "id": "1cdff491",
   "metadata": {},
   "source": [
    "2. Write a function called \"multiply_numbers\" that takes two integers as input and returns their product."
   ]
  },
  {
   "cell_type": "code",
   "execution_count": 9,
   "id": "f28b6e7c",
   "metadata": {},
   "outputs": [],
   "source": [
    "def multiply_numbers(x,y):\n",
    "    print(x*y)\n",
    "    "
   ]
  },
  {
   "cell_type": "code",
   "execution_count": 10,
   "id": "95240b50",
   "metadata": {},
   "outputs": [
    {
     "name": "stdout",
     "output_type": "stream",
     "text": [
      "x :: 4\n",
      "y :: 5\n",
      "20\n"
     ]
    }
   ],
   "source": [
    "x = int(input(\"x :: \"))\n",
    "y = int(input(\"y :: \"))\n",
    "\n",
    "multiply_numbers(x,y)"
   ]
  },
  {
   "cell_type": "markdown",
   "id": "e8d2e965",
   "metadata": {},
   "source": [
    "3. Write a function called \"calculate_average\" that takes a list of numbers as input and returns the average of thosenumbers."
   ]
  },
  {
   "cell_type": "code",
   "execution_count": 50,
   "id": "2fe6e05e",
   "metadata": {},
   "outputs": [],
   "source": [
    "list1 = []\n",
    "\n",
    "def calculate_average(a,b):\n",
    "    \n",
    "    num_2 = int(input(\"How many numbers want enter :: \"))\n",
    "    for i in range(1,num_2+1):\n",
    "        num2 = int(input(\"Enter a number : \"))\n",
    "        list1.append(num2)\n",
    "    print(list1)\n",
    "    a = sum(list1)\n",
    "    b = len(list1)\n",
    "    print(a/b)"
   ]
  },
  {
   "cell_type": "code",
   "execution_count": 51,
   "id": "4bbce39a",
   "metadata": {},
   "outputs": [
    {
     "name": "stdout",
     "output_type": "stream",
     "text": [
      "How many numbers want enter :: 3\n",
      "Enter a number : 45\n",
      "Enter a number : 46\n",
      "Enter a number : 47\n",
      "[45, 46, 47]\n",
      "46.0\n"
     ]
    }
   ],
   "source": [
    "calculate_average(a,b)"
   ]
  },
  {
   "cell_type": "markdown",
   "id": "1d772a7a",
   "metadata": {},
   "source": [
    "4. Write a function called \"is_even\" that takes an integer as input and returns True if the number is even, and False otherwise.\n"
   ]
  },
  {
   "cell_type": "code",
   "execution_count": 15,
   "id": "3c4b4f83",
   "metadata": {},
   "outputs": [],
   "source": [
    "\n",
    "def is_even(num):\n",
    "    if num%2==0 :\n",
    "        print(\"True\")\n",
    "    else :\n",
    "        print(\"False\")"
   ]
  },
  {
   "cell_type": "code",
   "execution_count": 16,
   "id": "784cb09c",
   "metadata": {},
   "outputs": [
    {
     "name": "stdout",
     "output_type": "stream",
     "text": [
      "Enter a number :: 5\n",
      "False\n"
     ]
    }
   ],
   "source": [
    "num = int(input(\"Enter a number :: \"))\n",
    "\n",
    "is_even(num)"
   ]
  },
  {
   "cell_type": "markdown",
   "id": "bd47f47e",
   "metadata": {},
   "source": [
    "5. Write a function called \"reverse_string\" that takes a string as input and returns the reverse of that string."
   ]
  },
  {
   "cell_type": "code",
   "execution_count": 17,
   "id": "6b2a9f9d",
   "metadata": {},
   "outputs": [],
   "source": [
    "def reverse_string(string):\n",
    "    print(string[::-1])\n",
    "    "
   ]
  },
  {
   "cell_type": "code",
   "execution_count": 18,
   "id": "eb8dedb4",
   "metadata": {},
   "outputs": [
    {
     "name": "stdout",
     "output_type": "stream",
     "text": [
      "Enter a String :: sathish\n",
      "hsihtas\n"
     ]
    }
   ],
   "source": [
    "string = input(\"Enter a String :: \")\n",
    "reverse_string(string)"
   ]
  },
  {
   "cell_type": "markdown",
   "id": "32c3f4b6",
   "metadata": {},
   "source": [
    "6. Write a function called \"count_vowels\" that takes a string as input and returns the number of vowels (a, e, i, o, u) in that string."
   ]
  },
  {
   "cell_type": "code",
   "execution_count": 19,
   "id": "b89a3fec",
   "metadata": {},
   "outputs": [],
   "source": [
    "vowels = [\"a\",\"e\",\"i\",\"o\",\"u\",\"A\",\"E\",\"I\",\"O\",\"U\"]\n",
    "num = []\n",
    "def count_vowels(name):\n",
    "    for i in name :\n",
    "        if i in vowels :\n",
    "            num.append(i)\n",
    "        else:\n",
    "            pass\n",
    "        \n",
    "    print(len(num))\n",
    "        \n",
    "    \n",
    "    "
   ]
  },
  {
   "cell_type": "code",
   "execution_count": 20,
   "id": "042516ad",
   "metadata": {},
   "outputs": [
    {
     "name": "stdout",
     "output_type": "stream",
     "text": [
      "Enter your name :: Innomatics\n",
      "4\n"
     ]
    }
   ],
   "source": [
    "name = input(\"Enter your name :: \")\n",
    "count_vowels(name)"
   ]
  },
  {
   "cell_type": "markdown",
   "id": "9cc6e548",
   "metadata": {},
   "source": [
    "7. Write a function called \"find_max\" that takes a list of numbers as input and returns the maximum value in that list."
   ]
  },
  {
   "cell_type": "code",
   "execution_count": 18,
   "id": "15afd625",
   "metadata": {},
   "outputs": [],
   "source": [
    "def find_max() :\n",
    "    list1 = []\n",
    "    num_1 = int(input(\"How many values you want enter :: \"))\n",
    "    \n",
    "    for i in range(1,num_1+1):\n",
    "        num1 = int(input(\"Enter a number : \"))\n",
    "        list1.append(num1)\n",
    "    a = max(list1)\n",
    "    print(a)\n",
    "    \n"
   ]
  },
  {
   "cell_type": "code",
   "execution_count": 20,
   "id": "07be74c0",
   "metadata": {},
   "outputs": [
    {
     "name": "stdout",
     "output_type": "stream",
     "text": [
      "How many values you want enter :: 3\n",
      "Enter a number : 4\n",
      "Enter a number : 5\n",
      "Enter a number : 6\n",
      "6\n"
     ]
    }
   ],
   "source": [
    "find_max()"
   ]
  },
  {
   "cell_type": "markdown",
   "id": "8133f853",
   "metadata": {},
   "source": [
    "8. Write a function called \"find_min\" that takes a list of numbers as input and returns the minimum value in that list."
   ]
  },
  {
   "cell_type": "code",
   "execution_count": 26,
   "id": "5bb12b5e",
   "metadata": {},
   "outputs": [],
   "source": [
    "list2 = []\n",
    "def find_min(list2) :\n",
    "    \n",
    "    num_2 = int(input(\"How many values you want enter :: \"))\n",
    "    \n",
    "    for i in range(1,num_2+1):\n",
    "        num2 = int(input(\"Enter a number : \"))\n",
    "        list2.append(num2)\n",
    "    b = min(list2)\n",
    "    print(b)"
   ]
  },
  {
   "cell_type": "code",
   "execution_count": 27,
   "id": "1ba861bd",
   "metadata": {},
   "outputs": [
    {
     "name": "stdout",
     "output_type": "stream",
     "text": [
      "How many values you want enter :: 3\n",
      "Enter a number : 4\n",
      "Enter a number : 5\n",
      "Enter a number : 8\n",
      "4\n"
     ]
    }
   ],
   "source": [
    "find_min(list2)"
   ]
  },
  {
   "cell_type": "code",
   "execution_count": null,
   "id": "5a46b983",
   "metadata": {},
   "outputs": [],
   "source": []
  }
 ],
 "metadata": {
  "kernelspec": {
   "display_name": "Python 3 (ipykernel)",
   "language": "python",
   "name": "python3"
  },
  "language_info": {
   "codemirror_mode": {
    "name": "ipython",
    "version": 3
   },
   "file_extension": ".py",
   "mimetype": "text/x-python",
   "name": "python",
   "nbconvert_exporter": "python",
   "pygments_lexer": "ipython3",
   "version": "3.11.4"
  }
 },
 "nbformat": 4,
 "nbformat_minor": 5
}
