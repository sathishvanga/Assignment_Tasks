{
 "cells": [
  {
   "cell_type": "markdown",
   "id": "f02710a3",
   "metadata": {},
   "source": [
    "\n",
    "**Task 1: Dictionary Basics**\n",
    "Create a Python program that defines a dictionary to store information about your `favorite book`. Include the title, author, publication year, and genre as key-value pairs. Print out the dictionary.and do atleast 5 dictionary methods on it.\n",
    "\n",
    "**Task 2: Dictionary Lookup**\n",
    "Write a Python program that simulates a simple dictionary for translating `English words to Spanish`. Define a dictionary containing a few English words as `keys` and their corresponding Spanish translations as `values`. Allow `users to enter` an English word, and then display its Spanish translation `if it exists` in the dictionary.(use google for English to Spanish translator)\n",
    "\n",
    "**Task 3: Student Grades**\n",
    "Create a Python program that stores the `grades of five students` in a dictionary. Allow users to input the names of the students and their respective grades. Calculate and display the `average grade` of the students.\n",
    "\n",
    "**Task 4: Contact List**\n",
    "Build a basic contact list using a dictionary. Initially, the dictionary can be `empty`. Allow users to `add new contacts` with `names and phone numbers`. Users should also be able to search for contacts by name and display their phone numbers(use in operator).\n",
    "\n",
    "**Task 5: Dictionary Iteration**\n",
    "Write a Python program that defines a dictionary containing the names of `fruits as keys` and their corresponding `colors as values` (e.g., 'apple': 'red').Do atleast 5 dictionary methods on it.\n"
   ]
  },
  {
   "cell_type": "markdown",
   "id": "ed076235",
   "metadata": {},
   "source": [
    "**Task 1: Dictionary Basics**\n",
    "Create a Python program that defines a dictionary to store information about your `favorite book`. Include the title, author, publication year, and genre as key-value pairs. Print out the dictionary.and do atleast 5 dictionary methods on it.\n"
   ]
  },
  {
   "cell_type": "code",
   "execution_count": 1,
   "id": "368bf673",
   "metadata": {},
   "outputs": [],
   "source": [
    "fvt_book = {\"Title\":\"Rich Dad Poor Dad\",\"Author\":\"Robert T. Kiyosaki\",\"Year\":1997}"
   ]
  },
  {
   "cell_type": "code",
   "execution_count": 2,
   "id": "b4606b84",
   "metadata": {},
   "outputs": [
    {
     "name": "stdout",
     "output_type": "stream",
     "text": [
      "{'Title': 'Rich Dad Poor Dad', 'Author': 'Robert T. Kiyosaki', 'Year': 1997}\n"
     ]
    }
   ],
   "source": [
    "print(fvt_book)"
   ]
  },
  {
   "cell_type": "code",
   "execution_count": 4,
   "id": "6184f937",
   "metadata": {},
   "outputs": [
    {
     "data": {
      "text/plain": [
       "'Rich Dad Poor Dad'"
      ]
     },
     "execution_count": 4,
     "metadata": {},
     "output_type": "execute_result"
    }
   ],
   "source": [
    "fvt_book.get(\"Title\") #Return the value for key if key is in the dictionary"
   ]
  },
  {
   "cell_type": "code",
   "execution_count": 5,
   "id": "e5e8b806",
   "metadata": {},
   "outputs": [
    {
     "data": {
      "text/plain": [
       "dict_items([('Title', 'Rich Dad Poor Dad'), ('Author', 'Robert T. Kiyosaki'), ('Year', 1997)])"
      ]
     },
     "execution_count": 5,
     "metadata": {},
     "output_type": "execute_result"
    }
   ],
   "source": [
    "fvt_book.items()"
   ]
  },
  {
   "cell_type": "code",
   "execution_count": 6,
   "id": "b643633a",
   "metadata": {},
   "outputs": [
    {
     "data": {
      "text/plain": [
       "dict_values(['Rich Dad Poor Dad', 'Robert T. Kiyosaki', 1997])"
      ]
     },
     "execution_count": 6,
     "metadata": {},
     "output_type": "execute_result"
    }
   ],
   "source": [
    "fvt_book.values()"
   ]
  },
  {
   "cell_type": "code",
   "execution_count": 7,
   "id": "d71ab211",
   "metadata": {},
   "outputs": [
    {
     "data": {
      "text/plain": [
       "dict_keys(['Title', 'Author', 'Year'])"
      ]
     },
     "execution_count": 7,
     "metadata": {},
     "output_type": "execute_result"
    }
   ],
   "source": [
    "fvt_book.keys()"
   ]
  },
  {
   "cell_type": "code",
   "execution_count": 9,
   "id": "aecb048a",
   "metadata": {},
   "outputs": [
    {
     "data": {
      "text/plain": [
       "('Year', 1997)"
      ]
     },
     "execution_count": 9,
     "metadata": {},
     "output_type": "execute_result"
    }
   ],
   "source": [
    "fvt_book.popitem()"
   ]
  },
  {
   "cell_type": "markdown",
   "id": "353427b3",
   "metadata": {},
   "source": [
    "**Task 2: Dictionary Lookup**\n",
    "Write a Python program that simulates a simple dictionary for translating `English words to Spanish`. Define a dictionary containing a few English words as `keys` and their corresponding Spanish translations as `values`. Allow `users to enter` an English word, and then display its Spanish translation `if it exists` in the dictionary.(use google for English to Spanish translator)"
   ]
  },
  {
   "cell_type": "code",
   "execution_count": 10,
   "id": "6596b882",
   "metadata": {},
   "outputs": [],
   "source": [
    "words = {\"Apple\":\"Manzana\",\"Name\":\"Nombre\",\"Mother\":\"Madre\",\"Father\":\"Padre\",\"Teacher\":\"Maestro\"}"
   ]
  },
  {
   "cell_type": "code",
   "execution_count": 19,
   "id": "c0046798",
   "metadata": {},
   "outputs": [
    {
     "name": "stdout",
     "output_type": "stream",
     "text": [
      "Enter a word to translate : Apple\n"
     ]
    },
    {
     "data": {
      "text/plain": [
       "'Manzana'"
      ]
     },
     "execution_count": 19,
     "metadata": {},
     "output_type": "execute_result"
    }
   ],
   "source": [
    "search = str(input(\"Enter a word to translate : \"))\n",
    "words.get(search)"
   ]
  },
  {
   "cell_type": "markdown",
   "id": "73bb584f",
   "metadata": {},
   "source": [
    "**Task 3: Student Grades**\n",
    "Create a Python program that stores the `grades of five students` in a dictionary. Allow users to input the names of the students and their respective grades. Calculate and display the `average grade` of the students.\n"
   ]
  },
  {
   "cell_type": "code",
   "execution_count": 89,
   "id": "20018b26",
   "metadata": {},
   "outputs": [
    {
     "name": "stdout",
     "output_type": "stream",
     "text": [
      "Enter the student name: Sathish\n",
      "Enter the grade : 9.2\n",
      "Enter the student name: Uday\n",
      "Enter the grade : 9.4\n",
      "Enter the student name: Raju\n",
      "Enter the grade : 8.6\n",
      "Enter the student name: Laxman\n",
      "Enter the grade : 7.9\n",
      "Enter the student name: Ram\n",
      "Enter the grade : 8.5\n"
     ]
    }
   ],
   "source": [
    "grades = {}\n",
    "name = input(\"Enter the student name: \")\n",
    "grade = float(input(\"Enter the grade : \"))\n",
    "name1 = input(\"Enter the student name: \")\n",
    "grade1 = float(input(\"Enter the grade : \"))\n",
    "name2 = input(\"Enter the student name: \")\n",
    "grade2 = float(input(\"Enter the grade : \"))\n",
    "name3 = input(\"Enter the student name: \")\n",
    "grade3 = float(input(\"Enter the grade : \"))\n",
    "name4 = input(\"Enter the student name: \")\n",
    "grade4 = float(input(\"Enter the grade : \"))\n",
    "grades[name] = grade\n",
    "grades[name1] = grade1\n",
    "grades[name2] = grade2\n",
    "grades[name3] = grade3\n",
    "grades[name4] = grade4\n",
    "\n",
    "\n"
   ]
  },
  {
   "cell_type": "code",
   "execution_count": 91,
   "id": "364aa3d7",
   "metadata": {},
   "outputs": [
    {
     "name": "stdout",
     "output_type": "stream",
     "text": [
      "{'Sathish': 9.2, 'Uday': 9.4, 'Raju': 8.6, 'Laxman': 7.9, 'Ram': 8.5}\n",
      "average grade of students is  8.72\n"
     ]
    }
   ],
   "source": [
    "values = sum(grades.values())\n",
    "total = len(grades.keys())\n",
    "avg = values/total\n",
    "print(grades)\n",
    "print(\"average grade of students is \" , avg)\n"
   ]
  },
  {
   "cell_type": "code",
   "execution_count": null,
   "id": "7ebfeecf",
   "metadata": {},
   "outputs": [],
   "source": []
  },
  {
   "cell_type": "code",
   "execution_count": null,
   "id": "093a272a",
   "metadata": {},
   "outputs": [],
   "source": []
  },
  {
   "cell_type": "markdown",
   "id": "6ab03bca",
   "metadata": {},
   "source": [
    "**Task 4: Contact List**\n",
    "Build a basic contact list using a dictionary. Initially, the dictionary can be `empty`. Allow users to `add new contacts` with `names and phone numbers`. Users should also be able to search for contacts by name and display their phone numbers(use in operator).\n"
   ]
  },
  {
   "cell_type": "code",
   "execution_count": 93,
   "id": "5600c494",
   "metadata": {},
   "outputs": [
    {
     "name": "stdout",
     "output_type": "stream",
     "text": [
      "Enter the contact's name: Sathish\n",
      "Enter the contact's phone number: 9121363314\n",
      "Enter the contact's name: Uday\n",
      "Enter the contact's phone number: 8978657890\n",
      "Enter the contact's name: Laxman\n",
      "Enter the contact's phone number: 9502513183\n"
     ]
    },
    {
     "data": {
      "text/plain": [
       "{'Sathish': '9121363314', 'Uday': '8978657890', 'Laxman': '9502513183'}"
      ]
     },
     "execution_count": 93,
     "metadata": {},
     "output_type": "execute_result"
    }
   ],
   "source": [
    "contacts = {}\n",
    "name = input(\"Enter the contact's name: \")\n",
    "phone_number = input(\"Enter the contact's phone number: \")\n",
    "name1 = input(\"Enter the contact's name: \")\n",
    "phone_number1 = input(\"Enter the contact's phone number: \")\n",
    "name2 = input(\"Enter the contact's name: \")\n",
    "phone_number2 = input(\"Enter the contact's phone number: \")\n",
    "contacts[name] = phone_number\n",
    "contacts[name1] = phone_number1\n",
    "contacts[name2] = phone_number2\n",
    "contacts"
   ]
  },
  {
   "cell_type": "code",
   "execution_count": 94,
   "id": "f92192a9",
   "metadata": {},
   "outputs": [
    {
     "name": "stdout",
     "output_type": "stream",
     "text": [
      "Enter contact name : Sathish\n"
     ]
    },
    {
     "data": {
      "text/plain": [
       "'9121363314'"
      ]
     },
     "execution_count": 94,
     "metadata": {},
     "output_type": "execute_result"
    }
   ],
   "source": [
    "search = input(\"Enter contact name : \")\n",
    "contacts[search]\n"
   ]
  },
  {
   "cell_type": "code",
   "execution_count": 95,
   "id": "bdcc08b2",
   "metadata": {},
   "outputs": [
    {
     "data": {
      "text/plain": [
       "True"
      ]
     },
     "execution_count": 95,
     "metadata": {},
     "output_type": "execute_result"
    }
   ],
   "source": [
    "\"Sathish\" in contacts"
   ]
  },
  {
   "cell_type": "markdown",
   "id": "e2f8f66f",
   "metadata": {},
   "source": [
    "**Task 5: Dictionary Iteration**\n",
    "Write a Python program that defines a dictionary containing the names of `fruits as keys` and their corresponding `colors as values` (e.g., 'apple': 'red').Do atleast 5 dictionary methods on it.\n"
   ]
  },
  {
   "cell_type": "code",
   "execution_count": 97,
   "id": "de6a9b94",
   "metadata": {},
   "outputs": [],
   "source": [
    "fruits = {\"Apple\":\"Green\",\"Mango\":\"Yellow\",\"kiwi\":\"Green\",\"Banana\":\"Yellow\"}"
   ]
  },
  {
   "cell_type": "code",
   "execution_count": 99,
   "id": "d9f6bdec",
   "metadata": {},
   "outputs": [
    {
     "data": {
      "text/plain": [
       "'Green'"
      ]
     },
     "execution_count": 99,
     "metadata": {},
     "output_type": "execute_result"
    }
   ],
   "source": [
    "fruits.get(\"Apple\")"
   ]
  },
  {
   "cell_type": "code",
   "execution_count": 100,
   "id": "c43bcf60",
   "metadata": {},
   "outputs": [
    {
     "data": {
      "text/plain": [
       "dict_items([('Apple', 'Green'), ('Mango', 'Yellow'), ('kiwi', 'Green'), ('Banana', 'Yellow')])"
      ]
     },
     "execution_count": 100,
     "metadata": {},
     "output_type": "execute_result"
    }
   ],
   "source": [
    "fruits.items()"
   ]
  },
  {
   "cell_type": "code",
   "execution_count": 101,
   "id": "10470c8e",
   "metadata": {},
   "outputs": [
    {
     "data": {
      "text/plain": [
       "dict_keys(['Apple', 'Mango', 'kiwi', 'Banana'])"
      ]
     },
     "execution_count": 101,
     "metadata": {},
     "output_type": "execute_result"
    }
   ],
   "source": [
    "fruits.keys()"
   ]
  },
  {
   "cell_type": "code",
   "execution_count": 102,
   "id": "31021e1d",
   "metadata": {},
   "outputs": [
    {
     "data": {
      "text/plain": [
       "'Yellow'"
      ]
     },
     "execution_count": 102,
     "metadata": {},
     "output_type": "execute_result"
    }
   ],
   "source": [
    "fruits.pop(\"Banana\")"
   ]
  },
  {
   "cell_type": "code",
   "execution_count": 106,
   "id": "d9f8742d",
   "metadata": {},
   "outputs": [],
   "source": [
    "fruits.update({\"Banana\":\"Yellow\"})"
   ]
  },
  {
   "cell_type": "code",
   "execution_count": 107,
   "id": "dea777ac",
   "metadata": {},
   "outputs": [
    {
     "data": {
      "text/plain": [
       "{'Apple': 'Green', 'Mango': 'Yellow', 'kiwi': 'Green', 'Banana': 'Yellow'}"
      ]
     },
     "execution_count": 107,
     "metadata": {},
     "output_type": "execute_result"
    }
   ],
   "source": [
    "fruits"
   ]
  },
  {
   "cell_type": "code",
   "execution_count": null,
   "id": "016cfe4b",
   "metadata": {},
   "outputs": [],
   "source": []
  }
 ],
 "metadata": {
  "kernelspec": {
   "display_name": "Python 3 (ipykernel)",
   "language": "python",
   "name": "python3"
  },
  "language_info": {
   "codemirror_mode": {
    "name": "ipython",
    "version": 3
   },
   "file_extension": ".py",
   "mimetype": "text/x-python",
   "name": "python",
   "nbconvert_exporter": "python",
   "pygments_lexer": "ipython3",
   "version": "3.11.4"
  }
 },
 "nbformat": 4,
 "nbformat_minor": 5
}
