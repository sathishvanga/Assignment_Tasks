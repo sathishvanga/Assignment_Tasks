{
 "cells": [
  {
   "cell_type": "markdown",
   "id": "985dd64b",
   "metadata": {},
   "source": [
    "Task 1: **Leap Year Checker**\n",
    "\n",
    "Write a program that takes a year as input and determines whether it is a leap year or not. A leap year is a year that is divisible by 4, but not divisible by 100, unless it is also divisible by 400. Display an appropriate message indicating whether the year is a leap year or not.\n",
    "\n",
    "Task 2: **Grade Calculator**\n",
    "\n",
    "Write a program that takes a student's score as input (out of 100) and determines their grade based on the following conditions:\n",
    "If the score is 90 or above, the grade is 'A'.\n",
    "If the score is between 80 and 89, the grade is 'B'.\n",
    "If the score is between 70 and 79, the grade is 'C'.\n",
    "If the score is between 60 and 69, the grade is 'D'. If the score is below 60, the grade is 'F'.\n",
    "Display the grade corresponding to the entered score.\n",
    "\n",
    "Task 3: **Calculator**\n",
    "Write a program that takes two numbers as input and performs a mathematical operation (+, -, *, /) based on the user's choice. Use a conditional statement to determine the operation to be performed. Display the result of the calculation.\n",
    "\n",
    "Task 4: **Reverse String**\n",
    "Write a Python function to reverse a string.\n",
    "\n",
    "Task 5: **Palindrome**\n",
    "Write a Python function that checks whether a passed string is a palindrome or not.\n",
    "\n",
    "Task 6: **Counting**\n",
    "Write a Python function that accepts a string and counts the number of upper and lower case letters.\n",
    "\n",
    "Task 7: **"
   ]
  },
  {
   "cell_type": "markdown",
   "id": "e5e193cd",
   "metadata": {},
   "source": [
    "Task 1: **Leap Year Checker**\n",
    "\n",
    "Write a program that takes a year as input and determines whether it is a leap year or not. A leap year is a year that is divisible by 4, but not divisible by 100, unless it is also divisible by 400. Display an appropriate message indicating whether the year is a leap year or not."
   ]
  },
  {
   "cell_type": "code",
   "execution_count": 30,
   "id": "528155ef",
   "metadata": {},
   "outputs": [
    {
     "name": "stdout",
     "output_type": "stream",
     "text": [
      "Enter a Year :: 2020\n",
      "It is a leap year\n"
     ]
    }
   ],
   "source": [
    "def leap():\n",
    "    year = int(input(\"Enter a Year :: \"))\n",
    "    if (year%4==0) and (year%100!=0) or (year%400==0):\n",
    "        print(\"It is a leap year\")\n",
    "    else :\n",
    "        print(\"It is not leap year \")\n",
    "leap()  "
   ]
  },
  {
   "cell_type": "code",
   "execution_count": 31,
   "id": "5a9d8585",
   "metadata": {},
   "outputs": [],
   "source": [
    "a = lambda year : (year%4==0) and (year%100!=0) or (year%400==0)\n"
   ]
  },
  {
   "cell_type": "code",
   "execution_count": 33,
   "id": "ef864078",
   "metadata": {},
   "outputs": [
    {
     "name": "stdout",
     "output_type": "stream",
     "text": [
      "2000\n"
     ]
    }
   ],
   "source": [
    "a(2000)\n",
    "for i in year :\n",
    "    if a(i) == True:\n",
    "        print(i)\n",
    "\n",
    "\n"
   ]
  },
  {
   "cell_type": "code",
   "execution_count": 65,
   "id": "df018f74",
   "metadata": {},
   "outputs": [],
   "source": [
    "\n",
    "year = [2000,2001,2020]"
   ]
  },
  {
   "cell_type": "code",
   "execution_count": 68,
   "id": "ab2d6134",
   "metadata": {},
   "outputs": [
    {
     "data": {
      "text/plain": [
       "[2000, 2020]"
      ]
     },
     "execution_count": 68,
     "metadata": {},
     "output_type": "execute_result"
    }
   ],
   "source": [
    "def leap(year):\n",
    "    #year = int(input(\"Enter a Year :: \"))\n",
    "    if (year%4==0) and (year%100!=0) or (year%400==0):\n",
    "        return(\"It is a leap year\")\n",
    "    \n",
    "  \n",
    "\n",
    "c= list(filter(leap,year))\n",
    "c\n",
    "\n",
    "    "
   ]
  },
  {
   "cell_type": "code",
   "execution_count": 73,
   "id": "2405e400",
   "metadata": {},
   "outputs": [
    {
     "name": "stdout",
     "output_type": "stream",
     "text": [
      "It is a leap year\n",
      "It is not leap year \n",
      "It is a leap year\n"
     ]
    }
   ],
   "source": [
    "def leap(year):\n",
    "    \n",
    "    if (year%4==0) and (year%100!=0) or (year%400==0):\n",
    "        print(\"It is a leap year\")\n",
    "    else :\n",
    "        print(\"It is not leap year \")\n",
    "\n",
    "\n",
    "b = list(map(leap,year))\n"
   ]
  },
  {
   "cell_type": "markdown",
   "id": "99e5dea9",
   "metadata": {},
   "source": [
    "Task 2: **Grade Calculator**\n",
    "\n",
    "Write a program that takes a student's score as input (out of 100) and determines their grade based on the following conditions:\n",
    "If the score is 90 or above, the grade is 'A'.\n",
    "If the score is between 80 and 89, the grade is 'B'.\n",
    "If the score is between 70 and 79, the grade is 'C'.\n",
    "If the score is between 60 and 69, the grade is 'D'. If the score is below 60, the grade is 'F'.\n",
    "Display the grade corresponding to the entered score.\n"
   ]
  },
  {
   "cell_type": "markdown",
   "id": "d445096e",
   "metadata": {},
   "source": [
    "#### Normal Function"
   ]
  },
  {
   "cell_type": "code",
   "execution_count": 44,
   "id": "4ff946fb",
   "metadata": {},
   "outputs": [
    {
     "name": "stdout",
     "output_type": "stream",
     "text": [
      "Enter your marks :: 100\n",
      "A Grade\n"
     ]
    }
   ],
   "source": [
    "def marks():\n",
    "    score = int(input(\"Enter your marks :: \"))\n",
    "    if (score >= 90 and score <= 100) :\n",
    "        print(\"A Grade\")\n",
    "    elif (score >=80 and score <= 89) :\n",
    "        print(\"B Grade\")\n",
    "    elif (score >= 70 and score <= 79) :\n",
    "        print(\"C Grade\")\n",
    "    elif (score >= 60 and score<= 69) :\n",
    "        print(\"D Grade\")\n",
    "    elif (score > 100 or score < 0) :\n",
    "        print(\"Enter a valid marks\")\n",
    "    else :\n",
    "        print(\"Fail\")\n",
    "marks()\n"
   ]
  },
  {
   "cell_type": "code",
   "execution_count": 9,
   "id": "3413f083",
   "metadata": {},
   "outputs": [
    {
     "name": "stdout",
     "output_type": "stream",
     "text": [
      "Enter your marks :: 90\n",
      "A Grade\n"
     ]
    }
   ],
   "source": [
    "score = 90"
   ]
  },
  {
   "cell_type": "markdown",
   "id": "13b27b32",
   "metadata": {},
   "source": [
    "#### Map"
   ]
  },
  {
   "cell_type": "code",
   "execution_count": 75,
   "id": "96669e31",
   "metadata": {},
   "outputs": [],
   "source": [
    "score= [90,80,70,60]"
   ]
  },
  {
   "cell_type": "code",
   "execution_count": 76,
   "id": "240fd8fd",
   "metadata": {},
   "outputs": [
    {
     "name": "stdout",
     "output_type": "stream",
     "text": [
      "A Grade\n",
      "B Grade\n",
      "C Grade\n",
      "D Grade\n"
     ]
    }
   ],
   "source": [
    "def marks(score):\n",
    "    \n",
    "    if (score >= 90 and score <= 100) :\n",
    "        print(\"A Grade\")\n",
    "    elif (score >=80 and score <= 89) :\n",
    "        print(\"B Grade\")\n",
    "    elif (score >= 70 and score <= 79) :\n",
    "        print(\"C Grade\")\n",
    "    elif (score >= 60 and score<= 69) :\n",
    "        print(\"D Grade\")\n",
    "    elif (score > 100 or score < 0) :\n",
    "        print(\"Enter a valid marks\")\n",
    "    else :\n",
    "        print(\"Fail\")\n",
    "\n",
    "\n",
    "\n",
    "a = list(map(marks,score))"
   ]
  },
  {
   "cell_type": "markdown",
   "id": "2fed21dd",
   "metadata": {},
   "source": [
    "Task 3: **Calculator**\n",
    "Write a program that takes two numbers as input and performs a mathematical operation (+, -, *, /) based on the user's choice. Use a conditional statement to determine the operation to be performed. Display the result of the calculation."
   ]
  },
  {
   "cell_type": "markdown",
   "id": "48e79d03",
   "metadata": {},
   "source": [
    "#### Normal Function"
   ]
  },
  {
   "cell_type": "code",
   "execution_count": 56,
   "id": "1a512be9",
   "metadata": {},
   "outputs": [],
   "source": [
    "def calc(a,b):\n",
    "    user = input('''Enter choose a operation :: \n",
    "    Addition : +\n",
    "    Subtraction : -\n",
    "    Multiplication : *\n",
    "    Division : / \n",
    "    ''')\n",
    "    if (user == \"+\") :\n",
    "        print(a+b)\n",
    "    elif user == \"-\" :\n",
    "        print(a-b)\n",
    "    elif user == \"*\" :\n",
    "        print(a*b)\n",
    "    elif user == \"/\" :\n",
    "        print(a/b)\n",
    "    else :\n",
    "        print(\"Enter a valid operation\")"
   ]
  },
  {
   "cell_type": "code",
   "execution_count": 57,
   "id": "6f7e55c3",
   "metadata": {},
   "outputs": [
    {
     "name": "stdout",
     "output_type": "stream",
     "text": [
      "Enter choose a operation :: \n",
      "    Addition : +\n",
      "    Subtraction : -\n",
      "    Multiplication : *\n",
      "    Division : / \n",
      "    +\n",
      "21\n"
     ]
    }
   ],
   "source": [
    "calc(10,11)"
   ]
  },
  {
   "cell_type": "markdown",
   "id": "e68cdddd",
   "metadata": {},
   "source": [
    "Task 4: **Reverse String**\n",
    "Write a Python function to reverse a string."
   ]
  },
  {
   "cell_type": "markdown",
   "id": "bc5d2d7c",
   "metadata": {},
   "source": [
    "#### Normal Function"
   ]
  },
  {
   "cell_type": "code",
   "execution_count": 86,
   "id": "40c4efd8",
   "metadata": {},
   "outputs": [
    {
     "name": "stdout",
     "output_type": "stream",
     "text": [
      "Enter a name : Sathish\n"
     ]
    },
    {
     "data": {
      "text/plain": [
       "'hsihtaS'"
      ]
     },
     "execution_count": 86,
     "metadata": {},
     "output_type": "execute_result"
    }
   ],
   "source": [
    "def rev():\n",
    "    name = input(\"Enter a name : \")\n",
    "    return name[::-1]\n",
    "rev()"
   ]
  },
  {
   "cell_type": "markdown",
   "id": "d81798b8",
   "metadata": {},
   "source": [
    "#### Lambda Function"
   ]
  },
  {
   "cell_type": "code",
   "execution_count": 87,
   "id": "dc7be65e",
   "metadata": {},
   "outputs": [],
   "source": [
    "a = lambda name : name[::-1]"
   ]
  },
  {
   "cell_type": "code",
   "execution_count": 90,
   "id": "1db08b9f",
   "metadata": {},
   "outputs": [
    {
     "data": {
      "text/plain": [
       "'hsihtaS'"
      ]
     },
     "execution_count": 90,
     "metadata": {},
     "output_type": "execute_result"
    }
   ],
   "source": [
    "a(\"Sathish\")"
   ]
  },
  {
   "cell_type": "markdown",
   "id": "9f1358ad",
   "metadata": {},
   "source": [
    "#### Map Function"
   ]
  },
  {
   "cell_type": "code",
   "execution_count": 96,
   "id": "dae49d15",
   "metadata": {},
   "outputs": [
    {
     "data": {
      "text/plain": [
       "['hsihtaS', 'yadU']"
      ]
     },
     "execution_count": 96,
     "metadata": {},
     "output_type": "execute_result"
    }
   ],
   "source": [
    "name = [\"Sathish\",\"Uday\"]\n",
    "\n",
    "def rev(name):\n",
    "    return name[::-1]\n",
    "b = list(map(rev,name))\n",
    "b"
   ]
  },
  {
   "cell_type": "markdown",
   "id": "87b3d97c",
   "metadata": {},
   "source": [
    "Task 5: **Palindrome**\n",
    "Write a Python function that checks whether a passed string is a palindrome or not."
   ]
  },
  {
   "cell_type": "markdown",
   "id": "8334e32b",
   "metadata": {},
   "source": [
    "#### Normal Function"
   ]
  },
  {
   "cell_type": "code",
   "execution_count": 101,
   "id": "2034a243",
   "metadata": {},
   "outputs": [
    {
     "name": "stdout",
     "output_type": "stream",
     "text": [
      "Enter the string:: amma\n"
     ]
    },
    {
     "data": {
      "text/plain": [
       "'it is palindrome'"
      ]
     },
     "execution_count": 101,
     "metadata": {},
     "output_type": "execute_result"
    }
   ],
   "source": [
    "string=input(\"Enter the string:: \")\n",
    "def palindrome(string):\n",
    "    if string==string[::-1]:\n",
    "        return \"it is palindrome\"\n",
    "    else:\n",
    "        return \"it is not a palindrome\"\n",
    "palindrome(string)"
   ]
  },
  {
   "cell_type": "markdown",
   "id": "efd76616",
   "metadata": {},
   "source": [
    "#### Lambda Function"
   ]
  },
  {
   "cell_type": "code",
   "execution_count": 8,
   "id": "5c25dab8",
   "metadata": {},
   "outputs": [
    {
     "name": "stdout",
     "output_type": "stream",
     "text": [
      "Enter a string:sathish\n",
      "it is not a palindrome\n"
     ]
    }
   ],
   "source": [
    "a = lambda string: string==string[::-1]\n",
    "string = input(\"Enter a string:\")\n",
    "\n",
    "if a(string)==True:\n",
    "    print(\"it is palindrome\")\n",
    "else:\n",
    "    print(\"it is not a palindrome\")"
   ]
  },
  {
   "cell_type": "markdown",
   "id": "f76763c5",
   "metadata": {},
   "source": [
    "#### Map Function"
   ]
  },
  {
   "cell_type": "code",
   "execution_count": 24,
   "id": "c0a77dc6",
   "metadata": {},
   "outputs": [
    {
     "data": {
      "text/plain": [
       "['palindrome', 'palindrome', 'palindrome']"
      ]
     },
     "execution_count": 24,
     "metadata": {},
     "output_type": "execute_result"
    }
   ],
   "source": [
    "string= [ \"amma\" ,\"mom\",\"121\"]\n",
    "\n",
    "def palindrome(string):\n",
    "    \n",
    "    if string==string[::-1]:\n",
    "        return \"palindrome\"\n",
    "    else:\n",
    "        return \"not a palindrome\"\n",
    "    \n",
    "list1= list(map(palindrome,string))\n",
    "list1"
   ]
  },
  {
   "cell_type": "markdown",
   "id": "58c3a7d8",
   "metadata": {},
   "source": [
    "####  Filter Function"
   ]
  },
  {
   "cell_type": "code",
   "execution_count": 25,
   "id": "e5855f20",
   "metadata": {},
   "outputs": [
    {
     "data": {
      "text/plain": [
       "['amma', 'mom', '121']"
      ]
     },
     "execution_count": 25,
     "metadata": {},
     "output_type": "execute_result"
    }
   ],
   "source": [
    "string= [ \"amma\" ,\"mom\",\"121\"]\n",
    "\n",
    "def palindrome(string):\n",
    "    \n",
    "    if string==string[::-1]:\n",
    "        return \"palindrome\"\n",
    "    else:\n",
    "        return \"not a palindrome\"\n",
    "    \n",
    "list1= list(filter(palindrome,string))\n",
    "list1"
   ]
  },
  {
   "cell_type": "markdown",
   "id": "5ca4d255",
   "metadata": {},
   "source": [
    "Task 6: **Counting**\n",
    "Write a Python function that accepts a string and counts the number of upper and lower case letters."
   ]
  },
  {
   "cell_type": "code",
   "execution_count": 36,
   "id": "7683ed69",
   "metadata": {},
   "outputs": [
    {
     "name": "stdout",
     "output_type": "stream",
     "text": [
      "Enter a string:: SAthish\n",
      "['S', 'A']\n",
      "['t', 'h', 'i', 's', 'h']\n",
      "Number of upper case letters are::  2\n",
      "Number of lower case letters are::  5\n"
     ]
    }
   ],
   "source": [
    "string= input(\"Enter a string:: \")\n",
    "Upper=[]\n",
    "Lower=[]\n",
    "\n",
    "def count(string):\n",
    "    \n",
    "    upper = [chr(65+i) for i in range(0,26)]\n",
    "    lower = [chr(97+i) for i in range(0,26)]\n",
    "    \n",
    "    for i in string:\n",
    "        if i in upper:\n",
    "            Upper.append(i)\n",
    "        else :\n",
    "            Lower.append(i)\n",
    "            \n",
    "    print(Upper)\n",
    "    print(Lower)\n",
    "    print(\"Number of upper case letters are:: \",len(Upper))\n",
    "    print(\"Number of lower case letters are:: \",len(Lower))\n",
    "count(string)\n",
    "            "
   ]
  },
  {
   "cell_type": "code",
   "execution_count": 30,
   "id": "15c9b048",
   "metadata": {},
   "outputs": [
    {
     "data": {
      "text/plain": [
       "'Z'"
      ]
     },
     "execution_count": 30,
     "metadata": {},
     "output_type": "execute_result"
    }
   ],
   "source": []
  },
  {
   "cell_type": "code",
   "execution_count": null,
   "id": "3d13a2ee",
   "metadata": {},
   "outputs": [],
   "source": []
  },
  {
   "cell_type": "code",
   "execution_count": null,
   "id": "0b5d49d9",
   "metadata": {},
   "outputs": [],
   "source": []
  },
  {
   "cell_type": "code",
   "execution_count": null,
   "id": "ecf68e85",
   "metadata": {},
   "outputs": [],
   "source": []
  }
 ],
 "metadata": {
  "kernelspec": {
   "display_name": "Python 3 (ipykernel)",
   "language": "python",
   "name": "python3"
  },
  "language_info": {
   "codemirror_mode": {
    "name": "ipython",
    "version": 3
   },
   "file_extension": ".py",
   "mimetype": "text/x-python",
   "name": "python",
   "nbconvert_exporter": "python",
   "pygments_lexer": "ipython3",
   "version": "3.11.4"
  }
 },
 "nbformat": 4,
 "nbformat_minor": 5
}
