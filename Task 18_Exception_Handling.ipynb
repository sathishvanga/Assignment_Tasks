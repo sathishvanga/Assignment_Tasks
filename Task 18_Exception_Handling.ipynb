{
 "cells": [
  {
   "cell_type": "markdown",
   "id": "e95db0cb",
   "metadata": {},
   "source": [
    "In this assignment, you will create a Python program to calculate the average grade of students in a function. However, the program should handle various exceptions that might occur during user input and grade calculation. Requirements:\n",
    "\n",
    "Your program should prompt the user to enter the total number of students.\n",
    "For each student, prompt the user to enter their name and three subject marks (out of 100).\n",
    "Handle the following exceptions\n",
    ": a. ValueError: If the user enters a non-numeric value for the number of students or subject marks. b. ZeroDivisionError: If any student's average marks cannot be calculated due to division by zero (e.g., no subject marks provided). c. NegativeValueError: If any student's marks are negative. 4. Display appropriate error messages for each exception and prompt the user to try again. 5. Use a try-except block for exception handling. 6. Calculate the average marks for each student and display their names along with their average marks. 7. Calculate and display the overall class average. 8. Implement a loop so that the user can re-enter data if an exception occurs or continue calculating for another class. 9. Include a graceful exit message when the user decides to stop.\n",
    "\n",
    "#### Custom(User Defined) Exceptions: Define two custom exception classes:\n",
    "\n",
    "`NegativeValueError: This exception should be raised when any of the subject marks are negative.\n",
    "`InvalidNumber Error: This exception should be raised when the user enters an invalid number for the total number of students (e.g., a negative number)."
   ]
  },
  {
   "cell_type": "code",
   "execution_count": 46,
   "id": "7d9720e1",
   "metadata": {},
   "outputs": [
    {
     "name": "stdout",
     "output_type": "stream",
     "text": [
      "************************* Welcome to Grading System *************************\n",
      "Enter the number of students :: 3\n",
      "Enter student name :: Sathish\n",
      "Enter subject 1 marks :: 89\n",
      "Enter subject 2 marks :: 78\n",
      "Enter subject 3 marks :: 95\n",
      "The average of Sathish 87.33333333333333\n",
      "Enter student name :: Uday\n",
      "Enter subject 1 marks :: 78\n",
      "Enter subject 2 marks :: 89\n",
      "Enter subject 3 marks :: 99\n",
      "The average of Uday 88.66666666666667\n",
      "Enter student name :: Ravi\n",
      "Enter subject 1 marks :: 67\n",
      "Enter subject 2 marks :: 89\n",
      "Enter subject 3 marks :: 78\n",
      "The average of Ravi 78.0\n",
      "overall class average  84.66666666666667\n",
      "\n",
      " ************************* Thank you for using my application *************************\n"
     ]
    }
   ],
   "source": [
    "class NegativeValueError(Exception):\n",
    "    pass\n",
    "class InvalidNumberError(Exception):\n",
    "    pass\n",
    "print((\"*\"*25),\"Welcome to Grading System\",(\"*\"*25))\n",
    "import traceback\n",
    "try :\n",
    "    \n",
    "    dic = {}\n",
    "    list1 = []\n",
    "    stud = int(input(\"Enter the number of students :: \"))\n",
    "    for i in range(0,stud):\n",
    "        stud_name = input(\"Enter student name :: \")\n",
    "        for j in range(1,4):\n",
    "            subject = int(input(f\"Enter subject {j} marks :: \"))\n",
    "            dic.setdefault(stud_name,[]).extend([subject])\n",
    "            list1.append(subject/3)\n",
    "\n",
    "            if subject < 0:\n",
    "                raise NegativeValueError(\"Enter Valid Marks\")\n",
    "            elif subject == 0:\n",
    "                raise InvalidNumberError(\"Enter Valid Marks\")\n",
    "            elif subject > 100:\n",
    "                raise InvalidNumberError(\"Enter Valid Marks\")\n",
    "        for val in dic.values():\n",
    "            a = len(val)\n",
    "            b = sum(val)\n",
    "                \n",
    "        print(f\"The average of {stud_name}\",b/a)\n",
    "   \n",
    "    \n",
    "    avg = sum(list1)/stud\n",
    "    print(\"overall class average \",avg)\n",
    "    \n",
    "    \n",
    "        \n",
    "except (ValueError,ZeroDivisionError) :\n",
    "    print(traceback.print_exc())\n",
    "    \n",
    "print(\"\\n\",(\"*\"*25),\"Thank you for using my application\",(\"*\"*25))"
   ]
  },
  {
   "cell_type": "code",
   "execution_count": null,
   "id": "cce7242c",
   "metadata": {},
   "outputs": [],
   "source": []
  },
  {
   "cell_type": "markdown",
   "id": "a9874881",
   "metadata": {},
   "source": []
  },
  {
   "cell_type": "code",
   "execution_count": null,
   "id": "be807dae",
   "metadata": {},
   "outputs": [],
   "source": []
  }
 ],
 "metadata": {
  "kernelspec": {
   "display_name": "Python 3 (ipykernel)",
   "language": "python",
   "name": "python3"
  },
  "language_info": {
   "codemirror_mode": {
    "name": "ipython",
    "version": 3
   },
   "file_extension": ".py",
   "mimetype": "text/x-python",
   "name": "python",
   "nbconvert_exporter": "python",
   "pygments_lexer": "ipython3",
   "version": "3.11.4"
  }
 },
 "nbformat": 4,
 "nbformat_minor": 5
}
