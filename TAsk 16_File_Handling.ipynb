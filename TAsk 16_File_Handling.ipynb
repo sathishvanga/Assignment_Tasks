{
 "cells": [
  {
   "cell_type": "markdown",
   "id": "fd99fb02",
   "metadata": {},
   "source": [
    "**Task 1**:\n",
    "1. Load the file 'about_python.txt'into your jupyter notebook.\n",
    "    a. Correct wrong statements about python fatures\n",
    "    b. How many charactaers present in the data\n",
    "    c. How many times 'Python' word is repeated.\n",
    "    d. after correcting all ..print complete valid features of the python.\n",
    "    \n",
    "**Task2**:\n",
    "\n",
    "2. Create a file 'File.txt'which expalains python handling whatever you have learnt today(creating,reading,wring and appending...etc) in detail.That reaload the saved file(i.e File.txt) to jupyter notebook."
   ]
  },
  {
   "cell_type": "markdown",
   "id": "56cc021e",
   "metadata": {},
   "source": [
    "**Task 1**:\n",
    "1. Load the file 'about_python.txt'into your jupyter notebook.\n",
    "    a. Correct wrong statements about python fatures\n",
    "    b. How many charactaers present in the data\n",
    "    c. How many times 'Python' word is repeated.\n",
    "    d. after correcting all ..print complete valid features of the python."
   ]
  },
  {
   "cell_type": "code",
   "execution_count": 35,
   "id": "80e3ba0d",
   "metadata": {},
   "outputs": [],
   "source": [
    "f = open(\"about_python.txt\",\"r\")"
   ]
  },
  {
   "cell_type": "code",
   "execution_count": 36,
   "id": "ca96f31e",
   "metadata": {},
   "outputs": [
    {
     "name": "stdout",
     "output_type": "stream",
     "text": [
      "Python supports object-oriented programming (OOP) concepts.\n",
      "\n",
      "Python is a compiled language.\n",
      "\n",
      "Python has a rich ecosystem of third-party libraries.\n",
      "\n",
      "Python is a paid programming language\n",
      "\n",
      "Python uses indentation for code block structuring.\n",
      "\n",
      "Python is statically Typed Language\n",
      "\n",
      "Python only supports double quotes for string literals.\n",
      "\n",
      "Python can only be used for web development.\n",
      "\n",
      "Python was created by Elon Musk.\n"
     ]
    }
   ],
   "source": [
    "for i in f.readlines():\n",
    "    print(i)"
   ]
  },
  {
   "cell_type": "markdown",
   "id": "5fdef413",
   "metadata": {},
   "source": [
    "a. Correct wrong statements about python fatures"
   ]
  },
  {
   "cell_type": "code",
   "execution_count": 42,
   "id": "733886fc",
   "metadata": {},
   "outputs": [
    {
     "name": "stdout",
     "output_type": "stream",
     "text": [
      "Python supports object-oriented programming (OOP) concepts.\n",
      "Python is a interpreted language.\n",
      "Python has a rich ecosystem of third-party libraries.\n",
      "Python is a free and open-source programming language\n",
      "Python uses indentation for code block structuring.\n",
      "Python is dynamically Typed Language\n",
      "Python supports single and double quotes for string literals.\n",
      "Python can be used for web development,machine learning and data science,etc.\n",
      "Python was created by Guido van Rossum.\n"
     ]
    }
   ],
   "source": [
    "file = open(\"about_python.txt\",\"r\")\n",
    "\n",
    "string = file.read()\n",
    "\n",
    "string1=string.replace(\"compiled\",\"interpreted\")\n",
    "\n",
    "string2= string1.replace(\"paid\",\"free and open-source\")\n",
    "\n",
    "string3= string2.replace(\"statically\",\"dynamically\")\n",
    "\n",
    "string4= string3.replace(\"only supports\",\"supports single and\")\n",
    "\n",
    "string5= string4.replace(\"can only be used for web development.\",\"can be used for web development,machine learning and data science,etc.\")\n",
    "\n",
    "strings= string5.replace(\"Elon Musk\",\"Guido van Rossum\")\n",
    "\n",
    "print(strings)"
   ]
  },
  {
   "cell_type": "markdown",
   "id": "ce96c3a6",
   "metadata": {},
   "source": [
    "b. How many charactaers present in the data"
   ]
  },
  {
   "cell_type": "code",
   "execution_count": 43,
   "id": "23f2c151",
   "metadata": {},
   "outputs": [
    {
     "data": {
      "text/plain": [
       "412"
      ]
     },
     "execution_count": 43,
     "metadata": {},
     "output_type": "execute_result"
    }
   ],
   "source": [
    "file.tell()"
   ]
  },
  {
   "cell_type": "markdown",
   "id": "aa8edc9f",
   "metadata": {},
   "source": [
    "c. How many times 'Python' word is repeated."
   ]
  },
  {
   "cell_type": "code",
   "execution_count": 44,
   "id": "cc71e613",
   "metadata": {},
   "outputs": [
    {
     "data": {
      "text/plain": [
       "9"
      ]
     },
     "execution_count": 44,
     "metadata": {},
     "output_type": "execute_result"
    }
   ],
   "source": [
    "string.count(\"Python\")"
   ]
  },
  {
   "cell_type": "markdown",
   "id": "a5fbdcb8",
   "metadata": {},
   "source": [
    "d. after correcting all ..print complete valid features of the python."
   ]
  },
  {
   "cell_type": "code",
   "execution_count": 45,
   "id": "6423fc0c",
   "metadata": {},
   "outputs": [
    {
     "name": "stdout",
     "output_type": "stream",
     "text": [
      "Python supports object-oriented programming (OOP) concepts.\n",
      "Python is a interpreted language.\n",
      "Python has a rich ecosystem of third-party libraries.\n",
      "Python is a free and open-source programming language\n",
      "Python uses indentation for code block structuring.\n",
      "Python is dynamically Typed Language\n",
      "Python supports single and double quotes for string literals.\n",
      "Python can be used for web development,machine learning and data science,etc.\n",
      "Python was created by Guido van Rossum.\n"
     ]
    }
   ],
   "source": [
    "print(strings)"
   ]
  },
  {
   "cell_type": "markdown",
   "id": "22c890f9",
   "metadata": {},
   "source": [
    "**Task2**:\n",
    "\n",
    "2. Create a file 'File.txt'which expalains python handling whatever you have learnt today(creating,reading,wring and appending...etc) in detail.That reaload the saved file(i.e File.txt) to jupyter notebook."
   ]
  },
  {
   "cell_type": "code",
   "execution_count": 41,
   "id": "4441fe35",
   "metadata": {},
   "outputs": [],
   "source": [
    "file_1 = open(\"File.txt\",\"x\") #creating a file "
   ]
  },
  {
   "cell_type": "code",
   "execution_count": 42,
   "id": "36e45aab",
   "metadata": {},
   "outputs": [
    {
     "data": {
      "text/plain": [
       "386"
      ]
     },
     "execution_count": 42,
     "metadata": {},
     "output_type": "execute_result"
    }
   ],
   "source": [
    "file_1.write('''The open() function takes two parameters; filename, and mode.\\n Modes are : \\n\"r\" - Read :Opens a file for reading, error if the file does not exist\\n\"a\" - Append - Opens a file for appending, creates the file if it does not exist \\n\"w\" - Write - Opens a file for writing, creates the file if it does not exist \\n\"x\" - Create - Creates the specified file, returns an error if the file exists''')"
   ]
  },
  {
   "cell_type": "code",
   "execution_count": 43,
   "id": "89ef550e",
   "metadata": {},
   "outputs": [],
   "source": [
    "file_1.close() #closing the file"
   ]
  },
  {
   "cell_type": "code",
   "execution_count": 39,
   "id": "d368589d",
   "metadata": {},
   "outputs": [
    {
     "name": "stdout",
     "output_type": "stream",
     "text": [
      "The open() function takes two parameters; filename, and mode.\n",
      " Modes are : \n",
      " \"r\" - Read :Opens a file for reading, error if the file does not exist\n",
      "\"a\" - Append - Opens a file for appending, creates the file if it does not exist \n",
      "\"w\" - Write - Opens a file for writing, creates the file if it does not exist \n",
      "\"x\" - Create - Creates the specified file, returns an error if the file exists\n"
     ]
    }
   ],
   "source": [
    "file_2 = open(\"File.txt\",\"r\")\n",
    "\n",
    "print(file_2.read()) #Read at most n characters from file.\n"
   ]
  },
  {
   "cell_type": "code",
   "execution_count": 22,
   "id": "a73d5f1b",
   "metadata": {},
   "outputs": [
    {
     "data": {
      "text/plain": [
       "20"
      ]
     },
     "execution_count": 22,
     "metadata": {},
     "output_type": "execute_result"
    }
   ],
   "source": [
    "file_3 = open(\"File.txt\",\"a\")    # Appending a string to the file\n",
    "\n",
    "\n",
    "file_3.write(\"I am Learning Python\") "
   ]
  },
  {
   "cell_type": "code",
   "execution_count": 66,
   "id": "b70122dc",
   "metadata": {},
   "outputs": [],
   "source": [
    "file_3.close()"
   ]
  },
  {
   "cell_type": "code",
   "execution_count": 69,
   "id": "622bf094",
   "metadata": {},
   "outputs": [
    {
     "data": {
      "text/plain": [
       "['Hello World!I am Learning Python\\n',\n",
       " 'I am Learning PythonI am Learning Python']"
      ]
     },
     "execution_count": 69,
     "metadata": {},
     "output_type": "execute_result"
    }
   ],
   "source": [
    "file_4 = open(\"File.txt\",\"r\")\n",
    "file_4.readlines()  #Return a list of lines from the file.\n"
   ]
  },
  {
   "cell_type": "code",
   "execution_count": null,
   "id": "96ca4edf",
   "metadata": {},
   "outputs": [],
   "source": []
  }
 ],
 "metadata": {
  "kernelspec": {
   "display_name": "Python 3 (ipykernel)",
   "language": "python",
   "name": "python3"
  },
  "language_info": {
   "codemirror_mode": {
    "name": "ipython",
    "version": 3
   },
   "file_extension": ".py",
   "mimetype": "text/x-python",
   "name": "python",
   "nbconvert_exporter": "python",
   "pygments_lexer": "ipython3",
   "version": "3.11.4"
  }
 },
 "nbformat": 4,
 "nbformat_minor": 5
}
