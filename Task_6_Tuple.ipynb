{
 "cells": [
  {
   "cell_type": "markdown",
   "id": "e30e91f8",
   "metadata": {},
   "source": [
    "\n",
    "\n",
    "**Assignment Task 1:** Tuple Basics\n",
    "Create a Python tuple containing the names of your favorite fruits. Write a Python program to print `each fruit` name from the tuple.\n",
    "\n",
    "**Assignment Task 2:** Tuple Operations\n",
    "Given two tuples, write a Python program to `concatenate` them into a `single` tuple and then find the `length` of the resulting tuple.\n",
    "\n",
    "**Assignment Task 3:** Set Creation\n",
    "Create a Python set containing the first 10 `even` numbers (2, 4, 6, ...). Write a program to `display` this set.\n",
    "\n",
    "**Assignment Task 4:** Set Operations\n",
    "Given two sets, write a Python program to find the `union, intersection, and difference` of these sets.\n",
    "\n",
    "**Assignment Task 5:** Tuple and Set Conversion\n",
    "Write a Python program that takes a `tuple` of integers and converts it into a `set`. Then, find and print the `maximum and minimum` values from the set.\n",
    "\n",
    "**Assignment Task 6:** Tuple Immutability\n",
    "Explain the concept of immutability in Python tuples with examples. Discuss why tuples are considered immutable data structures.\n",
    "\n",
    "**Assignment Task 7:** Set Operations and Methods\n",
    "Write a Python program that takes a set of numbers and performs the following operations:\n",
    "   - Add a new number to the set.\n",
    "   - Remove a number from the set.\n",
    "   - Check if a specific number is in the set.\n",
    "   - Find the size of the set.\n",
    "\n",
    "**Assignment Task 8:** Tuple Slicing\n",
    "Given a tuple of 10 elements, write a Python program to print the elements from the `3rd to the 7th `position using slicing.\n",
    "\n",
    "**Assignment Task 9:** Set Operations with Lists\n",
    "Create a Python list with duplicate elements and convert it into a set to remove duplicates. Then, write a program to count how many duplicates were removed.\n",
    "\n",
    "**Assignment Task 10:** Tuple and Set Combinations\n",
    "Create a `tuple` containing the names of your friend's favorite movies and a `set` containing the names of your favorite movies. Write a Python program to find and display common elements (movies that feature your "
   ]
  },
  {
   "cell_type": "markdown",
   "id": "485980b5",
   "metadata": {},
   "source": [
    "### Assignment Task 1:\n",
    "Tuple Basics Create a Python tuple containing the names of your favorite fruits. Write a Python program to print each fruit name from the tuple."
   ]
  },
  {
   "cell_type": "code",
   "execution_count": 2,
   "id": "0e43cfd7",
   "metadata": {},
   "outputs": [
    {
     "data": {
      "text/plain": [
       "('mango', 'kiwi', 'banana', 'apple')"
      ]
     },
     "execution_count": 2,
     "metadata": {},
     "output_type": "execute_result"
    }
   ],
   "source": [
    "fruits = ('mango','kiwi','banana','apple')\n",
    "fruits"
   ]
  },
  {
   "cell_type": "code",
   "execution_count": 29,
   "id": "007e59ef",
   "metadata": {},
   "outputs": [
    {
     "data": {
      "text/plain": [
       "'mango'"
      ]
     },
     "execution_count": 29,
     "metadata": {},
     "output_type": "execute_result"
    }
   ],
   "source": [
    "fruits[0]"
   ]
  },
  {
   "cell_type": "code",
   "execution_count": 30,
   "id": "9d8bc86e",
   "metadata": {},
   "outputs": [
    {
     "data": {
      "text/plain": [
       "'kiwi'"
      ]
     },
     "execution_count": 30,
     "metadata": {},
     "output_type": "execute_result"
    }
   ],
   "source": [
    "fruits[1]"
   ]
  },
  {
   "cell_type": "code",
   "execution_count": 31,
   "id": "9e90cdae",
   "metadata": {},
   "outputs": [
    {
     "data": {
      "text/plain": [
       "'banana'"
      ]
     },
     "execution_count": 31,
     "metadata": {},
     "output_type": "execute_result"
    }
   ],
   "source": [
    "fruits[2]"
   ]
  },
  {
   "cell_type": "code",
   "execution_count": 32,
   "id": "e9f2b2a1",
   "metadata": {},
   "outputs": [
    {
     "data": {
      "text/plain": [
       "'apple'"
      ]
     },
     "execution_count": 32,
     "metadata": {},
     "output_type": "execute_result"
    }
   ],
   "source": [
    "fruits[3]"
   ]
  },
  {
   "cell_type": "markdown",
   "id": "e829839b",
   "metadata": {},
   "source": [
    "**Assignment Task 2:** Tuple Operations\n",
    "Given two tuples, write a Python program to `concatenate` them into a `single` tuple and then find the `length` of the resulting tuple."
   ]
  },
  {
   "cell_type": "code",
   "execution_count": 33,
   "id": "43aee2cd",
   "metadata": {},
   "outputs": [],
   "source": [
    "tuple1 = ('Python','Data Analytics','SQL')\n",
    "tuple2 = ('Machine Learning ','Deep Learning','NLP')\n",
    "concate = tuple1 + tuple2"
   ]
  },
  {
   "cell_type": "code",
   "execution_count": 37,
   "id": "1677cda3",
   "metadata": {},
   "outputs": [
    {
     "name": "stdout",
     "output_type": "stream",
     "text": [
      "('Python', 'Data Analytics', 'SQL', 'Machine Learning ', 'Deep Learning', 'NLP')\n"
     ]
    }
   ],
   "source": [
    "print(concate)"
   ]
  },
  {
   "cell_type": "code",
   "execution_count": 38,
   "id": "0b18130c",
   "metadata": {},
   "outputs": [
    {
     "data": {
      "text/plain": [
       "6"
      ]
     },
     "execution_count": 38,
     "metadata": {},
     "output_type": "execute_result"
    }
   ],
   "source": [
    "len(concate)\n"
   ]
  },
  {
   "cell_type": "markdown",
   "id": "987b1c28",
   "metadata": {},
   "source": [
    "**Assignment Task 3:** Set Creation\n",
    "Create a Python set containing the first 10 `even` numbers (2, 4, 6, ...). Write a program to `display` this set."
   ]
  },
  {
   "cell_type": "code",
   "execution_count": 39,
   "id": "d658ee2d",
   "metadata": {},
   "outputs": [
    {
     "name": "stdout",
     "output_type": "stream",
     "text": [
      "10\n",
      "{2, 4, 6, 8, 10, 12, 14, 16, 18, 20}\n"
     ]
    }
   ],
   "source": [
    "even_numbers = {2,4,6,8,10,12,14,16,18,20}\n",
    "print(len(even_numbers))\n",
    "print(even_numbers)"
   ]
  },
  {
   "cell_type": "markdown",
   "id": "3df34d09",
   "metadata": {},
   "source": [
    "**Assignment Task 4:** Set Operations\n",
    "Given two sets, write a Python program to find the `union, intersection, and difference` of these sets.\n"
   ]
  },
  {
   "cell_type": "code",
   "execution_count": 40,
   "id": "11fd3757",
   "metadata": {},
   "outputs": [],
   "source": [
    "set_1 = {1,2,3,4,5,6}\n",
    "set_2 = {4,5,6,7,8,9}"
   ]
  },
  {
   "cell_type": "code",
   "execution_count": 41,
   "id": "beb5ae7b",
   "metadata": {},
   "outputs": [
    {
     "data": {
      "text/plain": [
       "set"
      ]
     },
     "execution_count": 41,
     "metadata": {},
     "output_type": "execute_result"
    }
   ],
   "source": [
    "type(set_1)"
   ]
  },
  {
   "cell_type": "code",
   "execution_count": 42,
   "id": "f5325ff3",
   "metadata": {},
   "outputs": [
    {
     "data": {
      "text/plain": [
       "{1, 2, 3, 4, 5, 6, 7, 8, 9}"
      ]
     },
     "execution_count": 42,
     "metadata": {},
     "output_type": "execute_result"
    }
   ],
   "source": [
    "set_1.union(set_2)"
   ]
  },
  {
   "cell_type": "code",
   "execution_count": 43,
   "id": "d2bbe808",
   "metadata": {},
   "outputs": [
    {
     "data": {
      "text/plain": [
       "{4, 5, 6}"
      ]
     },
     "execution_count": 43,
     "metadata": {},
     "output_type": "execute_result"
    }
   ],
   "source": [
    "set_1.intersection(set_2)"
   ]
  },
  {
   "cell_type": "code",
   "execution_count": 44,
   "id": "730702b0",
   "metadata": {},
   "outputs": [
    {
     "data": {
      "text/plain": [
       "{1, 2, 3}"
      ]
     },
     "execution_count": 44,
     "metadata": {},
     "output_type": "execute_result"
    }
   ],
   "source": [
    "set_1.difference(set_2)"
   ]
  },
  {
   "cell_type": "markdown",
   "id": "97de5869",
   "metadata": {},
   "source": [
    "**Assignment Task 5:** Tuple and Set Conversion\n",
    "Write a Python program that takes a `tuple` of integers and converts it into a `set`. Then, find and print the `maximum and minimum` values from the set.\n"
   ]
  },
  {
   "cell_type": "code",
   "execution_count": 45,
   "id": "228b236b",
   "metadata": {},
   "outputs": [],
   "source": [
    "tuple_1 = (1,2,3,4,5,6,100,300)"
   ]
  },
  {
   "cell_type": "code",
   "execution_count": 46,
   "id": "37d1028a",
   "metadata": {},
   "outputs": [],
   "source": [
    "set_1 = set(tuple_1)"
   ]
  },
  {
   "cell_type": "code",
   "execution_count": 47,
   "id": "be7cb986",
   "metadata": {},
   "outputs": [
    {
     "data": {
      "text/plain": [
       "{1, 2, 3, 4, 5, 6, 100, 300}"
      ]
     },
     "execution_count": 47,
     "metadata": {},
     "output_type": "execute_result"
    }
   ],
   "source": [
    "set_1"
   ]
  },
  {
   "cell_type": "code",
   "execution_count": 48,
   "id": "851c8262",
   "metadata": {},
   "outputs": [
    {
     "data": {
      "text/plain": [
       "300"
      ]
     },
     "execution_count": 48,
     "metadata": {},
     "output_type": "execute_result"
    }
   ],
   "source": [
    "max(set_1)"
   ]
  },
  {
   "cell_type": "code",
   "execution_count": 49,
   "id": "cb8d3899",
   "metadata": {},
   "outputs": [
    {
     "data": {
      "text/plain": [
       "1"
      ]
     },
     "execution_count": 49,
     "metadata": {},
     "output_type": "execute_result"
    }
   ],
   "source": [
    "min(set_1)"
   ]
  },
  {
   "cell_type": "markdown",
   "id": "dbe97bcb",
   "metadata": {},
   "source": [
    "**Assignment Task 6:** Tuple Immutability\n",
    "Explain the concept of immutability in Python tuples with examples. Discuss why tuples are considered immutable data structures."
   ]
  },
  {
   "cell_type": "code",
   "execution_count": 50,
   "id": "b09df537",
   "metadata": {},
   "outputs": [],
   "source": [
    "tuple_1 = (1,2,3,4,5,6)\n"
   ]
  },
  {
   "cell_type": "code",
   "execution_count": 51,
   "id": "10802cd3",
   "metadata": {},
   "outputs": [
    {
     "ename": "AttributeError",
     "evalue": "'tuple' object has no attribute 'add'",
     "output_type": "error",
     "traceback": [
      "\u001b[1;31m---------------------------------------------------------------------------\u001b[0m",
      "\u001b[1;31mAttributeError\u001b[0m                            Traceback (most recent call last)",
      "Cell \u001b[1;32mIn[51], line 1\u001b[0m\n\u001b[1;32m----> 1\u001b[0m tuple_1\u001b[38;5;241m.\u001b[39madd(\u001b[38;5;241m3\u001b[39m)\n",
      "\u001b[1;31mAttributeError\u001b[0m: 'tuple' object has no attribute 'add'"
     ]
    }
   ],
   "source": [
    "tuple_1.add(3) "
   ]
  },
  {
   "cell_type": "code",
   "execution_count": 52,
   "id": "275771ab",
   "metadata": {},
   "outputs": [
    {
     "ename": "AttributeError",
     "evalue": "'tuple' object has no attribute 'remove'",
     "output_type": "error",
     "traceback": [
      "\u001b[1;31m---------------------------------------------------------------------------\u001b[0m",
      "\u001b[1;31mAttributeError\u001b[0m                            Traceback (most recent call last)",
      "Cell \u001b[1;32mIn[52], line 1\u001b[0m\n\u001b[1;32m----> 1\u001b[0m tuple_1\u001b[38;5;241m.\u001b[39mremove(\u001b[38;5;241m6\u001b[39m)\n",
      "\u001b[1;31mAttributeError\u001b[0m: 'tuple' object has no attribute 'remove'"
     ]
    }
   ],
   "source": [
    "tuple_1.remove(6)"
   ]
  },
  {
   "cell_type": "markdown",
   "id": "ba58fdf0",
   "metadata": {},
   "source": [
    " * tuple is a immutable data structures in python\n",
    " * we can't add or remove the elements from the tuple\n"
   ]
  },
  {
   "cell_type": "markdown",
   "id": "7e0df29f",
   "metadata": {},
   "source": [
    "**Assignment Task 7:** Set Operations and Methods\n",
    "Write a Python program that takes a set of numbers and performs the following operations:\n",
    "   - Add a new number to the set.\n",
    "   - Remove a number from the set.\n",
    "   - Check if a specific number is in the set.\n",
    "   - Find the size of the set."
   ]
  },
  {
   "cell_type": "code",
   "execution_count": 56,
   "id": "01737baf",
   "metadata": {},
   "outputs": [
    {
     "data": {
      "text/plain": [
       "{1, 23, 34, 43, 45, 54}"
      ]
     },
     "execution_count": 56,
     "metadata": {},
     "output_type": "execute_result"
    }
   ],
   "source": [
    "set_1 = {1,23,43,45,43,34,54}\n",
    "set_1"
   ]
  },
  {
   "cell_type": "code",
   "execution_count": 57,
   "id": "fddb4727",
   "metadata": {},
   "outputs": [
    {
     "data": {
      "text/plain": [
       "{1, 6, 23, 34, 43, 45, 54}"
      ]
     },
     "execution_count": 57,
     "metadata": {},
     "output_type": "execute_result"
    }
   ],
   "source": [
    "set_1.add(6)\n",
    "set_1"
   ]
  },
  {
   "cell_type": "code",
   "execution_count": 62,
   "id": "6b555cd9",
   "metadata": {},
   "outputs": [
    {
     "data": {
      "text/plain": [
       "{1, 6, 23, 34, 43, 54}"
      ]
     },
     "execution_count": 62,
     "metadata": {},
     "output_type": "execute_result"
    }
   ],
   "source": [
    "set_1.discard(45)\n",
    "set_1"
   ]
  },
  {
   "cell_type": "code",
   "execution_count": 63,
   "id": "23b4c2c6",
   "metadata": {},
   "outputs": [
    {
     "data": {
      "text/plain": [
       "True"
      ]
     },
     "execution_count": 63,
     "metadata": {},
     "output_type": "execute_result"
    }
   ],
   "source": [
    "34 in set_1"
   ]
  },
  {
   "cell_type": "code",
   "execution_count": 64,
   "id": "41070c9d",
   "metadata": {},
   "outputs": [
    {
     "data": {
      "text/plain": [
       "6"
      ]
     },
     "execution_count": 64,
     "metadata": {},
     "output_type": "execute_result"
    }
   ],
   "source": [
    "len(set_1)"
   ]
  },
  {
   "cell_type": "markdown",
   "id": "9b5980a7",
   "metadata": {},
   "source": [
    "**Assignment Task 8:** Tuple Slicing\n",
    "Given a tuple of 10 elements, write a Python program to print the elements from the `3rd to the 7th `position using slicing."
   ]
  },
  {
   "cell_type": "code",
   "execution_count": 66,
   "id": "00e8c18e",
   "metadata": {},
   "outputs": [
    {
     "data": {
      "text/plain": [
       "10"
      ]
     },
     "execution_count": 66,
     "metadata": {},
     "output_type": "execute_result"
    }
   ],
   "source": [
    "tuple_1 = (1,2,3,4,5,6,7,8,9,10)\n",
    "len(tuple_1)"
   ]
  },
  {
   "cell_type": "code",
   "execution_count": 67,
   "id": "4e20f4ca",
   "metadata": {},
   "outputs": [
    {
     "data": {
      "text/plain": [
       "(4, 5, 6, 7, 8)"
      ]
     },
     "execution_count": 67,
     "metadata": {},
     "output_type": "execute_result"
    }
   ],
   "source": [
    "tuple_1[3:8]"
   ]
  },
  {
   "cell_type": "markdown",
   "id": "11845cbc",
   "metadata": {},
   "source": [
    "**Assignment Task 9:** Set Operations with Lists\n",
    "Create a Python list with duplicate elements and convert it into a set to remove duplicates. Then, write a program to count how many duplicates were removed.\n"
   ]
  },
  {
   "cell_type": "code",
   "execution_count": 69,
   "id": "c37cafed",
   "metadata": {},
   "outputs": [
    {
     "data": {
      "text/plain": [
       "[1, 2, 3, 4, 4, 3, 5, 6, 7, 5, 6]"
      ]
     },
     "execution_count": 69,
     "metadata": {},
     "output_type": "execute_result"
    }
   ],
   "source": [
    "list_1 = [1,2,3,4,4,3,5,6,7,5,6]\n",
    "list_1"
   ]
  },
  {
   "cell_type": "code",
   "execution_count": 71,
   "id": "aa217929",
   "metadata": {},
   "outputs": [
    {
     "data": {
      "text/plain": [
       "{1, 2, 3, 4, 5, 6, 7}"
      ]
     },
     "execution_count": 71,
     "metadata": {},
     "output_type": "execute_result"
    }
   ],
   "source": [
    "set_1 = set(list_1)\n",
    "set_1"
   ]
  },
  {
   "cell_type": "code",
   "execution_count": 74,
   "id": "ef3a5db3",
   "metadata": {},
   "outputs": [
    {
     "data": {
      "text/plain": [
       "4"
      ]
     },
     "execution_count": 74,
     "metadata": {},
     "output_type": "execute_result"
    }
   ],
   "source": [
    "count_of_removed_duplicates = len(list_1)-len(set_1)\n",
    "count_of_removed_duplicates"
   ]
  },
  {
   "cell_type": "markdown",
   "id": "da45d5a1",
   "metadata": {},
   "source": [
    "**Assignment Task 10:** Tuple and Set Combinations\n",
    "Create a `tuple` containing the names of your friend's favorite movies and a `set` containing the names of your favorite movies. Write a Python program to find and display common elements (movies that feature your "
   ]
  },
  {
   "cell_type": "code",
   "execution_count": 75,
   "id": "fad7f2f2",
   "metadata": {},
   "outputs": [],
   "source": [
    "frnd_fvt = ('IronMan-1','CaptainAmerica','IronMan-3','The Avengers')\n",
    "my_fvt = {'IronMan-1','The Avengers','SpiderMan','Avengers'}\n"
   ]
  },
  {
   "cell_type": "code",
   "execution_count": 78,
   "id": "5757df46",
   "metadata": {},
   "outputs": [],
   "source": [
    "common_movies = my_fvt.intersection(frnd_fvt)"
   ]
  },
  {
   "cell_type": "code",
   "execution_count": 79,
   "id": "e460a2d4",
   "metadata": {},
   "outputs": [
    {
     "name": "stdout",
     "output_type": "stream",
     "text": [
      "{'The Avengers', 'IronMan-1'}\n"
     ]
    }
   ],
   "source": [
    "print(common_movies)"
   ]
  },
  {
   "cell_type": "code",
   "execution_count": null,
   "id": "37e2cdea",
   "metadata": {},
   "outputs": [],
   "source": []
  }
 ],
 "metadata": {
  "kernelspec": {
   "display_name": "Python 3 (ipykernel)",
   "language": "python",
   "name": "python3"
  },
  "language_info": {
   "codemirror_mode": {
    "name": "ipython",
    "version": 3
   },
   "file_extension": ".py",
   "mimetype": "text/x-python",
   "name": "python",
   "nbconvert_exporter": "python",
   "pygments_lexer": "ipython3",
   "version": "3.11.4"
  }
 },
 "nbformat": 4,
 "nbformat_minor": 5
}
