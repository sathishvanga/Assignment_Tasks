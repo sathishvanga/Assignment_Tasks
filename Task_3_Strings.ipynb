{
 "cells": [
  {
   "cell_type": "markdown",
   "id": "110812e8",
   "metadata": {},
   "source": [
    "Assignment Tasks on String Escape Characters, Indexing, and Slicing:\n",
    "\n",
    "**String Escape Characters:**\n",
    "\n",
    "Task 1:\n",
    "1. Create a string containing a sentence that includes both single and double quotes.\n",
    "2. Use escape characters to include quotes within the string.\n",
    "3. Print the modified string.\n",
    "\n",
    "Task 2:\n",
    "1. Declare a string with a backslash \\ character in it.\n",
    "2. Demonstrate the use of the escape character to print the backslash itself.\n",
    "3. Print the resulting string.\n",
    "\n",
    "Task 3:\n",
    "1. Construct a string containing newline and tab escape sequences.\n",
    "2. Print the string to display the formatted output.\n",
    "\n",
    "**Indexing and Slicing:**\n",
    "\n",
    "Task 4:\n",
    "1.  sentence = \"I want to become Data Scientist\".\n",
    "2. Access and print the `first character` of the string using indexing.\n",
    "3. Access and print the `last character` of the string using negative indexing.\n",
    "\n",
    "Task 5:\n",
    "1. What are `possible ways` yo extract `Scientist`(use forward and reverse)\n",
    "2. Use slicing to extract and print the `first word` from the string.\n",
    "3. Use slicing to extract and print the `last three` characters of the string.\n",
    "\n",
    "Task 6:\n",
    "1. name = \"Innomatics Reserach Labs\"\n",
    "2. Apply slicing to extract a substring that includes the `second to fifth` characters.\n",
    "3. `Print` the extracted substring.\n",
    "\n",
    "Task 7:\n",
    "1. string = \"Python@1234\"\n",
    "2. Use slicing to extract every second character from the string.\n",
    "3. Print the resulting sliced string.\n",
    "\n",
    "Task 8:\n",
    "1.  print last five letters.\n",
    "2. Utilize slicing to reverse the word order in the string.\n",
    "3. Print the string with the words in the reversed order.\n",
    "\n",
    "Task 9:\n",
    "1. a = \"123123123\"\n",
    "2. Apply slicing to extract only the numeric characters at odd positions.\n",
    "3. Print the sliced result.\n",
    "\n",
    "Remember to include explanations or comments for each task's code to ensure clarity. Additionally, encourage students to experiment further with different escape characters and slicing techniques beyond the provided tasks to deepen their understanding."
   ]
  },
  {
   "cell_type": "markdown",
   "id": "f6b34328",
   "metadata": {},
   "source": [
    "Task 1:\n",
    "1. Create a string containing a sentence that includes both single and double quotes.\n",
    "2. Use escape characters to include quotes within the string.\n",
    "3. Print the modified string.\n"
   ]
  },
  {
   "cell_type": "code",
   "execution_count": 5,
   "id": "25ec48cf",
   "metadata": {},
   "outputs": [],
   "source": [
    "string = '\"Innomatics\" Research labs'  "
   ]
  },
  {
   "cell_type": "code",
   "execution_count": 6,
   "id": "150d2f61",
   "metadata": {},
   "outputs": [
    {
     "data": {
      "text/plain": [
       "'\"Innomatics\" Research labs'"
      ]
     },
     "execution_count": 6,
     "metadata": {},
     "output_type": "execute_result"
    }
   ],
   "source": [
    "string"
   ]
  },
  {
   "cell_type": "code",
   "execution_count": 8,
   "id": "1818c613",
   "metadata": {},
   "outputs": [
    {
     "name": "stdout",
     "output_type": "stream",
     "text": [
      "'Innomatics' \"Research\" labs\n"
     ]
    }
   ],
   "source": [
    "string = \"'Innomatics' \\\"Research\\\" labs\"\n",
    "print(string)"
   ]
  },
  {
   "cell_type": "markdown",
   "id": "30bc0ad7",
   "metadata": {},
   "source": [
    "Task 2:\n",
    "1. Declare a string with a backslash \\ character in it.\n",
    "2. Demonstrate the use of the escape character to print the backslash itself.\n",
    "3. Print the resulting string."
   ]
  },
  {
   "cell_type": "code",
   "execution_count": 27,
   "id": "80f9ae7a",
   "metadata": {},
   "outputs": [
    {
     "data": {
      "text/plain": [
       "'sum\\\\num'"
      ]
     },
     "execution_count": 27,
     "metadata": {},
     "output_type": "execute_result"
    }
   ],
   "source": [
    "string_3 = \"sum\\\\num\"\n",
    "string_3"
   ]
  },
  {
   "cell_type": "code",
   "execution_count": 29,
   "id": "c7732f20",
   "metadata": {},
   "outputs": [
    {
     "name": "stdout",
     "output_type": "stream",
     "text": [
      "this is the blackslash \\\n"
     ]
    }
   ],
   "source": [
    "string_4 = \"this is the blackslash \\\\\"\n",
    "print(string_4)"
   ]
  },
  {
   "cell_type": "code",
   "execution_count": 31,
   "id": "adc2d2bc",
   "metadata": {},
   "outputs": [
    {
     "name": "stdout",
     "output_type": "stream",
     "text": [
      "this is the blackslash \\\n"
     ]
    }
   ],
   "source": [
    "print(string_4)"
   ]
  },
  {
   "cell_type": "markdown",
   "id": "c8f71892",
   "metadata": {},
   "source": [
    "Task 3:\n",
    "1. Construct a string containing newline and tab escape sequences.\n",
    "2. Print the string to display the formatted output."
   ]
  },
  {
   "cell_type": "code",
   "execution_count": 32,
   "id": "186eb1d0",
   "metadata": {},
   "outputs": [],
   "source": [
    "string_5 = \"Innomatics Research Labs\\n is a best institute \\tfor Data Science\""
   ]
  },
  {
   "cell_type": "code",
   "execution_count": 33,
   "id": "ae51f929",
   "metadata": {},
   "outputs": [
    {
     "name": "stdout",
     "output_type": "stream",
     "text": [
      "Innomatics Research Labs\n",
      " is a best institute \tfor Data Science\n"
     ]
    }
   ],
   "source": [
    "print(string_5)"
   ]
  },
  {
   "cell_type": "markdown",
   "id": "8d91f5c9",
   "metadata": {},
   "source": [
    "**Indexing and Slicing:**\n",
    "\n",
    "Task 4:\n",
    "1.  sentence = \"I want to become Data Scientist\".\n",
    "2. Access and print the `first character` of the string using indexing.\n",
    "3. Access and print the `last character` of the string using negative indexing."
   ]
  },
  {
   "cell_type": "code",
   "execution_count": 47,
   "id": "f0e5d72a",
   "metadata": {},
   "outputs": [
    {
     "name": "stdout",
     "output_type": "stream",
     "text": [
      "I\n",
      "t\n"
     ]
    },
    {
     "data": {
      "text/plain": [
       "'S'"
      ]
     },
     "execution_count": 47,
     "metadata": {},
     "output_type": "execute_result"
    }
   ],
   "source": [
    "sentence = \"I want to become Data Scientist\"\n",
    "print(sentence[0])\n",
    "print(sentence[-1])\n",
    "sentence[22]"
   ]
  },
  {
   "cell_type": "markdown",
   "id": "75f2025e",
   "metadata": {},
   "source": [
    "Task 5:\n",
    "1. What are `possible ways` yo extract `Scientist`(use forward and reverse)\n",
    "2. Use slicing to extract and print the `first word` from the string.\n",
    "3. Use slicing to extract and print the `last three` characters of the string.\n"
   ]
  },
  {
   "cell_type": "code",
   "execution_count": 48,
   "id": "74669ae0",
   "metadata": {},
   "outputs": [
    {
     "name": "stdout",
     "output_type": "stream",
     "text": [
      "Scientist\n",
      "Scientist\n"
     ]
    }
   ],
   "source": [
    "print(sentence[-9:])\n",
    "print(sentence[22:])"
   ]
  },
  {
   "cell_type": "code",
   "execution_count": 49,
   "id": "5ab6f6bb",
   "metadata": {},
   "outputs": [
    {
     "name": "stdout",
     "output_type": "stream",
     "text": [
      "I\n"
     ]
    }
   ],
   "source": [
    "print(sentence[0])"
   ]
  },
  {
   "cell_type": "code",
   "execution_count": 50,
   "id": "1eee33a6",
   "metadata": {},
   "outputs": [
    {
     "name": "stdout",
     "output_type": "stream",
     "text": [
      "ist\n"
     ]
    }
   ],
   "source": [
    "print(sentence[-3:])"
   ]
  },
  {
   "cell_type": "markdown",
   "id": "0b591727",
   "metadata": {},
   "source": [
    "Task 6:\n",
    "1. name = \"Innomatics Reserach Labs\"\n",
    "2. Apply slicing to extract a substring that includes the `second to fifth` characters.\n",
    "3. `Print` the extracted substring.\n"
   ]
  },
  {
   "cell_type": "code",
   "execution_count": 51,
   "id": "38c0485d",
   "metadata": {},
   "outputs": [
    {
     "data": {
      "text/plain": [
       "'noma'"
      ]
     },
     "execution_count": 51,
     "metadata": {},
     "output_type": "execute_result"
    }
   ],
   "source": [
    "name = \"Innomatics Research Labs\"\n",
    "name[2:6:1]"
   ]
  },
  {
   "cell_type": "code",
   "execution_count": 52,
   "id": "5a233095",
   "metadata": {},
   "outputs": [
    {
     "name": "stdout",
     "output_type": "stream",
     "text": [
      "noma\n"
     ]
    }
   ],
   "source": [
    "print(name[2:6:1])"
   ]
  },
  {
   "cell_type": "markdown",
   "id": "f701c1ba",
   "metadata": {},
   "source": [
    "Task 7:\n",
    "1. string = \"Python@1234\"\n",
    "2. Use slicing to extract every second character from the string.\n",
    "3. Print the resulting sliced string."
   ]
  },
  {
   "cell_type": "code",
   "execution_count": 55,
   "id": "88d88ee5",
   "metadata": {},
   "outputs": [
    {
     "data": {
      "text/plain": [
       "'Pto@24'"
      ]
     },
     "execution_count": 55,
     "metadata": {},
     "output_type": "execute_result"
    }
   ],
   "source": [
    "string = \"Python@1234\"\n",
    "string[0::2]"
   ]
  },
  {
   "cell_type": "code",
   "execution_count": 56,
   "id": "8de9aef5",
   "metadata": {},
   "outputs": [
    {
     "name": "stdout",
     "output_type": "stream",
     "text": [
      "Pto@24\n"
     ]
    }
   ],
   "source": [
    "print(string[0::2])"
   ]
  },
  {
   "cell_type": "markdown",
   "id": "9c19cad2",
   "metadata": {},
   "source": [
    "Task 8:\n",
    "1.  print last five letters.\n",
    "2. Utilize slicing to reverse the word order in the string.\n",
    "3. Print the string with the words in the reversed order."
   ]
  },
  {
   "cell_type": "code",
   "execution_count": 57,
   "id": "5bb12674",
   "metadata": {},
   "outputs": [
    {
     "name": "stdout",
     "output_type": "stream",
     "text": [
      "@1234\n"
     ]
    }
   ],
   "source": [
    "print(string[6:])"
   ]
  },
  {
   "cell_type": "code",
   "execution_count": 58,
   "id": "1907ebd8",
   "metadata": {},
   "outputs": [
    {
     "name": "stdout",
     "output_type": "stream",
     "text": [
      "4321@nohtyP\n"
     ]
    }
   ],
   "source": [
    "print(string[::-1])"
   ]
  },
  {
   "cell_type": "markdown",
   "id": "99e4b822",
   "metadata": {},
   "source": [
    "Task 9:\n",
    "1. a = \"123123123\"\n",
    "2. Apply slicing to extract only the numeric characters at odd positions.\n",
    "3. Print the sliced result."
   ]
  },
  {
   "cell_type": "code",
   "execution_count": 60,
   "id": "38f0dda6",
   "metadata": {},
   "outputs": [
    {
     "data": {
      "text/plain": [
       "'2132'"
      ]
     },
     "execution_count": 60,
     "metadata": {},
     "output_type": "execute_result"
    }
   ],
   "source": [
    "a = \"123123123\"\n",
    "a[1::2]"
   ]
  },
  {
   "cell_type": "code",
   "execution_count": 61,
   "id": "c412da0f",
   "metadata": {},
   "outputs": [
    {
     "name": "stdout",
     "output_type": "stream",
     "text": [
      "2132\n"
     ]
    }
   ],
   "source": [
    "print(a[1::2])"
   ]
  },
  {
   "cell_type": "code",
   "execution_count": null,
   "id": "c92ce7be",
   "metadata": {},
   "outputs": [],
   "source": []
  }
 ],
 "metadata": {
  "kernelspec": {
   "display_name": "Python 3 (ipykernel)",
   "language": "python",
   "name": "python3"
  },
  "language_info": {
   "codemirror_mode": {
    "name": "ipython",
    "version": 3
   },
   "file_extension": ".py",
   "mimetype": "text/x-python",
   "name": "python",
   "nbconvert_exporter": "python",
   "pygments_lexer": "ipython3",
   "version": "3.11.4"
  }
 },
 "nbformat": 4,
 "nbformat_minor": 5
}
