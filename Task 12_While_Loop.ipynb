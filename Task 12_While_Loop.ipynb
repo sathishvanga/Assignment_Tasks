{
 "cells": [
  {
   "cell_type": "markdown",
   "id": "8060b9a4",
   "metadata": {},
   "source": [
    "**while loops and their use in programming.**\n",
    "1. Write a Python program that uses a while loop to print the numbers from `A` to `P`.\n",
    "\n",
    "2. Modify the program to print only the even numbers from `1 to 20 except mutiple of 3` using a while loop.\n",
    "\n",
    "3. Create a program that prompts the user for an integer input and then uses a while loop to print the countdown from `that number to 1`.\n",
    "\n",
    "\n",
    "4. Write a Python program that uses a while loop to repeatedly ask the user to enter a number. If the user enters 0, exit the loop using the `break` statement. Otherwise, continue prompting for numbers.\n",
    "\n",
    "5. Create a program that uses a while loop to print the numbers from 1 to 20, but skip printing the numbers 5, 10, and 15 using the `continue` statement.\n",
    "\n",
    "6. Write a Python program that simulates a simple password entry system. Ask the user to enter a password, and use a while loop to repeatedly prompt for the password until the correct password \"abc123\" is entered. Once the correct password is entered, exit the loop.\n",
    "\n",
    "7. Calculate and print the sum of all the positive integers entered by the user.\n",
    "\n",
    "\n",
    "\n",
    "."
   ]
  },
  {
   "cell_type": "markdown",
   "id": "fa255c16",
   "metadata": {},
   "source": [
    "1. Write a Python program that uses a while loop to print the numbers from `A` to `P`."
   ]
  },
  {
   "cell_type": "code",
   "execution_count": 12,
   "id": "d470c0d1",
   "metadata": {},
   "outputs": [
    {
     "name": "stdout",
     "output_type": "stream",
     "text": [
      "A\n",
      "B\n",
      "C\n",
      "D\n",
      "E\n",
      "F\n",
      "G\n",
      "H\n",
      "I\n",
      "J\n",
      "K\n",
      "L\n",
      "M\n",
      "N\n",
      "O\n",
      "P\n"
     ]
    }
   ],
   "source": [
    "n = 0\n",
    "while n < 16 :\n",
    "    print(chr(65+n))\n",
    "    n = n+1\n",
    "    "
   ]
  },
  {
   "cell_type": "markdown",
   "id": "90025f08",
   "metadata": {},
   "source": [
    "2. Modify the program to print only the even numbers from `1 to 20 except mutiple of 3` using a while loop."
   ]
  },
  {
   "cell_type": "code",
   "execution_count": 19,
   "id": "5807535b",
   "metadata": {},
   "outputs": [
    {
     "name": "stdout",
     "output_type": "stream",
     "text": [
      "2\n",
      "4\n",
      "8\n",
      "10\n",
      "14\n",
      "16\n",
      "20\n"
     ]
    }
   ],
   "source": [
    "a = 1\n",
    "while a <= 20 :\n",
    "    if a%3 == 0 :\n",
    "        pass\n",
    "    elif a%2 == 0:\n",
    "        print(a)\n",
    "    a = a + 1"
   ]
  },
  {
   "cell_type": "markdown",
   "id": "1b2eff5d",
   "metadata": {},
   "source": [
    "3. Create a program that prompts the user for an integer input and then uses a while loop to print the countdown from `that number to 1`."
   ]
  },
  {
   "cell_type": "code",
   "execution_count": 25,
   "id": "e0407372",
   "metadata": {},
   "outputs": [
    {
     "name": "stdout",
     "output_type": "stream",
     "text": [
      "Enter  a number :: 20\n",
      "20\n",
      "19\n",
      "18\n",
      "17\n",
      "16\n",
      "15\n",
      "14\n",
      "13\n",
      "12\n",
      "11\n",
      "10\n",
      "9\n",
      "8\n",
      "7\n",
      "6\n",
      "5\n",
      "4\n",
      "3\n",
      "2\n",
      "1\n"
     ]
    }
   ],
   "source": [
    "num = int(input(\"Enter  a number :: \"))\n",
    "while num :\n",
    "    print(num)\n",
    "    num = num - 1"
   ]
  },
  {
   "cell_type": "markdown",
   "id": "35102592",
   "metadata": {},
   "source": [
    "4. Write a Python program that uses a while loop to repeatedly ask the user to enter a number. If the user enters 0, exit the loop using the `break` statement. Otherwise, continue prompting for numbers."
   ]
  },
  {
   "cell_type": "code",
   "execution_count": null,
   "id": "ddd001b3",
   "metadata": {},
   "outputs": [],
   "source": []
  },
  {
   "cell_type": "code",
   "execution_count": 1,
   "id": "543ac75b",
   "metadata": {},
   "outputs": [
    {
     "name": "stdout",
     "output_type": "stream",
     "text": [
      "Enter a number ::0\n"
     ]
    }
   ],
   "source": [
    "num = int(input(\"Enter a number ::\"))\n",
    "\n",
    "\n",
    "while num :\n",
    "    if num == 0 :\n",
    "        break\n",
    "    \n",
    "    else :\n",
    "        \n",
    "        num1 = int(input(\"Enter a number :: \"))\n",
    "\n",
    "        "
   ]
  },
  {
   "cell_type": "markdown",
   "id": "f2ddf8b5",
   "metadata": {},
   "source": [
    "5. Create a program that uses a while loop to print the numbers from 1 to 20, but skip printing the numbers 5, 10, and 15 using the `continue` statement."
   ]
  },
  {
   "cell_type": "code",
   "execution_count": 5,
   "id": "62f60eb6",
   "metadata": {},
   "outputs": [
    {
     "name": "stdout",
     "output_type": "stream",
     "text": [
      "1\n",
      "2\n",
      "3\n",
      "4\n",
      "6\n",
      "7\n",
      "8\n",
      "9\n",
      "11\n",
      "12\n",
      "13\n",
      "14\n",
      "16\n",
      "17\n",
      "18\n",
      "19\n",
      "20\n"
     ]
    }
   ],
   "source": [
    "num= 1\n",
    "\n",
    "while num<=20:\n",
    "    if (num==5) or (num==10) or (num==15):\n",
    "        pass\n",
    "    else:\n",
    "        print(num)\n",
    "    num= num+1"
   ]
  },
  {
   "cell_type": "markdown",
   "id": "9fafe6d5",
   "metadata": {},
   "source": [
    "6. Write a Python program that simulates a simple password entry system. Ask the user to enter a password, and use a while loop to repeatedly prompt for the password until the correct password \"abc123\" is entered. Once the correct password is entered, exit the loop."
   ]
  },
  {
   "cell_type": "code",
   "execution_count": 40,
   "id": "ace831b8",
   "metadata": {},
   "outputs": [
    {
     "name": "stdout",
     "output_type": "stream",
     "text": [
      "Enter your Password :: asajs\n",
      "Enter your Password :: dasdsd\n",
      "Enter your Password :: abc123\n"
     ]
    }
   ],
   "source": [
    "password = \"abc123\"\n",
    "while password :\n",
    "    pas = input(\"Enter your Password :: \")\n",
    "    if password == pas :\n",
    "        break\n",
    "    else :\n",
    "        continue"
   ]
  },
  {
   "cell_type": "markdown",
   "id": "5a535b82",
   "metadata": {},
   "source": [
    "7. Calculate and print the sum of all the positive integers entered by the user."
   ]
  },
  {
   "cell_type": "code",
   "execution_count": 6,
   "id": "ed8a2879",
   "metadata": {},
   "outputs": [
    {
     "name": "stdout",
     "output_type": "stream",
     "text": [
      "How many integers you want to add/sum :: 3\n",
      "Enter a number :: 1\n",
      "Enter a number :: 2\n",
      "Enter a number :: 3\n",
      "Sum of all integers :  6\n"
     ]
    }
   ],
   "source": [
    "num = int(input(\"How many integers you want to add/sum :: \"))\n",
    "a = 0\n",
    "while num :\n",
    "    for i in range(0,num) :\n",
    "        if num > 0:\n",
    "            b = int(input(\"Enter a number :: \"))\n",
    "            a = a + b\n",
    "            \n",
    "        else :\n",
    "            print(\"Enter positive integers only!\")\n",
    "            \n",
    "    print(\"Sum of all integers : \" ,a)\n",
    "        \n",
    "    break\n",
    "    \n",
    "   \n"
   ]
  },
  {
   "cell_type": "code",
   "execution_count": null,
   "id": "b12b4a72",
   "metadata": {},
   "outputs": [],
   "source": []
  }
 ],
 "metadata": {
  "kernelspec": {
   "display_name": "Python 3 (ipykernel)",
   "language": "python",
   "name": "python3"
  },
  "language_info": {
   "codemirror_mode": {
    "name": "ipython",
    "version": 3
   },
   "file_extension": ".py",
   "mimetype": "text/x-python",
   "name": "python",
   "nbconvert_exporter": "python",
   "pygments_lexer": "ipython3",
   "version": "3.11.4"
  }
 },
 "nbformat": 4,
 "nbformat_minor": 5
}
