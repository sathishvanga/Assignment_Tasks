{
 "cells": [
  {
   "cell_type": "markdown",
   "id": "8dc8a778",
   "metadata": {},
   "source": [
    "\n",
    "`use context manager`\n",
    "\n",
    "**Create a file**\n",
    "Write a Python program that creates a text file named \"data.txt\" and add data about python programming (should contain at least 5 lines)\n",
    "\n",
    "**Read and Display File Contents**\n",
    "Write a Python program that reads a text file named \"data.txt\" and displays its contents on the screen.\n",
    "\n",
    "**Count Words in a File**\n",
    "Write a Python program that reads a text file named \"data.txt\" and counts the total number of words in the file. Display the word count on the screen.\n",
    "\n",
    "**Search and Replace**\n",
    "Create a Python program that reads a text file named \"data.txt\" and asks the user to enter a word to search for. If the word is found in the file, replace all occurrences of the word with a new word provided by the user.\n",
    "\n",
    "**Append to a File**\n",
    "Write a Python program that prompts the user to enter a sentence. Append this sentence to an existing file named \"notes.txt\". Make sure the newly added sentence starts on a new line.\n",
    "\n",
    "\n"
   ]
  },
  {
   "cell_type": "markdown",
   "id": "0d982767",
   "metadata": {},
   "source": [
    "**Create a file**\n",
    "Write a Python program that creates a text file named \"data.txt\" and add data about python programming (should contain at least 5 lines)"
   ]
  },
  {
   "cell_type": "code",
   "execution_count": 16,
   "id": "a1f8af86",
   "metadata": {},
   "outputs": [
    {
     "name": "stdout",
     "output_type": "stream",
     "text": [
      "\n"
     ]
    }
   ],
   "source": [
    "with open(\"data.txt\",\"w+\") as file :\n",
    "    file.write(\"Python is a high-level, general-purpose programming language.\\nIts design philosophy emphasizes code readability with the use of significant indentation. \\nPython is dynamically typed and garbage-collected. \\nIt supports multiple programming paradigms, including structured, object-oriented and functional programming.\\nPython is a computer programming language often used to build websites and software, automate tasks, and analyze data. \")\n",
    "    \n"
   ]
  },
  {
   "cell_type": "markdown",
   "id": "2b8583df",
   "metadata": {},
   "source": [
    "\n",
    "**Read and Display File Contents**\n",
    "Write a Python program that reads a text file named \"data.txt\" and displays its contents on the screen.\n"
   ]
  },
  {
   "cell_type": "code",
   "execution_count": 20,
   "id": "344ad3e7",
   "metadata": {},
   "outputs": [
    {
     "name": "stdout",
     "output_type": "stream",
     "text": [
      "Python is a high-level, general-purpose programming language.\n",
      "Its design philosophy emphasizes code readability with the use of significant indentation. \n",
      "Python is dynamically typed and garbage-collected. \n",
      "It supports multiple programming paradigms, including structured, object-oriented and functional programming.\n",
      "Python is a computer programming language often used to build websites and software, automate tasks, and analyze data. \n"
     ]
    }
   ],
   "source": [
    "with open(\"data.txt\",\"r\") as file :\n",
    "    print(file.read())"
   ]
  },
  {
   "cell_type": "markdown",
   "id": "819d2654",
   "metadata": {},
   "source": [
    "**Count Words in a File**\n",
    "Write a Python program that reads a text file named \"data.txt\" and counts the total number of words in the file. Display the word count on the screen."
   ]
  },
  {
   "cell_type": "code",
   "execution_count": 24,
   "id": "b8478ba4",
   "metadata": {},
   "outputs": [
    {
     "data": {
      "text/plain": [
       "54"
      ]
     },
     "execution_count": 24,
     "metadata": {},
     "output_type": "execute_result"
    }
   ],
   "source": [
    "with open(\"data.txt\",\"r\") as file :\n",
    "    string = file.read()\n",
    "    a = string.split()\n",
    "len(a)\n",
    "    "
   ]
  },
  {
   "cell_type": "markdown",
   "id": "2e4a951c",
   "metadata": {},
   "source": [
    "**Search and Replace**\n",
    "Create a Python program that reads a text file named \"data.txt\" and asks the user to enter a word to search for. If the word is found in the file, replace all occurrences of the word with a new word provided by the user."
   ]
  },
  {
   "cell_type": "code",
   "execution_count": 36,
   "id": "4ba2fc99",
   "metadata": {},
   "outputs": [
    {
     "name": "stdout",
     "output_type": "stream",
     "text": [
      "Enter a word to replace :: Python\n",
      "Enter a new word :: python\n",
      "python is a high-level, general-purpose programming language.\n",
      "Its design philosophy emphasizes code readability with the use of significant indentation. \n",
      "python is dynamically typed and garbage-collected. \n",
      "It supports multiple programming paradigms, including structured, object-oriented and functional programming.\n",
      "python is a computer programming language often used to build websites and software, automate tasks, and analyze data. \n"
     ]
    }
   ],
   "source": [
    "with open(\"data.txt\",\"r\") as file :\n",
    "    string = file.read()\n",
    "word = input(\"Enter a word to replace :: \")\n",
    "new_word = input(\"Enter a new word :: \")\n",
    "if word in string :\n",
    "    \n",
    "    print(string.replace(word,new_word))\n",
    "else:\n",
    "    print(\"Enter a valid string\")\n"
   ]
  },
  {
   "cell_type": "markdown",
   "id": "92415e2c",
   "metadata": {},
   "source": [
    "\n",
    "**Append to a File**\n",
    "Write a Python program that prompts the user to enter a sentence. Append this sentence to an existing file named \"notes.txt\". Make sure the newly added sentence starts on a new line."
   ]
  },
  {
   "cell_type": "code",
   "execution_count": 48,
   "id": "b12d5815",
   "metadata": {},
   "outputs": [
    {
     "name": "stdout",
     "output_type": "stream",
     "text": [
      "Enter a sentance : Data science is used for a wide range of applications, including predictive analytics, machine learning, data visualization.\n"
     ]
    }
   ],
   "source": [
    "\n",
    "sentance = input(\"Enter a sentance : \")\n",
    "with open(\"notes.txt\",\"a+\") as file_1 :\n",
    "    a = file_1.write(f\"\\n{sentance}\")\n",
    "    "
   ]
  },
  {
   "cell_type": "code",
   "execution_count": 49,
   "id": "b1c65610",
   "metadata": {},
   "outputs": [
    {
     "name": "stdout",
     "output_type": "stream",
     "text": [
      "Data science is the study of data to extract meaningful insights for business.\n",
      "\n",
      "Data science is used for a wide range of applications, including predictive analytics, machine learning, data visualization.\n"
     ]
    }
   ],
   "source": [
    "with open(\"notes.txt\",\"r\") as file_1 :\n",
    "    a = file_1.read()\n",
    "print(a)"
   ]
  },
  {
   "cell_type": "code",
   "execution_count": null,
   "id": "f60945a0",
   "metadata": {},
   "outputs": [],
   "source": []
  },
  {
   "cell_type": "code",
   "execution_count": 119,
   "id": "d22bc3e7",
   "metadata": {},
   "outputs": [
    {
     "name": "stdout",
     "output_type": "stream",
     "text": [
      "How many sentances you want to enter :: 3\n",
      "Enter a sentance : Data science is the study of data to extract meaningful insights for business.\n",
      "Enter a sentance : Data science is used for a wide range of applications, including predictive analytics, machine learning, data visualization.\n",
      "Enter a sentance : Python is a computer programming language often used to build websites and software, automate tasks, and analyze data. Python is a computer programming language often used to build websites and software, automate tasks, and analyze data. \n",
      "\n",
      "Data science is the study of data to extract meaningful insights for business.\n",
      "Data science is the study of data to extract meaningful insights for business.\n",
      "Data science is used for a wide range of applications, including predictive analytics, machine learning, data visualization.\n",
      "Python is a computer programming language often used to build websites and software, automate tasks, and analyze data. Python is a computer programming language often used to build websites and software, automate tasks, and analyze data. \n"
     ]
    }
   ],
   "source": [
    "\n",
    "user = int(input(\"How many sentances you want to enter :: \"))\n",
    "for i in range(0,user) :\n",
    "    \n",
    "\n",
    "            \n",
    "    sentance = input(\"Enter a sentance : \")\n",
    "    with open(\"notes.txt\",\"a+\") as file_1 :\n",
    "        a = file_1.write(f\"\\n{sentance}\")\n",
    "\n",
    "    with open(\"notes.txt\",\"r\") as file_1 :\n",
    "        a = file_1.read()\n",
    "print(a)\n",
    "          \n",
    "    \n",
    "    "
   ]
  },
  {
   "cell_type": "code",
   "execution_count": null,
   "id": "456f3394",
   "metadata": {},
   "outputs": [],
   "source": []
  },
  {
   "cell_type": "code",
   "execution_count": null,
   "id": "46df72c5",
   "metadata": {},
   "outputs": [],
   "source": []
  }
 ],
 "metadata": {
  "kernelspec": {
   "display_name": "Python 3 (ipykernel)",
   "language": "python",
   "name": "python3"
  },
  "language_info": {
   "codemirror_mode": {
    "name": "ipython",
    "version": 3
   },
   "file_extension": ".py",
   "mimetype": "text/x-python",
   "name": "python",
   "nbconvert_exporter": "python",
   "pygments_lexer": "ipython3",
   "version": "3.11.4"
  }
 },
 "nbformat": 4,
 "nbformat_minor": 5
}
