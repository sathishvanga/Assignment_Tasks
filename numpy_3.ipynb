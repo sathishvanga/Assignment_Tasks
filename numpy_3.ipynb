{
 "cells": [
  {
   "cell_type": "markdown",
   "id": "cc8d4d50",
   "metadata": {},
   "source": [
    "### Data Cleaning using numpy"
   ]
  },
  {
   "cell_type": "markdown",
   "id": "a9f62f05",
   "metadata": {},
   "source": [
    "**The following are the student marks of a class**\n",
    "[44,24,np.nan,59,32,96,188,52,62,58,52,120,np.nan,np.nan,3,56,81,59,,122,92,np.nan,87,96,97,1,19,2,53, 44]\n",
    "\n"
   ]
  },
  {
   "cell_type": "markdown",
   "id": "69b2a360",
   "metadata": {},
   "source": [
    "1. Find the no of outliers and missing values?\n",
    "2. replace the outliers with 45 and missing value with 87.\n",
    "3. what is the average marks of students after 2nd step?\n",
    "4. How many students got less than 60 marks?\n",
    "5. what is the maximum marks?\n",
    "6. Convert the marks to float32."
   ]
  },
  {
   "cell_type": "markdown",
   "id": "3692b4ec",
   "metadata": {},
   "source": [
    "### Solving Linear Equations"
   ]
  },
  {
   "cell_type": "markdown",
   "id": "b5172cfe",
   "metadata": {},
   "source": [
    "\n",
    "    \n",
    "1. 2x + 3y - z = 10\n",
    "\n",
    "    x - y + 2z = 5\n",
    "    \n",
    "    3x + 2y + z = 12\n",
    "    \n",
    "    \n",
    "    \n",
    "2. 2x + y - z + 3w = 8\n",
    "\n",
    "    3x - 2y + 2z + 2w = 1\n",
    "    \n",
    "    x + 3y - 2z + w = 7\n",
    "    \n",
    "    4x - y + z - 2w = 3\n",
    "   \n",
    "   \n",
    "   \n",
    "3. 4x + 2y - 3z = 10\n",
    "\n",
    "    -2x + 3y + z = -3\n",
    "    \n",
    "    x - y + 2z = 4\n",
    "    \n",
    "Solve the system of equations using NumPy's linalg.solve function.\n"
   ]
  },
  {
   "cell_type": "markdown",
   "id": "5bebe166",
   "metadata": {},
   "source": [
    "### Conditional Selection with np.where()"
   ]
  },
  {
   "cell_type": "markdown",
   "id": "036735c5",
   "metadata": {},
   "source": [
    "\n",
    "1.\tGenerate a random 1D array A of 10 integers between 1 and 100.\n",
    "\n",
    "2.\tUse np.where() to find the indices where the elements of A are greater than 50.\n",
    "\n",
    "3.\tCreate a new array B that contains elements from A where the condition is met.\n",
    "\n",
    "4.\tCalculate the mean of array B and print it along with arrays A and B."
   ]
  },
  {
   "cell_type": "markdown",
   "id": "f935d75b",
   "metadata": {},
   "source": [
    "### Replace Values with np.where()"
   ]
  },
  {
   "cell_type": "markdown",
   "id": "9c5ac3b7",
   "metadata": {},
   "source": [
    "1.\tCreate a 4x4 random integer matrix C with values between -10 and 10.\n",
    "\n",
    "2.\tUse np.where() to replace all negative values in matrix C with 0.\n",
    "\n",
    "3.\tPrint the original matrix C and the modified matrix."
   ]
  },
  {
   "cell_type": "code",
   "execution_count": 132,
   "id": "cf36c712",
   "metadata": {},
   "outputs": [],
   "source": [
    "import numpy as np"
   ]
  },
  {
   "cell_type": "code",
   "execution_count": 56,
   "id": "cc351100",
   "metadata": {},
   "outputs": [],
   "source": [
    "marks = np.array([44,24,np.nan,59,32,96,188,52,62,58,52,120,np.nan,np.nan,3,56,81,59,122,92,np.nan,87,96,97,1,19,2,53, 44])"
   ]
  },
  {
   "cell_type": "code",
   "execution_count": 57,
   "id": "d58fe421",
   "metadata": {},
   "outputs": [
    {
     "data": {
      "text/plain": [
       "array([False, False,  True, False, False, False, False, False, False,\n",
       "       False, False, False,  True,  True, False, False, False, False,\n",
       "       False, False,  True, False, False, False, False, False, False,\n",
       "       False, False])"
      ]
     },
     "execution_count": 57,
     "metadata": {},
     "output_type": "execute_result"
    }
   ],
   "source": [
    "np.isnan(marks)"
   ]
  },
  {
   "cell_type": "code",
   "execution_count": 58,
   "id": "4df62c43",
   "metadata": {},
   "outputs": [
    {
     "data": {
      "text/plain": [
       "array([188., 120., 122.])"
      ]
     },
     "execution_count": 58,
     "metadata": {},
     "output_type": "execute_result"
    }
   ],
   "source": [
    "outliers = (marks[(marks > 100) | (marks < 0)])\n",
    "outliers"
   ]
  },
  {
   "cell_type": "code",
   "execution_count": 59,
   "id": "aa19de87",
   "metadata": {},
   "outputs": [
    {
     "data": {
      "text/plain": [
       "3"
      ]
     },
     "execution_count": 59,
     "metadata": {},
     "output_type": "execute_result"
    }
   ],
   "source": [
    "len(outliers) # no of outliers"
   ]
  },
  {
   "cell_type": "code",
   "execution_count": 60,
   "id": "f207ec1f",
   "metadata": {},
   "outputs": [
    {
     "data": {
      "text/plain": [
       "4"
      ]
     },
     "execution_count": 60,
     "metadata": {},
     "output_type": "execute_result"
    }
   ],
   "source": [
    "np.sum(np.isnan(marks)) # no of missing values"
   ]
  },
  {
   "cell_type": "code",
   "execution_count": 61,
   "id": "5163b7d4",
   "metadata": {},
   "outputs": [],
   "source": [
    "marks1 = np.where(np.isnan(marks),87,marks).astype(\"float32\")"
   ]
  },
  {
   "cell_type": "code",
   "execution_count": 62,
   "id": "54c67a27",
   "metadata": {},
   "outputs": [
    {
     "data": {
      "text/plain": [
       "array([ 44.,  24.,  87.,  59.,  32.,  96., 188.,  52.,  62.,  58.,  52.,\n",
       "       120.,  87.,  87.,   3.,  56.,  81.,  59., 122.,  92.,  87.,  87.,\n",
       "        96.,  97.,   1.,  19.,   2.,  53.,  44.], dtype=float32)"
      ]
     },
     "execution_count": 62,
     "metadata": {},
     "output_type": "execute_result"
    }
   ],
   "source": [
    "marks1"
   ]
  },
  {
   "cell_type": "code",
   "execution_count": 63,
   "id": "b727a12d",
   "metadata": {},
   "outputs": [
    {
     "data": {
      "text/plain": [
       "67.13793"
      ]
     },
     "execution_count": 63,
     "metadata": {},
     "output_type": "execute_result"
    }
   ],
   "source": [
    "np.mean(marks1)"
   ]
  },
  {
   "cell_type": "code",
   "execution_count": null,
   "id": "b351e32e",
   "metadata": {},
   "outputs": [],
   "source": []
  },
  {
   "cell_type": "code",
   "execution_count": 64,
   "id": "2eceb023",
   "metadata": {},
   "outputs": [],
   "source": [
    "marks2 = np.where((marks1 > 100) | (marks1 < 0),45,marks1)"
   ]
  },
  {
   "cell_type": "code",
   "execution_count": 65,
   "id": "2d08ff79",
   "metadata": {},
   "outputs": [
    {
     "data": {
      "text/plain": [
       "array([44., 24., 87., 59., 32., 96., 45., 52., 62., 58., 52., 45., 87.,\n",
       "       87.,  3., 56., 81., 59., 45., 92., 87., 87., 96., 97.,  1., 19.,\n",
       "        2., 53., 44.], dtype=float32)"
      ]
     },
     "execution_count": 65,
     "metadata": {},
     "output_type": "execute_result"
    }
   ],
   "source": [
    "marks2"
   ]
  },
  {
   "cell_type": "code",
   "execution_count": 66,
   "id": "a4cee908",
   "metadata": {},
   "outputs": [
    {
     "data": {
      "text/plain": [
       "56.96552"
      ]
     },
     "execution_count": 66,
     "metadata": {},
     "output_type": "execute_result"
    }
   ],
   "source": [
    "np.mean(marks2)"
   ]
  },
  {
   "cell_type": "code",
   "execution_count": 67,
   "id": "a87e1719",
   "metadata": {},
   "outputs": [
    {
     "data": {
      "text/plain": [
       "97.0"
      ]
     },
     "execution_count": 67,
     "metadata": {},
     "output_type": "execute_result"
    }
   ],
   "source": [
    "max(marks2)"
   ]
  },
  {
   "cell_type": "code",
   "execution_count": 73,
   "id": "e2882a69",
   "metadata": {},
   "outputs": [
    {
     "data": {
      "text/plain": [
       "18"
      ]
     },
     "execution_count": 73,
     "metadata": {},
     "output_type": "execute_result"
    }
   ],
   "source": [
    "len(marks[marks2 < 60])"
   ]
  },
  {
   "cell_type": "code",
   "execution_count": 74,
   "id": "0c072b00",
   "metadata": {},
   "outputs": [
    {
     "data": {
      "text/plain": [
       "18"
      ]
     },
     "execution_count": 74,
     "metadata": {},
     "output_type": "execute_result"
    }
   ],
   "source": [
    "np.sum(marks2 < 60)"
   ]
  },
  {
   "cell_type": "code",
   "execution_count": null,
   "id": "23d48a94",
   "metadata": {},
   "outputs": [],
   "source": []
  },
  {
   "cell_type": "markdown",
   "id": "e7fe2de0",
   "metadata": {},
   "source": [
    "### Solving Linear Equations"
   ]
  },
  {
   "cell_type": "markdown",
   "id": "4f7fedb2",
   "metadata": {},
   "source": [
    "1. 2x + 3y - z = 10\n",
    "\n",
    "    x - y + 2z = 5\n",
    "    \n",
    "    3x + 2y + z = 12"
   ]
  },
  {
   "cell_type": "code",
   "execution_count": 114,
   "id": "a8da80bc",
   "metadata": {},
   "outputs": [],
   "source": [
    "a = np.array([[2,3,-1],[1,-1,2],[3,2,1]])"
   ]
  },
  {
   "cell_type": "code",
   "execution_count": 115,
   "id": "21a51fde",
   "metadata": {},
   "outputs": [],
   "source": [
    "b = np.array([10,5,12])"
   ]
  },
  {
   "cell_type": "code",
   "execution_count": 116,
   "id": "dcbba04a",
   "metadata": {},
   "outputs": [
    {
     "data": {
      "text/plain": [
       "array([-6.75539944e+15,  6.75539944e+15,  6.75539944e+15])"
      ]
     },
     "execution_count": 116,
     "metadata": {},
     "output_type": "execute_result"
    }
   ],
   "source": [
    "np.linalg.solve(a,b)\n"
   ]
  },
  {
   "cell_type": "markdown",
   "id": "81d767e9",
   "metadata": {},
   "source": [
    "2. 2x + y - z + 3w = 8\n",
    "\n",
    "    3x - 2y + 2z + 2w = 1\n",
    "    \n",
    "    x + 3y - 2z + w = 7\n",
    "    \n",
    "    4x - y + z - 2w = 3"
   ]
  },
  {
   "cell_type": "code",
   "execution_count": 103,
   "id": "f15bd9e4",
   "metadata": {},
   "outputs": [],
   "source": [
    "c = np.matrix([[2,1,-1,3],[3,-2,2,2],[1,3,-2,1],[4,-1,1,-1]])"
   ]
  },
  {
   "cell_type": "code",
   "execution_count": 111,
   "id": "e111afe9",
   "metadata": {},
   "outputs": [],
   "source": [
    "d = np.array([8,1,7,3])"
   ]
  },
  {
   "cell_type": "code",
   "execution_count": 112,
   "id": "eb884676",
   "metadata": {},
   "outputs": [
    {
     "data": {
      "text/plain": [
       "array([ 1.58823529, -0.55882353, -3.17647059,  0.73529412])"
      ]
     },
     "execution_count": 112,
     "metadata": {},
     "output_type": "execute_result"
    }
   ],
   "source": [
    "np.linalg.solve(c,d)"
   ]
  },
  {
   "cell_type": "markdown",
   "id": "48131e46",
   "metadata": {},
   "source": [
    "   \n",
    "3. 4x + 2y - 3z = 10\n",
    "\n",
    "    -2x + 3y + z = -3\n",
    "    \n",
    "    x - y + 2z = 4"
   ]
  },
  {
   "cell_type": "code",
   "execution_count": 117,
   "id": "fe0c7472",
   "metadata": {},
   "outputs": [],
   "source": [
    "e = np.array([[4,2,-3],[-2,3,1],[1,-1,2]])"
   ]
  },
  {
   "cell_type": "code",
   "execution_count": 118,
   "id": "5c7feacb",
   "metadata": {},
   "outputs": [],
   "source": [
    "f = np.array([10,-3,4])"
   ]
  },
  {
   "cell_type": "code",
   "execution_count": 119,
   "id": "3b6c4612",
   "metadata": {},
   "outputs": [
    {
     "data": {
      "text/plain": [
       "array([2.85365854, 0.6097561 , 0.87804878])"
      ]
     },
     "execution_count": 119,
     "metadata": {},
     "output_type": "execute_result"
    }
   ],
   "source": [
    "np.linalg.solve(e,f)"
   ]
  },
  {
   "cell_type": "markdown",
   "id": "3e8c444c",
   "metadata": {},
   "source": [
    "### Conditional Selection with np.where()"
   ]
  },
  {
   "cell_type": "markdown",
   "id": "8cd838b2",
   "metadata": {},
   "source": [
    "1.\tGenerate a random 1D array A of 10 integers between 1 and 100.\n",
    "\n",
    "2.\tUse np.where() to find the indices where the elements of A are greater than 50.\n",
    "\n",
    "3.\tCreate a new array B that contains elements from A where the condition is met.\n",
    "\n",
    "4.\tCalculate the mean of array B and print it along with arrays A and B."
   ]
  },
  {
   "cell_type": "code",
   "execution_count": 120,
   "id": "43ff3f78",
   "metadata": {},
   "outputs": [],
   "source": [
    "a = np.arange(1,100)"
   ]
  },
  {
   "cell_type": "code",
   "execution_count": 121,
   "id": "899ee469",
   "metadata": {},
   "outputs": [
    {
     "data": {
      "text/plain": [
       "array([ 1,  2,  3,  4,  5,  6,  7,  8,  9, 10, 11, 12, 13, 14, 15, 16, 17,\n",
       "       18, 19, 20, 21, 22, 23, 24, 25, 26, 27, 28, 29, 30, 31, 32, 33, 34,\n",
       "       35, 36, 37, 38, 39, 40, 41, 42, 43, 44, 45, 46, 47, 48, 49, 50, 51,\n",
       "       52, 53, 54, 55, 56, 57, 58, 59, 60, 61, 62, 63, 64, 65, 66, 67, 68,\n",
       "       69, 70, 71, 72, 73, 74, 75, 76, 77, 78, 79, 80, 81, 82, 83, 84, 85,\n",
       "       86, 87, 88, 89, 90, 91, 92, 93, 94, 95, 96, 97, 98, 99])"
      ]
     },
     "execution_count": 121,
     "metadata": {},
     "output_type": "execute_result"
    }
   ],
   "source": [
    "a"
   ]
  },
  {
   "cell_type": "code",
   "execution_count": 124,
   "id": "ac777b3c",
   "metadata": {},
   "outputs": [],
   "source": [
    "b = np.where((a>50))"
   ]
  },
  {
   "cell_type": "code",
   "execution_count": 125,
   "id": "17943879",
   "metadata": {},
   "outputs": [
    {
     "data": {
      "text/plain": [
       "(array([50, 51, 52, 53, 54, 55, 56, 57, 58, 59, 60, 61, 62, 63, 64, 65, 66,\n",
       "        67, 68, 69, 70, 71, 72, 73, 74, 75, 76, 77, 78, 79, 80, 81, 82, 83,\n",
       "        84, 85, 86, 87, 88, 89, 90, 91, 92, 93, 94, 95, 96, 97, 98],\n",
       "       dtype=int64),)"
      ]
     },
     "execution_count": 125,
     "metadata": {},
     "output_type": "execute_result"
    }
   ],
   "source": [
    "b"
   ]
  },
  {
   "cell_type": "code",
   "execution_count": 126,
   "id": "4bf86e67",
   "metadata": {},
   "outputs": [
    {
     "data": {
      "text/plain": [
       "74.0"
      ]
     },
     "execution_count": 126,
     "metadata": {},
     "output_type": "execute_result"
    }
   ],
   "source": [
    "np.mean(b)"
   ]
  },
  {
   "cell_type": "markdown",
   "id": "80f841d6",
   "metadata": {},
   "source": [
    "### Replace Values with np.where()"
   ]
  },
  {
   "cell_type": "markdown",
   "id": "89cfba47",
   "metadata": {},
   "source": [
    "1.\tCreate a 4x4 random integer matrix C with values between -10 and 10.\n",
    "\n",
    "2.\tUse np.where() to replace all negative values in matrix C with 0.\n",
    "\n",
    "3.\tPrint the original matrix C and the modified matrix."
   ]
  },
  {
   "cell_type": "code",
   "execution_count": 128,
   "id": "770fc0ae",
   "metadata": {},
   "outputs": [],
   "source": [
    "c = np.random.randint(-10,10,16).reshape(4,4)"
   ]
  },
  {
   "cell_type": "code",
   "execution_count": 129,
   "id": "29280762",
   "metadata": {},
   "outputs": [],
   "source": [
    "d = np.where(c<0,0,c)"
   ]
  },
  {
   "cell_type": "code",
   "execution_count": 130,
   "id": "544813d5",
   "metadata": {},
   "outputs": [
    {
     "data": {
      "text/plain": [
       "array([[ -1,  -9,   2,   6],\n",
       "       [ -2,   9,  -8,   7],\n",
       "       [ -1,   6,  -6,  -9],\n",
       "       [-10,  -3,  -6,  -5]])"
      ]
     },
     "execution_count": 130,
     "metadata": {},
     "output_type": "execute_result"
    }
   ],
   "source": [
    "c"
   ]
  },
  {
   "cell_type": "code",
   "execution_count": 131,
   "id": "7333b6e0",
   "metadata": {},
   "outputs": [
    {
     "data": {
      "text/plain": [
       "array([[0, 0, 2, 6],\n",
       "       [0, 9, 0, 7],\n",
       "       [0, 6, 0, 0],\n",
       "       [0, 0, 0, 0]])"
      ]
     },
     "execution_count": 131,
     "metadata": {},
     "output_type": "execute_result"
    }
   ],
   "source": [
    "d"
   ]
  },
  {
   "cell_type": "code",
   "execution_count": null,
   "id": "94df73d2",
   "metadata": {},
   "outputs": [],
   "source": []
  }
 ],
 "metadata": {
  "kernelspec": {
   "display_name": "Python 3 (ipykernel)",
   "language": "python",
   "name": "python3"
  },
  "language_info": {
   "codemirror_mode": {
    "name": "ipython",
    "version": 3
   },
   "file_extension": ".py",
   "mimetype": "text/x-python",
   "name": "python",
   "nbconvert_exporter": "python",
   "pygments_lexer": "ipython3",
   "version": "3.11.4"
  }
 },
 "nbformat": 4,
 "nbformat_minor": 5
}
