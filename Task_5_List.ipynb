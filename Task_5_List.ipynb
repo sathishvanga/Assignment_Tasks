{
 "cells": [
  {
   "cell_type": "markdown",
   "id": "f9cca2f0",
   "metadata": {},
   "source": [
    "**Task1: Append and Modify Elements**\n",
    "    \n",
    "* Create an empty list called numbers. Append the numbers 1, 2, and 3 to the list.\n",
    "* Modify the element at index 1 to be 4.\n",
    "* Print the updated list.\n",
    "\n",
    "**Task2: Slicing and Concatenation**\n",
    "\n",
    "* Create a list called fruits with elements 'apple', 'banana', 'orange', 'mango', and 'kiwi'. \n",
    "* Create a new list  by slicing fruits to include only the citrus fruits ('orange' and 'mango\"). * Create a new list called tropical by slicing fruits to include only the tropical fruits ('banana\" and \"kiwi'). \n",
    "* Concatenate citrus and tropical lists to create a new list called combined. Print combined.\n",
    "\n",
    "**Task3: Counting and Removing Elements**\n",
    "\n",
    "* Create a list called colors with repeated elements 'red', 'blue', 'red', 'green', 'red'. Print the number of occurrences of 'red' in the list. Remove all occurrences of 'red' from the list. Print the updated list.\n",
    "\n",
    "**Task 4: List Manipulation**\n",
    "\n",
    "* Add 'cheese' to the end of the list. Remove 'milk' from the list.\n",
    "* Create a list called groceries with initial items: 'bread', 'milk', 'eggs', 'butter'. Print the final list of groceries.\n",
    "* Insert 'yogurt' at index 1.\n",
    "\n"
   ]
  },
  {
   "cell_type": "markdown",
   "id": "48d4ed0c",
   "metadata": {},
   "source": [
    "**Task1: Append and Modify Elements**\n",
    "    \n",
    "* Create an empty list called numbers. Append the numbers 1, 2, and 3 to the list.\n",
    "* Modify the element at index 1 to be 4.\n",
    "* Print the updated list."
   ]
  },
  {
   "cell_type": "code",
   "execution_count": 1,
   "id": "edcfdeef",
   "metadata": {},
   "outputs": [],
   "source": [
    "numbers = []"
   ]
  },
  {
   "cell_type": "code",
   "execution_count": 2,
   "id": "8348d8d4",
   "metadata": {},
   "outputs": [],
   "source": [
    "numbers.append(1) #Append object to the end of the list.\n"
   ]
  },
  {
   "cell_type": "code",
   "execution_count": 3,
   "id": "63ee6b97",
   "metadata": {},
   "outputs": [],
   "source": [
    "numbers.append(2)\n",
    "numbers.append(3)"
   ]
  },
  {
   "cell_type": "code",
   "execution_count": 4,
   "id": "0f5d3a62",
   "metadata": {},
   "outputs": [
    {
     "name": "stdout",
     "output_type": "stream",
     "text": [
      "[1, 2, 3]\n"
     ]
    }
   ],
   "source": [
    "print(numbers)"
   ]
  },
  {
   "cell_type": "code",
   "execution_count": 6,
   "id": "552f6d4d",
   "metadata": {},
   "outputs": [],
   "source": [
    "numbers.insert(1,4) #Insert object before index."
   ]
  },
  {
   "cell_type": "code",
   "execution_count": 7,
   "id": "1ea12d0f",
   "metadata": {},
   "outputs": [
    {
     "name": "stdout",
     "output_type": "stream",
     "text": [
      "[1, 4, 2, 3]\n"
     ]
    }
   ],
   "source": [
    "print(numbers)"
   ]
  },
  {
   "cell_type": "markdown",
   "id": "dd48b124",
   "metadata": {},
   "source": [
    "**Task2: Slicing and Concatenation**\n",
    "\n",
    "* Create a list called fruits with elements 'apple', 'banana', 'orange', 'mango', and 'kiwi'. \n",
    "* Create a new list  by slicing fruits to include only the citrus fruits ('orange' and 'mango\"). * Create a new list called tropical by slicing fruits to include only the tropical fruits ('banana\" and \"kiwi'). \n",
    "* Concatenate citrus and tropical lists to create a new list called combined. Print combined.\n"
   ]
  },
  {
   "cell_type": "code",
   "execution_count": 8,
   "id": "12c29d10",
   "metadata": {},
   "outputs": [],
   "source": [
    "fruits = [\"apple\",\"banana\",\"orange\",\"mongo\",\"kiwi\"]"
   ]
  },
  {
   "cell_type": "code",
   "execution_count": 15,
   "id": "d068460b",
   "metadata": {},
   "outputs": [
    {
     "name": "stdout",
     "output_type": "stream",
     "text": [
      "['orange', 'mongo']\n",
      "['apple', 'banana', 'orange', 'mongo', 'kiwi']\n"
     ]
    }
   ],
   "source": [
    "citrus_fruits = fruits[2:4]\n",
    "print(citrus_fruits)\n"
   ]
  },
  {
   "cell_type": "code",
   "execution_count": 16,
   "id": "b12f1c62",
   "metadata": {},
   "outputs": [
    {
     "data": {
      "text/plain": [
       "['banana', 'kiwi']"
      ]
     },
     "execution_count": 16,
     "metadata": {},
     "output_type": "execute_result"
    }
   ],
   "source": [
    "tropical_fruits = fruits[1::3]\n",
    "tropical_fruits"
   ]
  },
  {
   "cell_type": "code",
   "execution_count": 19,
   "id": "6199e20e",
   "metadata": {},
   "outputs": [
    {
     "name": "stdout",
     "output_type": "stream",
     "text": [
      "['orange', 'mongo', 'banana', 'kiwi']\n"
     ]
    }
   ],
   "source": [
    "final_output = citrus_fruits+tropical_fruits\n",
    "print(final_output)"
   ]
  },
  {
   "cell_type": "markdown",
   "id": "91ef6bbc",
   "metadata": {},
   "source": [
    "**Task3: Counting and Removing Elements**\n",
    "\n",
    "* Create a list called colors with repeated elements 'red', 'blue', 'red', 'green', 'red'. Print the number of occurrences of 'red' in the list. Remove all occurrences of 'red' from the list. Print the updated list."
   ]
  },
  {
   "cell_type": "code",
   "execution_count": 48,
   "id": "d139739c",
   "metadata": {},
   "outputs": [
    {
     "name": "stdout",
     "output_type": "stream",
     "text": [
      "['red', 'blue', 'red', 'green', 'red']\n"
     ]
    }
   ],
   "source": [
    "colors = [\"red\",\"blue\",\"red\",\"green\",\"red\"]\n",
    "print(colors)"
   ]
  },
  {
   "cell_type": "code",
   "execution_count": 49,
   "id": "98577318",
   "metadata": {},
   "outputs": [
    {
     "data": {
      "text/plain": [
       "3"
      ]
     },
     "execution_count": 49,
     "metadata": {},
     "output_type": "execute_result"
    }
   ],
   "source": [
    "colors.count(\"red\") #Return number of occurrences of value."
   ]
  },
  {
   "cell_type": "code",
   "execution_count": 50,
   "id": "aa1d25c7",
   "metadata": {},
   "outputs": [
    {
     "name": "stdout",
     "output_type": "stream",
     "text": [
      "['blue', 'green']\n"
     ]
    }
   ],
   "source": [
    "colors.remove(\"red\")\n",
    "colors.remove(\"red\")\n",
    "colors.remove(\"red\")\n",
    "print(colors)"
   ]
  },
  {
   "cell_type": "markdown",
   "id": "9bfb0d0b",
   "metadata": {},
   "source": [
    "**Task 4: List Manipulation**\n",
    "\n",
    "* Add 'cheese' to the end of the list. Remove 'milk' from the list.\n",
    "* Create a list called groceries with initial items: 'bread', 'milk', 'eggs', 'butter'. Print the final list of groceries.\n",
    "* Insert 'yogurt' at index 1.\n"
   ]
  },
  {
   "cell_type": "code",
   "execution_count": 51,
   "id": "318bb05f",
   "metadata": {},
   "outputs": [
    {
     "data": {
      "text/plain": [
       "['bread', 'milk', 'eggs', 'butter']"
      ]
     },
     "execution_count": 51,
     "metadata": {},
     "output_type": "execute_result"
    }
   ],
   "source": [
    "groceries = [\"bread\",\"milk\",\"eggs\",\"butter\"]\n",
    "groceries"
   ]
  },
  {
   "cell_type": "code",
   "execution_count": 52,
   "id": "18319b05",
   "metadata": {},
   "outputs": [],
   "source": [
    "groceries.append(\"cheese\")"
   ]
  },
  {
   "cell_type": "code",
   "execution_count": 53,
   "id": "aefd86ee",
   "metadata": {},
   "outputs": [
    {
     "data": {
      "text/plain": [
       "['bread', 'eggs', 'butter', 'cheese']"
      ]
     },
     "execution_count": 53,
     "metadata": {},
     "output_type": "execute_result"
    }
   ],
   "source": [
    "groceries.remove(\"milk\")\n",
    "groceries"
   ]
  },
  {
   "cell_type": "code",
   "execution_count": 54,
   "id": "a13feff7",
   "metadata": {},
   "outputs": [],
   "source": [
    "groceries.insert(1,\"yogurt\")"
   ]
  },
  {
   "cell_type": "code",
   "execution_count": 55,
   "id": "4480f39c",
   "metadata": {},
   "outputs": [
    {
     "data": {
      "text/plain": [
       "['bread', 'yogurt', 'eggs', 'butter', 'cheese']"
      ]
     },
     "execution_count": 55,
     "metadata": {},
     "output_type": "execute_result"
    }
   ],
   "source": [
    "groceries"
   ]
  },
  {
   "cell_type": "code",
   "execution_count": null,
   "id": "d19e80b7",
   "metadata": {},
   "outputs": [],
   "source": []
  }
 ],
 "metadata": {
  "kernelspec": {
   "display_name": "Python 3 (ipykernel)",
   "language": "python",
   "name": "python3"
  },
  "language_info": {
   "codemirror_mode": {
    "name": "ipython",
    "version": 3
   },
   "file_extension": ".py",
   "mimetype": "text/x-python",
   "name": "python",
   "nbconvert_exporter": "python",
   "pygments_lexer": "ipython3",
   "version": "3.11.4"
  }
 },
 "nbformat": 4,
 "nbformat_minor": 5
}
